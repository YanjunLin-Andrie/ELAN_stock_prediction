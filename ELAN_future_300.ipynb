{
  "cells": [
    {
      "cell_type": "markdown",
      "metadata": {
        "id": "view-in-github",
        "colab_type": "text"
      },
      "source": [
        "<a href=\"https://colab.research.google.com/github/YanjunLin-Andrie/elan_price_prediction/blob/main/ELAN_future_300.ipynb\" target=\"_parent\"><img src=\"https://colab.research.google.com/assets/colab-badge.svg\" alt=\"Open In Colab\"/></a>"
      ]
    },
    {
      "cell_type": "code",
      "source": [
        "pip install yfinance"
      ],
      "metadata": {
        "colab": {
          "base_uri": "https://localhost:8080/"
        },
        "id": "173U2GH2BCNy",
        "outputId": "993d9e5f-dac9-4297-8340-80b849cbb683"
      },
      "id": "173U2GH2BCNy",
      "execution_count": 1,
      "outputs": [
        {
          "output_type": "stream",
          "name": "stdout",
          "text": [
            "Looking in indexes: https://pypi.org/simple, https://us-python.pkg.dev/colab-wheels/public/simple/\n",
            "Collecting yfinance\n",
            "  Downloading yfinance-0.1.74-py2.py3-none-any.whl (27 kB)\n",
            "Requirement already satisfied: multitasking>=0.0.7 in /usr/local/lib/python3.7/dist-packages (from yfinance) (0.0.11)\n",
            "Requirement already satisfied: numpy>=1.15 in /usr/local/lib/python3.7/dist-packages (from yfinance) (1.21.6)\n",
            "Requirement already satisfied: pandas>=0.24.0 in /usr/local/lib/python3.7/dist-packages (from yfinance) (1.3.5)\n",
            "Collecting requests>=2.26\n",
            "  Downloading requests-2.28.1-py3-none-any.whl (62 kB)\n",
            "\u001b[K     |████████████████████████████████| 62 kB 1.4 MB/s \n",
            "\u001b[?25hCollecting lxml>=4.5.1\n",
            "  Downloading lxml-4.9.1-cp37-cp37m-manylinux_2_17_x86_64.manylinux2014_x86_64.manylinux_2_24_x86_64.whl (6.4 MB)\n",
            "\u001b[K     |████████████████████████████████| 6.4 MB 14.7 MB/s \n",
            "\u001b[?25hRequirement already satisfied: pytz>=2017.3 in /usr/local/lib/python3.7/dist-packages (from pandas>=0.24.0->yfinance) (2022.1)\n",
            "Requirement already satisfied: python-dateutil>=2.7.3 in /usr/local/lib/python3.7/dist-packages (from pandas>=0.24.0->yfinance) (2.8.2)\n",
            "Requirement already satisfied: six>=1.5 in /usr/local/lib/python3.7/dist-packages (from python-dateutil>=2.7.3->pandas>=0.24.0->yfinance) (1.15.0)\n",
            "Requirement already satisfied: idna<4,>=2.5 in /usr/local/lib/python3.7/dist-packages (from requests>=2.26->yfinance) (2.10)\n",
            "Requirement already satisfied: certifi>=2017.4.17 in /usr/local/lib/python3.7/dist-packages (from requests>=2.26->yfinance) (2022.6.15)\n",
            "Requirement already satisfied: urllib3<1.27,>=1.21.1 in /usr/local/lib/python3.7/dist-packages (from requests>=2.26->yfinance) (1.24.3)\n",
            "Requirement already satisfied: charset-normalizer<3,>=2 in /usr/local/lib/python3.7/dist-packages (from requests>=2.26->yfinance) (2.1.0)\n",
            "Installing collected packages: requests, lxml, yfinance\n",
            "  Attempting uninstall: requests\n",
            "    Found existing installation: requests 2.23.0\n",
            "    Uninstalling requests-2.23.0:\n",
            "      Successfully uninstalled requests-2.23.0\n",
            "  Attempting uninstall: lxml\n",
            "    Found existing installation: lxml 4.2.6\n",
            "    Uninstalling lxml-4.2.6:\n",
            "      Successfully uninstalled lxml-4.2.6\n",
            "\u001b[31mERROR: pip's dependency resolver does not currently take into account all the packages that are installed. This behaviour is the source of the following dependency conflicts.\n",
            "google-colab 1.0.0 requires requests~=2.23.0, but you have requests 2.28.1 which is incompatible.\n",
            "datascience 0.10.6 requires folium==0.2.1, but you have folium 0.8.3 which is incompatible.\u001b[0m\n",
            "Successfully installed lxml-4.9.1 requests-2.28.1 yfinance-0.1.74\n"
          ]
        }
      ]
    },
    {
      "cell_type": "code",
      "source": [
        "pip install yahoo-fin"
      ],
      "metadata": {
        "colab": {
          "base_uri": "https://localhost:8080/"
        },
        "id": "XSKeWEKxB0CO",
        "outputId": "77f5905e-12fd-4d1e-e5ae-212ea65d4449"
      },
      "id": "XSKeWEKxB0CO",
      "execution_count": 2,
      "outputs": [
        {
          "output_type": "stream",
          "name": "stdout",
          "text": [
            "Looking in indexes: https://pypi.org/simple, https://us-python.pkg.dev/colab-wheels/public/simple/\n",
            "Collecting yahoo-fin\n",
            "  Downloading yahoo_fin-0.8.9.1-py3-none-any.whl (10 kB)\n",
            "Collecting requests-html\n",
            "  Downloading requests_html-0.10.0-py3-none-any.whl (13 kB)\n",
            "Requirement already satisfied: requests in /usr/local/lib/python3.7/dist-packages (from yahoo-fin) (2.28.1)\n",
            "Requirement already satisfied: pandas in /usr/local/lib/python3.7/dist-packages (from yahoo-fin) (1.3.5)\n",
            "Collecting feedparser\n",
            "  Downloading feedparser-6.0.10-py3-none-any.whl (81 kB)\n",
            "\u001b[K     |████████████████████████████████| 81 kB 4.0 MB/s \n",
            "\u001b[?25hCollecting sgmllib3k\n",
            "  Downloading sgmllib3k-1.0.0.tar.gz (5.8 kB)\n",
            "Requirement already satisfied: pytz>=2017.3 in /usr/local/lib/python3.7/dist-packages (from pandas->yahoo-fin) (2022.1)\n",
            "Requirement already satisfied: numpy>=1.17.3 in /usr/local/lib/python3.7/dist-packages (from pandas->yahoo-fin) (1.21.6)\n",
            "Requirement already satisfied: python-dateutil>=2.7.3 in /usr/local/lib/python3.7/dist-packages (from pandas->yahoo-fin) (2.8.2)\n",
            "Requirement already satisfied: six>=1.5 in /usr/local/lib/python3.7/dist-packages (from python-dateutil>=2.7.3->pandas->yahoo-fin) (1.15.0)\n",
            "Requirement already satisfied: idna<4,>=2.5 in /usr/local/lib/python3.7/dist-packages (from requests->yahoo-fin) (2.10)\n",
            "Requirement already satisfied: certifi>=2017.4.17 in /usr/local/lib/python3.7/dist-packages (from requests->yahoo-fin) (2022.6.15)\n",
            "Requirement already satisfied: charset-normalizer<3,>=2 in /usr/local/lib/python3.7/dist-packages (from requests->yahoo-fin) (2.1.0)\n",
            "Requirement already satisfied: urllib3<1.27,>=1.21.1 in /usr/local/lib/python3.7/dist-packages (from requests->yahoo-fin) (1.24.3)\n",
            "Collecting fake-useragent\n",
            "  Downloading fake-useragent-0.1.11.tar.gz (13 kB)\n",
            "Collecting parse\n",
            "  Downloading parse-1.19.0.tar.gz (30 kB)\n",
            "Collecting w3lib\n",
            "  Downloading w3lib-1.22.0-py2.py3-none-any.whl (20 kB)\n",
            "Collecting pyquery\n",
            "  Downloading pyquery-1.4.3-py3-none-any.whl (22 kB)\n",
            "Collecting pyppeteer>=0.0.14\n",
            "  Downloading pyppeteer-1.0.2-py3-none-any.whl (83 kB)\n",
            "\u001b[K     |████████████████████████████████| 83 kB 1.4 MB/s \n",
            "\u001b[?25hRequirement already satisfied: bs4 in /usr/local/lib/python3.7/dist-packages (from requests-html->yahoo-fin) (0.0.1)\n",
            "Requirement already satisfied: tqdm<5.0.0,>=4.42.1 in /usr/local/lib/python3.7/dist-packages (from pyppeteer>=0.0.14->requests-html->yahoo-fin) (4.64.0)\n",
            "Collecting pyee<9.0.0,>=8.1.0\n",
            "  Downloading pyee-8.2.2-py2.py3-none-any.whl (12 kB)\n",
            "Requirement already satisfied: importlib-metadata>=1.4 in /usr/local/lib/python3.7/dist-packages (from pyppeteer>=0.0.14->requests-html->yahoo-fin) (4.12.0)\n",
            "Collecting urllib3<1.27,>=1.21.1\n",
            "  Downloading urllib3-1.26.10-py2.py3-none-any.whl (139 kB)\n",
            "\u001b[K     |████████████████████████████████| 139 kB 38.4 MB/s \n",
            "\u001b[?25hRequirement already satisfied: appdirs<2.0.0,>=1.4.3 in /usr/local/lib/python3.7/dist-packages (from pyppeteer>=0.0.14->requests-html->yahoo-fin) (1.4.4)\n",
            "Collecting websockets<11.0,>=10.0\n",
            "  Downloading websockets-10.3-cp37-cp37m-manylinux_2_5_x86_64.manylinux1_x86_64.manylinux_2_12_x86_64.manylinux2010_x86_64.whl (112 kB)\n",
            "\u001b[K     |████████████████████████████████| 112 kB 41.5 MB/s \n",
            "\u001b[?25hRequirement already satisfied: zipp>=0.5 in /usr/local/lib/python3.7/dist-packages (from importlib-metadata>=1.4->pyppeteer>=0.0.14->requests-html->yahoo-fin) (3.8.0)\n",
            "Requirement already satisfied: typing-extensions>=3.6.4 in /usr/local/lib/python3.7/dist-packages (from importlib-metadata>=1.4->pyppeteer>=0.0.14->requests-html->yahoo-fin) (4.1.1)\n",
            "Requirement already satisfied: beautifulsoup4 in /usr/local/lib/python3.7/dist-packages (from bs4->requests-html->yahoo-fin) (4.6.3)\n",
            "Collecting cssselect>0.7.9\n",
            "  Downloading cssselect-1.1.0-py2.py3-none-any.whl (16 kB)\n",
            "Requirement already satisfied: lxml>=2.1 in /usr/local/lib/python3.7/dist-packages (from pyquery->requests-html->yahoo-fin) (4.9.1)\n",
            "Building wheels for collected packages: fake-useragent, parse, sgmllib3k\n",
            "  Building wheel for fake-useragent (setup.py) ... \u001b[?25l\u001b[?25hdone\n",
            "  Created wheel for fake-useragent: filename=fake_useragent-0.1.11-py3-none-any.whl size=13502 sha256=25a4b3c0689afbfecb70a2223fa5804f54caed7eb4b684e01dfde0aeb9938d72\n",
            "  Stored in directory: /root/.cache/pip/wheels/ed/f7/62/50ab6c9a0b5567267ab76a9daa9d06315704209b2c5d032031\n",
            "  Building wheel for parse (setup.py) ... \u001b[?25l\u001b[?25hdone\n",
            "  Created wheel for parse: filename=parse-1.19.0-py3-none-any.whl size=24591 sha256=546aa1e3992945a7628b2e73023773532b232162c4a35191e5ad8ad496a024a2\n",
            "  Stored in directory: /root/.cache/pip/wheels/9c/aa/cc/f2228050ccb40f22144b073f15a2c84f11204f29fc0dce028e\n",
            "  Building wheel for sgmllib3k (setup.py) ... \u001b[?25l\u001b[?25hdone\n",
            "  Created wheel for sgmllib3k: filename=sgmllib3k-1.0.0-py3-none-any.whl size=6066 sha256=3762a0ffc7d3a3e9a88be9e5c6691eaf3b4454419fb4e621812bb93420c8648f\n",
            "  Stored in directory: /root/.cache/pip/wheels/73/ad/a4/0dff4a6ef231fc0dfa12ffbac2a36cebfdddfe059f50e019aa\n",
            "Successfully built fake-useragent parse sgmllib3k\n",
            "Installing collected packages: websockets, urllib3, pyee, cssselect, w3lib, sgmllib3k, pyquery, pyppeteer, parse, fake-useragent, requests-html, feedparser, yahoo-fin\n",
            "  Attempting uninstall: urllib3\n",
            "    Found existing installation: urllib3 1.24.3\n",
            "    Uninstalling urllib3-1.24.3:\n",
            "      Successfully uninstalled urllib3-1.24.3\n",
            "\u001b[31mERROR: pip's dependency resolver does not currently take into account all the packages that are installed. This behaviour is the source of the following dependency conflicts.\n",
            "google-colab 1.0.0 requires requests~=2.23.0, but you have requests 2.28.1 which is incompatible.\n",
            "datascience 0.10.6 requires folium==0.2.1, but you have folium 0.8.3 which is incompatible.\u001b[0m\n",
            "Successfully installed cssselect-1.1.0 fake-useragent-0.1.11 feedparser-6.0.10 parse-1.19.0 pyee-8.2.2 pyppeteer-1.0.2 pyquery-1.4.3 requests-html-0.10.0 sgmllib3k-1.0.0 urllib3-1.26.10 w3lib-1.22.0 websockets-10.3 yahoo-fin-0.8.9.1\n"
          ]
        }
      ]
    },
    {
      "cell_type": "code",
      "execution_count": 3,
      "id": "f9c9c0be-3375-48f8-98db-ef4a97661c80",
      "metadata": {
        "id": "f9c9c0be-3375-48f8-98db-ef4a97661c80"
      },
      "outputs": [],
      "source": [
        "import tensorflow as tf\n",
        "import yfinance as yf\n",
        "from yahoo_fin.stock_info import get_data"
      ]
    },
    {
      "cell_type": "code",
      "execution_count": 4,
      "id": "83b4007f-f095-41c9-93fd-2246ddb410ee",
      "metadata": {
        "id": "83b4007f-f095-41c9-93fd-2246ddb410ee"
      },
      "outputs": [],
      "source": [
        "import pandas as pd\n",
        "import numpy as np"
      ]
    },
    {
      "cell_type": "code",
      "execution_count": 5,
      "id": "c2a529d6-0efe-4160-87ee-db25a527e43b",
      "metadata": {
        "id": "c2a529d6-0efe-4160-87ee-db25a527e43b",
        "colab": {
          "base_uri": "https://localhost:8080/",
          "height": 424
        },
        "outputId": "b423d14e-410e-4027-ab76-96cbc0fb5ca1"
      },
      "outputs": [
        {
          "output_type": "execute_result",
          "data": {
            "text/plain": [
              "                 open       high        low      close   adjclose    volume\n",
              "2018-09-20  32.250000  36.009998  32.049999  36.000000  36.000000  40182700\n",
              "2018-09-21  34.560001  35.490002  33.880001  34.099998  34.099998   9269500\n",
              "2018-09-24  34.099998  35.650002  33.700001  34.900002  34.900002   2769100\n",
              "2018-09-25  34.759998  34.990002  34.060001  34.580002  34.580002   3152200\n",
              "2018-09-26  34.349998  35.980000  34.250000  35.500000  35.500000   5835600\n",
              "...               ...        ...        ...        ...        ...       ...\n",
              "2022-07-12  20.049999  20.379999  19.870001  19.990000  19.990000   2555200\n",
              "2022-07-13  19.580000  19.830000  19.350000  19.700001  19.700001   3059500\n",
              "2022-07-14  19.410000  19.639999  19.110001  19.610001  19.610001   3400800\n",
              "2022-07-15  19.740000  20.110001  19.480000  20.080000  20.080000   3504600\n",
              "2022-07-18  20.090000  20.330000  19.930000  20.000000  20.000000   2536900\n",
              "\n",
              "[962 rows x 6 columns]"
            ],
            "text/html": [
              "\n",
              "  <div id=\"df-687008d7-0ff0-43e5-bfac-5cfece70d8b3\">\n",
              "    <div class=\"colab-df-container\">\n",
              "      <div>\n",
              "<style scoped>\n",
              "    .dataframe tbody tr th:only-of-type {\n",
              "        vertical-align: middle;\n",
              "    }\n",
              "\n",
              "    .dataframe tbody tr th {\n",
              "        vertical-align: top;\n",
              "    }\n",
              "\n",
              "    .dataframe thead th {\n",
              "        text-align: right;\n",
              "    }\n",
              "</style>\n",
              "<table border=\"1\" class=\"dataframe\">\n",
              "  <thead>\n",
              "    <tr style=\"text-align: right;\">\n",
              "      <th></th>\n",
              "      <th>open</th>\n",
              "      <th>high</th>\n",
              "      <th>low</th>\n",
              "      <th>close</th>\n",
              "      <th>adjclose</th>\n",
              "      <th>volume</th>\n",
              "    </tr>\n",
              "  </thead>\n",
              "  <tbody>\n",
              "    <tr>\n",
              "      <th>2018-09-20</th>\n",
              "      <td>32.250000</td>\n",
              "      <td>36.009998</td>\n",
              "      <td>32.049999</td>\n",
              "      <td>36.000000</td>\n",
              "      <td>36.000000</td>\n",
              "      <td>40182700</td>\n",
              "    </tr>\n",
              "    <tr>\n",
              "      <th>2018-09-21</th>\n",
              "      <td>34.560001</td>\n",
              "      <td>35.490002</td>\n",
              "      <td>33.880001</td>\n",
              "      <td>34.099998</td>\n",
              "      <td>34.099998</td>\n",
              "      <td>9269500</td>\n",
              "    </tr>\n",
              "    <tr>\n",
              "      <th>2018-09-24</th>\n",
              "      <td>34.099998</td>\n",
              "      <td>35.650002</td>\n",
              "      <td>33.700001</td>\n",
              "      <td>34.900002</td>\n",
              "      <td>34.900002</td>\n",
              "      <td>2769100</td>\n",
              "    </tr>\n",
              "    <tr>\n",
              "      <th>2018-09-25</th>\n",
              "      <td>34.759998</td>\n",
              "      <td>34.990002</td>\n",
              "      <td>34.060001</td>\n",
              "      <td>34.580002</td>\n",
              "      <td>34.580002</td>\n",
              "      <td>3152200</td>\n",
              "    </tr>\n",
              "    <tr>\n",
              "      <th>2018-09-26</th>\n",
              "      <td>34.349998</td>\n",
              "      <td>35.980000</td>\n",
              "      <td>34.250000</td>\n",
              "      <td>35.500000</td>\n",
              "      <td>35.500000</td>\n",
              "      <td>5835600</td>\n",
              "    </tr>\n",
              "    <tr>\n",
              "      <th>...</th>\n",
              "      <td>...</td>\n",
              "      <td>...</td>\n",
              "      <td>...</td>\n",
              "      <td>...</td>\n",
              "      <td>...</td>\n",
              "      <td>...</td>\n",
              "    </tr>\n",
              "    <tr>\n",
              "      <th>2022-07-12</th>\n",
              "      <td>20.049999</td>\n",
              "      <td>20.379999</td>\n",
              "      <td>19.870001</td>\n",
              "      <td>19.990000</td>\n",
              "      <td>19.990000</td>\n",
              "      <td>2555200</td>\n",
              "    </tr>\n",
              "    <tr>\n",
              "      <th>2022-07-13</th>\n",
              "      <td>19.580000</td>\n",
              "      <td>19.830000</td>\n",
              "      <td>19.350000</td>\n",
              "      <td>19.700001</td>\n",
              "      <td>19.700001</td>\n",
              "      <td>3059500</td>\n",
              "    </tr>\n",
              "    <tr>\n",
              "      <th>2022-07-14</th>\n",
              "      <td>19.410000</td>\n",
              "      <td>19.639999</td>\n",
              "      <td>19.110001</td>\n",
              "      <td>19.610001</td>\n",
              "      <td>19.610001</td>\n",
              "      <td>3400800</td>\n",
              "    </tr>\n",
              "    <tr>\n",
              "      <th>2022-07-15</th>\n",
              "      <td>19.740000</td>\n",
              "      <td>20.110001</td>\n",
              "      <td>19.480000</td>\n",
              "      <td>20.080000</td>\n",
              "      <td>20.080000</td>\n",
              "      <td>3504600</td>\n",
              "    </tr>\n",
              "    <tr>\n",
              "      <th>2022-07-18</th>\n",
              "      <td>20.090000</td>\n",
              "      <td>20.330000</td>\n",
              "      <td>19.930000</td>\n",
              "      <td>20.000000</td>\n",
              "      <td>20.000000</td>\n",
              "      <td>2536900</td>\n",
              "    </tr>\n",
              "  </tbody>\n",
              "</table>\n",
              "<p>962 rows × 6 columns</p>\n",
              "</div>\n",
              "      <button class=\"colab-df-convert\" onclick=\"convertToInteractive('df-687008d7-0ff0-43e5-bfac-5cfece70d8b3')\"\n",
              "              title=\"Convert this dataframe to an interactive table.\"\n",
              "              style=\"display:none;\">\n",
              "        \n",
              "  <svg xmlns=\"http://www.w3.org/2000/svg\" height=\"24px\"viewBox=\"0 0 24 24\"\n",
              "       width=\"24px\">\n",
              "    <path d=\"M0 0h24v24H0V0z\" fill=\"none\"/>\n",
              "    <path d=\"M18.56 5.44l.94 2.06.94-2.06 2.06-.94-2.06-.94-.94-2.06-.94 2.06-2.06.94zm-11 1L8.5 8.5l.94-2.06 2.06-.94-2.06-.94L8.5 2.5l-.94 2.06-2.06.94zm10 10l.94 2.06.94-2.06 2.06-.94-2.06-.94-.94-2.06-.94 2.06-2.06.94z\"/><path d=\"M17.41 7.96l-1.37-1.37c-.4-.4-.92-.59-1.43-.59-.52 0-1.04.2-1.43.59L10.3 9.45l-7.72 7.72c-.78.78-.78 2.05 0 2.83L4 21.41c.39.39.9.59 1.41.59.51 0 1.02-.2 1.41-.59l7.78-7.78 2.81-2.81c.8-.78.8-2.07 0-2.86zM5.41 20L4 18.59l7.72-7.72 1.47 1.35L5.41 20z\"/>\n",
              "  </svg>\n",
              "      </button>\n",
              "      \n",
              "  <style>\n",
              "    .colab-df-container {\n",
              "      display:flex;\n",
              "      flex-wrap:wrap;\n",
              "      gap: 12px;\n",
              "    }\n",
              "\n",
              "    .colab-df-convert {\n",
              "      background-color: #E8F0FE;\n",
              "      border: none;\n",
              "      border-radius: 50%;\n",
              "      cursor: pointer;\n",
              "      display: none;\n",
              "      fill: #1967D2;\n",
              "      height: 32px;\n",
              "      padding: 0 0 0 0;\n",
              "      width: 32px;\n",
              "    }\n",
              "\n",
              "    .colab-df-convert:hover {\n",
              "      background-color: #E2EBFA;\n",
              "      box-shadow: 0px 1px 2px rgba(60, 64, 67, 0.3), 0px 1px 3px 1px rgba(60, 64, 67, 0.15);\n",
              "      fill: #174EA6;\n",
              "    }\n",
              "\n",
              "    [theme=dark] .colab-df-convert {\n",
              "      background-color: #3B4455;\n",
              "      fill: #D2E3FC;\n",
              "    }\n",
              "\n",
              "    [theme=dark] .colab-df-convert:hover {\n",
              "      background-color: #434B5C;\n",
              "      box-shadow: 0px 1px 3px 1px rgba(0, 0, 0, 0.15);\n",
              "      filter: drop-shadow(0px 1px 2px rgba(0, 0, 0, 0.3));\n",
              "      fill: #FFFFFF;\n",
              "    }\n",
              "  </style>\n",
              "\n",
              "      <script>\n",
              "        const buttonEl =\n",
              "          document.querySelector('#df-687008d7-0ff0-43e5-bfac-5cfece70d8b3 button.colab-df-convert');\n",
              "        buttonEl.style.display =\n",
              "          google.colab.kernel.accessAllowed ? 'block' : 'none';\n",
              "\n",
              "        async function convertToInteractive(key) {\n",
              "          const element = document.querySelector('#df-687008d7-0ff0-43e5-bfac-5cfece70d8b3');\n",
              "          const dataTable =\n",
              "            await google.colab.kernel.invokeFunction('convertToInteractive',\n",
              "                                                     [key], {});\n",
              "          if (!dataTable) return;\n",
              "\n",
              "          const docLinkHtml = 'Like what you see? Visit the ' +\n",
              "            '<a target=\"_blank\" href=https://colab.research.google.com/notebooks/data_table.ipynb>data table notebook</a>'\n",
              "            + ' to learn more about interactive tables.';\n",
              "          element.innerHTML = '';\n",
              "          dataTable['output_type'] = 'display_data';\n",
              "          await google.colab.output.renderOutput(dataTable, element);\n",
              "          const docLink = document.createElement('div');\n",
              "          docLink.innerHTML = docLinkHtml;\n",
              "          element.appendChild(docLink);\n",
              "        }\n",
              "      </script>\n",
              "    </div>\n",
              "  </div>\n",
              "  "
            ]
          },
          "metadata": {},
          "execution_count": 5
        }
      ],
      "source": [
        "#get all ELAN trading history until today from yahoo finance\n",
        "df = get_data('ELAN', index_as_date = True).drop(columns = 'ticker')\n",
        "df"
      ]
    },
    {
      "cell_type": "code",
      "execution_count": 6,
      "id": "4d323399-c906-4d06-b1dc-c0823a13fff6",
      "metadata": {
        "colab": {
          "base_uri": "https://localhost:8080/",
          "height": 283
        },
        "id": "4d323399-c906-4d06-b1dc-c0823a13fff6",
        "outputId": "ff719109-de56-4c00-bff5-791e3fa6088f"
      },
      "outputs": [
        {
          "output_type": "execute_result",
          "data": {
            "text/plain": [
              "<matplotlib.axes._subplots.AxesSubplot at 0x7f0db195fad0>"
            ]
          },
          "metadata": {},
          "execution_count": 6
        },
        {
          "output_type": "display_data",
          "data": {
            "text/plain": [
              "<Figure size 432x288 with 1 Axes>"
            ],
            "image/png": "[encoded data removed]"
          },
          "metadata": {
            "needs_background": "light"
          }
        }
      ],
      "source": [
        "df['close'].plot()"
      ]
    },
    {
      "cell_type": "code",
      "source": [
        "len(df)"
      ],
      "metadata": {
        "colab": {
          "base_uri": "https://localhost:8080/"
        },
        "id": "TLE52qYhD1R9",
        "outputId": "e8ca7530-49f0-4664-9c7c-0202fcc1901a"
      },
      "id": "TLE52qYhD1R9",
      "execution_count": 7,
      "outputs": [
        {
          "output_type": "execute_result",
          "data": {
            "text/plain": [
              "962"
            ]
          },
          "metadata": {},
          "execution_count": 7
        }
      ]
    },
    {
      "cell_type": "code",
      "execution_count": 8,
      "id": "116b7755-d3fe-45aa-a089-29cd49bbfc72",
      "metadata": {
        "id": "116b7755-d3fe-45aa-a089-29cd49bbfc72"
      },
      "outputs": [],
      "source": [
        "def window_data(df, window, feature_col_number, target_col_number):\n",
        "    X = []\n",
        "    y = []\n",
        "    for i in range(len(df) - window - 1): # i in range(962-10-1) # i in range(951)\n",
        "        features = df.iloc[i:(i + window), feature_col_number] # df.iloc[0: 10, 'Close']\n",
        "        target = df.iloc[(i + window), target_col_number] # df.iloc[10, 'Close']\n",
        "        X.append(features)\n",
        "        y.append(target)\n",
        "    return np.array(X), np.array(y).reshape(-1, 1)"
      ]
    },
    {
      "cell_type": "code",
      "execution_count": 9,
      "id": "27f2354f-48d5-4105-9203-a467d71e060e",
      "metadata": {
        "id": "27f2354f-48d5-4105-9203-a467d71e060e"
      },
      "outputs": [],
      "source": [
        "window_size=10"
      ]
    },
    {
      "cell_type": "code",
      "execution_count": 10,
      "id": "a292a2e3-c509-49da-865e-4e33c2f50d82",
      "metadata": {
        "colab": {
          "base_uri": "https://localhost:8080/",
          "height": 1000
        },
        "id": "a292a2e3-c509-49da-865e-4e33c2f50d82",
        "outputId": "f58f296f-7a94-4473-8066-fdcaa3266beb"
      },
      "outputs": [
        {
          "output_type": "display_data",
          "data": {
            "text/plain": [
              "array([[36.        , 34.09999847, 34.90000153, ..., 33.72999954,\n",
              "        33.41999817, 34.25      ],\n",
              "       [34.09999847, 34.90000153, 34.58000183, ..., 33.41999817,\n",
              "        34.25      , 34.02000046],\n",
              "       [34.90000153, 34.58000183, 35.5       , ..., 34.25      ,\n",
              "        34.02000046, 34.34000015],\n",
              "       ...,\n",
              "       [20.13999939, 20.        , 19.62999916, ..., 20.45000076,\n",
              "        20.21999931, 19.98999977],\n",
              "       [20.        , 19.62999916, 20.62000084, ..., 20.21999931,\n",
              "        19.98999977, 19.70000076],\n",
              "       [19.62999916, 20.62000084, 20.64999962, ..., 19.98999977,\n",
              "        19.70000076, 19.61000061]])"
            ]
          },
          "metadata": {}
        },
        {
          "output_type": "display_data",
          "data": {
            "text/plain": [
              "array([[34.02000046],\n",
              "       [34.34000015],\n",
              "       [34.00999832],\n",
              "       [34.31999969],\n",
              "       [33.52999878],\n",
              "       [32.38999939],\n",
              "       [32.58000183],\n",
              "       [32.45999908],\n",
              "       [32.61000061],\n",
              "       [32.93000031],\n",
              "       [31.79999924],\n",
              "       [31.61000061],\n",
              "       [31.87999916],\n",
              "       [32.43999863],\n",
              "       [31.73999977],\n",
              "       [31.95999908],\n",
              "       [32.43000031],\n",
              "       [30.90999985],\n",
              "       [30.85000038],\n",
              "       [30.47999954],\n",
              "       [31.87999916],\n",
              "       [33.09999847],\n",
              "       [33.24000168],\n",
              "       [33.81000137],\n",
              "       [34.45999908],\n",
              "       [33.81999969],\n",
              "       [34.45999908],\n",
              "       [34.15999985],\n",
              "       [34.5       ],\n",
              "       [34.00999832],\n",
              "       [33.09000015],\n",
              "       [34.        ],\n",
              "       [33.79999924],\n",
              "       [33.13000107],\n",
              "       [33.15999985],\n",
              "       [33.61000061],\n",
              "       [33.        ],\n",
              "       [32.95000076],\n",
              "       [33.47999954],\n",
              "       [33.47999954],\n",
              "       [33.40999985],\n",
              "       [33.75      ],\n",
              "       [33.06999969],\n",
              "       [32.59999847],\n",
              "       [33.56999969],\n",
              "       [33.38000107],\n",
              "       [32.95999908],\n",
              "       [32.86999893],\n",
              "       [32.54000092],\n",
              "       [32.36999893],\n",
              "       [31.76000023],\n",
              "       [31.10000038],\n",
              "       [31.63999939],\n",
              "       [31.32999992],\n",
              "       [30.        ],\n",
              "       [29.62999916],\n",
              "       [30.72999954],\n",
              "       [31.19000053],\n",
              "       [31.31999969],\n",
              "       [31.53000069],\n",
              "       [31.79999924],\n",
              "       [31.09000015],\n",
              "       [31.82999992],\n",
              "       [32.65000153],\n",
              "       [32.50999832],\n",
              "       [32.54999924],\n",
              "       [31.59000015],\n",
              "       [31.95999908],\n",
              "       [31.55999947],\n",
              "       [31.70999908],\n",
              "       [31.55999947],\n",
              "       [31.75      ],\n",
              "       [31.52000046],\n",
              "       [30.97999954],\n",
              "       [30.37999916],\n",
              "       [30.22999954],\n",
              "       [30.60000038],\n",
              "       [30.5       ],\n",
              "       [30.5       ],\n",
              "       [30.15999985],\n",
              "       [29.18000031],\n",
              "       [29.45000076],\n",
              "       [29.64999962],\n",
              "       [30.21999931],\n",
              "       [29.01000023],\n",
              "       [29.5       ],\n",
              "       [29.69000053],\n",
              "       [29.70999908],\n",
              "       [29.29999924],\n",
              "       [29.42000008],\n",
              "       [29.34000015],\n",
              "       [29.60000038],\n",
              "       [29.15999985],\n",
              "       [29.32999992],\n",
              "       [29.04000092],\n",
              "       [29.19000053],\n",
              "       [29.        ],\n",
              "       [29.04999924],\n",
              "       [29.71999931],\n",
              "       [30.23999977],\n",
              "       [31.03000069],\n",
              "       [31.        ],\n",
              "       [30.45999908],\n",
              "       [29.70000076],\n",
              "       [29.28000069],\n",
              "       [29.39999962],\n",
              "       [30.70000076],\n",
              "       [31.63999939],\n",
              "       [31.57999992],\n",
              "       [30.30999947],\n",
              "       [30.63999939],\n",
              "       [31.63999939],\n",
              "       [32.83000183],\n",
              "       [32.83000183],\n",
              "       [32.47999954],\n",
              "       [32.72000122],\n",
              "       [32.59999847],\n",
              "       [32.74000168],\n",
              "       [32.68999863],\n",
              "       [32.5       ],\n",
              "       [32.06999969],\n",
              "       [32.16999817],\n",
              "       [32.43999863],\n",
              "       [32.83000183],\n",
              "       [32.97999954],\n",
              "       [33.11999893],\n",
              "       [33.41999817],\n",
              "       [32.75999832],\n",
              "       [32.54999924],\n",
              "       [32.34000015],\n",
              "       [32.56999969],\n",
              "       [32.13999939],\n",
              "       [31.78000069],\n",
              "       [31.18000031],\n",
              "       [31.11000061],\n",
              "       [31.14999962],\n",
              "       [31.62999916],\n",
              "       [32.06999969],\n",
              "       [32.38999939],\n",
              "       [32.72000122],\n",
              "       [32.27999878],\n",
              "       [31.5       ],\n",
              "       [31.44000053],\n",
              "       [31.36000061],\n",
              "       [32.13000107],\n",
              "       [32.16999817],\n",
              "       [31.12000084],\n",
              "       [31.38999939],\n",
              "       [32.95999908],\n",
              "       [33.29999924],\n",
              "       [32.15000153],\n",
              "       [32.59999847],\n",
              "       [32.75      ],\n",
              "       [33.        ],\n",
              "       [33.04000092],\n",
              "       [32.65000153],\n",
              "       [32.74000168],\n",
              "       [32.29000092],\n",
              "       [32.38999939],\n",
              "       [32.09999847],\n",
              "       [31.96999931],\n",
              "       [31.73999977],\n",
              "       [31.51000023],\n",
              "       [31.28000069],\n",
              "       [31.93000031],\n",
              "       [32.72999954],\n",
              "       [32.90000153],\n",
              "       [32.5       ],\n",
              "       [32.68999863],\n",
              "       [32.45000076],\n",
              "       [32.56999969],\n",
              "       [33.18000031],\n",
              "       [32.54999924],\n",
              "       [31.95000076],\n",
              "       [31.48999977],\n",
              "       [32.77999878],\n",
              "       [33.11999893],\n",
              "       [32.93000031],\n",
              "       [33.72999954],\n",
              "       [33.52999878],\n",
              "       [34.79000092],\n",
              "       [34.29000092],\n",
              "       [34.25999832],\n",
              "       [33.79999924],\n",
              "       [34.95999908],\n",
              "       [33.99000168],\n",
              "       [34.75      ],\n",
              "       [34.18999863],\n",
              "       [33.36000061],\n",
              "       [34.06999969],\n",
              "       [33.15999985],\n",
              "       [33.86000061],\n",
              "       [33.31000137],\n",
              "       [33.68000031],\n",
              "       [33.34999847],\n",
              "       [33.18000031],\n",
              "       [32.84000015],\n",
              "       [32.5       ],\n",
              "       [32.18999863],\n",
              "       [33.00999832],\n",
              "       [33.40000153],\n",
              "       [32.90999985],\n",
              "       [33.15999985],\n",
              "       [33.00999832],\n",
              "       [33.34999847],\n",
              "       [32.95999908],\n",
              "       [33.06000137],\n",
              "       [32.88999939],\n",
              "       [31.80999947],\n",
              "       [32.84000015],\n",
              "       [31.46999931],\n",
              "       [31.32999992],\n",
              "       [30.64999962],\n",
              "       [29.73999977],\n",
              "       [29.85000038],\n",
              "       [28.51000023],\n",
              "       [29.19000053],\n",
              "       [29.36000061],\n",
              "       [29.80999947],\n",
              "       [27.26000023],\n",
              "       [26.38999939],\n",
              "       [27.04999924],\n",
              "       [26.40999985],\n",
              "       [25.87999916],\n",
              "       [25.62000084],\n",
              "       [25.78000069],\n",
              "       [25.93000031],\n",
              "       [26.02000046],\n",
              "       [26.04000092],\n",
              "       [26.36000061],\n",
              "       [26.48999977],\n",
              "       [27.35000038],\n",
              "       [26.98999977],\n",
              "       [27.90999985],\n",
              "       [28.73999977],\n",
              "       [28.37999916],\n",
              "       [28.68000031],\n",
              "       [28.31999969],\n",
              "       [28.07999992],\n",
              "       [27.47999954],\n",
              "       [27.12999916],\n",
              "       [27.53000069],\n",
              "       [28.06999969],\n",
              "       [27.54999924],\n",
              "       [26.97999954],\n",
              "       [26.70000076],\n",
              "       [26.39999962],\n",
              "       [26.59000015],\n",
              "       [26.17000008],\n",
              "       [25.95000076],\n",
              "       [26.85000038],\n",
              "       [26.78000069],\n",
              "       [26.63999939],\n",
              "       [26.68000031],\n",
              "       [26.81999969],\n",
              "       [26.54999924],\n",
              "       [26.88999939],\n",
              "       [26.63999939],\n",
              "       [27.11000061],\n",
              "       [27.06999969],\n",
              "       [26.46999931],\n",
              "       [26.22999954],\n",
              "       [26.36000061],\n",
              "       [26.04000092],\n",
              "       [26.17000008],\n",
              "       [26.29999924],\n",
              "       [26.87000084],\n",
              "       [27.14999962],\n",
              "       [27.18000031],\n",
              "       [27.12999916],\n",
              "       [27.02000046],\n",
              "       [27.39999962],\n",
              "       [27.28000069],\n",
              "       [27.43000031],\n",
              "       [26.68000031],\n",
              "       [26.92000008],\n",
              "       [27.22999954],\n",
              "       [26.56999969],\n",
              "       [26.20999908],\n",
              "       [26.        ],\n",
              "       [25.29000092],\n",
              "       [26.11000061],\n",
              "       [25.54000092],\n",
              "       [26.27000046],\n",
              "       [26.35000038],\n",
              "       [26.39999962],\n",
              "       [26.79000092],\n",
              "       [27.80999947],\n",
              "       [27.65999985],\n",
              "       [27.87000084],\n",
              "       [27.70999908],\n",
              "       [27.62000084],\n",
              "       [27.29999924],\n",
              "       [27.17000008],\n",
              "       [27.15999985],\n",
              "       [27.09000015],\n",
              "       [26.85000038],\n",
              "       [26.45999908],\n",
              "       [26.79000092],\n",
              "       [27.47999954],\n",
              "       [27.78000069],\n",
              "       [28.30999947],\n",
              "       [28.76000023],\n",
              "       [28.19000053],\n",
              "       [28.95000076],\n",
              "       [28.79999924],\n",
              "       [29.06999969],\n",
              "       [29.43000031],\n",
              "       [29.15999985],\n",
              "       [29.34000015],\n",
              "       [29.29000092],\n",
              "       [29.45000076],\n",
              "       [29.46999931],\n",
              "       [29.10000038],\n",
              "       [28.82999992],\n",
              "       [28.70999908],\n",
              "       [28.55999947],\n",
              "       [28.04000092],\n",
              "       [28.72999954],\n",
              "       [28.40999985],\n",
              "       [29.28000069],\n",
              "       [30.84000015],\n",
              "       [30.61000061],\n",
              "       [30.        ],\n",
              "       [30.62000084],\n",
              "       [32.22999954],\n",
              "       [32.25      ],\n",
              "       [31.56999969],\n",
              "       [31.13999939],\n",
              "       [31.55999947],\n",
              "       [31.73999977],\n",
              "       [31.71999931],\n",
              "       [30.89999962],\n",
              "       [31.29999924],\n",
              "       [31.65999985],\n",
              "       [31.62999916],\n",
              "       [31.68000031],\n",
              "       [31.38999939],\n",
              "       [31.48999977],\n",
              "       [31.75      ],\n",
              "       [31.36000061],\n",
              "       [31.12000084],\n",
              "       [30.97999954],\n",
              "       [30.45000076],\n",
              "       [29.93000031],\n",
              "       [30.22999954],\n",
              "       [31.14999962],\n",
              "       [30.01000023],\n",
              "       [29.25      ],\n",
              "       [28.77000046],\n",
              "       [28.12999916],\n",
              "       [27.39999962],\n",
              "       [27.78000069],\n",
              "       [27.05999947],\n",
              "       [27.52000046],\n",
              "       [26.07999992],\n",
              "       [25.38999939],\n",
              "       [23.88999939],\n",
              "       [24.60000038],\n",
              "       [23.71999931],\n",
              "       [21.34000015],\n",
              "       [22.43000031],\n",
              "       [19.36000061],\n",
              "       [19.96999931],\n",
              "       [16.68000031],\n",
              "       [17.46999931],\n",
              "       [17.5       ],\n",
              "       [16.95999908],\n",
              "       [18.61000061],\n",
              "       [19.62000084],\n",
              "       [21.42000008],\n",
              "       [21.81999969],\n",
              "       [22.59000015],\n",
              "       [22.38999939],\n",
              "       [20.14999962],\n",
              "       [20.77000046],\n",
              "       [20.19000053],\n",
              "       [21.97999954],\n",
              "       [22.75      ],\n",
              "       [23.43000031],\n",
              "       [24.5       ],\n",
              "       [23.14999962],\n",
              "       [23.76000023],\n",
              "       [22.77000046],\n",
              "       [22.67000008],\n",
              "       [24.29000092],\n",
              "       [24.53000069],\n",
              "       [23.87999916],\n",
              "       [24.        ],\n",
              "       [23.80999947],\n",
              "       [23.85000038],\n",
              "       [24.65999985],\n",
              "       [24.20999908],\n",
              "       [24.93000031],\n",
              "       [24.70999908],\n",
              "       [24.04000092],\n",
              "       [23.96999931],\n",
              "       [24.14999962],\n",
              "       [22.93000031],\n",
              "       [19.87999916],\n",
              "       [19.84000015],\n",
              "       [20.77000046],\n",
              "       [19.97999954],\n",
              "       [19.29000092],\n",
              "       [19.37999916],\n",
              "       [19.12000084],\n",
              "       [19.70999908],\n",
              "       [19.40999985],\n",
              "       [19.55999947],\n",
              "       [18.94000053],\n",
              "       [18.94000053],\n",
              "       [19.37000084],\n",
              "       [21.12999916],\n",
              "       [21.37999916],\n",
              "       [21.40999985],\n",
              "       [21.20000076],\n",
              "       [22.27000046],\n",
              "       [22.93000031],\n",
              "       [22.53000069],\n",
              "       [23.75      ],\n",
              "       [24.76000023],\n",
              "       [24.10000038],\n",
              "       [23.07999992],\n",
              "       [21.67000008],\n",
              "       [22.06999969],\n",
              "       [21.62999916],\n",
              "       [22.06999969],\n",
              "       [21.59000015],\n",
              "       [21.87999916],\n",
              "       [22.26000023],\n",
              "       [22.34000015],\n",
              "       [22.63999939],\n",
              "       [21.39999962],\n",
              "       [21.60000038],\n",
              "       [21.15999985],\n",
              "       [21.        ],\n",
              "       [21.45000076],\n",
              "       [21.19000053],\n",
              "       [21.20999908],\n",
              "       [21.76000023],\n",
              "       [21.54999924],\n",
              "       [21.64999962],\n",
              "       [21.36000061],\n",
              "       [22.03000069],\n",
              "       [22.64999962],\n",
              "       [23.47999954],\n",
              "       [24.07999992],\n",
              "       [24.        ],\n",
              "       [23.79000092],\n",
              "       [23.54999924],\n",
              "       [23.68000031],\n",
              "       [23.46999931],\n",
              "       [23.38999939],\n",
              "       [23.59000015],\n",
              "       [21.29999924],\n",
              "       [21.10000038],\n",
              "       [21.14999962],\n",
              "       [22.45000076],\n",
              "       [23.62999916],\n",
              "       [23.30999947],\n",
              "       [24.79999924],\n",
              "       [25.28000069],\n",
              "       [24.44000053],\n",
              "       [24.29999924],\n",
              "       [24.60000038],\n",
              "       [25.42000008],\n",
              "       [25.        ],\n",
              "       [24.44000053],\n",
              "       [25.77000046],\n",
              "       [25.85000038],\n",
              "       [26.09000015],\n",
              "       [25.79999924],\n",
              "       [27.57999992],\n",
              "       [27.10000038],\n",
              "       [27.42000008],\n",
              "       [28.86000061],\n",
              "       [28.13999939],\n",
              "       [28.12999916],\n",
              "       [29.12999916],\n",
              "       [29.05999947],\n",
              "       [28.77000046],\n",
              "       [28.82999992],\n",
              "       [28.18000031],\n",
              "       [28.10000038],\n",
              "       [28.10000038],\n",
              "       [28.46999931],\n",
              "       [27.22999954],\n",
              "       [27.07999992],\n",
              "       [27.63999939],\n",
              "       [26.84000015],\n",
              "       [27.38999939],\n",
              "       [27.35000038],\n",
              "       [26.54000092],\n",
              "       [26.54999924],\n",
              "       [27.04999924],\n",
              "       [26.40999985],\n",
              "       [26.27000046],\n",
              "       [26.85000038],\n",
              "       [27.05999947],\n",
              "       [26.76000023],\n",
              "       [27.93000031],\n",
              "       [27.53000069],\n",
              "       [27.70000076],\n",
              "       [28.15999985],\n",
              "       [28.22999954],\n",
              "       [32.06999969],\n",
              "       [32.13000107],\n",
              "       [33.09999847],\n",
              "       [33.79000092],\n",
              "       [32.81999969],\n",
              "       [31.87000084],\n",
              "       [31.82999992],\n",
              "       [31.54000092],\n",
              "       [30.90999985],\n",
              "       [31.20999908],\n",
              "       [30.40999985],\n",
              "       [31.18000031],\n",
              "       [31.37999916],\n",
              "       [30.82999992],\n",
              "       [31.54999924],\n",
              "       [30.77000046],\n",
              "       [31.51000023],\n",
              "       [31.01000023],\n",
              "       [31.82999992],\n",
              "       [31.23999977],\n",
              "       [31.70999908],\n",
              "       [32.58000183],\n",
              "       [30.29000092],\n",
              "       [31.05999947],\n",
              "       [31.20999908],\n",
              "       [29.96999931],\n",
              "       [29.90999985],\n",
              "       [30.14999962],\n",
              "       [30.30999947],\n",
              "       [30.40999985],\n",
              "       [29.38999939],\n",
              "       [29.5       ],\n",
              "       [29.42000008],\n",
              "       [31.03000069],\n",
              "       [31.62000084],\n",
              "       [31.78000069],\n",
              "       [31.31999969],\n",
              "       [30.59000015],\n",
              "       [29.30999947],\n",
              "       [30.        ],\n",
              "       [29.20000076],\n",
              "       [29.37999916],\n",
              "       [29.35000038],\n",
              "       [29.79000092],\n",
              "       [28.88999939],\n",
              "       [28.79999924],\n",
              "       [28.64999962],\n",
              "       [28.70999908],\n",
              "       [30.81999969],\n",
              "       [29.95000076],\n",
              "       [30.48999977],\n",
              "       [30.01000023],\n",
              "       [29.53000069],\n",
              "       [30.20999908],\n",
              "       [30.43000031],\n",
              "       [30.54000092],\n",
              "       [30.65999985],\n",
              "       [30.37000084],\n",
              "       [30.12000084],\n",
              "       [30.67000008],\n",
              "       [30.5       ],\n",
              "       [30.60000038],\n",
              "       [31.40999985],\n",
              "       [31.09000015],\n",
              "       [31.37999916],\n",
              "       [31.54000092],\n",
              "       [32.27999878],\n",
              "       [31.30999947],\n",
              "       [31.63999939],\n",
              "       [31.51000023],\n",
              "       [31.15999985],\n",
              "       [31.01000023],\n",
              "       [30.38999939],\n",
              "       [30.45999908],\n",
              "       [29.95000076],\n",
              "       [30.35000038],\n",
              "       [29.82999992],\n",
              "       [29.5       ],\n",
              "       [29.03000069],\n",
              "       [29.80999947],\n",
              "       [29.54000092],\n",
              "       [28.87999916],\n",
              "       [29.03000069],\n",
              "       [28.37999916],\n",
              "       [28.45000076],\n",
              "       [29.09000015],\n",
              "       [29.06999969],\n",
              "       [29.06999969],\n",
              "       [29.75      ],\n",
              "       [30.38999939],\n",
              "       [30.04000092],\n",
              "       [30.54000092],\n",
              "       [30.10000038],\n",
              "       [30.57999992],\n",
              "       [30.86000061],\n",
              "       [31.54999924],\n",
              "       [31.72999954],\n",
              "       [32.86000061],\n",
              "       [33.65000153],\n",
              "       [32.34000015],\n",
              "       [30.87000084],\n",
              "       [30.93000031],\n",
              "       [31.12999916],\n",
              "       [32.22999954],\n",
              "       [32.58000183],\n",
              "       [32.74000168],\n",
              "       [34.13000107],\n",
              "       [34.27000046],\n",
              "       [34.49000168],\n",
              "       [33.56999969],\n",
              "       [33.95999908],\n",
              "       [33.75      ],\n",
              "       [31.09000015],\n",
              "       [29.77000046],\n",
              "       [28.60000038],\n",
              "       [28.29000092],\n",
              "       [28.05999947],\n",
              "       [27.85000038],\n",
              "       [28.79000092],\n",
              "       [28.79999924],\n",
              "       [29.45000076],\n",
              "       [28.79000092],\n",
              "       [28.95999908],\n",
              "       [28.76000023],\n",
              "       [29.80999947],\n",
              "       [29.60000038],\n",
              "       [29.75      ],\n",
              "       [29.39999962],\n",
              "       [29.38999939],\n",
              "       [29.57999992],\n",
              "       [30.20000076],\n",
              "       [29.97999954],\n",
              "       [30.        ],\n",
              "       [30.65999985],\n",
              "       [31.19000053],\n",
              "       [30.55999947],\n",
              "       [30.87999916],\n",
              "       [31.        ],\n",
              "       [31.23999977],\n",
              "       [31.29000092],\n",
              "       [32.13000107],\n",
              "       [31.70999908],\n",
              "       [31.79999924],\n",
              "       [31.30999947],\n",
              "       [31.11000061],\n",
              "       [31.04999924],\n",
              "       [32.88000107],\n",
              "       [32.24000168],\n",
              "       [32.31000137],\n",
              "       [32.09999847],\n",
              "       [33.95000076],\n",
              "       [34.79999924],\n",
              "       [35.00999832],\n",
              "       [35.29999924],\n",
              "       [35.36999893],\n",
              "       [35.68999863],\n",
              "       [35.75999832],\n",
              "       [35.77999878],\n",
              "       [35.50999832],\n",
              "       [35.70999908],\n",
              "       [35.86999893],\n",
              "       [35.97999954],\n",
              "       [35.5       ],\n",
              "       [35.40999985],\n",
              "       [35.        ],\n",
              "       [34.18000031],\n",
              "       [33.56000137],\n",
              "       [33.36000061],\n",
              "       [33.90000153],\n",
              "       [33.59000015],\n",
              "       [33.70000076],\n",
              "       [33.47999954],\n",
              "       [34.81000137],\n",
              "       [35.97999954],\n",
              "       [35.72000122],\n",
              "       [34.68999863],\n",
              "       [34.86999893],\n",
              "       [35.18999863],\n",
              "       [35.09000015],\n",
              "       [34.99000168],\n",
              "       [35.04000092],\n",
              "       [35.31999969],\n",
              "       [35.31999969],\n",
              "       [34.68999863],\n",
              "       [35.        ],\n",
              "       [34.93999863],\n",
              "       [34.77999878],\n",
              "       [34.56000137],\n",
              "       [34.41999817],\n",
              "       [34.63999939],\n",
              "       [35.02000046],\n",
              "       [34.22000122],\n",
              "       [34.13000107],\n",
              "       [34.22999954],\n",
              "       [34.25999832],\n",
              "       [34.22999954],\n",
              "       [35.52999878],\n",
              "       [35.66999817],\n",
              "       [36.02999878],\n",
              "       [36.5       ],\n",
              "       [35.81000137],\n",
              "       [36.24000168],\n",
              "       [36.63999939],\n",
              "       [36.61000061],\n",
              "       [36.47000122],\n",
              "       [36.5       ],\n",
              "       [36.72000122],\n",
              "       [36.41999817],\n",
              "       [35.79999924],\n",
              "       [35.36000061],\n",
              "       [29.67000008],\n",
              "       [29.57999992],\n",
              "       [29.20000076],\n",
              "       [30.15999985],\n",
              "       [31.        ],\n",
              "       [31.53000069],\n",
              "       [31.70000076],\n",
              "       [31.48999977],\n",
              "       [31.5       ],\n",
              "       [31.5       ],\n",
              "       [31.76000023],\n",
              "       [32.27999878],\n",
              "       [32.63000107],\n",
              "       [32.77000046],\n",
              "       [33.31000137],\n",
              "       [33.43999863],\n",
              "       [33.38000107],\n",
              "       [33.52999878],\n",
              "       [33.79999924],\n",
              "       [34.15000153],\n",
              "       [34.02000046],\n",
              "       [33.88999939],\n",
              "       [33.54000092],\n",
              "       [33.38000107],\n",
              "       [33.27999878],\n",
              "       [32.91999817],\n",
              "       [32.40999985],\n",
              "       [32.47000122],\n",
              "       [32.40000153],\n",
              "       [31.82999992],\n",
              "       [31.69000053],\n",
              "       [31.79999924],\n",
              "       [32.47000122],\n",
              "       [32.63000107],\n",
              "       [32.81999969],\n",
              "       [32.54999924],\n",
              "       [32.34999847],\n",
              "       [31.88999939],\n",
              "       [32.09000015],\n",
              "       [32.09999847],\n",
              "       [32.13999939],\n",
              "       [32.68999863],\n",
              "       [33.29000092],\n",
              "       [33.15000153],\n",
              "       [32.88999939],\n",
              "       [32.18000031],\n",
              "       [32.02999878],\n",
              "       [32.45000076],\n",
              "       [32.54000092],\n",
              "       [32.09999847],\n",
              "       [32.63999939],\n",
              "       [33.65999985],\n",
              "       [33.59999847],\n",
              "       [33.90000153],\n",
              "       [33.97000122],\n",
              "       [33.49000168],\n",
              "       [33.31000137],\n",
              "       [32.90000153],\n",
              "       [32.88000107],\n",
              "       [32.86999893],\n",
              "       [31.72999954],\n",
              "       [32.22000122],\n",
              "       [32.86999893],\n",
              "       [34.09000015],\n",
              "       [33.25      ],\n",
              "       [33.09999847],\n",
              "       [32.97999954],\n",
              "       [32.74000168],\n",
              "       [33.02999878],\n",
              "       [32.15999985],\n",
              "       [32.29000092],\n",
              "       [31.95000076],\n",
              "       [32.34000015],\n",
              "       [32.11000061],\n",
              "       [32.04999924],\n",
              "       [32.06999969],\n",
              "       [30.79000092],\n",
              "       [30.21999931],\n",
              "       [30.19000053],\n",
              "       [28.73999977],\n",
              "       [28.13999939],\n",
              "       [28.78000069],\n",
              "       [28.17000008],\n",
              "       [28.79000092],\n",
              "       [28.96999931],\n",
              "       [29.54000092],\n",
              "       [28.48999977],\n",
              "       [27.96999931],\n",
              "       [27.73999977],\n",
              "       [28.11000061],\n",
              "       [28.45999908],\n",
              "       [27.97999954],\n",
              "       [28.27000046],\n",
              "       [28.20000076],\n",
              "       [28.77000046],\n",
              "       [28.34000015],\n",
              "       [28.87999916],\n",
              "       [28.95999908],\n",
              "       [28.87999916],\n",
              "       [28.27000046],\n",
              "       [28.70999908],\n",
              "       [28.37999916],\n",
              "       [28.25      ],\n",
              "       [28.40999985],\n",
              "       [27.89999962],\n",
              "       [27.07999992],\n",
              "       [27.04999924],\n",
              "       [28.72999954],\n",
              "       [28.37999916],\n",
              "       [28.09000015],\n",
              "       [27.06999969],\n",
              "       [27.03000069],\n",
              "       [26.80999947],\n",
              "       [26.38999939],\n",
              "       [26.82999992],\n",
              "       [26.77000046],\n",
              "       [27.10000038],\n",
              "       [26.30999947],\n",
              "       [25.77000046],\n",
              "       [24.94000053],\n",
              "       [25.51000023],\n",
              "       [26.04000092],\n",
              "       [25.54000092],\n",
              "       [25.36000061],\n",
              "       [24.64999962],\n",
              "       [24.96999931],\n",
              "       [25.05999947],\n",
              "       [24.86000061],\n",
              "       [25.72999954],\n",
              "       [25.30999947],\n",
              "       [25.48999977],\n",
              "       [25.12999916],\n",
              "       [25.86000061],\n",
              "       [25.88999939],\n",
              "       [25.78000069],\n",
              "       [25.51000023],\n",
              "       [25.97999954],\n",
              "       [25.75      ],\n",
              "       [27.88999939],\n",
              "       [27.87000084],\n",
              "       [28.40999985],\n",
              "       [28.94000053],\n",
              "       [29.        ],\n",
              "       [28.37000084],\n",
              "       [27.95000076],\n",
              "       [25.84000015],\n",
              "       [25.52000046],\n",
              "       [26.62000084],\n",
              "       [26.37999916],\n",
              "       [26.48999977],\n",
              "       [25.20000076],\n",
              "       [25.46999931],\n",
              "       [26.40999985],\n",
              "       [26.61000061],\n",
              "       [27.42000008],\n",
              "       [27.20000076],\n",
              "       [27.40999985],\n",
              "       [27.21999931],\n",
              "       [27.46999931],\n",
              "       [26.59000015],\n",
              "       [26.71999931],\n",
              "       [27.53000069],\n",
              "       [27.15999985],\n",
              "       [26.09000015],\n",
              "       [26.12000084],\n",
              "       [26.15999985],\n",
              "       [25.97999954],\n",
              "       [26.62000084],\n",
              "       [26.54999924],\n",
              "       [26.25      ],\n",
              "       [26.        ],\n",
              "       [25.82999992],\n",
              "       [26.26000023],\n",
              "       [26.25      ],\n",
              "       [25.73999977],\n",
              "       [26.12000084],\n",
              "       [26.28000069],\n",
              "       [26.04999924],\n",
              "       [25.28000069],\n",
              "       [25.73999977],\n",
              "       [25.46999931],\n",
              "       [25.57999992],\n",
              "       [25.64999962],\n",
              "       [25.30999947],\n",
              "       [25.14999962],\n",
              "       [25.28000069],\n",
              "       [25.        ],\n",
              "       [24.18000031],\n",
              "       [23.79000092],\n",
              "       [21.84000015],\n",
              "       [21.89999962],\n",
              "       [20.81999969],\n",
              "       [21.69000053],\n",
              "       [22.27000046],\n",
              "       [23.30999947],\n",
              "       [24.20000076],\n",
              "       [23.35000038],\n",
              "       [23.23999977],\n",
              "       [24.27000046],\n",
              "       [23.69000053],\n",
              "       [23.17000008],\n",
              "       [23.32999992],\n",
              "       [23.71999931],\n",
              "       [23.87000084],\n",
              "       [23.70000076],\n",
              "       [24.12999916],\n",
              "       [24.84000015],\n",
              "       [24.19000053],\n",
              "       [23.69000053],\n",
              "       [24.54999924],\n",
              "       [24.13999939],\n",
              "       [23.52000046],\n",
              "       [22.27000046],\n",
              "       [21.64999962],\n",
              "       [20.89999962],\n",
              "       [20.92000008],\n",
              "       [20.28000069],\n",
              "       [20.54999924],\n",
              "       [20.03000069],\n",
              "       [20.01000023],\n",
              "       [19.94000053],\n",
              "       [20.61000061],\n",
              "       [20.47999954],\n",
              "       [20.13999939],\n",
              "       [20.        ],\n",
              "       [19.62999916],\n",
              "       [20.62000084],\n",
              "       [20.64999962],\n",
              "       [20.35000038],\n",
              "       [20.69000053],\n",
              "       [20.45000076],\n",
              "       [20.21999931],\n",
              "       [19.98999977],\n",
              "       [19.70000076],\n",
              "       [19.61000061],\n",
              "       [20.07999992]])"
            ]
          },
          "metadata": {}
        }
      ],
      "source": [
        "X, y=window_data(df, window_size, 3, 3)\n",
        "display(X)\n",
        "display(y)"
      ]
    },
    {
      "cell_type": "code",
      "source": [
        "len(y)"
      ],
      "metadata": {
        "colab": {
          "base_uri": "https://localhost:8080/"
        },
        "id": "Qw7qbDvfEXB0",
        "outputId": "ae150dbe-fc7f-4dd8-b61e-29e18c446957"
      },
      "id": "Qw7qbDvfEXB0",
      "execution_count": 11,
      "outputs": [
        {
          "output_type": "execute_result",
          "data": {
            "text/plain": [
              "951"
            ]
          },
          "metadata": {},
          "execution_count": 11
        }
      ]
    },
    {
      "cell_type": "code",
      "execution_count": 12,
      "id": "GreUcSAngpop",
      "metadata": {
        "id": "GreUcSAngpop"
      },
      "outputs": [],
      "source": [
        "from sklearn.preprocessing import MinMaxScaler\n",
        "X_scaler=MinMaxScaler()\n",
        "X_scaler.fit(X)\n",
        "X_scaled=X_scaler.transform(X)"
      ]
    },
    {
      "cell_type": "code",
      "execution_count": 13,
      "id": "WUMPL6UQjJWk",
      "metadata": {
        "colab": {
          "base_uri": "https://localhost:8080/"
        },
        "id": "WUMPL6UQjJWk",
        "outputId": "8ad00493-4010-4aa5-b077-4c05e4c7cbb3"
      },
      "outputs": [
        {
          "output_type": "execute_result",
          "data": {
            "text/plain": [
              "array([[36.        , 34.09999847, 34.90000153, ..., 33.72999954,\n",
              "        33.41999817, 34.25      ],\n",
              "       [34.09999847, 34.90000153, 34.58000183, ..., 33.41999817,\n",
              "        34.25      , 34.02000046],\n",
              "       [34.90000153, 34.58000183, 35.5       , ..., 34.25      ,\n",
              "        34.02000046, 34.34000015],\n",
              "       ...,\n",
              "       [20.13999939, 20.        , 19.62999916, ..., 20.45000076,\n",
              "        20.21999931, 19.98999977],\n",
              "       [20.        , 19.62999916, 20.62000084, ..., 20.21999931,\n",
              "        19.98999977, 19.70000076],\n",
              "       [19.62999916, 20.62000084, 20.64999962, ..., 19.98999977,\n",
              "        19.70000076, 19.61000061]])"
            ]
          },
          "metadata": {},
          "execution_count": 13
        }
      ],
      "source": [
        "X"
      ]
    },
    {
      "cell_type": "code",
      "execution_count": 14,
      "id": "2732c02c-6188-49aa-99f3-c203b6ae88bb",
      "metadata": {
        "id": "2732c02c-6188-49aa-99f3-c203b6ae88bb"
      },
      "outputs": [],
      "source": [
        "split=int(0.7*len(X_scaled))\n",
        "X_train=X_scaled[:split]\n",
        "X_test=X_scaled[split:]\n",
        "\n"
      ]
    },
    {
      "cell_type": "code",
      "execution_count": 15,
      "id": "2EqW3KfLg7vh",
      "metadata": {
        "id": "2EqW3KfLg7vh"
      },
      "outputs": [],
      "source": [
        "y_scaler=MinMaxScaler()\n",
        "y_scaler.fit(y)\n",
        "y_scaled=y_scaler.transform(y)\n",
        "y_train=y_scaled[:split]\n",
        "y_test=y_scaled[split:]\n"
      ]
    },
    {
      "cell_type": "code",
      "execution_count": 16,
      "id": "cojs-gZjhVB6",
      "metadata": {
        "colab": {
          "base_uri": "https://localhost:8080/",
          "height": 88
        },
        "id": "cojs-gZjhVB6",
        "outputId": "c66cc5f6-9c64-46a0-c896-e3bb7f65457a"
      },
      "outputs": [
        {
          "output_type": "display_data",
          "data": {
            "text/plain": [
              "(665, 10)"
            ]
          },
          "metadata": {}
        },
        {
          "output_type": "display_data",
          "data": {
            "text/plain": [
              "(286, 10)"
            ]
          },
          "metadata": {}
        },
        {
          "output_type": "display_data",
          "data": {
            "text/plain": [
              "(665, 1)"
            ]
          },
          "metadata": {}
        },
        {
          "output_type": "display_data",
          "data": {
            "text/plain": [
              "(286, 1)"
            ]
          },
          "metadata": {}
        }
      ],
      "source": [
        "\n",
        "display(X_train.shape)\n",
        "display(X_test.shape)\n",
        "display(y_train.shape)\n",
        "display(y_test.shape)"
      ]
    },
    {
      "cell_type": "code",
      "execution_count": 17,
      "id": "8fc3e3cc-e86e-48d5-a177-6380182a078c",
      "metadata": {
        "colab": {
          "base_uri": "https://localhost:8080/",
          "height": 53
        },
        "id": "8fc3e3cc-e86e-48d5-a177-6380182a078c",
        "outputId": "74cd9e21-d610-4f5d-ae03-61f20fab7111"
      },
      "outputs": [
        {
          "output_type": "display_data",
          "data": {
            "text/plain": [
              "(665, 10, 1)"
            ]
          },
          "metadata": {}
        },
        {
          "output_type": "display_data",
          "data": {
            "text/plain": [
              "(286, 10, 1)"
            ]
          },
          "metadata": {}
        }
      ],
      "source": [
        "X_train=X_train.reshape(X_train.shape[0], X_train.shape[1], 1)\n",
        "X_test=X_test.reshape(X_test.shape[0], X_test.shape[1], 1)\n",
        "display(X_train.shape)\n",
        "display(X_test.shape)"
      ]
    },
    {
      "cell_type": "code",
      "execution_count": 18,
      "id": "16c1c831-8d29-4e17-a6ba-1ea96a37b55f",
      "metadata": {
        "id": "16c1c831-8d29-4e17-a6ba-1ea96a37b55f"
      },
      "outputs": [],
      "source": [
        "from tensorflow.keras.models import Sequential\n",
        "from tensorflow.keras.layers import LSTM, Dense, Dropout"
      ]
    },
    {
      "cell_type": "code",
      "execution_count": 19,
      "id": "415d2b5b-0c00-4b33-9033-aed1cca4fc7e",
      "metadata": {
        "id": "415d2b5b-0c00-4b33-9033-aed1cca4fc7e"
      },
      "outputs": [],
      "source": [
        "model=Sequential()\n",
        "first_lstm_layer=LSTM(units=30, return_sequences=True, input_shape=(window_size, 1))\n",
        "model.add(first_lstm_layer)\n",
        "first_dropout_layer=Dropout(0.2)\n",
        "model.add(first_dropout_layer)\n",
        "second_lstm_layer=LSTM(units=30, return_sequences=True)\n",
        "model.add(second_lstm_layer)\n",
        "second_dropout_layer=Dropout(0.2)\n",
        "model.add(second_dropout_layer)\n",
        "third_lstm_layer=LSTM(units=30)\n",
        "model.add(third_lstm_layer)\n",
        "output_layer=Dense(units=1, activation='linear')\n",
        "model.add(output_layer)"
      ]
    },
    {
      "cell_type": "code",
      "execution_count": 20,
      "id": "09d56478-8cf5-4c62-ad91-49a73063bc39",
      "metadata": {
        "id": "09d56478-8cf5-4c62-ad91-49a73063bc39"
      },
      "outputs": [],
      "source": [
        "model.compile(loss='mean_squared_error', optimizer='adam', metrics='mean_squared_error')"
      ]
    },
    {
      "cell_type": "code",
      "execution_count": 21,
      "id": "a6b47ac1-4eb6-4696-b36e-99b42c2e9c48",
      "metadata": {
        "colab": {
          "base_uri": "https://localhost:8080/"
        },
        "id": "a6b47ac1-4eb6-4696-b36e-99b42c2e9c48",
        "outputId": "c7c7a7a2-c1fe-4dab-e2fc-47afaf548893"
      },
      "outputs": [
        {
          "output_type": "stream",
          "name": "stdout",
          "text": [
            "Model: \"sequential\"\n",
            "_________________________________________________________________\n",
            " Layer (type)                Output Shape              Param #   \n",
            "=================================================================\n",
            " lstm (LSTM)                 (None, 10, 30)            3840      \n",
            "                                                                 \n",
            " dropout (Dropout)           (None, 10, 30)            0         \n",
            "                                                                 \n",
            " lstm_1 (LSTM)               (None, 10, 30)            7320      \n",
            "                                                                 \n",
            " dropout_1 (Dropout)         (None, 10, 30)            0         \n",
            "                                                                 \n",
            " lstm_2 (LSTM)               (None, 30)                7320      \n",
            "                                                                 \n",
            " dense (Dense)               (None, 1)                 31        \n",
            "                                                                 \n",
            "=================================================================\n",
            "Total params: 18,511\n",
            "Trainable params: 18,511\n",
            "Non-trainable params: 0\n",
            "_________________________________________________________________\n"
          ]
        }
      ],
      "source": [
        "model.summary()"
      ]
    },
    {
      "cell_type": "code",
      "execution_count": 22,
      "id": "1424de1d-b9b1-459b-b1f0-783031d3b4cf",
      "metadata": {
        "colab": {
          "base_uri": "https://localhost:8080/"
        },
        "id": "1424de1d-b9b1-459b-b1f0-783031d3b4cf",
        "outputId": "024d1c9d-e372-406b-9054-df34362bc5ca"
      },
      "outputs": [
        {
          "output_type": "stream",
          "name": "stdout",
          "text": [
            "Epoch 1/10\n",
            "21/21 [==============================] - 8s 25ms/step - loss: 0.1554 - mean_squared_error: 0.1554\n",
            "Epoch 2/10\n",
            "21/21 [==============================] - 1s 27ms/step - loss: 0.0168 - mean_squared_error: 0.0168\n",
            "Epoch 3/10\n",
            "21/21 [==============================] - 1s 25ms/step - loss: 0.0125 - mean_squared_error: 0.0125\n",
            "Epoch 4/10\n",
            "21/21 [==============================] - 1s 29ms/step - loss: 0.0104 - mean_squared_error: 0.0104\n",
            "Epoch 5/10\n",
            "21/21 [==============================] - 1s 25ms/step - loss: 0.0093 - mean_squared_error: 0.0093\n",
            "Epoch 6/10\n",
            "21/21 [==============================] - 1s 25ms/step - loss: 0.0087 - mean_squared_error: 0.0087\n",
            "Epoch 7/10\n",
            "21/21 [==============================] - 1s 26ms/step - loss: 0.0079 - mean_squared_error: 0.0079\n",
            "Epoch 8/10\n",
            "21/21 [==============================] - 1s 28ms/step - loss: 0.0083 - mean_squared_error: 0.0083\n",
            "Epoch 9/10\n",
            "21/21 [==============================] - 1s 26ms/step - loss: 0.0075 - mean_squared_error: 0.0075\n",
            "Epoch 10/10\n",
            "21/21 [==============================] - 1s 29ms/step - loss: 0.0080 - mean_squared_error: 0.0080\n"
          ]
        },
        {
          "output_type": "execute_result",
          "data": {
            "text/plain": [
              "<keras.callbacks.History at 0x7f0dacc2f790>"
            ]
          },
          "metadata": {},
          "execution_count": 22
        }
      ],
      "source": [
        "model.fit(X_train, y_train, epochs=10)"
      ]
    },
    {
      "cell_type": "code",
      "execution_count": 23,
      "id": "FD64bWsgfpqQ",
      "metadata": {
        "id": "FD64bWsgfpqQ"
      },
      "outputs": [],
      "source": [
        "prediction=model.predict(X_test)"
      ]
    },
    {
      "cell_type": "code",
      "execution_count": 24,
      "id": "o9wLzWbTgOeH",
      "metadata": {
        "colab": {
          "base_uri": "https://localhost:8080/",
          "height": 1000
        },
        "id": "o9wLzWbTgOeH",
        "outputId": "32d33e52-8879-4b7f-b60a-a7cd1bb803cd"
      },
      "outputs": [
        {
          "output_type": "display_data",
          "data": {
            "text/plain": [
              "array([[0.92348945],\n",
              "       [0.93455845],\n",
              "       [0.9407072 ],\n",
              "       [0.94543934],\n",
              "       [0.94801384],\n",
              "       [0.94928414],\n",
              "       [0.94697654],\n",
              "       [0.9418393 ],\n",
              "       [0.9338433 ],\n",
              "       [0.925209  ],\n",
              "       [0.9134859 ],\n",
              "       [0.8995999 ],\n",
              "       [0.8843808 ],\n",
              "       [0.8728753 ],\n",
              "       [0.86457604],\n",
              "       [0.8619903 ],\n",
              "       [0.86646867],\n",
              "       [0.87585753],\n",
              "       [0.8871338 ],\n",
              "       [0.89555305],\n",
              "       [0.90571827],\n",
              "       [0.914742  ],\n",
              "       [0.9244831 ],\n",
              "       [0.9260043 ],\n",
              "       [0.9204381 ],\n",
              "       [0.91663885],\n",
              "       [0.91884273],\n",
              "       [0.9194838 ],\n",
              "       [0.9176266 ],\n",
              "       [0.91565114],\n",
              "       [0.91367704],\n",
              "       [0.91128725],\n",
              "       [0.9068601 ],\n",
              "       [0.90196496],\n",
              "       [0.9002538 ],\n",
              "       [0.8961957 ],\n",
              "       [0.89219517],\n",
              "       [0.89002895],\n",
              "       [0.8906983 ],\n",
              "       [0.8941763 ],\n",
              "       [0.89883983],\n",
              "       [0.9033608 ],\n",
              "       [0.9143961 ],\n",
              "       [0.9273996 ],\n",
              "       [0.9408574 ],\n",
              "       [0.95460707],\n",
              "       [0.96845806],\n",
              "       [0.9747106 ],\n",
              "       [0.98013234],\n",
              "       [0.9827821 ],\n",
              "       [0.98150337],\n",
              "       [0.9780823 ],\n",
              "       [0.963557  ],\n",
              "       [0.9376597 ],\n",
              "       [0.9044553 ],\n",
              "       [0.86708057],\n",
              "       [0.82724094],\n",
              "       [0.78631306],\n",
              "       [0.7492347 ],\n",
              "       [0.71908504],\n",
              "       [0.6954056 ],\n",
              "       [0.7077957 ],\n",
              "       [0.72170526],\n",
              "       [0.7387328 ],\n",
              "       [0.75097007],\n",
              "       [0.75975275],\n",
              "       [0.76729053],\n",
              "       [0.77563286],\n",
              "       [0.7867368 ],\n",
              "       [0.79903364],\n",
              "       [0.8124873 ],\n",
              "       [0.8251907 ],\n",
              "       [0.8352459 ],\n",
              "       [0.8431492 ],\n",
              "       [0.8496539 ],\n",
              "       [0.85213155],\n",
              "       [0.8527099 ],\n",
              "       [0.85193187],\n",
              "       [0.84844965],\n",
              "       [0.8417438 ],\n",
              "       [0.8313122 ],\n",
              "       [0.8201458 ],\n",
              "       [0.80858624],\n",
              "       [0.79884434],\n",
              "       [0.7904851 ],\n",
              "       [0.7837681 ],\n",
              "       [0.7802602 ],\n",
              "       [0.78045046],\n",
              "       [0.7802712 ],\n",
              "       [0.7803537 ],\n",
              "       [0.78341365],\n",
              "       [0.7866653 ],\n",
              "       [0.7890602 ],\n",
              "       [0.788233  ],\n",
              "       [0.78771055],\n",
              "       [0.78726465],\n",
              "       [0.78883994],\n",
              "       [0.7912699 ],\n",
              "       [0.79590017],\n",
              "       [0.7987805 ],\n",
              "       [0.8007481 ],\n",
              "       [0.8019537 ],\n",
              "       [0.8006033 ],\n",
              "       [0.79724306],\n",
              "       [0.7968985 ],\n",
              "       [0.80032665],\n",
              "       [0.8093343 ],\n",
              "       [0.8196092 ],\n",
              "       [0.8269209 ],\n",
              "       [0.83279294],\n",
              "       [0.8399395 ],\n",
              "       [0.84145105],\n",
              "       [0.83489954],\n",
              "       [0.82782197],\n",
              "       [0.8198202 ],\n",
              "       [0.8126365 ],\n",
              "       [0.80944914],\n",
              "       [0.8081342 ],\n",
              "       [0.8095298 ],\n",
              "       [0.8111806 ],\n",
              "       [0.8122397 ],\n",
              "       [0.81877226],\n",
              "       [0.8204776 ],\n",
              "       [0.81692606],\n",
              "       [0.8053803 ],\n",
              "       [0.79850644],\n",
              "       [0.7922006 ],\n",
              "       [0.78537893],\n",
              "       [0.7779042 ],\n",
              "       [0.76648057],\n",
              "       [0.7568672 ],\n",
              "       [0.74226713],\n",
              "       [0.7261483 ],\n",
              "       [0.70458364],\n",
              "       [0.6826176 ],\n",
              "       [0.660483  ],\n",
              "       [0.6392517 ],\n",
              "       [0.6263779 ],\n",
              "       [0.61684173],\n",
              "       [0.6070512 ],\n",
              "       [0.6051382 ],\n",
              "       [0.6060648 ],\n",
              "       [0.6025222 ],\n",
              "       [0.60206306],\n",
              "       [0.5976966 ],\n",
              "       [0.59283614],\n",
              "       [0.5854616 ],\n",
              "       [0.5853278 ],\n",
              "       [0.58915   ],\n",
              "       [0.5949425 ],\n",
              "       [0.5985665 ],\n",
              "       [0.6002637 ],\n",
              "       [0.6044718 ],\n",
              "       [0.6063617 ],\n",
              "       [0.6080628 ],\n",
              "       [0.6056021 ],\n",
              "       [0.6040503 ],\n",
              "       [0.5975253 ],\n",
              "       [0.5903491 ],\n",
              "       [0.5840855 ],\n",
              "       [0.5817693 ],\n",
              "       [0.57651365],\n",
              "       [0.5724487 ],\n",
              "       [0.5680269 ],\n",
              "       [0.5612424 ],\n",
              "       [0.5562386 ],\n",
              "       [0.5547468 ],\n",
              "       [0.552559  ],\n",
              "       [0.5400355 ],\n",
              "       [0.52890974],\n",
              "       [0.5180454 ],\n",
              "       [0.51159024],\n",
              "       [0.5044827 ],\n",
              "       [0.4978564 ],\n",
              "       [0.49278578],\n",
              "       [0.48405576],\n",
              "       [0.47485527],\n",
              "       [0.4634816 ],\n",
              "       [0.4563126 ],\n",
              "       [0.45250195],\n",
              "       [0.4534568 ],\n",
              "       [0.45154256],\n",
              "       [0.447062  ],\n",
              "       [0.44623208],\n",
              "       [0.4473376 ],\n",
              "       [0.45300943],\n",
              "       [0.45708558],\n",
              "       [0.46101162],\n",
              "       [0.46615466],\n",
              "       [0.46825767],\n",
              "       [0.47523814],\n",
              "       [0.48421404],\n",
              "       [0.49849424],\n",
              "       [0.5118498 ],\n",
              "       [0.5273018 ],\n",
              "       [0.5443011 ],\n",
              "       [0.560909  ],\n",
              "       [0.5711611 ],\n",
              "       [0.57920474],\n",
              "       [0.57196957],\n",
              "       [0.5629694 ],\n",
              "       [0.54871285],\n",
              "       [0.52997136],\n",
              "       [0.5110048 ],\n",
              "       [0.49673402],\n",
              "       [0.48699456],\n",
              "       [0.49103248],\n",
              "       [0.49832508],\n",
              "       [0.5007565 ],\n",
              "       [0.50595546],\n",
              "       [0.5109663 ],\n",
              "       [0.5228385 ],\n",
              "       [0.5327924 ],\n",
              "       [0.537028  ],\n",
              "       [0.5390068 ],\n",
              "       [0.5350879 ],\n",
              "       [0.5312815 ],\n",
              "       [0.52514017],\n",
              "       [0.51964885],\n",
              "       [0.51275885],\n",
              "       [0.5107998 ],\n",
              "       [0.5077171 ],\n",
              "       [0.4997596 ],\n",
              "       [0.49412805],\n",
              "       [0.49462956],\n",
              "       [0.49450478],\n",
              "       [0.49387684],\n",
              "       [0.49419335],\n",
              "       [0.4909131 ],\n",
              "       [0.48758954],\n",
              "       [0.48555446],\n",
              "       [0.48429036],\n",
              "       [0.48334157],\n",
              "       [0.47958577],\n",
              "       [0.47550997],\n",
              "       [0.4736979 ],\n",
              "       [0.4692685 ],\n",
              "       [0.4635334 ],\n",
              "       [0.45809603],\n",
              "       [0.4552456 ],\n",
              "       [0.44650328],\n",
              "       [0.43557775],\n",
              "       [0.41979343],\n",
              "       [0.40039945],\n",
              "       [0.38107875],\n",
              "       [0.36271167],\n",
              "       [0.34569013],\n",
              "       [0.33263445],\n",
              "       [0.32618684],\n",
              "       [0.32440314],\n",
              "       [0.33448878],\n",
              "       [0.3447552 ],\n",
              "       [0.36038235],\n",
              "       [0.37097257],\n",
              "       [0.37821928],\n",
              "       [0.37978658],\n",
              "       [0.3771309 ],\n",
              "       [0.38026336],\n",
              "       [0.38475353],\n",
              "       [0.38404247],\n",
              "       [0.3871407 ],\n",
              "       [0.39321935],\n",
              "       [0.39784098],\n",
              "       [0.39853743],\n",
              "       [0.39568922],\n",
              "       [0.39019796],\n",
              "       [0.37886968],\n",
              "       [0.36049697],\n",
              "       [0.3431751 ],\n",
              "       [0.32629263],\n",
              "       [0.30343893],\n",
              "       [0.28216   ],\n",
              "       [0.26442108],\n",
              "       [0.25360066],\n",
              "       [0.24622253],\n",
              "       [0.24263924],\n",
              "       [0.23864143],\n",
              "       [0.23796497],\n",
              "       [0.23638532],\n",
              "       [0.2376983 ],\n",
              "       [0.23950633],\n",
              "       [0.24189766],\n",
              "       [0.24104914],\n",
              "       [0.2407021 ],\n",
              "       [0.24145676],\n",
              "       [0.24202657]], dtype=float32)"
            ]
          },
          "metadata": {}
        }
      ],
      "source": [
        "display(prediction)"
      ]
    },
    {
      "cell_type": "code",
      "execution_count": 25,
      "id": "GJ3Gyr3Xf0l2",
      "metadata": {
        "id": "GJ3Gyr3Xf0l2"
      },
      "outputs": [],
      "source": [
        "import matplotlib.pyplot as plt"
      ]
    },
    {
      "cell_type": "code",
      "execution_count": 26,
      "id": "0W2puveYf6N4",
      "metadata": {
        "colab": {
          "base_uri": "https://localhost:8080/",
          "height": 283
        },
        "id": "0W2puveYf6N4",
        "outputId": "fef1c38f-55c0-495b-9982-22179c5c1bcc"
      },
      "outputs": [
        {
          "output_type": "execute_result",
          "data": {
            "text/plain": [
              "[<matplotlib.lines.Line2D at 0x7f0dac8a7110>]"
            ]
          },
          "metadata": {},
          "execution_count": 26
        },
        {
          "output_type": "display_data",
          "data": {
            "text/plain": [
              "<Figure size 432x288 with 1 Axes>"
            ],
            "image/png": "[encoded data removed]"
          },
          "metadata": {
            "needs_background": "light"
          }
        }
      ],
      "source": [
        "plt.plot(prediction)\n",
        "plt.plot(y_test.ravel())"
      ]
    },
    {
      "cell_type": "code",
      "execution_count": 27,
      "id": "fs0LOuHGf7ed",
      "metadata": {
        "id": "fs0LOuHGf7ed"
      },
      "outputs": [],
      "source": [
        "y_predicted=y_scaler.inverse_transform(prediction)"
      ]
    },
    {
      "cell_type": "code",
      "execution_count": 28,
      "id": "PQIpvgdGhkE7",
      "metadata": {
        "colab": {
          "base_uri": "https://localhost:8080/",
          "height": 283
        },
        "id": "PQIpvgdGhkE7",
        "outputId": "b5db9e5f-9fd1-4e13-8655-2e427223e221"
      },
      "outputs": [
        {
          "output_type": "execute_result",
          "data": {
            "text/plain": [
              "[<matplotlib.lines.Line2D at 0x7f0dac896490>]"
            ]
          },
          "metadata": {},
          "execution_count": 28
        },
        {
          "output_type": "display_data",
          "data": {
            "text/plain": [
              "<Figure size 432x288 with 1 Axes>"
            ],
            "image/png": "[encoded data removed]"
          },
          "metadata": {
            "needs_background": "light"
          }
        }
      ],
      "source": [
        "plt.plot(y_predicted)"
      ]
    },
    {
      "cell_type": "code",
      "execution_count": 29,
      "id": "YKZw62oXhoS0",
      "metadata": {
        "colab": {
          "base_uri": "https://localhost:8080/"
        },
        "id": "YKZw62oXhoS0",
        "outputId": "5d110abf-2dd2-4ea2-ca2a-5962a3426f69"
      },
      "outputs": [
        {
          "output_type": "execute_result",
          "data": {
            "text/plain": [
              "array([[21.491463]], dtype=float32)"
            ]
          },
          "metadata": {},
          "execution_count": 29
        }
      ],
      "source": [
        "# one prediction\n",
        "\n",
        "last_input=df.iloc[-window_size:, :]['close'].values\n",
        "input_scaled=X_scaler.transform([last_input])\n",
        "input_reshaped=input_scaled.reshape(1, window_size, 1)\n",
        "next_prediction=model.predict(input_reshaped)\n",
        "y_scaler.inverse_transform(next_prediction)"
      ]
    },
    {
      "cell_type": "code",
      "execution_count": 30,
      "id": "u69Lhd5piLjU",
      "metadata": {
        "colab": {
          "base_uri": "https://localhost:8080/",
          "height": 1000
        },
        "id": "u69Lhd5piLjU",
        "outputId": "329ba2db-683f-4a22-c21e-078486649b52"
      },
      "outputs": [
        {
          "output_type": "display_data",
          "data": {
            "text/plain": [
              "array([[21.491463]], dtype=float32)"
            ]
          },
          "metadata": {}
        },
        {
          "output_type": "display_data",
          "data": {
            "text/plain": [
              "array([[21.434572]], dtype=float32)"
            ]
          },
          "metadata": {}
        },
        {
          "output_type": "display_data",
          "data": {
            "text/plain": [
              "array([[21.436792]], dtype=float32)"
            ]
          },
          "metadata": {}
        },
        {
          "output_type": "display_data",
          "data": {
            "text/plain": [
              "array([[21.438831]], dtype=float32)"
            ]
          },
          "metadata": {}
        },
        {
          "output_type": "display_data",
          "data": {
            "text/plain": [
              "array([[21.497282]], dtype=float32)"
            ]
          },
          "metadata": {}
        },
        {
          "output_type": "display_data",
          "data": {
            "text/plain": [
              "array([[21.605846]], dtype=float32)"
            ]
          },
          "metadata": {}
        },
        {
          "output_type": "display_data",
          "data": {
            "text/plain": [
              "array([[21.758509]], dtype=float32)"
            ]
          },
          "metadata": {}
        },
        {
          "output_type": "display_data",
          "data": {
            "text/plain": [
              "array([[21.95548]], dtype=float32)"
            ]
          },
          "metadata": {}
        },
        {
          "output_type": "display_data",
          "data": {
            "text/plain": [
              "array([[22.172756]], dtype=float32)"
            ]
          },
          "metadata": {}
        },
        {
          "output_type": "display_data",
          "data": {
            "text/plain": [
              "array([[22.353643]], dtype=float32)"
            ]
          },
          "metadata": {}
        },
        {
          "output_type": "display_data",
          "data": {
            "text/plain": [
              "array([[22.55349]], dtype=float32)"
            ]
          },
          "metadata": {}
        },
        {
          "output_type": "display_data",
          "data": {
            "text/plain": [
              "array([[22.616829]], dtype=float32)"
            ]
          },
          "metadata": {}
        },
        {
          "output_type": "display_data",
          "data": {
            "text/plain": [
              "array([[22.705507]], dtype=float32)"
            ]
          },
          "metadata": {}
        },
        {
          "output_type": "display_data",
          "data": {
            "text/plain": [
              "array([[22.811737]], dtype=float32)"
            ]
          },
          "metadata": {}
        },
        {
          "output_type": "display_data",
          "data": {
            "text/plain": [
              "array([[22.93342]], dtype=float32)"
            ]
          },
          "metadata": {}
        },
        {
          "output_type": "display_data",
          "data": {
            "text/plain": [
              "array([[23.062819]], dtype=float32)"
            ]
          },
          "metadata": {}
        },
        {
          "output_type": "display_data",
          "data": {
            "text/plain": [
              "array([[23.193438]], dtype=float32)"
            ]
          },
          "metadata": {}
        },
        {
          "output_type": "display_data",
          "data": {
            "text/plain": [
              "array([[23.32003]], dtype=float32)"
            ]
          },
          "metadata": {}
        },
        {
          "output_type": "display_data",
          "data": {
            "text/plain": [
              "array([[23.437908]], dtype=float32)"
            ]
          },
          "metadata": {}
        },
        {
          "output_type": "display_data",
          "data": {
            "text/plain": [
              "array([[23.545261]], dtype=float32)"
            ]
          },
          "metadata": {}
        },
        {
          "output_type": "display_data",
          "data": {
            "text/plain": [
              "array([[23.646198]], dtype=float32)"
            ]
          },
          "metadata": {}
        },
        {
          "output_type": "display_data",
          "data": {
            "text/plain": [
              "array([[23.738935]], dtype=float32)"
            ]
          },
          "metadata": {}
        },
        {
          "output_type": "display_data",
          "data": {
            "text/plain": [
              "array([[23.837492]], dtype=float32)"
            ]
          },
          "metadata": {}
        },
        {
          "output_type": "display_data",
          "data": {
            "text/plain": [
              "array([[23.93837]], dtype=float32)"
            ]
          },
          "metadata": {}
        },
        {
          "output_type": "display_data",
          "data": {
            "text/plain": [
              "array([[24.039072]], dtype=float32)"
            ]
          },
          "metadata": {}
        },
        {
          "output_type": "display_data",
          "data": {
            "text/plain": [
              "array([[24.13756]], dtype=float32)"
            ]
          },
          "metadata": {}
        },
        {
          "output_type": "display_data",
          "data": {
            "text/plain": [
              "array([[24.232786]], dtype=float32)"
            ]
          },
          "metadata": {}
        },
        {
          "output_type": "display_data",
          "data": {
            "text/plain": [
              "array([[24.324518]], dtype=float32)"
            ]
          },
          "metadata": {}
        },
        {
          "output_type": "display_data",
          "data": {
            "text/plain": [
              "array([[24.413113]], dtype=float32)"
            ]
          },
          "metadata": {}
        },
        {
          "output_type": "display_data",
          "data": {
            "text/plain": [
              "array([[24.499395]], dtype=float32)"
            ]
          },
          "metadata": {}
        },
        {
          "output_type": "display_data",
          "data": {
            "text/plain": [
              "array([[24.5843]], dtype=float32)"
            ]
          },
          "metadata": {}
        },
        {
          "output_type": "display_data",
          "data": {
            "text/plain": [
              "array([[24.66827]], dtype=float32)"
            ]
          },
          "metadata": {}
        },
        {
          "output_type": "display_data",
          "data": {
            "text/plain": [
              "array([[24.751896]], dtype=float32)"
            ]
          },
          "metadata": {}
        },
        {
          "output_type": "display_data",
          "data": {
            "text/plain": [
              "array([[24.834269]], dtype=float32)"
            ]
          },
          "metadata": {}
        },
        {
          "output_type": "display_data",
          "data": {
            "text/plain": [
              "array([[24.914946]], dtype=float32)"
            ]
          },
          "metadata": {}
        },
        {
          "output_type": "display_data",
          "data": {
            "text/plain": [
              "array([[24.993782]], dtype=float32)"
            ]
          },
          "metadata": {}
        },
        {
          "output_type": "display_data",
          "data": {
            "text/plain": [
              "array([[25.07089]], dtype=float32)"
            ]
          },
          "metadata": {}
        },
        {
          "output_type": "display_data",
          "data": {
            "text/plain": [
              "array([[25.146486]], dtype=float32)"
            ]
          },
          "metadata": {}
        },
        {
          "output_type": "display_data",
          "data": {
            "text/plain": [
              "array([[25.220802]], dtype=float32)"
            ]
          },
          "metadata": {}
        },
        {
          "output_type": "display_data",
          "data": {
            "text/plain": [
              "array([[25.294027]], dtype=float32)"
            ]
          },
          "metadata": {}
        },
        {
          "output_type": "display_data",
          "data": {
            "text/plain": [
              "array([[25.366236]], dtype=float32)"
            ]
          },
          "metadata": {}
        },
        {
          "output_type": "display_data",
          "data": {
            "text/plain": [
              "array([[25.437416]], dtype=float32)"
            ]
          },
          "metadata": {}
        },
        {
          "output_type": "display_data",
          "data": {
            "text/plain": [
              "array([[25.507517]], dtype=float32)"
            ]
          },
          "metadata": {}
        },
        {
          "output_type": "display_data",
          "data": {
            "text/plain": [
              "array([[25.576439]], dtype=float32)"
            ]
          },
          "metadata": {}
        },
        {
          "output_type": "display_data",
          "data": {
            "text/plain": [
              "array([[25.64419]], dtype=float32)"
            ]
          },
          "metadata": {}
        },
        {
          "output_type": "display_data",
          "data": {
            "text/plain": [
              "array([[25.710838]], dtype=float32)"
            ]
          },
          "metadata": {}
        },
        {
          "output_type": "display_data",
          "data": {
            "text/plain": [
              "array([[25.77647]], dtype=float32)"
            ]
          },
          "metadata": {}
        },
        {
          "output_type": "display_data",
          "data": {
            "text/plain": [
              "array([[25.841154]], dtype=float32)"
            ]
          },
          "metadata": {}
        },
        {
          "output_type": "display_data",
          "data": {
            "text/plain": [
              "array([[25.904928]], dtype=float32)"
            ]
          },
          "metadata": {}
        },
        {
          "output_type": "display_data",
          "data": {
            "text/plain": [
              "array([[25.967821]], dtype=float32)"
            ]
          },
          "metadata": {}
        },
        {
          "output_type": "display_data",
          "data": {
            "text/plain": [
              "array([[26.029839]], dtype=float32)"
            ]
          },
          "metadata": {}
        },
        {
          "output_type": "display_data",
          "data": {
            "text/plain": [
              "array([[26.090979]], dtype=float32)"
            ]
          },
          "metadata": {}
        },
        {
          "output_type": "display_data",
          "data": {
            "text/plain": [
              "array([[26.151255]], dtype=float32)"
            ]
          },
          "metadata": {}
        },
        {
          "output_type": "display_data",
          "data": {
            "text/plain": [
              "array([[26.210686]], dtype=float32)"
            ]
          },
          "metadata": {}
        },
        {
          "output_type": "display_data",
          "data": {
            "text/plain": [
              "array([[26.2693]], dtype=float32)"
            ]
          },
          "metadata": {}
        },
        {
          "output_type": "display_data",
          "data": {
            "text/plain": [
              "array([[26.327137]], dtype=float32)"
            ]
          },
          "metadata": {}
        },
        {
          "output_type": "display_data",
          "data": {
            "text/plain": [
              "array([[26.38422]], dtype=float32)"
            ]
          },
          "metadata": {}
        },
        {
          "output_type": "display_data",
          "data": {
            "text/plain": [
              "array([[26.440573]], dtype=float32)"
            ]
          },
          "metadata": {}
        },
        {
          "output_type": "display_data",
          "data": {
            "text/plain": [
              "array([[26.496204]], dtype=float32)"
            ]
          },
          "metadata": {}
        },
        {
          "output_type": "display_data",
          "data": {
            "text/plain": [
              "array([[26.551138]], dtype=float32)"
            ]
          },
          "metadata": {}
        },
        {
          "output_type": "display_data",
          "data": {
            "text/plain": [
              "array([[26.605377]], dtype=float32)"
            ]
          },
          "metadata": {}
        },
        {
          "output_type": "display_data",
          "data": {
            "text/plain": [
              "array([[26.658943]], dtype=float32)"
            ]
          },
          "metadata": {}
        },
        {
          "output_type": "display_data",
          "data": {
            "text/plain": [
              "array([[26.711851]], dtype=float32)"
            ]
          },
          "metadata": {}
        },
        {
          "output_type": "display_data",
          "data": {
            "text/plain": [
              "array([[26.764116]], dtype=float32)"
            ]
          },
          "metadata": {}
        },
        {
          "output_type": "display_data",
          "data": {
            "text/plain": [
              "array([[26.815763]], dtype=float32)"
            ]
          },
          "metadata": {}
        },
        {
          "output_type": "display_data",
          "data": {
            "text/plain": [
              "array([[26.8668]], dtype=float32)"
            ]
          },
          "metadata": {}
        },
        {
          "output_type": "display_data",
          "data": {
            "text/plain": [
              "array([[26.917246]], dtype=float32)"
            ]
          },
          "metadata": {}
        },
        {
          "output_type": "display_data",
          "data": {
            "text/plain": [
              "array([[26.967113]], dtype=float32)"
            ]
          },
          "metadata": {}
        },
        {
          "output_type": "display_data",
          "data": {
            "text/plain": [
              "array([[27.016409]], dtype=float32)"
            ]
          },
          "metadata": {}
        },
        {
          "output_type": "display_data",
          "data": {
            "text/plain": [
              "array([[27.065151]], dtype=float32)"
            ]
          },
          "metadata": {}
        },
        {
          "output_type": "display_data",
          "data": {
            "text/plain": [
              "array([[27.113354]], dtype=float32)"
            ]
          },
          "metadata": {}
        },
        {
          "output_type": "display_data",
          "data": {
            "text/plain": [
              "array([[27.161016]], dtype=float32)"
            ]
          },
          "metadata": {}
        },
        {
          "output_type": "display_data",
          "data": {
            "text/plain": [
              "array([[27.208168]], dtype=float32)"
            ]
          },
          "metadata": {}
        },
        {
          "output_type": "display_data",
          "data": {
            "text/plain": [
              "array([[27.254808]], dtype=float32)"
            ]
          },
          "metadata": {}
        },
        {
          "output_type": "display_data",
          "data": {
            "text/plain": [
              "array([[27.300953]], dtype=float32)"
            ]
          },
          "metadata": {}
        },
        {
          "output_type": "display_data",
          "data": {
            "text/plain": [
              "array([[27.346613]], dtype=float32)"
            ]
          },
          "metadata": {}
        },
        {
          "output_type": "display_data",
          "data": {
            "text/plain": [
              "array([[27.3918]], dtype=float32)"
            ]
          },
          "metadata": {}
        },
        {
          "output_type": "display_data",
          "data": {
            "text/plain": [
              "array([[27.43652]], dtype=float32)"
            ]
          },
          "metadata": {}
        },
        {
          "output_type": "display_data",
          "data": {
            "text/plain": [
              "array([[27.480782]], dtype=float32)"
            ]
          },
          "metadata": {}
        },
        {
          "output_type": "display_data",
          "data": {
            "text/plain": [
              "array([[27.524597]], dtype=float32)"
            ]
          },
          "metadata": {}
        },
        {
          "output_type": "display_data",
          "data": {
            "text/plain": [
              "array([[27.567976]], dtype=float32)"
            ]
          },
          "metadata": {}
        },
        {
          "output_type": "display_data",
          "data": {
            "text/plain": [
              "array([[27.610928]], dtype=float32)"
            ]
          },
          "metadata": {}
        },
        {
          "output_type": "display_data",
          "data": {
            "text/plain": [
              "array([[27.653458]], dtype=float32)"
            ]
          },
          "metadata": {}
        },
        {
          "output_type": "display_data",
          "data": {
            "text/plain": [
              "array([[27.695574]], dtype=float32)"
            ]
          },
          "metadata": {}
        },
        {
          "output_type": "display_data",
          "data": {
            "text/plain": [
              "array([[27.737291]], dtype=float32)"
            ]
          },
          "metadata": {}
        },
        {
          "output_type": "display_data",
          "data": {
            "text/plain": [
              "array([[27.77861]], dtype=float32)"
            ]
          },
          "metadata": {}
        },
        {
          "output_type": "display_data",
          "data": {
            "text/plain": [
              "array([[27.81954]], dtype=float32)"
            ]
          },
          "metadata": {}
        },
        {
          "output_type": "display_data",
          "data": {
            "text/plain": [
              "array([[27.860092]], dtype=float32)"
            ]
          },
          "metadata": {}
        },
        {
          "output_type": "display_data",
          "data": {
            "text/plain": [
              "array([[27.90027]], dtype=float32)"
            ]
          },
          "metadata": {}
        },
        {
          "output_type": "display_data",
          "data": {
            "text/plain": [
              "array([[27.940079]], dtype=float32)"
            ]
          },
          "metadata": {}
        },
        {
          "output_type": "display_data",
          "data": {
            "text/plain": [
              "array([[27.979532]], dtype=float32)"
            ]
          },
          "metadata": {}
        },
        {
          "output_type": "display_data",
          "data": {
            "text/plain": [
              "array([[28.018631]], dtype=float32)"
            ]
          },
          "metadata": {}
        },
        {
          "output_type": "display_data",
          "data": {
            "text/plain": [
              "array([[28.05738]], dtype=float32)"
            ]
          },
          "metadata": {}
        },
        {
          "output_type": "display_data",
          "data": {
            "text/plain": [
              "array([[28.095797]], dtype=float32)"
            ]
          },
          "metadata": {}
        },
        {
          "output_type": "display_data",
          "data": {
            "text/plain": [
              "array([[28.133877]], dtype=float32)"
            ]
          },
          "metadata": {}
        },
        {
          "output_type": "display_data",
          "data": {
            "text/plain": [
              "array([[28.171627]], dtype=float32)"
            ]
          },
          "metadata": {}
        },
        {
          "output_type": "display_data",
          "data": {
            "text/plain": [
              "array([[28.209057]], dtype=float32)"
            ]
          },
          "metadata": {}
        },
        {
          "output_type": "display_data",
          "data": {
            "text/plain": [
              "array([[28.246168]], dtype=float32)"
            ]
          },
          "metadata": {}
        },
        {
          "output_type": "display_data",
          "data": {
            "text/plain": [
              "array([[28.28297]], dtype=float32)"
            ]
          },
          "metadata": {}
        },
        {
          "output_type": "display_data",
          "data": {
            "text/plain": [
              "array([[28.31947]], dtype=float32)"
            ]
          },
          "metadata": {}
        },
        {
          "output_type": "display_data",
          "data": {
            "text/plain": [
              "array([[28.355661]], dtype=float32)"
            ]
          },
          "metadata": {}
        },
        {
          "output_type": "display_data",
          "data": {
            "text/plain": [
              "array([[28.391565]], dtype=float32)"
            ]
          },
          "metadata": {}
        },
        {
          "output_type": "display_data",
          "data": {
            "text/plain": [
              "array([[28.42718]], dtype=float32)"
            ]
          },
          "metadata": {}
        },
        {
          "output_type": "display_data",
          "data": {
            "text/plain": [
              "array([[28.462505]], dtype=float32)"
            ]
          },
          "metadata": {}
        },
        {
          "output_type": "display_data",
          "data": {
            "text/plain": [
              "array([[28.497551]], dtype=float32)"
            ]
          },
          "metadata": {}
        },
        {
          "output_type": "display_data",
          "data": {
            "text/plain": [
              "array([[28.532322]], dtype=float32)"
            ]
          },
          "metadata": {}
        },
        {
          "output_type": "display_data",
          "data": {
            "text/plain": [
              "array([[28.566822]], dtype=float32)"
            ]
          },
          "metadata": {}
        },
        {
          "output_type": "display_data",
          "data": {
            "text/plain": [
              "array([[28.601055]], dtype=float32)"
            ]
          },
          "metadata": {}
        },
        {
          "output_type": "display_data",
          "data": {
            "text/plain": [
              "array([[28.635027]], dtype=float32)"
            ]
          },
          "metadata": {}
        },
        {
          "output_type": "display_data",
          "data": {
            "text/plain": [
              "array([[28.668737]], dtype=float32)"
            ]
          },
          "metadata": {}
        },
        {
          "output_type": "display_data",
          "data": {
            "text/plain": [
              "array([[28.702196]], dtype=float32)"
            ]
          },
          "metadata": {}
        },
        {
          "output_type": "display_data",
          "data": {
            "text/plain": [
              "array([[28.735403]], dtype=float32)"
            ]
          },
          "metadata": {}
        },
        {
          "output_type": "display_data",
          "data": {
            "text/plain": [
              "array([[28.768366]], dtype=float32)"
            ]
          },
          "metadata": {}
        },
        {
          "output_type": "display_data",
          "data": {
            "text/plain": [
              "array([[28.801086]], dtype=float32)"
            ]
          },
          "metadata": {}
        },
        {
          "output_type": "display_data",
          "data": {
            "text/plain": [
              "array([[28.833565]], dtype=float32)"
            ]
          },
          "metadata": {}
        },
        {
          "output_type": "display_data",
          "data": {
            "text/plain": [
              "array([[28.865814]], dtype=float32)"
            ]
          },
          "metadata": {}
        },
        {
          "output_type": "display_data",
          "data": {
            "text/plain": [
              "array([[28.897827]], dtype=float32)"
            ]
          },
          "metadata": {}
        },
        {
          "output_type": "display_data",
          "data": {
            "text/plain": [
              "array([[28.929613]], dtype=float32)"
            ]
          },
          "metadata": {}
        },
        {
          "output_type": "display_data",
          "data": {
            "text/plain": [
              "array([[28.961176]], dtype=float32)"
            ]
          },
          "metadata": {}
        },
        {
          "output_type": "display_data",
          "data": {
            "text/plain": [
              "array([[28.992516]], dtype=float32)"
            ]
          },
          "metadata": {}
        },
        {
          "output_type": "display_data",
          "data": {
            "text/plain": [
              "array([[29.02364]], dtype=float32)"
            ]
          },
          "metadata": {}
        },
        {
          "output_type": "display_data",
          "data": {
            "text/plain": [
              "array([[29.05455]], dtype=float32)"
            ]
          },
          "metadata": {}
        },
        {
          "output_type": "display_data",
          "data": {
            "text/plain": [
              "array([[29.085245]], dtype=float32)"
            ]
          },
          "metadata": {}
        },
        {
          "output_type": "display_data",
          "data": {
            "text/plain": [
              "array([[29.115734]], dtype=float32)"
            ]
          },
          "metadata": {}
        },
        {
          "output_type": "display_data",
          "data": {
            "text/plain": [
              "array([[29.146019]], dtype=float32)"
            ]
          },
          "metadata": {}
        },
        {
          "output_type": "display_data",
          "data": {
            "text/plain": [
              "array([[29.1761]], dtype=float32)"
            ]
          },
          "metadata": {}
        },
        {
          "output_type": "display_data",
          "data": {
            "text/plain": [
              "array([[29.205978]], dtype=float32)"
            ]
          },
          "metadata": {}
        },
        {
          "output_type": "display_data",
          "data": {
            "text/plain": [
              "array([[29.235659]], dtype=float32)"
            ]
          },
          "metadata": {}
        },
        {
          "output_type": "display_data",
          "data": {
            "text/plain": [
              "array([[29.26515]], dtype=float32)"
            ]
          },
          "metadata": {}
        },
        {
          "output_type": "display_data",
          "data": {
            "text/plain": [
              "array([[29.29445]], dtype=float32)"
            ]
          },
          "metadata": {}
        },
        {
          "output_type": "display_data",
          "data": {
            "text/plain": [
              "array([[29.323559]], dtype=float32)"
            ]
          },
          "metadata": {}
        },
        {
          "output_type": "display_data",
          "data": {
            "text/plain": [
              "array([[29.35248]], dtype=float32)"
            ]
          },
          "metadata": {}
        },
        {
          "output_type": "display_data",
          "data": {
            "text/plain": [
              "array([[29.38122]], dtype=float32)"
            ]
          },
          "metadata": {}
        },
        {
          "output_type": "display_data",
          "data": {
            "text/plain": [
              "array([[29.409779]], dtype=float32)"
            ]
          },
          "metadata": {}
        },
        {
          "output_type": "display_data",
          "data": {
            "text/plain": [
              "array([[29.438156]], dtype=float32)"
            ]
          },
          "metadata": {}
        },
        {
          "output_type": "display_data",
          "data": {
            "text/plain": [
              "array([[29.466356]], dtype=float32)"
            ]
          },
          "metadata": {}
        },
        {
          "output_type": "display_data",
          "data": {
            "text/plain": [
              "array([[29.494385]], dtype=float32)"
            ]
          },
          "metadata": {}
        },
        {
          "output_type": "display_data",
          "data": {
            "text/plain": [
              "array([[29.52224]], dtype=float32)"
            ]
          },
          "metadata": {}
        },
        {
          "output_type": "display_data",
          "data": {
            "text/plain": [
              "array([[29.549927]], dtype=float32)"
            ]
          },
          "metadata": {}
        },
        {
          "output_type": "display_data",
          "data": {
            "text/plain": [
              "array([[29.577442]], dtype=float32)"
            ]
          },
          "metadata": {}
        },
        {
          "output_type": "display_data",
          "data": {
            "text/plain": [
              "array([[29.604797]], dtype=float32)"
            ]
          },
          "metadata": {}
        },
        {
          "output_type": "display_data",
          "data": {
            "text/plain": [
              "array([[29.631985]], dtype=float32)"
            ]
          },
          "metadata": {}
        },
        {
          "output_type": "display_data",
          "data": {
            "text/plain": [
              "array([[29.659016]], dtype=float32)"
            ]
          },
          "metadata": {}
        },
        {
          "output_type": "display_data",
          "data": {
            "text/plain": [
              "array([[29.68588]], dtype=float32)"
            ]
          },
          "metadata": {}
        },
        {
          "output_type": "display_data",
          "data": {
            "text/plain": [
              "array([[29.712593]], dtype=float32)"
            ]
          },
          "metadata": {}
        },
        {
          "output_type": "display_data",
          "data": {
            "text/plain": [
              "array([[29.739151]], dtype=float32)"
            ]
          },
          "metadata": {}
        },
        {
          "output_type": "display_data",
          "data": {
            "text/plain": [
              "array([[29.76555]], dtype=float32)"
            ]
          },
          "metadata": {}
        },
        {
          "output_type": "display_data",
          "data": {
            "text/plain": [
              "array([[29.791801]], dtype=float32)"
            ]
          },
          "metadata": {}
        },
        {
          "output_type": "display_data",
          "data": {
            "text/plain": [
              "array([[29.817905]], dtype=float32)"
            ]
          },
          "metadata": {}
        },
        {
          "output_type": "display_data",
          "data": {
            "text/plain": [
              "array([[29.843857]], dtype=float32)"
            ]
          },
          "metadata": {}
        },
        {
          "output_type": "display_data",
          "data": {
            "text/plain": [
              "array([[29.869661]], dtype=float32)"
            ]
          },
          "metadata": {}
        },
        {
          "output_type": "display_data",
          "data": {
            "text/plain": [
              "array([[29.895323]], dtype=float32)"
            ]
          },
          "metadata": {}
        },
        {
          "output_type": "display_data",
          "data": {
            "text/plain": [
              "array([[29.920843]], dtype=float32)"
            ]
          },
          "metadata": {}
        },
        {
          "output_type": "display_data",
          "data": {
            "text/plain": [
              "array([[29.946218]], dtype=float32)"
            ]
          },
          "metadata": {}
        },
        {
          "output_type": "display_data",
          "data": {
            "text/plain": [
              "array([[29.971457]], dtype=float32)"
            ]
          },
          "metadata": {}
        },
        {
          "output_type": "display_data",
          "data": {
            "text/plain": [
              "array([[29.996555]], dtype=float32)"
            ]
          },
          "metadata": {}
        },
        {
          "output_type": "display_data",
          "data": {
            "text/plain": [
              "array([[30.021517]], dtype=float32)"
            ]
          },
          "metadata": {}
        },
        {
          "output_type": "display_data",
          "data": {
            "text/plain": [
              "array([[30.046349]], dtype=float32)"
            ]
          },
          "metadata": {}
        },
        {
          "output_type": "display_data",
          "data": {
            "text/plain": [
              "array([[30.071043]], dtype=float32)"
            ]
          },
          "metadata": {}
        },
        {
          "output_type": "display_data",
          "data": {
            "text/plain": [
              "array([[30.095606]], dtype=float32)"
            ]
          },
          "metadata": {}
        },
        {
          "output_type": "display_data",
          "data": {
            "text/plain": [
              "array([[30.120035]], dtype=float32)"
            ]
          },
          "metadata": {}
        },
        {
          "output_type": "display_data",
          "data": {
            "text/plain": [
              "array([[30.14434]], dtype=float32)"
            ]
          },
          "metadata": {}
        },
        {
          "output_type": "display_data",
          "data": {
            "text/plain": [
              "array([[30.168518]], dtype=float32)"
            ]
          },
          "metadata": {}
        },
        {
          "output_type": "display_data",
          "data": {
            "text/plain": [
              "array([[30.192564]], dtype=float32)"
            ]
          },
          "metadata": {}
        },
        {
          "output_type": "display_data",
          "data": {
            "text/plain": [
              "array([[30.216492]], dtype=float32)"
            ]
          },
          "metadata": {}
        },
        {
          "output_type": "display_data",
          "data": {
            "text/plain": [
              "array([[30.240288]], dtype=float32)"
            ]
          },
          "metadata": {}
        },
        {
          "output_type": "display_data",
          "data": {
            "text/plain": [
              "array([[30.263968]], dtype=float32)"
            ]
          },
          "metadata": {}
        },
        {
          "output_type": "display_data",
          "data": {
            "text/plain": [
              "array([[30.287525]], dtype=float32)"
            ]
          },
          "metadata": {}
        },
        {
          "output_type": "display_data",
          "data": {
            "text/plain": [
              "array([[30.310963]], dtype=float32)"
            ]
          },
          "metadata": {}
        },
        {
          "output_type": "display_data",
          "data": {
            "text/plain": [
              "array([[30.334282]], dtype=float32)"
            ]
          },
          "metadata": {}
        },
        {
          "output_type": "display_data",
          "data": {
            "text/plain": [
              "array([[30.357481]], dtype=float32)"
            ]
          },
          "metadata": {}
        },
        {
          "output_type": "display_data",
          "data": {
            "text/plain": [
              "array([[30.380566]], dtype=float32)"
            ]
          },
          "metadata": {}
        },
        {
          "output_type": "display_data",
          "data": {
            "text/plain": [
              "array([[30.403538]], dtype=float32)"
            ]
          },
          "metadata": {}
        },
        {
          "output_type": "display_data",
          "data": {
            "text/plain": [
              "array([[30.426394]], dtype=float32)"
            ]
          },
          "metadata": {}
        },
        {
          "output_type": "display_data",
          "data": {
            "text/plain": [
              "array([[30.449139]], dtype=float32)"
            ]
          },
          "metadata": {}
        },
        {
          "output_type": "display_data",
          "data": {
            "text/plain": [
              "array([[30.47177]], dtype=float32)"
            ]
          },
          "metadata": {}
        },
        {
          "output_type": "display_data",
          "data": {
            "text/plain": [
              "array([[30.494293]], dtype=float32)"
            ]
          },
          "metadata": {}
        },
        {
          "output_type": "display_data",
          "data": {
            "text/plain": [
              "array([[30.516705]], dtype=float32)"
            ]
          },
          "metadata": {}
        },
        {
          "output_type": "display_data",
          "data": {
            "text/plain": [
              "array([[30.539011]], dtype=float32)"
            ]
          },
          "metadata": {}
        },
        {
          "output_type": "display_data",
          "data": {
            "text/plain": [
              "array([[30.561205]], dtype=float32)"
            ]
          },
          "metadata": {}
        },
        {
          "output_type": "display_data",
          "data": {
            "text/plain": [
              "array([[30.583292]], dtype=float32)"
            ]
          },
          "metadata": {}
        },
        {
          "output_type": "display_data",
          "data": {
            "text/plain": [
              "array([[30.605282]], dtype=float32)"
            ]
          },
          "metadata": {}
        },
        {
          "output_type": "display_data",
          "data": {
            "text/plain": [
              "array([[30.62716]], dtype=float32)"
            ]
          },
          "metadata": {}
        },
        {
          "output_type": "display_data",
          "data": {
            "text/plain": [
              "array([[30.64894]], dtype=float32)"
            ]
          },
          "metadata": {}
        },
        {
          "output_type": "display_data",
          "data": {
            "text/plain": [
              "array([[30.670614]], dtype=float32)"
            ]
          },
          "metadata": {}
        },
        {
          "output_type": "display_data",
          "data": {
            "text/plain": [
              "array([[30.692188]], dtype=float32)"
            ]
          },
          "metadata": {}
        },
        {
          "output_type": "display_data",
          "data": {
            "text/plain": [
              "array([[30.71366]], dtype=float32)"
            ]
          },
          "metadata": {}
        },
        {
          "output_type": "display_data",
          "data": {
            "text/plain": [
              "array([[30.735031]], dtype=float32)"
            ]
          },
          "metadata": {}
        },
        {
          "output_type": "display_data",
          "data": {
            "text/plain": [
              "array([[30.756306]], dtype=float32)"
            ]
          },
          "metadata": {}
        },
        {
          "output_type": "display_data",
          "data": {
            "text/plain": [
              "array([[30.777483]], dtype=float32)"
            ]
          },
          "metadata": {}
        },
        {
          "output_type": "display_data",
          "data": {
            "text/plain": [
              "array([[30.798563]], dtype=float32)"
            ]
          },
          "metadata": {}
        },
        {
          "output_type": "display_data",
          "data": {
            "text/plain": [
              "array([[30.819544]], dtype=float32)"
            ]
          },
          "metadata": {}
        },
        {
          "output_type": "display_data",
          "data": {
            "text/plain": [
              "array([[30.840435]], dtype=float32)"
            ]
          },
          "metadata": {}
        },
        {
          "output_type": "display_data",
          "data": {
            "text/plain": [
              "array([[30.861227]], dtype=float32)"
            ]
          },
          "metadata": {}
        },
        {
          "output_type": "display_data",
          "data": {
            "text/plain": [
              "array([[30.881926]], dtype=float32)"
            ]
          },
          "metadata": {}
        },
        {
          "output_type": "display_data",
          "data": {
            "text/plain": [
              "array([[30.902533]], dtype=float32)"
            ]
          },
          "metadata": {}
        },
        {
          "output_type": "display_data",
          "data": {
            "text/plain": [
              "array([[30.92305]], dtype=float32)"
            ]
          },
          "metadata": {}
        },
        {
          "output_type": "display_data",
          "data": {
            "text/plain": [
              "array([[30.94347]], dtype=float32)"
            ]
          },
          "metadata": {}
        },
        {
          "output_type": "display_data",
          "data": {
            "text/plain": [
              "array([[30.963808]], dtype=float32)"
            ]
          },
          "metadata": {}
        },
        {
          "output_type": "display_data",
          "data": {
            "text/plain": [
              "array([[30.984049]], dtype=float32)"
            ]
          },
          "metadata": {}
        }
      ],
      "source": [
        "last_input=df.iloc[-window_size:, :]['close'].values\n",
        "for i in range(200): \n",
        "  input_array=last_input[-window_size:]\n",
        "  # display(input_array)\n",
        "  input_scaled=X_scaler.transform([input_array])\n",
        "  input_reshaped=input_scaled.reshape(1, window_size, 1)\n",
        "  prediction_scaled=model.predict(input_reshaped)\n",
        "  \n",
        "  next_prediction=y_scaler.inverse_transform(prediction_scaled)\n",
        "  display(next_prediction)\n",
        "  last_input=np.append(last_input, next_prediction)"
      ]
    },
    {
      "cell_type": "code",
      "execution_count": 31,
      "id": "lu0vF71vkTrE",
      "metadata": {
        "colab": {
          "base_uri": "https://localhost:8080/",
          "height": 283
        },
        "id": "lu0vF71vkTrE",
        "outputId": "42ff38eb-2d41-484b-a7ee-199c65c0b07c"
      },
      "outputs": [
        {
          "output_type": "execute_result",
          "data": {
            "text/plain": [
              "[<matplotlib.lines.Line2D at 0x7f0dac7c2d90>]"
            ]
          },
          "metadata": {},
          "execution_count": 31
        },
        {
          "output_type": "display_data",
          "data": {
            "text/plain": [
              "<Figure size 432x288 with 1 Axes>"
            ],
            "image/png": "[encoded data removed]"
          },
          "metadata": {
            "needs_background": "light"
          }
        }
      ],
      "source": [
        "plt.plot(last_input)"
      ]
    },
    {
      "cell_type": "code",
      "execution_count": 83,
      "id": "vDJ1qU4-lBXR",
      "metadata": {
        "id": "vDJ1qU4-lBXR"
      },
      "outputs": [],
      "source": [
        "### New Approach ###\n",
        "#### No splitting between train and test set"
      ]
    },
    {
      "cell_type": "code",
      "execution_count": 58,
      "id": "175mWZdxqFIm",
      "metadata": {
        "id": "175mWZdxqFIm"
      },
      "outputs": [],
      "source": [
        "def window_data(df, window, feature_col_number, target_col_number):\n",
        "    X = []\n",
        "    y = []\n",
        "    for i in range(len(df) - window - 1): \n",
        "        features = df.iloc[i:(i + window), feature_col_number] \n",
        "        target = df.iloc[(i + window), target_col_number]\n",
        "        X.append(features)\n",
        "        y.append(target)\n",
        "    return np.array(X), np.array(y).reshape(-1, 1)"
      ]
    },
    {
      "cell_type": "code",
      "execution_count": 59,
      "id": "DebQumzWqFIm",
      "metadata": {
        "id": "DebQumzWqFIm"
      },
      "outputs": [],
      "source": [
        "window_size=10"
      ]
    },
    {
      "cell_type": "code",
      "execution_count": 60,
      "id": "jjA0K-sEqFIm",
      "metadata": {
        "colab": {
          "base_uri": "https://localhost:8080/",
          "height": 1000
        },
        "id": "jjA0K-sEqFIm",
        "outputId": "f1c59d39-086b-4508-b0a4-4434b15e1c78"
      },
      "outputs": [
        {
          "output_type": "display_data",
          "data": {
            "text/plain": [
              "array([[36.        , 34.09999847, 34.90000153, ..., 33.72999954,\n",
              "        33.41999817, 34.25      ],\n",
              "       [34.09999847, 34.90000153, 34.58000183, ..., 33.41999817,\n",
              "        34.25      , 34.02000046],\n",
              "       [34.90000153, 34.58000183, 35.5       , ..., 34.25      ,\n",
              "        34.02000046, 34.34000015],\n",
              "       ...,\n",
              "       [20.13999939, 20.        , 19.62999916, ..., 20.45000076,\n",
              "        20.21999931, 19.98999977],\n",
              "       [20.        , 19.62999916, 20.62000084, ..., 20.21999931,\n",
              "        19.98999977, 19.70000076],\n",
              "       [19.62999916, 20.62000084, 20.64999962, ..., 19.98999977,\n",
              "        19.70000076, 19.61000061]])"
            ]
          },
          "metadata": {}
        },
        {
          "output_type": "display_data",
          "data": {
            "text/plain": [
              "array([[34.02000046],\n",
              "       [34.34000015],\n",
              "       [34.00999832],\n",
              "       [34.31999969],\n",
              "       [33.52999878],\n",
              "       [32.38999939],\n",
              "       [32.58000183],\n",
              "       [32.45999908],\n",
              "       [32.61000061],\n",
              "       [32.93000031],\n",
              "       [31.79999924],\n",
              "       [31.61000061],\n",
              "       [31.87999916],\n",
              "       [32.43999863],\n",
              "       [31.73999977],\n",
              "       [31.95999908],\n",
              "       [32.43000031],\n",
              "       [30.90999985],\n",
              "       [30.85000038],\n",
              "       [30.47999954],\n",
              "       [31.87999916],\n",
              "       [33.09999847],\n",
              "       [33.24000168],\n",
              "       [33.81000137],\n",
              "       [34.45999908],\n",
              "       [33.81999969],\n",
              "       [34.45999908],\n",
              "       [34.15999985],\n",
              "       [34.5       ],\n",
              "       [34.00999832],\n",
              "       [33.09000015],\n",
              "       [34.        ],\n",
              "       [33.79999924],\n",
              "       [33.13000107],\n",
              "       [33.15999985],\n",
              "       [33.61000061],\n",
              "       [33.        ],\n",
              "       [32.95000076],\n",
              "       [33.47999954],\n",
              "       [33.47999954],\n",
              "       [33.40999985],\n",
              "       [33.75      ],\n",
              "       [33.06999969],\n",
              "       [32.59999847],\n",
              "       [33.56999969],\n",
              "       [33.38000107],\n",
              "       [32.95999908],\n",
              "       [32.86999893],\n",
              "       [32.54000092],\n",
              "       [32.36999893],\n",
              "       [31.76000023],\n",
              "       [31.10000038],\n",
              "       [31.63999939],\n",
              "       [31.32999992],\n",
              "       [30.        ],\n",
              "       [29.62999916],\n",
              "       [30.72999954],\n",
              "       [31.19000053],\n",
              "       [31.31999969],\n",
              "       [31.53000069],\n",
              "       [31.79999924],\n",
              "       [31.09000015],\n",
              "       [31.82999992],\n",
              "       [32.65000153],\n",
              "       [32.50999832],\n",
              "       [32.54999924],\n",
              "       [31.59000015],\n",
              "       [31.95999908],\n",
              "       [31.55999947],\n",
              "       [31.70999908],\n",
              "       [31.55999947],\n",
              "       [31.75      ],\n",
              "       [31.52000046],\n",
              "       [30.97999954],\n",
              "       [30.37999916],\n",
              "       [30.22999954],\n",
              "       [30.60000038],\n",
              "       [30.5       ],\n",
              "       [30.5       ],\n",
              "       [30.15999985],\n",
              "       [29.18000031],\n",
              "       [29.45000076],\n",
              "       [29.64999962],\n",
              "       [30.21999931],\n",
              "       [29.01000023],\n",
              "       [29.5       ],\n",
              "       [29.69000053],\n",
              "       [29.70999908],\n",
              "       [29.29999924],\n",
              "       [29.42000008],\n",
              "       [29.34000015],\n",
              "       [29.60000038],\n",
              "       [29.15999985],\n",
              "       [29.32999992],\n",
              "       [29.04000092],\n",
              "       [29.19000053],\n",
              "       [29.        ],\n",
              "       [29.04999924],\n",
              "       [29.71999931],\n",
              "       [30.23999977],\n",
              "       [31.03000069],\n",
              "       [31.        ],\n",
              "       [30.45999908],\n",
              "       [29.70000076],\n",
              "       [29.28000069],\n",
              "       [29.39999962],\n",
              "       [30.70000076],\n",
              "       [31.63999939],\n",
              "       [31.57999992],\n",
              "       [30.30999947],\n",
              "       [30.63999939],\n",
              "       [31.63999939],\n",
              "       [32.83000183],\n",
              "       [32.83000183],\n",
              "       [32.47999954],\n",
              "       [32.72000122],\n",
              "       [32.59999847],\n",
              "       [32.74000168],\n",
              "       [32.68999863],\n",
              "       [32.5       ],\n",
              "       [32.06999969],\n",
              "       [32.16999817],\n",
              "       [32.43999863],\n",
              "       [32.83000183],\n",
              "       [32.97999954],\n",
              "       [33.11999893],\n",
              "       [33.41999817],\n",
              "       [32.75999832],\n",
              "       [32.54999924],\n",
              "       [32.34000015],\n",
              "       [32.56999969],\n",
              "       [32.13999939],\n",
              "       [31.78000069],\n",
              "       [31.18000031],\n",
              "       [31.11000061],\n",
              "       [31.14999962],\n",
              "       [31.62999916],\n",
              "       [32.06999969],\n",
              "       [32.38999939],\n",
              "       [32.72000122],\n",
              "       [32.27999878],\n",
              "       [31.5       ],\n",
              "       [31.44000053],\n",
              "       [31.36000061],\n",
              "       [32.13000107],\n",
              "       [32.16999817],\n",
              "       [31.12000084],\n",
              "       [31.38999939],\n",
              "       [32.95999908],\n",
              "       [33.29999924],\n",
              "       [32.15000153],\n",
              "       [32.59999847],\n",
              "       [32.75      ],\n",
              "       [33.        ],\n",
              "       [33.04000092],\n",
              "       [32.65000153],\n",
              "       [32.74000168],\n",
              "       [32.29000092],\n",
              "       [32.38999939],\n",
              "       [32.09999847],\n",
              "       [31.96999931],\n",
              "       [31.73999977],\n",
              "       [31.51000023],\n",
              "       [31.28000069],\n",
              "       [31.93000031],\n",
              "       [32.72999954],\n",
              "       [32.90000153],\n",
              "       [32.5       ],\n",
              "       [32.68999863],\n",
              "       [32.45000076],\n",
              "       [32.56999969],\n",
              "       [33.18000031],\n",
              "       [32.54999924],\n",
              "       [31.95000076],\n",
              "       [31.48999977],\n",
              "       [32.77999878],\n",
              "       [33.11999893],\n",
              "       [32.93000031],\n",
              "       [33.72999954],\n",
              "       [33.52999878],\n",
              "       [34.79000092],\n",
              "       [34.29000092],\n",
              "       [34.25999832],\n",
              "       [33.79999924],\n",
              "       [34.95999908],\n",
              "       [33.99000168],\n",
              "       [34.75      ],\n",
              "       [34.18999863],\n",
              "       [33.36000061],\n",
              "       [34.06999969],\n",
              "       [33.15999985],\n",
              "       [33.86000061],\n",
              "       [33.31000137],\n",
              "       [33.68000031],\n",
              "       [33.34999847],\n",
              "       [33.18000031],\n",
              "       [32.84000015],\n",
              "       [32.5       ],\n",
              "       [32.18999863],\n",
              "       [33.00999832],\n",
              "       [33.40000153],\n",
              "       [32.90999985],\n",
              "       [33.15999985],\n",
              "       [33.00999832],\n",
              "       [33.34999847],\n",
              "       [32.95999908],\n",
              "       [33.06000137],\n",
              "       [32.88999939],\n",
              "       [31.80999947],\n",
              "       [32.84000015],\n",
              "       [31.46999931],\n",
              "       [31.32999992],\n",
              "       [30.64999962],\n",
              "       [29.73999977],\n",
              "       [29.85000038],\n",
              "       [28.51000023],\n",
              "       [29.19000053],\n",
              "       [29.36000061],\n",
              "       [29.80999947],\n",
              "       [27.26000023],\n",
              "       [26.38999939],\n",
              "       [27.04999924],\n",
              "       [26.40999985],\n",
              "       [25.87999916],\n",
              "       [25.62000084],\n",
              "       [25.78000069],\n",
              "       [25.93000031],\n",
              "       [26.02000046],\n",
              "       [26.04000092],\n",
              "       [26.36000061],\n",
              "       [26.48999977],\n",
              "       [27.35000038],\n",
              "       [26.98999977],\n",
              "       [27.90999985],\n",
              "       [28.73999977],\n",
              "       [28.37999916],\n",
              "       [28.68000031],\n",
              "       [28.31999969],\n",
              "       [28.07999992],\n",
              "       [27.47999954],\n",
              "       [27.12999916],\n",
              "       [27.53000069],\n",
              "       [28.06999969],\n",
              "       [27.54999924],\n",
              "       [26.97999954],\n",
              "       [26.70000076],\n",
              "       [26.39999962],\n",
              "       [26.59000015],\n",
              "       [26.17000008],\n",
              "       [25.95000076],\n",
              "       [26.85000038],\n",
              "       [26.78000069],\n",
              "       [26.63999939],\n",
              "       [26.68000031],\n",
              "       [26.81999969],\n",
              "       [26.54999924],\n",
              "       [26.88999939],\n",
              "       [26.63999939],\n",
              "       [27.11000061],\n",
              "       [27.06999969],\n",
              "       [26.46999931],\n",
              "       [26.22999954],\n",
              "       [26.36000061],\n",
              "       [26.04000092],\n",
              "       [26.17000008],\n",
              "       [26.29999924],\n",
              "       [26.87000084],\n",
              "       [27.14999962],\n",
              "       [27.18000031],\n",
              "       [27.12999916],\n",
              "       [27.02000046],\n",
              "       [27.39999962],\n",
              "       [27.28000069],\n",
              "       [27.43000031],\n",
              "       [26.68000031],\n",
              "       [26.92000008],\n",
              "       [27.22999954],\n",
              "       [26.56999969],\n",
              "       [26.20999908],\n",
              "       [26.        ],\n",
              "       [25.29000092],\n",
              "       [26.11000061],\n",
              "       [25.54000092],\n",
              "       [26.27000046],\n",
              "       [26.35000038],\n",
              "       [26.39999962],\n",
              "       [26.79000092],\n",
              "       [27.80999947],\n",
              "       [27.65999985],\n",
              "       [27.87000084],\n",
              "       [27.70999908],\n",
              "       [27.62000084],\n",
              "       [27.29999924],\n",
              "       [27.17000008],\n",
              "       [27.15999985],\n",
              "       [27.09000015],\n",
              "       [26.85000038],\n",
              "       [26.45999908],\n",
              "       [26.79000092],\n",
              "       [27.47999954],\n",
              "       [27.78000069],\n",
              "       [28.30999947],\n",
              "       [28.76000023],\n",
              "       [28.19000053],\n",
              "       [28.95000076],\n",
              "       [28.79999924],\n",
              "       [29.06999969],\n",
              "       [29.43000031],\n",
              "       [29.15999985],\n",
              "       [29.34000015],\n",
              "       [29.29000092],\n",
              "       [29.45000076],\n",
              "       [29.46999931],\n",
              "       [29.10000038],\n",
              "       [28.82999992],\n",
              "       [28.70999908],\n",
              "       [28.55999947],\n",
              "       [28.04000092],\n",
              "       [28.72999954],\n",
              "       [28.40999985],\n",
              "       [29.28000069],\n",
              "       [30.84000015],\n",
              "       [30.61000061],\n",
              "       [30.        ],\n",
              "       [30.62000084],\n",
              "       [32.22999954],\n",
              "       [32.25      ],\n",
              "       [31.56999969],\n",
              "       [31.13999939],\n",
              "       [31.55999947],\n",
              "       [31.73999977],\n",
              "       [31.71999931],\n",
              "       [30.89999962],\n",
              "       [31.29999924],\n",
              "       [31.65999985],\n",
              "       [31.62999916],\n",
              "       [31.68000031],\n",
              "       [31.38999939],\n",
              "       [31.48999977],\n",
              "       [31.75      ],\n",
              "       [31.36000061],\n",
              "       [31.12000084],\n",
              "       [30.97999954],\n",
              "       [30.45000076],\n",
              "       [29.93000031],\n",
              "       [30.22999954],\n",
              "       [31.14999962],\n",
              "       [30.01000023],\n",
              "       [29.25      ],\n",
              "       [28.77000046],\n",
              "       [28.12999916],\n",
              "       [27.39999962],\n",
              "       [27.78000069],\n",
              "       [27.05999947],\n",
              "       [27.52000046],\n",
              "       [26.07999992],\n",
              "       [25.38999939],\n",
              "       [23.88999939],\n",
              "       [24.60000038],\n",
              "       [23.71999931],\n",
              "       [21.34000015],\n",
              "       [22.43000031],\n",
              "       [19.36000061],\n",
              "       [19.96999931],\n",
              "       [16.68000031],\n",
              "       [17.46999931],\n",
              "       [17.5       ],\n",
              "       [16.95999908],\n",
              "       [18.61000061],\n",
              "       [19.62000084],\n",
              "       [21.42000008],\n",
              "       [21.81999969],\n",
              "       [22.59000015],\n",
              "       [22.38999939],\n",
              "       [20.14999962],\n",
              "       [20.77000046],\n",
              "       [20.19000053],\n",
              "       [21.97999954],\n",
              "       [22.75      ],\n",
              "       [23.43000031],\n",
              "       [24.5       ],\n",
              "       [23.14999962],\n",
              "       [23.76000023],\n",
              "       [22.77000046],\n",
              "       [22.67000008],\n",
              "       [24.29000092],\n",
              "       [24.53000069],\n",
              "       [23.87999916],\n",
              "       [24.        ],\n",
              "       [23.80999947],\n",
              "       [23.85000038],\n",
              "       [24.65999985],\n",
              "       [24.20999908],\n",
              "       [24.93000031],\n",
              "       [24.70999908],\n",
              "       [24.04000092],\n",
              "       [23.96999931],\n",
              "       [24.14999962],\n",
              "       [22.93000031],\n",
              "       [19.87999916],\n",
              "       [19.84000015],\n",
              "       [20.77000046],\n",
              "       [19.97999954],\n",
              "       [19.29000092],\n",
              "       [19.37999916],\n",
              "       [19.12000084],\n",
              "       [19.70999908],\n",
              "       [19.40999985],\n",
              "       [19.55999947],\n",
              "       [18.94000053],\n",
              "       [18.94000053],\n",
              "       [19.37000084],\n",
              "       [21.12999916],\n",
              "       [21.37999916],\n",
              "       [21.40999985],\n",
              "       [21.20000076],\n",
              "       [22.27000046],\n",
              "       [22.93000031],\n",
              "       [22.53000069],\n",
              "       [23.75      ],\n",
              "       [24.76000023],\n",
              "       [24.10000038],\n",
              "       [23.07999992],\n",
              "       [21.67000008],\n",
              "       [22.06999969],\n",
              "       [21.62999916],\n",
              "       [22.06999969],\n",
              "       [21.59000015],\n",
              "       [21.87999916],\n",
              "       [22.26000023],\n",
              "       [22.34000015],\n",
              "       [22.63999939],\n",
              "       [21.39999962],\n",
              "       [21.60000038],\n",
              "       [21.15999985],\n",
              "       [21.        ],\n",
              "       [21.45000076],\n",
              "       [21.19000053],\n",
              "       [21.20999908],\n",
              "       [21.76000023],\n",
              "       [21.54999924],\n",
              "       [21.64999962],\n",
              "       [21.36000061],\n",
              "       [22.03000069],\n",
              "       [22.64999962],\n",
              "       [23.47999954],\n",
              "       [24.07999992],\n",
              "       [24.        ],\n",
              "       [23.79000092],\n",
              "       [23.54999924],\n",
              "       [23.68000031],\n",
              "       [23.46999931],\n",
              "       [23.38999939],\n",
              "       [23.59000015],\n",
              "       [21.29999924],\n",
              "       [21.10000038],\n",
              "       [21.14999962],\n",
              "       [22.45000076],\n",
              "       [23.62999916],\n",
              "       [23.30999947],\n",
              "       [24.79999924],\n",
              "       [25.28000069],\n",
              "       [24.44000053],\n",
              "       [24.29999924],\n",
              "       [24.60000038],\n",
              "       [25.42000008],\n",
              "       [25.        ],\n",
              "       [24.44000053],\n",
              "       [25.77000046],\n",
              "       [25.85000038],\n",
              "       [26.09000015],\n",
              "       [25.79999924],\n",
              "       [27.57999992],\n",
              "       [27.10000038],\n",
              "       [27.42000008],\n",
              "       [28.86000061],\n",
              "       [28.13999939],\n",
              "       [28.12999916],\n",
              "       [29.12999916],\n",
              "       [29.05999947],\n",
              "       [28.77000046],\n",
              "       [28.82999992],\n",
              "       [28.18000031],\n",
              "       [28.10000038],\n",
              "       [28.10000038],\n",
              "       [28.46999931],\n",
              "       [27.22999954],\n",
              "       [27.07999992],\n",
              "       [27.63999939],\n",
              "       [26.84000015],\n",
              "       [27.38999939],\n",
              "       [27.35000038],\n",
              "       [26.54000092],\n",
              "       [26.54999924],\n",
              "       [27.04999924],\n",
              "       [26.40999985],\n",
              "       [26.27000046],\n",
              "       [26.85000038],\n",
              "       [27.05999947],\n",
              "       [26.76000023],\n",
              "       [27.93000031],\n",
              "       [27.53000069],\n",
              "       [27.70000076],\n",
              "       [28.15999985],\n",
              "       [28.22999954],\n",
              "       [32.06999969],\n",
              "       [32.13000107],\n",
              "       [33.09999847],\n",
              "       [33.79000092],\n",
              "       [32.81999969],\n",
              "       [31.87000084],\n",
              "       [31.82999992],\n",
              "       [31.54000092],\n",
              "       [30.90999985],\n",
              "       [31.20999908],\n",
              "       [30.40999985],\n",
              "       [31.18000031],\n",
              "       [31.37999916],\n",
              "       [30.82999992],\n",
              "       [31.54999924],\n",
              "       [30.77000046],\n",
              "       [31.51000023],\n",
              "       [31.01000023],\n",
              "       [31.82999992],\n",
              "       [31.23999977],\n",
              "       [31.70999908],\n",
              "       [32.58000183],\n",
              "       [30.29000092],\n",
              "       [31.05999947],\n",
              "       [31.20999908],\n",
              "       [29.96999931],\n",
              "       [29.90999985],\n",
              "       [30.14999962],\n",
              "       [30.30999947],\n",
              "       [30.40999985],\n",
              "       [29.38999939],\n",
              "       [29.5       ],\n",
              "       [29.42000008],\n",
              "       [31.03000069],\n",
              "       [31.62000084],\n",
              "       [31.78000069],\n",
              "       [31.31999969],\n",
              "       [30.59000015],\n",
              "       [29.30999947],\n",
              "       [30.        ],\n",
              "       [29.20000076],\n",
              "       [29.37999916],\n",
              "       [29.35000038],\n",
              "       [29.79000092],\n",
              "       [28.88999939],\n",
              "       [28.79999924],\n",
              "       [28.64999962],\n",
              "       [28.70999908],\n",
              "       [30.81999969],\n",
              "       [29.95000076],\n",
              "       [30.48999977],\n",
              "       [30.01000023],\n",
              "       [29.53000069],\n",
              "       [30.20999908],\n",
              "       [30.43000031],\n",
              "       [30.54000092],\n",
              "       [30.65999985],\n",
              "       [30.37000084],\n",
              "       [30.12000084],\n",
              "       [30.67000008],\n",
              "       [30.5       ],\n",
              "       [30.60000038],\n",
              "       [31.40999985],\n",
              "       [31.09000015],\n",
              "       [31.37999916],\n",
              "       [31.54000092],\n",
              "       [32.27999878],\n",
              "       [31.30999947],\n",
              "       [31.63999939],\n",
              "       [31.51000023],\n",
              "       [31.15999985],\n",
              "       [31.01000023],\n",
              "       [30.38999939],\n",
              "       [30.45999908],\n",
              "       [29.95000076],\n",
              "       [30.35000038],\n",
              "       [29.82999992],\n",
              "       [29.5       ],\n",
              "       [29.03000069],\n",
              "       [29.80999947],\n",
              "       [29.54000092],\n",
              "       [28.87999916],\n",
              "       [29.03000069],\n",
              "       [28.37999916],\n",
              "       [28.45000076],\n",
              "       [29.09000015],\n",
              "       [29.06999969],\n",
              "       [29.06999969],\n",
              "       [29.75      ],\n",
              "       [30.38999939],\n",
              "       [30.04000092],\n",
              "       [30.54000092],\n",
              "       [30.10000038],\n",
              "       [30.57999992],\n",
              "       [30.86000061],\n",
              "       [31.54999924],\n",
              "       [31.72999954],\n",
              "       [32.86000061],\n",
              "       [33.65000153],\n",
              "       [32.34000015],\n",
              "       [30.87000084],\n",
              "       [30.93000031],\n",
              "       [31.12999916],\n",
              "       [32.22999954],\n",
              "       [32.58000183],\n",
              "       [32.74000168],\n",
              "       [34.13000107],\n",
              "       [34.27000046],\n",
              "       [34.49000168],\n",
              "       [33.56999969],\n",
              "       [33.95999908],\n",
              "       [33.75      ],\n",
              "       [31.09000015],\n",
              "       [29.77000046],\n",
              "       [28.60000038],\n",
              "       [28.29000092],\n",
              "       [28.05999947],\n",
              "       [27.85000038],\n",
              "       [28.79000092],\n",
              "       [28.79999924],\n",
              "       [29.45000076],\n",
              "       [28.79000092],\n",
              "       [28.95999908],\n",
              "       [28.76000023],\n",
              "       [29.80999947],\n",
              "       [29.60000038],\n",
              "       [29.75      ],\n",
              "       [29.39999962],\n",
              "       [29.38999939],\n",
              "       [29.57999992],\n",
              "       [30.20000076],\n",
              "       [29.97999954],\n",
              "       [30.        ],\n",
              "       [30.65999985],\n",
              "       [31.19000053],\n",
              "       [30.55999947],\n",
              "       [30.87999916],\n",
              "       [31.        ],\n",
              "       [31.23999977],\n",
              "       [31.29000092],\n",
              "       [32.13000107],\n",
              "       [31.70999908],\n",
              "       [31.79999924],\n",
              "       [31.30999947],\n",
              "       [31.11000061],\n",
              "       [31.04999924],\n",
              "       [32.88000107],\n",
              "       [32.24000168],\n",
              "       [32.31000137],\n",
              "       [32.09999847],\n",
              "       [33.95000076],\n",
              "       [34.79999924],\n",
              "       [35.00999832],\n",
              "       [35.29999924],\n",
              "       [35.36999893],\n",
              "       [35.68999863],\n",
              "       [35.75999832],\n",
              "       [35.77999878],\n",
              "       [35.50999832],\n",
              "       [35.70999908],\n",
              "       [35.86999893],\n",
              "       [35.97999954],\n",
              "       [35.5       ],\n",
              "       [35.40999985],\n",
              "       [35.        ],\n",
              "       [34.18000031],\n",
              "       [33.56000137],\n",
              "       [33.36000061],\n",
              "       [33.90000153],\n",
              "       [33.59000015],\n",
              "       [33.70000076],\n",
              "       [33.47999954],\n",
              "       [34.81000137],\n",
              "       [35.97999954],\n",
              "       [35.72000122],\n",
              "       [34.68999863],\n",
              "       [34.86999893],\n",
              "       [35.18999863],\n",
              "       [35.09000015],\n",
              "       [34.99000168],\n",
              "       [35.04000092],\n",
              "       [35.31999969],\n",
              "       [35.31999969],\n",
              "       [34.68999863],\n",
              "       [35.        ],\n",
              "       [34.93999863],\n",
              "       [34.77999878],\n",
              "       [34.56000137],\n",
              "       [34.41999817],\n",
              "       [34.63999939],\n",
              "       [35.02000046],\n",
              "       [34.22000122],\n",
              "       [34.13000107],\n",
              "       [34.22999954],\n",
              "       [34.25999832],\n",
              "       [34.22999954],\n",
              "       [35.52999878],\n",
              "       [35.66999817],\n",
              "       [36.02999878],\n",
              "       [36.5       ],\n",
              "       [35.81000137],\n",
              "       [36.24000168],\n",
              "       [36.63999939],\n",
              "       [36.61000061],\n",
              "       [36.47000122],\n",
              "       [36.5       ],\n",
              "       [36.72000122],\n",
              "       [36.41999817],\n",
              "       [35.79999924],\n",
              "       [35.36000061],\n",
              "       [29.67000008],\n",
              "       [29.57999992],\n",
              "       [29.20000076],\n",
              "       [30.15999985],\n",
              "       [31.        ],\n",
              "       [31.53000069],\n",
              "       [31.70000076],\n",
              "       [31.48999977],\n",
              "       [31.5       ],\n",
              "       [31.5       ],\n",
              "       [31.76000023],\n",
              "       [32.27999878],\n",
              "       [32.63000107],\n",
              "       [32.77000046],\n",
              "       [33.31000137],\n",
              "       [33.43999863],\n",
              "       [33.38000107],\n",
              "       [33.52999878],\n",
              "       [33.79999924],\n",
              "       [34.15000153],\n",
              "       [34.02000046],\n",
              "       [33.88999939],\n",
              "       [33.54000092],\n",
              "       [33.38000107],\n",
              "       [33.27999878],\n",
              "       [32.91999817],\n",
              "       [32.40999985],\n",
              "       [32.47000122],\n",
              "       [32.40000153],\n",
              "       [31.82999992],\n",
              "       [31.69000053],\n",
              "       [31.79999924],\n",
              "       [32.47000122],\n",
              "       [32.63000107],\n",
              "       [32.81999969],\n",
              "       [32.54999924],\n",
              "       [32.34999847],\n",
              "       [31.88999939],\n",
              "       [32.09000015],\n",
              "       [32.09999847],\n",
              "       [32.13999939],\n",
              "       [32.68999863],\n",
              "       [33.29000092],\n",
              "       [33.15000153],\n",
              "       [32.88999939],\n",
              "       [32.18000031],\n",
              "       [32.02999878],\n",
              "       [32.45000076],\n",
              "       [32.54000092],\n",
              "       [32.09999847],\n",
              "       [32.63999939],\n",
              "       [33.65999985],\n",
              "       [33.59999847],\n",
              "       [33.90000153],\n",
              "       [33.97000122],\n",
              "       [33.49000168],\n",
              "       [33.31000137],\n",
              "       [32.90000153],\n",
              "       [32.88000107],\n",
              "       [32.86999893],\n",
              "       [31.72999954],\n",
              "       [32.22000122],\n",
              "       [32.86999893],\n",
              "       [34.09000015],\n",
              "       [33.25      ],\n",
              "       [33.09999847],\n",
              "       [32.97999954],\n",
              "       [32.74000168],\n",
              "       [33.02999878],\n",
              "       [32.15999985],\n",
              "       [32.29000092],\n",
              "       [31.95000076],\n",
              "       [32.34000015],\n",
              "       [32.11000061],\n",
              "       [32.04999924],\n",
              "       [32.06999969],\n",
              "       [30.79000092],\n",
              "       [30.21999931],\n",
              "       [30.19000053],\n",
              "       [28.73999977],\n",
              "       [28.13999939],\n",
              "       [28.78000069],\n",
              "       [28.17000008],\n",
              "       [28.79000092],\n",
              "       [28.96999931],\n",
              "       [29.54000092],\n",
              "       [28.48999977],\n",
              "       [27.96999931],\n",
              "       [27.73999977],\n",
              "       [28.11000061],\n",
              "       [28.45999908],\n",
              "       [27.97999954],\n",
              "       [28.27000046],\n",
              "       [28.20000076],\n",
              "       [28.77000046],\n",
              "       [28.34000015],\n",
              "       [28.87999916],\n",
              "       [28.95999908],\n",
              "       [28.87999916],\n",
              "       [28.27000046],\n",
              "       [28.70999908],\n",
              "       [28.37999916],\n",
              "       [28.25      ],\n",
              "       [28.40999985],\n",
              "       [27.89999962],\n",
              "       [27.07999992],\n",
              "       [27.04999924],\n",
              "       [28.72999954],\n",
              "       [28.37999916],\n",
              "       [28.09000015],\n",
              "       [27.06999969],\n",
              "       [27.03000069],\n",
              "       [26.80999947],\n",
              "       [26.38999939],\n",
              "       [26.82999992],\n",
              "       [26.77000046],\n",
              "       [27.10000038],\n",
              "       [26.30999947],\n",
              "       [25.77000046],\n",
              "       [24.94000053],\n",
              "       [25.51000023],\n",
              "       [26.04000092],\n",
              "       [25.54000092],\n",
              "       [25.36000061],\n",
              "       [24.64999962],\n",
              "       [24.96999931],\n",
              "       [25.05999947],\n",
              "       [24.86000061],\n",
              "       [25.72999954],\n",
              "       [25.30999947],\n",
              "       [25.48999977],\n",
              "       [25.12999916],\n",
              "       [25.86000061],\n",
              "       [25.88999939],\n",
              "       [25.78000069],\n",
              "       [25.51000023],\n",
              "       [25.97999954],\n",
              "       [25.75      ],\n",
              "       [27.88999939],\n",
              "       [27.87000084],\n",
              "       [28.40999985],\n",
              "       [28.94000053],\n",
              "       [29.        ],\n",
              "       [28.37000084],\n",
              "       [27.95000076],\n",
              "       [25.84000015],\n",
              "       [25.52000046],\n",
              "       [26.62000084],\n",
              "       [26.37999916],\n",
              "       [26.48999977],\n",
              "       [25.20000076],\n",
              "       [25.46999931],\n",
              "       [26.40999985],\n",
              "       [26.61000061],\n",
              "       [27.42000008],\n",
              "       [27.20000076],\n",
              "       [27.40999985],\n",
              "       [27.21999931],\n",
              "       [27.46999931],\n",
              "       [26.59000015],\n",
              "       [26.71999931],\n",
              "       [27.53000069],\n",
              "       [27.15999985],\n",
              "       [26.09000015],\n",
              "       [26.12000084],\n",
              "       [26.15999985],\n",
              "       [25.97999954],\n",
              "       [26.62000084],\n",
              "       [26.54999924],\n",
              "       [26.25      ],\n",
              "       [26.        ],\n",
              "       [25.82999992],\n",
              "       [26.26000023],\n",
              "       [26.25      ],\n",
              "       [25.73999977],\n",
              "       [26.12000084],\n",
              "       [26.28000069],\n",
              "       [26.04999924],\n",
              "       [25.28000069],\n",
              "       [25.73999977],\n",
              "       [25.46999931],\n",
              "       [25.57999992],\n",
              "       [25.64999962],\n",
              "       [25.30999947],\n",
              "       [25.14999962],\n",
              "       [25.28000069],\n",
              "       [25.        ],\n",
              "       [24.18000031],\n",
              "       [23.79000092],\n",
              "       [21.84000015],\n",
              "       [21.89999962],\n",
              "       [20.81999969],\n",
              "       [21.69000053],\n",
              "       [22.27000046],\n",
              "       [23.30999947],\n",
              "       [24.20000076],\n",
              "       [23.35000038],\n",
              "       [23.23999977],\n",
              "       [24.27000046],\n",
              "       [23.69000053],\n",
              "       [23.17000008],\n",
              "       [23.32999992],\n",
              "       [23.71999931],\n",
              "       [23.87000084],\n",
              "       [23.70000076],\n",
              "       [24.12999916],\n",
              "       [24.84000015],\n",
              "       [24.19000053],\n",
              "       [23.69000053],\n",
              "       [24.54999924],\n",
              "       [24.13999939],\n",
              "       [23.52000046],\n",
              "       [22.27000046],\n",
              "       [21.64999962],\n",
              "       [20.89999962],\n",
              "       [20.92000008],\n",
              "       [20.28000069],\n",
              "       [20.54999924],\n",
              "       [20.03000069],\n",
              "       [20.01000023],\n",
              "       [19.94000053],\n",
              "       [20.61000061],\n",
              "       [20.47999954],\n",
              "       [20.13999939],\n",
              "       [20.        ],\n",
              "       [19.62999916],\n",
              "       [20.62000084],\n",
              "       [20.64999962],\n",
              "       [20.35000038],\n",
              "       [20.69000053],\n",
              "       [20.45000076],\n",
              "       [20.21999931],\n",
              "       [19.98999977],\n",
              "       [19.70000076],\n",
              "       [19.61000061],\n",
              "       [20.07999992]])"
            ]
          },
          "metadata": {}
        }
      ],
      "source": [
        "X, y=window_data(df, window_size, 3, 3)\n",
        "display(X)\n",
        "display(y)"
      ]
    },
    {
      "cell_type": "code",
      "source": [
        "len(y)"
      ],
      "metadata": {
        "colab": {
          "base_uri": "https://localhost:8080/"
        },
        "id": "oZvRWliFEcJ3",
        "outputId": "4b20b8a7-dea9-4c0c-acc8-d6a350e936fc"
      },
      "id": "oZvRWliFEcJ3",
      "execution_count": 82,
      "outputs": [
        {
          "output_type": "execute_result",
          "data": {
            "text/plain": [
              "951"
            ]
          },
          "metadata": {},
          "execution_count": 82
        }
      ]
    },
    {
      "cell_type": "code",
      "execution_count": 61,
      "id": "q2mvdEAiqFIm",
      "metadata": {
        "id": "q2mvdEAiqFIm"
      },
      "outputs": [],
      "source": [
        "from sklearn.preprocessing import MinMaxScaler\n",
        "X_scaler=MinMaxScaler()\n",
        "X_scaler.fit(X)\n",
        "X_scaled=X_scaler.transform(X)"
      ]
    },
    {
      "cell_type": "code",
      "execution_count": 62,
      "id": "8QYKvOjQqFIn",
      "metadata": {
        "id": "8QYKvOjQqFIn"
      },
      "outputs": [],
      "source": [
        "y_scaler=MinMaxScaler()\n",
        "y_scaler.fit(y)\n",
        "y_scaled=y_scaler.transform(y)\n"
      ]
    },
    {
      "cell_type": "code",
      "execution_count": 63,
      "id": "GZuAtUTQqFIn",
      "metadata": {
        "colab": {
          "base_uri": "https://localhost:8080/",
          "height": 35
        },
        "id": "GZuAtUTQqFIn",
        "outputId": "e5d220c2-9488-4137-906f-43f8b23c99f2"
      },
      "outputs": [
        {
          "output_type": "display_data",
          "data": {
            "text/plain": [
              "(951, 10)"
            ]
          },
          "metadata": {}
        }
      ],
      "source": [
        "X_scaled=X_scaled.reshape(X_scaled.shape[0], X_scaled.shape[1], 1)\n",
        "display(X.shape)"
      ]
    },
    {
      "cell_type": "code",
      "execution_count": 64,
      "id": "i6bEcPXqqFIn",
      "metadata": {
        "id": "i6bEcPXqqFIn"
      },
      "outputs": [],
      "source": [
        "model=Sequential()\n",
        "first_lstm_layer=LSTM(units=30, return_sequences=True, input_shape=(window_size, 1))\n",
        "model.add(first_lstm_layer)\n",
        "first_dropout_layer=Dropout(0.2)\n",
        "model.add(first_dropout_layer)\n",
        "second_lstm_layer=LSTM(units=30, return_sequences=True)\n",
        "model.add(second_lstm_layer)\n",
        "second_dropout_layer=Dropout(0.2)\n",
        "model.add(second_dropout_layer)\n",
        "third_lstm_layer=LSTM(units=30)\n",
        "model.add(third_lstm_layer)\n",
        "output_layer=Dense(units=1, activation='linear')\n",
        "model.add(output_layer)"
      ]
    },
    {
      "cell_type": "code",
      "execution_count": 65,
      "id": "8qTpRoYpqFIo",
      "metadata": {
        "id": "8qTpRoYpqFIo"
      },
      "outputs": [],
      "source": [
        "model.compile(loss='mean_squared_error', optimizer='adam', metrics='mean_squared_error')"
      ]
    },
    {
      "cell_type": "code",
      "execution_count": 66,
      "id": "F76x8vPIqFIo",
      "metadata": {
        "colab": {
          "base_uri": "https://localhost:8080/"
        },
        "id": "F76x8vPIqFIo",
        "outputId": "92535d07-865b-4f07-8cf4-39bc129baa27"
      },
      "outputs": [
        {
          "output_type": "stream",
          "name": "stdout",
          "text": [
            "Model: \"sequential_2\"\n",
            "_________________________________________________________________\n",
            " Layer (type)                Output Shape              Param #   \n",
            "=================================================================\n",
            " lstm_6 (LSTM)               (None, 10, 30)            3840      \n",
            "                                                                 \n",
            " dropout_4 (Dropout)         (None, 10, 30)            0         \n",
            "                                                                 \n",
            " lstm_7 (LSTM)               (None, 10, 30)            7320      \n",
            "                                                                 \n",
            " dropout_5 (Dropout)         (None, 10, 30)            0         \n",
            "                                                                 \n",
            " lstm_8 (LSTM)               (None, 30)                7320      \n",
            "                                                                 \n",
            " dense_2 (Dense)             (None, 1)                 31        \n",
            "                                                                 \n",
            "=================================================================\n",
            "Total params: 18,511\n",
            "Trainable params: 18,511\n",
            "Non-trainable params: 0\n",
            "_________________________________________________________________\n"
          ]
        }
      ],
      "source": [
        "model.summary()"
      ]
    },
    {
      "cell_type": "code",
      "execution_count": 67,
      "id": "2P_Jpt9QqFIo",
      "metadata": {
        "colab": {
          "base_uri": "https://localhost:8080/"
        },
        "id": "2P_Jpt9QqFIo",
        "outputId": "0db9078e-8ea8-415f-97b3-36fbb86d8664"
      },
      "outputs": [
        {
          "output_type": "stream",
          "name": "stdout",
          "text": [
            "Epoch 1/10\n",
            "30/30 [==============================] - 5s 14ms/step - loss: 0.1320 - mean_squared_error: 0.1320\n",
            "Epoch 2/10\n",
            "30/30 [==============================] - 0s 15ms/step - loss: 0.0157 - mean_squared_error: 0.0157\n",
            "Epoch 3/10\n",
            "30/30 [==============================] - 0s 16ms/step - loss: 0.0105 - mean_squared_error: 0.0105\n",
            "Epoch 4/10\n",
            "30/30 [==============================] - 0s 15ms/step - loss: 0.0088 - mean_squared_error: 0.0088\n",
            "Epoch 5/10\n",
            "30/30 [==============================] - 0s 14ms/step - loss: 0.0075 - mean_squared_error: 0.0075\n",
            "Epoch 6/10\n",
            "30/30 [==============================] - 0s 14ms/step - loss: 0.0074 - mean_squared_error: 0.0074\n",
            "Epoch 7/10\n",
            "30/30 [==============================] - 0s 15ms/step - loss: 0.0082 - mean_squared_error: 0.0082\n",
            "Epoch 8/10\n",
            "30/30 [==============================] - 0s 15ms/step - loss: 0.0074 - mean_squared_error: 0.0074\n",
            "Epoch 9/10\n",
            "30/30 [==============================] - 0s 14ms/step - loss: 0.0076 - mean_squared_error: 0.0076\n",
            "Epoch 10/10\n",
            "30/30 [==============================] - 0s 14ms/step - loss: 0.0074 - mean_squared_error: 0.0074\n"
          ]
        },
        {
          "output_type": "execute_result",
          "data": {
            "text/plain": [
              "<keras.callbacks.History at 0x7f0dac822310>"
            ]
          },
          "metadata": {},
          "execution_count": 67
        }
      ],
      "source": [
        "model.fit(X_scaled, y_scaled, epochs=10)"
      ]
    },
    {
      "cell_type": "code",
      "execution_count": 68,
      "id": "JX5msv2qq1Nq",
      "metadata": {
        "id": "JX5msv2qq1Nq"
      },
      "outputs": [],
      "source": [
        "prediction=model.predict(X_scaled)"
      ]
    },
    {
      "cell_type": "code",
      "execution_count": 69,
      "id": "202dfd38-204b-4d97-ac8d-f1d141204f11",
      "metadata": {
        "id": "202dfd38-204b-4d97-ac8d-f1d141204f11"
      },
      "outputs": [],
      "source": [
        "import matplotlib.pyplot as plt"
      ]
    },
    {
      "cell_type": "code",
      "execution_count": 70,
      "id": "69DvhtTCqFIo",
      "metadata": {
        "colab": {
          "base_uri": "https://localhost:8080/",
          "height": 283
        },
        "id": "69DvhtTCqFIo",
        "outputId": "55f06479-7da9-43cc-d585-2d27dcdb5f83"
      },
      "outputs": [
        {
          "output_type": "execute_result",
          "data": {
            "text/plain": [
              "[<matplotlib.lines.Line2D at 0x7f0da4a1c9d0>]"
            ]
          },
          "metadata": {},
          "execution_count": 70
        },
        {
          "output_type": "display_data",
          "data": {
            "text/plain": [
              "<Figure size 432x288 with 1 Axes>"
            ],
            "image/png": "[encoded data removed]"
          },
          "metadata": {
            "needs_background": "light"
          }
        }
      ],
      "source": [
        "plt.plot(prediction)\n",
        "plt.plot(y_scaled.ravel())"
      ]
    },
    {
      "cell_type": "code",
      "execution_count": 71,
      "id": "FkCmamxXqFIp",
      "metadata": {
        "id": "FkCmamxXqFIp"
      },
      "outputs": [],
      "source": [
        "y_predicted=y_scaler.inverse_transform(prediction)"
      ]
    },
    {
      "cell_type": "code",
      "execution_count": 72,
      "id": "6QjNtRIqqFIp",
      "metadata": {
        "colab": {
          "base_uri": "https://localhost:8080/",
          "height": 283
        },
        "id": "6QjNtRIqqFIp",
        "outputId": "13a748f4-9b72-4dfe-936f-8268a6778801"
      },
      "outputs": [
        {
          "output_type": "execute_result",
          "data": {
            "text/plain": [
              "[<matplotlib.lines.Line2D at 0x7f0da4980c50>]"
            ]
          },
          "metadata": {},
          "execution_count": 72
        },
        {
          "output_type": "display_data",
          "data": {
            "text/plain": [
              "<Figure size 432x288 with 1 Axes>"
            ],
            "image/png": "[encoded data removed]"
          },
          "metadata": {
            "needs_background": "light"
          }
        }
      ],
      "source": [
        "plt.plot(y_predicted)"
      ]
    },
    {
      "cell_type": "code",
      "execution_count": 73,
      "id": "9pkiFyNRt7ZJ",
      "metadata": {
        "id": "9pkiFyNRt7ZJ"
      },
      "outputs": [],
      "source": [
        "old_X_scaled=X_scaled.copy()\n",
        "old_y_scaled=y_scaled.copy()"
      ]
    },
    {
      "cell_type": "code",
      "execution_count": 74,
      "id": "dTuO1I9NuXhR",
      "metadata": {
        "colab": {
          "base_uri": "https://localhost:8080/"
        },
        "id": "dTuO1I9NuXhR",
        "outputId": "8b218af5-5ade-4029-df88-c509316dcc9e"
      },
      "outputs": [
        {
          "output_type": "execute_result",
          "data": {
            "text/plain": [
              "array([[[0.9640718 ],\n",
              "        [0.86926135],\n",
              "        [0.90918166],\n",
              "        ...,\n",
              "        [0.85079833],\n",
              "        [0.8353292 ],\n",
              "        [0.87674645]],\n",
              "\n",
              "       [[0.86926135],\n",
              "        [0.90918166],\n",
              "        [0.89321361],\n",
              "        ...,\n",
              "        [0.8353292 ],\n",
              "        [0.87674645],\n",
              "        [0.86526943]],\n",
              "\n",
              "       [[0.90918166],\n",
              "        [0.89321361],\n",
              "        [0.9391217 ],\n",
              "        ...,\n",
              "        [0.87674645],\n",
              "        [0.86526943],\n",
              "        [0.88123748]],\n",
              "\n",
              "       ...,\n",
              "\n",
              "       [[0.17265464],\n",
              "        [0.16566864],\n",
              "        [0.14720552],\n",
              "        ...,\n",
              "        [0.18812377],\n",
              "        [0.17664665],\n",
              "        [0.16516963]],\n",
              "\n",
              "       [[0.16566864],\n",
              "        [0.14720552],\n",
              "        [0.1966068 ],\n",
              "        ...,\n",
              "        [0.17664665],\n",
              "        [0.16516963],\n",
              "        [0.15069862]],\n",
              "\n",
              "       [[0.14720552],\n",
              "        [0.1966068 ],\n",
              "        [0.19810375],\n",
              "        ...,\n",
              "        [0.16516963],\n",
              "        [0.15069862],\n",
              "        [0.14620759]]])"
            ]
          },
          "metadata": {},
          "execution_count": 74
        }
      ],
      "source": [
        "X_scaled"
      ]
    },
    {
      "cell_type": "code",
      "execution_count": 75,
      "id": "Vrz3QbsiqFIq",
      "metadata": {
        "colab": {
          "base_uri": "https://localhost:8080/",
          "height": 1000
        },
        "id": "Vrz3QbsiqFIq",
        "outputId": "9b7e4cee-6578-4a9b-8cc0-4c14744719a5"
      },
      "outputs": [
        {
          "output_type": "display_data",
          "data": {
            "text/plain": [
              "array([[21.050142]], dtype=float32)"
            ]
          },
          "metadata": {}
        },
        {
          "output_type": "stream",
          "name": "stdout",
          "text": [
            "Epoch 1/5\n",
            "30/30 [==============================] - 1s 27ms/step - loss: 0.0073 - mean_squared_error: 0.0073\n",
            "Epoch 2/5\n",
            "30/30 [==============================] - 1s 28ms/step - loss: 0.0072 - mean_squared_error: 0.0072\n",
            "Epoch 3/5\n",
            "30/30 [==============================] - 1s 22ms/step - loss: 0.0070 - mean_squared_error: 0.0070\n",
            "Epoch 4/5\n",
            "30/30 [==============================] - 1s 34ms/step - loss: 0.0069 - mean_squared_error: 0.0069\n",
            "Epoch 5/5\n",
            "30/30 [==============================] - 1s 22ms/step - loss: 0.0069 - mean_squared_error: 0.0069\n"
          ]
        },
        {
          "output_type": "display_data",
          "data": {
            "text/plain": [
              "array([[21.112051]], dtype=float32)"
            ]
          },
          "metadata": {}
        },
        {
          "output_type": "stream",
          "name": "stdout",
          "text": [
            "Epoch 1/5\n",
            "30/30 [==============================] - 1s 25ms/step - loss: 0.0069 - mean_squared_error: 0.0069\n",
            "Epoch 2/5\n",
            "30/30 [==============================] - 1s 21ms/step - loss: 0.0069 - mean_squared_error: 0.0069\n",
            "Epoch 3/5\n",
            "30/30 [==============================] - 1s 21ms/step - loss: 0.0064 - mean_squared_error: 0.0064\n",
            "Epoch 4/5\n",
            "30/30 [==============================] - 0s 17ms/step - loss: 0.0063 - mean_squared_error: 0.0063\n",
            "Epoch 5/5\n",
            "30/30 [==============================] - 0s 15ms/step - loss: 0.0065 - mean_squared_error: 0.0065\n"
          ]
        },
        {
          "output_type": "display_data",
          "data": {
            "text/plain": [
              "array([[20.620651]], dtype=float32)"
            ]
          },
          "metadata": {}
        },
        {
          "output_type": "stream",
          "name": "stdout",
          "text": [
            "Epoch 1/5\n",
            "30/30 [==============================] - 0s 16ms/step - loss: 0.0069 - mean_squared_error: 0.0069\n",
            "Epoch 2/5\n",
            "30/30 [==============================] - 0s 15ms/step - loss: 0.0067 - mean_squared_error: 0.0067\n",
            "Epoch 3/5\n",
            "30/30 [==============================] - 0s 15ms/step - loss: 0.0060 - mean_squared_error: 0.0060\n",
            "Epoch 4/5\n",
            "30/30 [==============================] - 0s 15ms/step - loss: 0.0061 - mean_squared_error: 0.0061\n",
            "Epoch 5/5\n",
            "30/30 [==============================] - 0s 15ms/step - loss: 0.0056 - mean_squared_error: 0.0056\n"
          ]
        },
        {
          "output_type": "display_data",
          "data": {
            "text/plain": [
              "array([[20.456434]], dtype=float32)"
            ]
          },
          "metadata": {}
        },
        {
          "output_type": "stream",
          "name": "stdout",
          "text": [
            "Epoch 1/5\n",
            "30/30 [==============================] - 0s 15ms/step - loss: 0.0057 - mean_squared_error: 0.0057\n",
            "Epoch 2/5\n",
            "30/30 [==============================] - 0s 16ms/step - loss: 0.0054 - mean_squared_error: 0.0054\n",
            "Epoch 3/5\n",
            "30/30 [==============================] - 0s 16ms/step - loss: 0.0053 - mean_squared_error: 0.0053\n",
            "Epoch 4/5\n",
            "30/30 [==============================] - 0s 16ms/step - loss: 0.0054 - mean_squared_error: 0.0054\n",
            "Epoch 5/5\n",
            "30/30 [==============================] - 0s 16ms/step - loss: 0.0051 - mean_squared_error: 0.0051\n"
          ]
        },
        {
          "output_type": "display_data",
          "data": {
            "text/plain": [
              "array([[20.616264]], dtype=float32)"
            ]
          },
          "metadata": {}
        },
        {
          "output_type": "stream",
          "name": "stdout",
          "text": [
            "Epoch 1/5\n",
            "30/30 [==============================] - 0s 15ms/step - loss: 0.0050 - mean_squared_error: 0.0050\n",
            "Epoch 2/5\n",
            "30/30 [==============================] - 0s 16ms/step - loss: 0.0050 - mean_squared_error: 0.0050\n",
            "Epoch 3/5\n",
            "30/30 [==============================] - 0s 15ms/step - loss: 0.0048 - mean_squared_error: 0.0048\n",
            "Epoch 4/5\n",
            "30/30 [==============================] - 0s 15ms/step - loss: 0.0047 - mean_squared_error: 0.0047\n",
            "Epoch 5/5\n",
            "30/30 [==============================] - 1s 17ms/step - loss: 0.0048 - mean_squared_error: 0.0048\n"
          ]
        },
        {
          "output_type": "display_data",
          "data": {
            "text/plain": [
              "array([[20.615522]], dtype=float32)"
            ]
          },
          "metadata": {}
        },
        {
          "output_type": "stream",
          "name": "stdout",
          "text": [
            "Epoch 1/5\n",
            "30/30 [==============================] - 0s 15ms/step - loss: 0.0045 - mean_squared_error: 0.0045\n",
            "Epoch 2/5\n",
            "30/30 [==============================] - 0s 15ms/step - loss: 0.0060 - mean_squared_error: 0.0060\n",
            "Epoch 3/5\n",
            "30/30 [==============================] - 0s 15ms/step - loss: 0.0043 - mean_squared_error: 0.0043\n",
            "Epoch 4/5\n",
            "30/30 [==============================] - 0s 15ms/step - loss: 0.0042 - mean_squared_error: 0.0042\n",
            "Epoch 5/5\n",
            "30/30 [==============================] - 0s 15ms/step - loss: 0.0039 - mean_squared_error: 0.0039\n"
          ]
        },
        {
          "output_type": "display_data",
          "data": {
            "text/plain": [
              "array([[20.574293]], dtype=float32)"
            ]
          },
          "metadata": {}
        },
        {
          "output_type": "stream",
          "name": "stdout",
          "text": [
            "Epoch 1/5\n",
            "30/30 [==============================] - 0s 15ms/step - loss: 0.0041 - mean_squared_error: 0.0041\n",
            "Epoch 2/5\n",
            "30/30 [==============================] - 0s 15ms/step - loss: 0.0040 - mean_squared_error: 0.0040\n",
            "Epoch 3/5\n",
            "30/30 [==============================] - 0s 15ms/step - loss: 0.0042 - mean_squared_error: 0.0042\n",
            "Epoch 4/5\n",
            "30/30 [==============================] - 0s 15ms/step - loss: 0.0038 - mean_squared_error: 0.0038\n",
            "Epoch 5/5\n",
            "30/30 [==============================] - 0s 15ms/step - loss: 0.0042 - mean_squared_error: 0.0042\n"
          ]
        },
        {
          "output_type": "display_data",
          "data": {
            "text/plain": [
              "array([[20.731457]], dtype=float32)"
            ]
          },
          "metadata": {}
        },
        {
          "output_type": "stream",
          "name": "stdout",
          "text": [
            "Epoch 1/5\n",
            "30/30 [==============================] - 0s 16ms/step - loss: 0.0039 - mean_squared_error: 0.0039\n",
            "Epoch 2/5\n",
            "30/30 [==============================] - 0s 15ms/step - loss: 0.0038 - mean_squared_error: 0.0038\n",
            "Epoch 3/5\n",
            "30/30 [==============================] - 0s 14ms/step - loss: 0.0038 - mean_squared_error: 0.0038\n",
            "Epoch 4/5\n",
            "30/30 [==============================] - 0s 15ms/step - loss: 0.0034 - mean_squared_error: 0.0034\n",
            "Epoch 5/5\n",
            "30/30 [==============================] - 0s 15ms/step - loss: 0.0036 - mean_squared_error: 0.0036\n"
          ]
        },
        {
          "output_type": "display_data",
          "data": {
            "text/plain": [
              "array([[20.893599]], dtype=float32)"
            ]
          },
          "metadata": {}
        },
        {
          "output_type": "stream",
          "name": "stdout",
          "text": [
            "Epoch 1/5\n",
            "30/30 [==============================] - 3s 11ms/step - loss: 0.0035 - mean_squared_error: 0.0035\n",
            "Epoch 2/5\n",
            "30/30 [==============================] - 0s 11ms/step - loss: 0.0035 - mean_squared_error: 0.0035\n",
            "Epoch 3/5\n",
            "30/30 [==============================] - 0s 13ms/step - loss: 0.0034 - mean_squared_error: 0.0034\n",
            "Epoch 4/5\n",
            "30/30 [==============================] - 0s 11ms/step - loss: 0.0033 - mean_squared_error: 0.0033\n",
            "Epoch 5/5\n",
            "30/30 [==============================] - 0s 11ms/step - loss: 0.0034 - mean_squared_error: 0.0034\n"
          ]
        },
        {
          "output_type": "display_data",
          "data": {
            "text/plain": [
              "array([[21.030985]], dtype=float32)"
            ]
          },
          "metadata": {}
        },
        {
          "output_type": "stream",
          "name": "stdout",
          "text": [
            "Epoch 1/5\n",
            "31/31 [==============================] - 0s 15ms/step - loss: 0.0033 - mean_squared_error: 0.0033\n",
            "Epoch 2/5\n",
            "31/31 [==============================] - 0s 15ms/step - loss: 0.0033 - mean_squared_error: 0.0033\n",
            "Epoch 3/5\n",
            "31/31 [==============================] - 0s 15ms/step - loss: 0.0039 - mean_squared_error: 0.0039\n",
            "Epoch 4/5\n",
            "31/31 [==============================] - 0s 16ms/step - loss: 0.0033 - mean_squared_error: 0.0033\n",
            "Epoch 5/5\n",
            "31/31 [==============================] - 0s 15ms/step - loss: 0.0034 - mean_squared_error: 0.0034\n"
          ]
        },
        {
          "output_type": "display_data",
          "data": {
            "text/plain": [
              "array([[21.076458]], dtype=float32)"
            ]
          },
          "metadata": {}
        },
        {
          "output_type": "stream",
          "name": "stdout",
          "text": [
            "Epoch 1/5\n",
            "31/31 [==============================] - 0s 15ms/step - loss: 0.0031 - mean_squared_error: 0.0031\n",
            "Epoch 2/5\n",
            "31/31 [==============================] - 0s 14ms/step - loss: 0.0030 - mean_squared_error: 0.0030\n",
            "Epoch 3/5\n",
            "31/31 [==============================] - 0s 14ms/step - loss: 0.0030 - mean_squared_error: 0.0030\n",
            "Epoch 4/5\n",
            "31/31 [==============================] - 0s 14ms/step - loss: 0.0030 - mean_squared_error: 0.0030\n",
            "Epoch 5/5\n",
            "31/31 [==============================] - 0s 14ms/step - loss: 0.0028 - mean_squared_error: 0.0028\n"
          ]
        },
        {
          "output_type": "display_data",
          "data": {
            "text/plain": [
              "array([[20.668898]], dtype=float32)"
            ]
          },
          "metadata": {}
        },
        {
          "output_type": "stream",
          "name": "stdout",
          "text": [
            "Epoch 1/5\n",
            "31/31 [==============================] - 0s 15ms/step - loss: 0.0034 - mean_squared_error: 0.0034\n",
            "Epoch 2/5\n",
            "31/31 [==============================] - 0s 16ms/step - loss: 0.0028 - mean_squared_error: 0.0028\n",
            "Epoch 3/5\n",
            "31/31 [==============================] - 0s 15ms/step - loss: 0.0028 - mean_squared_error: 0.0028\n",
            "Epoch 4/5\n",
            "31/31 [==============================] - 0s 14ms/step - loss: 0.0028 - mean_squared_error: 0.0028\n",
            "Epoch 5/5\n",
            "31/31 [==============================] - 0s 14ms/step - loss: 0.0029 - mean_squared_error: 0.0029\n"
          ]
        },
        {
          "output_type": "display_data",
          "data": {
            "text/plain": [
              "array([[21.216465]], dtype=float32)"
            ]
          },
          "metadata": {}
        },
        {
          "output_type": "stream",
          "name": "stdout",
          "text": [
            "Epoch 1/5\n",
            "31/31 [==============================] - 0s 16ms/step - loss: 0.0028 - mean_squared_error: 0.0028\n",
            "Epoch 2/5\n",
            "31/31 [==============================] - 0s 15ms/step - loss: 0.0024 - mean_squared_error: 0.0024\n",
            "Epoch 3/5\n",
            "31/31 [==============================] - 1s 16ms/step - loss: 0.0025 - mean_squared_error: 0.0025\n",
            "Epoch 4/5\n",
            "31/31 [==============================] - 0s 15ms/step - loss: 0.0024 - mean_squared_error: 0.0024\n",
            "Epoch 5/5\n",
            "31/31 [==============================] - 0s 16ms/step - loss: 0.0024 - mean_squared_error: 0.0024\n"
          ]
        },
        {
          "output_type": "display_data",
          "data": {
            "text/plain": [
              "array([[21.169518]], dtype=float32)"
            ]
          },
          "metadata": {}
        },
        {
          "output_type": "stream",
          "name": "stdout",
          "text": [
            "Epoch 1/5\n",
            "31/31 [==============================] - 1s 17ms/step - loss: 0.0023 - mean_squared_error: 0.0023\n",
            "Epoch 2/5\n",
            "31/31 [==============================] - 0s 15ms/step - loss: 0.0024 - mean_squared_error: 0.0024\n",
            "Epoch 3/5\n",
            "31/31 [==============================] - 0s 15ms/step - loss: 0.0023 - mean_squared_error: 0.0023\n",
            "Epoch 4/5\n",
            "31/31 [==============================] - 0s 15ms/step - loss: 0.0023 - mean_squared_error: 0.0023\n",
            "Epoch 5/5\n",
            "31/31 [==============================] - 0s 15ms/step - loss: 0.0025 - mean_squared_error: 0.0025\n"
          ]
        },
        {
          "output_type": "display_data",
          "data": {
            "text/plain": [
              "array([[21.290354]], dtype=float32)"
            ]
          },
          "metadata": {}
        },
        {
          "output_type": "stream",
          "name": "stdout",
          "text": [
            "Epoch 1/5\n",
            "31/31 [==============================] - 0s 15ms/step - loss: 0.0022 - mean_squared_error: 0.0022\n",
            "Epoch 2/5\n",
            "31/31 [==============================] - 0s 14ms/step - loss: 0.0025 - mean_squared_error: 0.0025\n",
            "Epoch 3/5\n",
            "31/31 [==============================] - 0s 15ms/step - loss: 0.0023 - mean_squared_error: 0.0023\n",
            "Epoch 4/5\n",
            "31/31 [==============================] - 0s 14ms/step - loss: 0.0022 - mean_squared_error: 0.0022\n",
            "Epoch 5/5\n",
            "31/31 [==============================] - 0s 15ms/step - loss: 0.0021 - mean_squared_error: 0.0021\n"
          ]
        },
        {
          "output_type": "display_data",
          "data": {
            "text/plain": [
              "array([[20.95877]], dtype=float32)"
            ]
          },
          "metadata": {}
        },
        {
          "output_type": "stream",
          "name": "stdout",
          "text": [
            "Epoch 1/5\n",
            "31/31 [==============================] - 0s 15ms/step - loss: 0.0023 - mean_squared_error: 0.0023\n",
            "Epoch 2/5\n",
            "31/31 [==============================] - 0s 15ms/step - loss: 0.0020 - mean_squared_error: 0.0020\n",
            "Epoch 3/5\n",
            "31/31 [==============================] - 0s 15ms/step - loss: 0.0021 - mean_squared_error: 0.0021\n",
            "Epoch 4/5\n",
            "31/31 [==============================] - 0s 15ms/step - loss: 0.0021 - mean_squared_error: 0.0021\n",
            "Epoch 5/5\n",
            "31/31 [==============================] - 0s 15ms/step - loss: 0.0023 - mean_squared_error: 0.0023\n"
          ]
        },
        {
          "output_type": "display_data",
          "data": {
            "text/plain": [
              "array([[21.354221]], dtype=float32)"
            ]
          },
          "metadata": {}
        },
        {
          "output_type": "stream",
          "name": "stdout",
          "text": [
            "Epoch 1/5\n",
            "31/31 [==============================] - 0s 16ms/step - loss: 0.0021 - mean_squared_error: 0.0021\n",
            "Epoch 2/5\n",
            "31/31 [==============================] - 0s 16ms/step - loss: 0.0020 - mean_squared_error: 0.0020\n",
            "Epoch 3/5\n",
            "31/31 [==============================] - 0s 15ms/step - loss: 0.0020 - mean_squared_error: 0.0020\n",
            "Epoch 4/5\n",
            "31/31 [==============================] - 0s 15ms/step - loss: 0.0020 - mean_squared_error: 0.0020\n",
            "Epoch 5/5\n",
            "31/31 [==============================] - 0s 15ms/step - loss: 0.0019 - mean_squared_error: 0.0019\n"
          ]
        },
        {
          "output_type": "display_data",
          "data": {
            "text/plain": [
              "array([[21.405296]], dtype=float32)"
            ]
          },
          "metadata": {}
        },
        {
          "output_type": "stream",
          "name": "stdout",
          "text": [
            "Epoch 1/5\n",
            "31/31 [==============================] - 1s 16ms/step - loss: 0.0021 - mean_squared_error: 0.0021\n",
            "Epoch 2/5\n",
            "31/31 [==============================] - 0s 15ms/step - loss: 0.0018 - mean_squared_error: 0.0018\n",
            "Epoch 3/5\n",
            "31/31 [==============================] - 0s 16ms/step - loss: 0.0019 - mean_squared_error: 0.0019\n",
            "Epoch 4/5\n",
            "31/31 [==============================] - 0s 14ms/step - loss: 0.0020 - mean_squared_error: 0.0020\n",
            "Epoch 5/5\n",
            "31/31 [==============================] - 0s 14ms/step - loss: 0.0020 - mean_squared_error: 0.0020\n"
          ]
        },
        {
          "output_type": "display_data",
          "data": {
            "text/plain": [
              "array([[21.480524]], dtype=float32)"
            ]
          },
          "metadata": {}
        },
        {
          "output_type": "stream",
          "name": "stdout",
          "text": [
            "Epoch 1/5\n",
            "31/31 [==============================] - 0s 15ms/step - loss: 0.0019 - mean_squared_error: 0.0019\n",
            "Epoch 2/5\n",
            "31/31 [==============================] - 0s 15ms/step - loss: 0.0020 - mean_squared_error: 0.0020\n",
            "Epoch 3/5\n",
            "31/31 [==============================] - 0s 16ms/step - loss: 0.0021 - mean_squared_error: 0.0021\n",
            "Epoch 4/5\n",
            "31/31 [==============================] - 0s 15ms/step - loss: 0.0018 - mean_squared_error: 0.0018\n",
            "Epoch 5/5\n",
            "31/31 [==============================] - 0s 14ms/step - loss: 0.0017 - mean_squared_error: 0.0017\n"
          ]
        },
        {
          "output_type": "display_data",
          "data": {
            "text/plain": [
              "array([[21.666712]], dtype=float32)"
            ]
          },
          "metadata": {}
        },
        {
          "output_type": "stream",
          "name": "stdout",
          "text": [
            "Epoch 1/5\n",
            "31/31 [==============================] - 0s 14ms/step - loss: 0.0018 - mean_squared_error: 0.0018\n",
            "Epoch 2/5\n",
            "31/31 [==============================] - 0s 14ms/step - loss: 0.0019 - mean_squared_error: 0.0019\n",
            "Epoch 3/5\n",
            "31/31 [==============================] - 0s 15ms/step - loss: 0.0018 - mean_squared_error: 0.0018\n",
            "Epoch 4/5\n",
            "31/31 [==============================] - 0s 15ms/step - loss: 0.0017 - mean_squared_error: 0.0017\n",
            "Epoch 5/5\n",
            "31/31 [==============================] - 0s 14ms/step - loss: 0.0017 - mean_squared_error: 0.0017\n"
          ]
        },
        {
          "output_type": "display_data",
          "data": {
            "text/plain": [
              "array([[21.416882]], dtype=float32)"
            ]
          },
          "metadata": {}
        },
        {
          "output_type": "stream",
          "name": "stdout",
          "text": [
            "Epoch 1/5\n",
            "31/31 [==============================] - 1s 21ms/step - loss: 0.0017 - mean_squared_error: 0.0017\n",
            "Epoch 2/5\n",
            "31/31 [==============================] - 1s 21ms/step - loss: 0.0018 - mean_squared_error: 0.0018\n",
            "Epoch 3/5\n",
            "31/31 [==============================] - 1s 21ms/step - loss: 0.0019 - mean_squared_error: 0.0019\n",
            "Epoch 4/5\n",
            "31/31 [==============================] - 1s 18ms/step - loss: 0.0018 - mean_squared_error: 0.0018\n",
            "Epoch 5/5\n",
            "31/31 [==============================] - 0s 15ms/step - loss: 0.0017 - mean_squared_error: 0.0017\n"
          ]
        },
        {
          "output_type": "display_data",
          "data": {
            "text/plain": [
              "array([[21.89658]], dtype=float32)"
            ]
          },
          "metadata": {}
        },
        {
          "output_type": "stream",
          "name": "stdout",
          "text": [
            "Epoch 1/5\n",
            "31/31 [==============================] - 0s 15ms/step - loss: 0.0016 - mean_squared_error: 0.0016\n",
            "Epoch 2/5\n",
            "31/31 [==============================] - 0s 15ms/step - loss: 0.0017 - mean_squared_error: 0.0017\n",
            "Epoch 3/5\n",
            "31/31 [==============================] - 0s 16ms/step - loss: 0.0018 - mean_squared_error: 0.0018\n",
            "Epoch 4/5\n",
            "31/31 [==============================] - 0s 15ms/step - loss: 0.0017 - mean_squared_error: 0.0017\n",
            "Epoch 5/5\n",
            "31/31 [==============================] - 0s 15ms/step - loss: 0.0016 - mean_squared_error: 0.0016\n"
          ]
        },
        {
          "output_type": "display_data",
          "data": {
            "text/plain": [
              "array([[21.941525]], dtype=float32)"
            ]
          },
          "metadata": {}
        },
        {
          "output_type": "stream",
          "name": "stdout",
          "text": [
            "Epoch 1/5\n",
            "31/31 [==============================] - 0s 15ms/step - loss: 0.0017 - mean_squared_error: 0.0017\n",
            "Epoch 2/5\n",
            "31/31 [==============================] - 0s 14ms/step - loss: 0.0015 - mean_squared_error: 0.0015\n",
            "Epoch 3/5\n",
            "31/31 [==============================] - 0s 16ms/step - loss: 0.0016 - mean_squared_error: 0.0016\n",
            "Epoch 4/5\n",
            "31/31 [==============================] - 0s 15ms/step - loss: 0.0017 - mean_squared_error: 0.0017\n",
            "Epoch 5/5\n",
            "31/31 [==============================] - 1s 16ms/step - loss: 0.0018 - mean_squared_error: 0.0018\n"
          ]
        },
        {
          "output_type": "display_data",
          "data": {
            "text/plain": [
              "array([[21.684029]], dtype=float32)"
            ]
          },
          "metadata": {}
        },
        {
          "output_type": "stream",
          "name": "stdout",
          "text": [
            "Epoch 1/5\n",
            "31/31 [==============================] - 0s 14ms/step - loss: 0.0018 - mean_squared_error: 0.0018\n",
            "Epoch 2/5\n",
            "31/31 [==============================] - 0s 16ms/step - loss: 0.0015 - mean_squared_error: 0.0015\n",
            "Epoch 3/5\n",
            "31/31 [==============================] - 0s 15ms/step - loss: 0.0016 - mean_squared_error: 0.0016\n",
            "Epoch 4/5\n",
            "31/31 [==============================] - 0s 16ms/step - loss: 0.0016 - mean_squared_error: 0.0016\n",
            "Epoch 5/5\n",
            "31/31 [==============================] - 0s 15ms/step - loss: 0.0016 - mean_squared_error: 0.0016\n"
          ]
        },
        {
          "output_type": "display_data",
          "data": {
            "text/plain": [
              "array([[21.78616]], dtype=float32)"
            ]
          },
          "metadata": {}
        },
        {
          "output_type": "stream",
          "name": "stdout",
          "text": [
            "Epoch 1/5\n",
            "31/31 [==============================] - 0s 16ms/step - loss: 0.0016 - mean_squared_error: 0.0016\n",
            "Epoch 2/5\n",
            "31/31 [==============================] - 0s 15ms/step - loss: 0.0016 - mean_squared_error: 0.0016\n",
            "Epoch 3/5\n",
            "31/31 [==============================] - 0s 15ms/step - loss: 0.0016 - mean_squared_error: 0.0016\n",
            "Epoch 4/5\n",
            "31/31 [==============================] - 0s 15ms/step - loss: 0.0015 - mean_squared_error: 0.0015\n",
            "Epoch 5/5\n",
            "31/31 [==============================] - 1s 16ms/step - loss: 0.0016 - mean_squared_error: 0.0016\n"
          ]
        },
        {
          "output_type": "display_data",
          "data": {
            "text/plain": [
              "array([[21.722008]], dtype=float32)"
            ]
          },
          "metadata": {}
        },
        {
          "output_type": "stream",
          "name": "stdout",
          "text": [
            "Epoch 1/5\n",
            "31/31 [==============================] - 0s 14ms/step - loss: 0.0015 - mean_squared_error: 0.0015\n",
            "Epoch 2/5\n",
            "31/31 [==============================] - 0s 16ms/step - loss: 0.0015 - mean_squared_error: 0.0015\n",
            "Epoch 3/5\n",
            "31/31 [==============================] - 0s 14ms/step - loss: 0.0016 - mean_squared_error: 0.0016\n",
            "Epoch 4/5\n",
            "31/31 [==============================] - 0s 16ms/step - loss: 0.0016 - mean_squared_error: 0.0016\n",
            "Epoch 5/5\n",
            "31/31 [==============================] - 0s 15ms/step - loss: 0.0015 - mean_squared_error: 0.0015\n"
          ]
        },
        {
          "output_type": "display_data",
          "data": {
            "text/plain": [
              "array([[21.853455]], dtype=float32)"
            ]
          },
          "metadata": {}
        },
        {
          "output_type": "stream",
          "name": "stdout",
          "text": [
            "Epoch 1/5\n",
            "31/31 [==============================] - 0s 14ms/step - loss: 0.0015 - mean_squared_error: 0.0015\n",
            "Epoch 2/5\n",
            "31/31 [==============================] - 0s 14ms/step - loss: 0.0014 - mean_squared_error: 0.0014\n",
            "Epoch 3/5\n",
            "31/31 [==============================] - 0s 16ms/step - loss: 0.0016 - mean_squared_error: 0.0016\n",
            "Epoch 4/5\n",
            "31/31 [==============================] - 0s 15ms/step - loss: 0.0015 - mean_squared_error: 0.0015\n",
            "Epoch 5/5\n",
            "31/31 [==============================] - 0s 15ms/step - loss: 0.0016 - mean_squared_error: 0.0016\n"
          ]
        },
        {
          "output_type": "display_data",
          "data": {
            "text/plain": [
              "array([[21.599699]], dtype=float32)"
            ]
          },
          "metadata": {}
        },
        {
          "output_type": "stream",
          "name": "stdout",
          "text": [
            "Epoch 1/5\n",
            "31/31 [==============================] - 0s 14ms/step - loss: 0.0015 - mean_squared_error: 0.0015\n",
            "Epoch 2/5\n",
            "31/31 [==============================] - 0s 15ms/step - loss: 0.0015 - mean_squared_error: 0.0015\n",
            "Epoch 3/5\n",
            "31/31 [==============================] - 1s 16ms/step - loss: 0.0016 - mean_squared_error: 0.0016\n",
            "Epoch 4/5\n",
            "31/31 [==============================] - 0s 15ms/step - loss: 0.0016 - mean_squared_error: 0.0016\n",
            "Epoch 5/5\n",
            "31/31 [==============================] - 0s 15ms/step - loss: 0.0017 - mean_squared_error: 0.0017\n"
          ]
        },
        {
          "output_type": "display_data",
          "data": {
            "text/plain": [
              "array([[21.722057]], dtype=float32)"
            ]
          },
          "metadata": {}
        },
        {
          "output_type": "stream",
          "name": "stdout",
          "text": [
            "Epoch 1/5\n",
            "31/31 [==============================] - 0s 16ms/step - loss: 0.0016 - mean_squared_error: 0.0016\n",
            "Epoch 2/5\n",
            "31/31 [==============================] - 0s 16ms/step - loss: 0.0015 - mean_squared_error: 0.0015\n",
            "Epoch 3/5\n",
            "31/31 [==============================] - 0s 16ms/step - loss: 0.0016 - mean_squared_error: 0.0016\n",
            "Epoch 4/5\n",
            "31/31 [==============================] - 0s 16ms/step - loss: 0.0017 - mean_squared_error: 0.0017\n",
            "Epoch 5/5\n",
            "31/31 [==============================] - 0s 14ms/step - loss: 0.0016 - mean_squared_error: 0.0016\n"
          ]
        },
        {
          "output_type": "display_data",
          "data": {
            "text/plain": [
              "array([[21.828814]], dtype=float32)"
            ]
          },
          "metadata": {}
        },
        {
          "output_type": "stream",
          "name": "stdout",
          "text": [
            "Epoch 1/5\n",
            "31/31 [==============================] - 0s 15ms/step - loss: 0.0015 - mean_squared_error: 0.0015\n",
            "Epoch 2/5\n",
            "31/31 [==============================] - 0s 14ms/step - loss: 0.0016 - mean_squared_error: 0.0016\n",
            "Epoch 3/5\n",
            "31/31 [==============================] - 0s 15ms/step - loss: 0.0017 - mean_squared_error: 0.0017\n",
            "Epoch 4/5\n",
            "31/31 [==============================] - 0s 15ms/step - loss: 0.0015 - mean_squared_error: 0.0015\n",
            "Epoch 5/5\n",
            "31/31 [==============================] - 0s 15ms/step - loss: 0.0016 - mean_squared_error: 0.0016\n"
          ]
        },
        {
          "output_type": "display_data",
          "data": {
            "text/plain": [
              "array([[21.608744]], dtype=float32)"
            ]
          },
          "metadata": {}
        },
        {
          "output_type": "stream",
          "name": "stdout",
          "text": [
            "Epoch 1/5\n",
            "31/31 [==============================] - 0s 15ms/step - loss: 0.0015 - mean_squared_error: 0.0015\n",
            "Epoch 2/5\n",
            "31/31 [==============================] - 0s 15ms/step - loss: 0.0016 - mean_squared_error: 0.0016\n",
            "Epoch 3/5\n",
            "31/31 [==============================] - 0s 15ms/step - loss: 0.0016 - mean_squared_error: 0.0016\n",
            "Epoch 4/5\n",
            "31/31 [==============================] - 0s 14ms/step - loss: 0.0015 - mean_squared_error: 0.0015\n",
            "Epoch 5/5\n",
            "31/31 [==============================] - 0s 14ms/step - loss: 0.0017 - mean_squared_error: 0.0017\n"
          ]
        },
        {
          "output_type": "display_data",
          "data": {
            "text/plain": [
              "array([[21.411469]], dtype=float32)"
            ]
          },
          "metadata": {}
        },
        {
          "output_type": "stream",
          "name": "stdout",
          "text": [
            "Epoch 1/5\n",
            "31/31 [==============================] - 0s 15ms/step - loss: 0.0015 - mean_squared_error: 0.0015\n",
            "Epoch 2/5\n",
            "31/31 [==============================] - 0s 15ms/step - loss: 0.0014 - mean_squared_error: 0.0014\n",
            "Epoch 3/5\n",
            "31/31 [==============================] - 0s 15ms/step - loss: 0.0015 - mean_squared_error: 0.0015\n",
            "Epoch 4/5\n",
            "31/31 [==============================] - 0s 14ms/step - loss: 0.0015 - mean_squared_error: 0.0015\n",
            "Epoch 5/5\n",
            "31/31 [==============================] - 0s 14ms/step - loss: 0.0014 - mean_squared_error: 0.0014\n"
          ]
        },
        {
          "output_type": "display_data",
          "data": {
            "text/plain": [
              "array([[21.35247]], dtype=float32)"
            ]
          },
          "metadata": {}
        },
        {
          "output_type": "stream",
          "name": "stdout",
          "text": [
            "Epoch 1/5\n",
            "31/31 [==============================] - 0s 15ms/step - loss: 0.0015 - mean_squared_error: 0.0015\n",
            "Epoch 2/5\n",
            "31/31 [==============================] - 0s 14ms/step - loss: 0.0015 - mean_squared_error: 0.0015\n",
            "Epoch 3/5\n",
            "31/31 [==============================] - 0s 15ms/step - loss: 0.0014 - mean_squared_error: 0.0014\n",
            "Epoch 4/5\n",
            "31/31 [==============================] - 0s 15ms/step - loss: 0.0014 - mean_squared_error: 0.0014\n",
            "Epoch 5/5\n",
            "31/31 [==============================] - 0s 15ms/step - loss: 0.0014 - mean_squared_error: 0.0014\n"
          ]
        },
        {
          "output_type": "display_data",
          "data": {
            "text/plain": [
              "array([[21.398052]], dtype=float32)"
            ]
          },
          "metadata": {}
        },
        {
          "output_type": "stream",
          "name": "stdout",
          "text": [
            "Epoch 1/5\n",
            "31/31 [==============================] - 0s 14ms/step - loss: 0.0015 - mean_squared_error: 0.0015\n",
            "Epoch 2/5\n",
            "31/31 [==============================] - 0s 16ms/step - loss: 0.0015 - mean_squared_error: 0.0015\n",
            "Epoch 3/5\n",
            "31/31 [==============================] - 0s 16ms/step - loss: 0.0016 - mean_squared_error: 0.0016\n",
            "Epoch 4/5\n",
            "31/31 [==============================] - 0s 16ms/step - loss: 0.0016 - mean_squared_error: 0.0016\n",
            "Epoch 5/5\n",
            "31/31 [==============================] - 0s 14ms/step - loss: 0.0015 - mean_squared_error: 0.0015\n"
          ]
        },
        {
          "output_type": "display_data",
          "data": {
            "text/plain": [
              "array([[21.575195]], dtype=float32)"
            ]
          },
          "metadata": {}
        },
        {
          "output_type": "stream",
          "name": "stdout",
          "text": [
            "Epoch 1/5\n",
            "31/31 [==============================] - 0s 15ms/step - loss: 0.0015 - mean_squared_error: 0.0015\n",
            "Epoch 2/5\n",
            "31/31 [==============================] - 0s 14ms/step - loss: 0.0014 - mean_squared_error: 0.0014\n",
            "Epoch 3/5\n",
            "31/31 [==============================] - 0s 15ms/step - loss: 0.0014 - mean_squared_error: 0.0014\n",
            "Epoch 4/5\n",
            "31/31 [==============================] - 0s 14ms/step - loss: 0.0014 - mean_squared_error: 0.0014\n",
            "Epoch 5/5\n",
            "31/31 [==============================] - 0s 14ms/step - loss: 0.0015 - mean_squared_error: 0.0015\n"
          ]
        },
        {
          "output_type": "display_data",
          "data": {
            "text/plain": [
              "array([[21.1835]], dtype=float32)"
            ]
          },
          "metadata": {}
        },
        {
          "output_type": "stream",
          "name": "stdout",
          "text": [
            "Epoch 1/5\n",
            "31/31 [==============================] - 0s 15ms/step - loss: 0.0015 - mean_squared_error: 0.0015\n",
            "Epoch 2/5\n",
            "31/31 [==============================] - 0s 15ms/step - loss: 0.0014 - mean_squared_error: 0.0014\n",
            "Epoch 3/5\n",
            "31/31 [==============================] - 0s 15ms/step - loss: 0.0015 - mean_squared_error: 0.0015\n",
            "Epoch 4/5\n",
            "31/31 [==============================] - 0s 15ms/step - loss: 0.0014 - mean_squared_error: 0.0014\n",
            "Epoch 5/5\n",
            "31/31 [==============================] - 0s 15ms/step - loss: 0.0015 - mean_squared_error: 0.0015\n"
          ]
        },
        {
          "output_type": "display_data",
          "data": {
            "text/plain": [
              "array([[21.567335]], dtype=float32)"
            ]
          },
          "metadata": {}
        },
        {
          "output_type": "stream",
          "name": "stdout",
          "text": [
            "Epoch 1/5\n",
            "31/31 [==============================] - 0s 15ms/step - loss: 0.0015 - mean_squared_error: 0.0015\n",
            "Epoch 2/5\n",
            "31/31 [==============================] - 0s 15ms/step - loss: 0.0015 - mean_squared_error: 0.0015\n",
            "Epoch 3/5\n",
            "31/31 [==============================] - 0s 15ms/step - loss: 0.0014 - mean_squared_error: 0.0014\n",
            "Epoch 4/5\n",
            "31/31 [==============================] - 0s 15ms/step - loss: 0.0015 - mean_squared_error: 0.0015\n",
            "Epoch 5/5\n",
            "31/31 [==============================] - 0s 15ms/step - loss: 0.0014 - mean_squared_error: 0.0014\n"
          ]
        },
        {
          "output_type": "display_data",
          "data": {
            "text/plain": [
              "array([[21.544144]], dtype=float32)"
            ]
          },
          "metadata": {}
        },
        {
          "output_type": "stream",
          "name": "stdout",
          "text": [
            "Epoch 1/5\n",
            "31/31 [==============================] - 1s 16ms/step - loss: 0.0015 - mean_squared_error: 0.0015\n",
            "Epoch 2/5\n",
            "31/31 [==============================] - 0s 14ms/step - loss: 0.0015 - mean_squared_error: 0.0015\n",
            "Epoch 3/5\n",
            "31/31 [==============================] - 0s 15ms/step - loss: 0.0016 - mean_squared_error: 0.0016\n",
            "Epoch 4/5\n",
            "31/31 [==============================] - 0s 14ms/step - loss: 0.0015 - mean_squared_error: 0.0015\n",
            "Epoch 5/5\n",
            "31/31 [==============================] - 0s 14ms/step - loss: 0.0014 - mean_squared_error: 0.0014\n"
          ]
        },
        {
          "output_type": "display_data",
          "data": {
            "text/plain": [
              "array([[21.50002]], dtype=float32)"
            ]
          },
          "metadata": {}
        },
        {
          "output_type": "stream",
          "name": "stdout",
          "text": [
            "Epoch 1/5\n",
            "31/31 [==============================] - 1s 17ms/step - loss: 0.0014 - mean_squared_error: 0.0014\n",
            "Epoch 2/5\n",
            "31/31 [==============================] - 0s 15ms/step - loss: 0.0014 - mean_squared_error: 0.0014\n",
            "Epoch 3/5\n",
            "31/31 [==============================] - 0s 14ms/step - loss: 0.0014 - mean_squared_error: 0.0014\n",
            "Epoch 4/5\n",
            "31/31 [==============================] - 0s 15ms/step - loss: 0.0014 - mean_squared_error: 0.0014\n",
            "Epoch 5/5\n",
            "31/31 [==============================] - 0s 15ms/step - loss: 0.0017 - mean_squared_error: 0.0017\n"
          ]
        },
        {
          "output_type": "display_data",
          "data": {
            "text/plain": [
              "array([[21.524576]], dtype=float32)"
            ]
          },
          "metadata": {}
        },
        {
          "output_type": "stream",
          "name": "stdout",
          "text": [
            "Epoch 1/5\n",
            "31/31 [==============================] - 0s 15ms/step - loss: 0.0015 - mean_squared_error: 0.0015\n",
            "Epoch 2/5\n",
            "31/31 [==============================] - 0s 14ms/step - loss: 0.0016 - mean_squared_error: 0.0016\n",
            "Epoch 3/5\n",
            "31/31 [==============================] - 0s 15ms/step - loss: 0.0014 - mean_squared_error: 0.0014\n",
            "Epoch 4/5\n",
            "31/31 [==============================] - 0s 16ms/step - loss: 0.0013 - mean_squared_error: 0.0013\n",
            "Epoch 5/5\n",
            "31/31 [==============================] - 0s 15ms/step - loss: 0.0014 - mean_squared_error: 0.0014\n"
          ]
        },
        {
          "output_type": "display_data",
          "data": {
            "text/plain": [
              "array([[21.343348]], dtype=float32)"
            ]
          },
          "metadata": {}
        },
        {
          "output_type": "stream",
          "name": "stdout",
          "text": [
            "Epoch 1/5\n",
            "31/31 [==============================] - 0s 11ms/step - loss: 0.0015 - mean_squared_error: 0.0015\n",
            "Epoch 2/5\n",
            "31/31 [==============================] - 0s 10ms/step - loss: 0.0015 - mean_squared_error: 0.0015\n",
            "Epoch 3/5\n",
            "31/31 [==============================] - 0s 11ms/step - loss: 0.0015 - mean_squared_error: 0.0015\n",
            "Epoch 4/5\n",
            "31/31 [==============================] - 0s 11ms/step - loss: 0.0014 - mean_squared_error: 0.0014\n",
            "Epoch 5/5\n",
            "31/31 [==============================] - 0s 12ms/step - loss: 0.0015 - mean_squared_error: 0.0015\n"
          ]
        },
        {
          "output_type": "display_data",
          "data": {
            "text/plain": [
              "array([[21.218088]], dtype=float32)"
            ]
          },
          "metadata": {}
        },
        {
          "output_type": "stream",
          "name": "stdout",
          "text": [
            "Epoch 1/5\n",
            "32/32 [==============================] - 1s 16ms/step - loss: 0.0014 - mean_squared_error: 0.0014\n",
            "Epoch 2/5\n",
            "32/32 [==============================] - 0s 15ms/step - loss: 0.0016 - mean_squared_error: 0.0016\n",
            "Epoch 3/5\n",
            "32/32 [==============================] - 0s 15ms/step - loss: 0.0015 - mean_squared_error: 0.0015\n",
            "Epoch 4/5\n",
            "32/32 [==============================] - 0s 15ms/step - loss: 0.0017 - mean_squared_error: 0.0017\n",
            "Epoch 5/5\n",
            "32/32 [==============================] - 1s 16ms/step - loss: 0.0014 - mean_squared_error: 0.0014\n"
          ]
        },
        {
          "output_type": "display_data",
          "data": {
            "text/plain": [
              "array([[21.24024]], dtype=float32)"
            ]
          },
          "metadata": {}
        },
        {
          "output_type": "stream",
          "name": "stdout",
          "text": [
            "Epoch 1/5\n",
            "32/32 [==============================] - 0s 15ms/step - loss: 0.0015 - mean_squared_error: 0.0015\n",
            "Epoch 2/5\n",
            "32/32 [==============================] - 0s 15ms/step - loss: 0.0014 - mean_squared_error: 0.0014\n",
            "Epoch 3/5\n",
            "32/32 [==============================] - 0s 15ms/step - loss: 0.0013 - mean_squared_error: 0.0013\n",
            "Epoch 4/5\n",
            "32/32 [==============================] - 0s 14ms/step - loss: 0.0014 - mean_squared_error: 0.0014\n",
            "Epoch 5/5\n",
            "32/32 [==============================] - 0s 15ms/step - loss: 0.0014 - mean_squared_error: 0.0014\n"
          ]
        },
        {
          "output_type": "display_data",
          "data": {
            "text/plain": [
              "array([[21.523586]], dtype=float32)"
            ]
          },
          "metadata": {}
        },
        {
          "output_type": "stream",
          "name": "stdout",
          "text": [
            "Epoch 1/5\n",
            "32/32 [==============================] - 0s 14ms/step - loss: 0.0014 - mean_squared_error: 0.0014\n",
            "Epoch 2/5\n",
            "32/32 [==============================] - 1s 16ms/step - loss: 0.0015 - mean_squared_error: 0.0015\n",
            "Epoch 3/5\n",
            "32/32 [==============================] - 0s 15ms/step - loss: 0.0014 - mean_squared_error: 0.0014\n",
            "Epoch 4/5\n",
            "32/32 [==============================] - 0s 14ms/step - loss: 0.0014 - mean_squared_error: 0.0014\n",
            "Epoch 5/5\n",
            "32/32 [==============================] - 0s 15ms/step - loss: 0.0017 - mean_squared_error: 0.0017\n"
          ]
        },
        {
          "output_type": "display_data",
          "data": {
            "text/plain": [
              "array([[21.10587]], dtype=float32)"
            ]
          },
          "metadata": {}
        },
        {
          "output_type": "stream",
          "name": "stdout",
          "text": [
            "Epoch 1/5\n",
            "32/32 [==============================] - 0s 15ms/step - loss: 0.0018 - mean_squared_error: 0.0018\n",
            "Epoch 2/5\n",
            "32/32 [==============================] - 0s 15ms/step - loss: 0.0014 - mean_squared_error: 0.0014\n",
            "Epoch 3/5\n",
            "32/32 [==============================] - 0s 15ms/step - loss: 0.0018 - mean_squared_error: 0.0018\n",
            "Epoch 4/5\n",
            "32/32 [==============================] - 0s 15ms/step - loss: 0.0014 - mean_squared_error: 0.0014\n",
            "Epoch 5/5\n",
            "32/32 [==============================] - 0s 15ms/step - loss: 0.0014 - mean_squared_error: 0.0014\n"
          ]
        },
        {
          "output_type": "display_data",
          "data": {
            "text/plain": [
              "array([[21.497477]], dtype=float32)"
            ]
          },
          "metadata": {}
        },
        {
          "output_type": "stream",
          "name": "stdout",
          "text": [
            "Epoch 1/5\n",
            "32/32 [==============================] - 0s 15ms/step - loss: 0.0014 - mean_squared_error: 0.0014\n",
            "Epoch 2/5\n",
            "32/32 [==============================] - 0s 15ms/step - loss: 0.0013 - mean_squared_error: 0.0013\n",
            "Epoch 3/5\n",
            "32/32 [==============================] - 1s 15ms/step - loss: 0.0014 - mean_squared_error: 0.0014\n",
            "Epoch 4/5\n",
            "32/32 [==============================] - 0s 15ms/step - loss: 0.0013 - mean_squared_error: 0.0013\n",
            "Epoch 5/5\n",
            "32/32 [==============================] - 1s 16ms/step - loss: 0.0014 - mean_squared_error: 0.0014\n"
          ]
        },
        {
          "output_type": "display_data",
          "data": {
            "text/plain": [
              "array([[21.391289]], dtype=float32)"
            ]
          },
          "metadata": {}
        },
        {
          "output_type": "stream",
          "name": "stdout",
          "text": [
            "Epoch 1/5\n",
            "32/32 [==============================] - 0s 15ms/step - loss: 0.0014 - mean_squared_error: 0.0014\n",
            "Epoch 2/5\n",
            "32/32 [==============================] - 1s 16ms/step - loss: 0.0013 - mean_squared_error: 0.0013\n",
            "Epoch 3/5\n",
            "32/32 [==============================] - 0s 14ms/step - loss: 0.0014 - mean_squared_error: 0.0014\n",
            "Epoch 4/5\n",
            "32/32 [==============================] - 0s 14ms/step - loss: 0.0015 - mean_squared_error: 0.0015\n",
            "Epoch 5/5\n",
            "32/32 [==============================] - 1s 16ms/step - loss: 0.0014 - mean_squared_error: 0.0014\n"
          ]
        },
        {
          "output_type": "display_data",
          "data": {
            "text/plain": [
              "array([[21.37014]], dtype=float32)"
            ]
          },
          "metadata": {}
        },
        {
          "output_type": "stream",
          "name": "stdout",
          "text": [
            "Epoch 1/5\n",
            "32/32 [==============================] - 0s 14ms/step - loss: 0.0013 - mean_squared_error: 0.0013\n",
            "Epoch 2/5\n",
            "32/32 [==============================] - 0s 15ms/step - loss: 0.0014 - mean_squared_error: 0.0014\n",
            "Epoch 3/5\n",
            "32/32 [==============================] - 0s 15ms/step - loss: 0.0014 - mean_squared_error: 0.0014\n",
            "Epoch 4/5\n",
            "32/32 [==============================] - 0s 15ms/step - loss: 0.0013 - mean_squared_error: 0.0013\n",
            "Epoch 5/5\n",
            "32/32 [==============================] - 1s 16ms/step - loss: 0.0015 - mean_squared_error: 0.0015\n"
          ]
        },
        {
          "output_type": "display_data",
          "data": {
            "text/plain": [
              "array([[21.36432]], dtype=float32)"
            ]
          },
          "metadata": {}
        },
        {
          "output_type": "stream",
          "name": "stdout",
          "text": [
            "Epoch 1/5\n",
            "32/32 [==============================] - 0s 15ms/step - loss: 0.0014 - mean_squared_error: 0.0014\n",
            "Epoch 2/5\n",
            "32/32 [==============================] - 0s 15ms/step - loss: 0.0014 - mean_squared_error: 0.0014\n",
            "Epoch 3/5\n",
            "32/32 [==============================] - 1s 16ms/step - loss: 0.0014 - mean_squared_error: 0.0014\n",
            "Epoch 4/5\n",
            "32/32 [==============================] - 0s 15ms/step - loss: 0.0013 - mean_squared_error: 0.0013\n",
            "Epoch 5/5\n",
            "32/32 [==============================] - 1s 16ms/step - loss: 0.0013 - mean_squared_error: 0.0013\n"
          ]
        },
        {
          "output_type": "display_data",
          "data": {
            "text/plain": [
              "array([[21.471704]], dtype=float32)"
            ]
          },
          "metadata": {}
        },
        {
          "output_type": "stream",
          "name": "stdout",
          "text": [
            "Epoch 1/5\n",
            "32/32 [==============================] - 0s 15ms/step - loss: 0.0015 - mean_squared_error: 0.0015\n",
            "Epoch 2/5\n",
            "32/32 [==============================] - 0s 15ms/step - loss: 0.0014 - mean_squared_error: 0.0014\n",
            "Epoch 3/5\n",
            "32/32 [==============================] - 0s 14ms/step - loss: 0.0013 - mean_squared_error: 0.0013\n",
            "Epoch 4/5\n",
            "32/32 [==============================] - 0s 14ms/step - loss: 0.0014 - mean_squared_error: 0.0014\n",
            "Epoch 5/5\n",
            "32/32 [==============================] - 1s 16ms/step - loss: 0.0015 - mean_squared_error: 0.0015\n"
          ]
        },
        {
          "output_type": "display_data",
          "data": {
            "text/plain": [
              "array([[21.235474]], dtype=float32)"
            ]
          },
          "metadata": {}
        },
        {
          "output_type": "stream",
          "name": "stdout",
          "text": [
            "Epoch 1/5\n",
            "32/32 [==============================] - 1s 16ms/step - loss: 0.0014 - mean_squared_error: 0.0014\n",
            "Epoch 2/5\n",
            "32/32 [==============================] - 1s 16ms/step - loss: 0.0014 - mean_squared_error: 0.0014\n",
            "Epoch 3/5\n",
            "32/32 [==============================] - 1s 16ms/step - loss: 0.0014 - mean_squared_error: 0.0014\n",
            "Epoch 4/5\n",
            "32/32 [==============================] - 1s 16ms/step - loss: 0.0014 - mean_squared_error: 0.0014\n",
            "Epoch 5/5\n",
            "32/32 [==============================] - 1s 16ms/step - loss: 0.0014 - mean_squared_error: 0.0014\n"
          ]
        },
        {
          "output_type": "display_data",
          "data": {
            "text/plain": [
              "array([[21.208586]], dtype=float32)"
            ]
          },
          "metadata": {}
        },
        {
          "output_type": "stream",
          "name": "stdout",
          "text": [
            "Epoch 1/5\n",
            "32/32 [==============================] - 0s 15ms/step - loss: 0.0014 - mean_squared_error: 0.0014\n",
            "Epoch 2/5\n",
            "32/32 [==============================] - 0s 15ms/step - loss: 0.0015 - mean_squared_error: 0.0015\n",
            "Epoch 3/5\n",
            "32/32 [==============================] - 0s 15ms/step - loss: 0.0014 - mean_squared_error: 0.0014\n",
            "Epoch 4/5\n",
            "32/32 [==============================] - 1s 16ms/step - loss: 0.0014 - mean_squared_error: 0.0014\n",
            "Epoch 5/5\n",
            "32/32 [==============================] - 1s 16ms/step - loss: 0.0013 - mean_squared_error: 0.0013\n"
          ]
        },
        {
          "output_type": "display_data",
          "data": {
            "text/plain": [
              "array([[21.608694]], dtype=float32)"
            ]
          },
          "metadata": {}
        },
        {
          "output_type": "stream",
          "name": "stdout",
          "text": [
            "Epoch 1/5\n",
            "32/32 [==============================] - 0s 15ms/step - loss: 0.0014 - mean_squared_error: 0.0014\n",
            "Epoch 2/5\n",
            "32/32 [==============================] - 0s 15ms/step - loss: 0.0014 - mean_squared_error: 0.0014\n",
            "Epoch 3/5\n",
            "32/32 [==============================] - 1s 16ms/step - loss: 0.0014 - mean_squared_error: 0.0014\n",
            "Epoch 4/5\n",
            "32/32 [==============================] - 1s 16ms/step - loss: 0.0013 - mean_squared_error: 0.0013\n",
            "Epoch 5/5\n",
            "32/32 [==============================] - 1s 16ms/step - loss: 0.0014 - mean_squared_error: 0.0014\n"
          ]
        },
        {
          "output_type": "display_data",
          "data": {
            "text/plain": [
              "array([[21.6639]], dtype=float32)"
            ]
          },
          "metadata": {}
        },
        {
          "output_type": "stream",
          "name": "stdout",
          "text": [
            "Epoch 1/5\n",
            "32/32 [==============================] - 1s 16ms/step - loss: 0.0013 - mean_squared_error: 0.0013\n",
            "Epoch 2/5\n",
            "32/32 [==============================] - 0s 15ms/step - loss: 0.0013 - mean_squared_error: 0.0013\n",
            "Epoch 3/5\n",
            "32/32 [==============================] - 0s 15ms/step - loss: 0.0014 - mean_squared_error: 0.0014\n",
            "Epoch 4/5\n",
            "32/32 [==============================] - 0s 15ms/step - loss: 0.0015 - mean_squared_error: 0.0015\n",
            "Epoch 5/5\n",
            "32/32 [==============================] - 0s 14ms/step - loss: 0.0013 - mean_squared_error: 0.0013\n"
          ]
        },
        {
          "output_type": "display_data",
          "data": {
            "text/plain": [
              "array([[21.688602]], dtype=float32)"
            ]
          },
          "metadata": {}
        },
        {
          "output_type": "stream",
          "name": "stdout",
          "text": [
            "Epoch 1/5\n",
            "32/32 [==============================] - 1s 16ms/step - loss: 0.0014 - mean_squared_error: 0.0014\n",
            "Epoch 2/5\n",
            "32/32 [==============================] - 0s 15ms/step - loss: 0.0014 - mean_squared_error: 0.0014\n",
            "Epoch 3/5\n",
            "32/32 [==============================] - 1s 16ms/step - loss: 0.0013 - mean_squared_error: 0.0013\n",
            "Epoch 4/5\n",
            "32/32 [==============================] - 0s 15ms/step - loss: 0.0014 - mean_squared_error: 0.0014\n",
            "Epoch 5/5\n",
            "32/32 [==============================] - 0s 15ms/step - loss: 0.0013 - mean_squared_error: 0.0013\n"
          ]
        },
        {
          "output_type": "display_data",
          "data": {
            "text/plain": [
              "array([[21.700905]], dtype=float32)"
            ]
          },
          "metadata": {}
        },
        {
          "output_type": "stream",
          "name": "stdout",
          "text": [
            "Epoch 1/5\n",
            "32/32 [==============================] - 0s 14ms/step - loss: 0.0014 - mean_squared_error: 0.0014\n",
            "Epoch 2/5\n",
            "32/32 [==============================] - 0s 15ms/step - loss: 0.0014 - mean_squared_error: 0.0014\n",
            "Epoch 3/5\n",
            "32/32 [==============================] - 0s 15ms/step - loss: 0.0014 - mean_squared_error: 0.0014\n",
            "Epoch 4/5\n",
            "32/32 [==============================] - 1s 17ms/step - loss: 0.0015 - mean_squared_error: 0.0015\n",
            "Epoch 5/5\n",
            "32/32 [==============================] - 0s 14ms/step - loss: 0.0013 - mean_squared_error: 0.0013\n"
          ]
        },
        {
          "output_type": "display_data",
          "data": {
            "text/plain": [
              "array([[21.228107]], dtype=float32)"
            ]
          },
          "metadata": {}
        },
        {
          "output_type": "stream",
          "name": "stdout",
          "text": [
            "Epoch 1/5\n",
            "32/32 [==============================] - 0s 15ms/step - loss: 0.0013 - mean_squared_error: 0.0013\n",
            "Epoch 2/5\n",
            "32/32 [==============================] - 1s 15ms/step - loss: 0.0013 - mean_squared_error: 0.0013\n",
            "Epoch 3/5\n",
            "32/32 [==============================] - 0s 15ms/step - loss: 0.0013 - mean_squared_error: 0.0013\n",
            "Epoch 4/5\n",
            "32/32 [==============================] - 0s 15ms/step - loss: 0.0014 - mean_squared_error: 0.0014\n",
            "Epoch 5/5\n",
            "32/32 [==============================] - 1s 16ms/step - loss: 0.0014 - mean_squared_error: 0.0014\n"
          ]
        },
        {
          "output_type": "display_data",
          "data": {
            "text/plain": [
              "array([[21.029749]], dtype=float32)"
            ]
          },
          "metadata": {}
        },
        {
          "output_type": "stream",
          "name": "stdout",
          "text": [
            "Epoch 1/5\n",
            "32/32 [==============================] - 0s 15ms/step - loss: 0.0014 - mean_squared_error: 0.0014\n",
            "Epoch 2/5\n",
            "32/32 [==============================] - 1s 16ms/step - loss: 0.0014 - mean_squared_error: 0.0014\n",
            "Epoch 3/5\n",
            "32/32 [==============================] - 0s 15ms/step - loss: 0.0013 - mean_squared_error: 0.0013\n",
            "Epoch 4/5\n",
            "32/32 [==============================] - 1s 16ms/step - loss: 0.0013 - mean_squared_error: 0.0013\n",
            "Epoch 5/5\n",
            "32/32 [==============================] - 0s 14ms/step - loss: 0.0013 - mean_squared_error: 0.0013\n"
          ]
        },
        {
          "output_type": "display_data",
          "data": {
            "text/plain": [
              "array([[20.83004]], dtype=float32)"
            ]
          },
          "metadata": {}
        },
        {
          "output_type": "stream",
          "name": "stdout",
          "text": [
            "Epoch 1/5\n",
            "32/32 [==============================] - 0s 15ms/step - loss: 0.0013 - mean_squared_error: 0.0013\n",
            "Epoch 2/5\n",
            "32/32 [==============================] - 0s 14ms/step - loss: 0.0013 - mean_squared_error: 0.0013\n",
            "Epoch 3/5\n",
            "32/32 [==============================] - 0s 15ms/step - loss: 0.0013 - mean_squared_error: 0.0013\n",
            "Epoch 4/5\n",
            "32/32 [==============================] - 1s 16ms/step - loss: 0.0015 - mean_squared_error: 0.0015\n",
            "Epoch 5/5\n",
            "32/32 [==============================] - 1s 16ms/step - loss: 0.0013 - mean_squared_error: 0.0013\n"
          ]
        },
        {
          "output_type": "display_data",
          "data": {
            "text/plain": [
              "array([[20.90404]], dtype=float32)"
            ]
          },
          "metadata": {}
        },
        {
          "output_type": "stream",
          "name": "stdout",
          "text": [
            "Epoch 1/5\n",
            "32/32 [==============================] - 0s 14ms/step - loss: 0.0013 - mean_squared_error: 0.0013\n",
            "Epoch 2/5\n",
            "32/32 [==============================] - 0s 15ms/step - loss: 0.0013 - mean_squared_error: 0.0013\n",
            "Epoch 3/5\n",
            "32/32 [==============================] - 0s 14ms/step - loss: 0.0013 - mean_squared_error: 0.0013\n",
            "Epoch 4/5\n",
            "32/32 [==============================] - 0s 15ms/step - loss: 0.0013 - mean_squared_error: 0.0013\n",
            "Epoch 5/5\n",
            "32/32 [==============================] - 0s 15ms/step - loss: 0.0014 - mean_squared_error: 0.0014\n"
          ]
        },
        {
          "output_type": "display_data",
          "data": {
            "text/plain": [
              "array([[20.822224]], dtype=float32)"
            ]
          },
          "metadata": {}
        },
        {
          "output_type": "stream",
          "name": "stdout",
          "text": [
            "Epoch 1/5\n",
            "32/32 [==============================] - 1s 16ms/step - loss: 0.0012 - mean_squared_error: 0.0012\n",
            "Epoch 2/5\n",
            "32/32 [==============================] - 0s 15ms/step - loss: 0.0013 - mean_squared_error: 0.0013\n",
            "Epoch 3/5\n",
            "32/32 [==============================] - 0s 15ms/step - loss: 0.0013 - mean_squared_error: 0.0013\n",
            "Epoch 4/5\n",
            "32/32 [==============================] - 0s 15ms/step - loss: 0.0015 - mean_squared_error: 0.0015\n",
            "Epoch 5/5\n",
            "32/32 [==============================] - 0s 15ms/step - loss: 0.0013 - mean_squared_error: 0.0013\n"
          ]
        },
        {
          "output_type": "display_data",
          "data": {
            "text/plain": [
              "array([[20.594984]], dtype=float32)"
            ]
          },
          "metadata": {}
        },
        {
          "output_type": "stream",
          "name": "stdout",
          "text": [
            "Epoch 1/5\n",
            "32/32 [==============================] - 1s 16ms/step - loss: 0.0014 - mean_squared_error: 0.0014\n",
            "Epoch 2/5\n",
            "32/32 [==============================] - 0s 15ms/step - loss: 0.0013 - mean_squared_error: 0.0013\n",
            "Epoch 3/5\n",
            "32/32 [==============================] - 0s 15ms/step - loss: 0.0013 - mean_squared_error: 0.0013\n",
            "Epoch 4/5\n",
            "32/32 [==============================] - 0s 14ms/step - loss: 0.0014 - mean_squared_error: 0.0014\n",
            "Epoch 5/5\n",
            "32/32 [==============================] - 0s 16ms/step - loss: 0.0013 - mean_squared_error: 0.0013\n"
          ]
        },
        {
          "output_type": "display_data",
          "data": {
            "text/plain": [
              "array([[20.815765]], dtype=float32)"
            ]
          },
          "metadata": {}
        },
        {
          "output_type": "stream",
          "name": "stdout",
          "text": [
            "Epoch 1/5\n",
            "32/32 [==============================] - 1s 16ms/step - loss: 0.0013 - mean_squared_error: 0.0013\n",
            "Epoch 2/5\n",
            "32/32 [==============================] - 1s 16ms/step - loss: 0.0013 - mean_squared_error: 0.0013\n",
            "Epoch 3/5\n",
            "32/32 [==============================] - 1s 16ms/step - loss: 0.0013 - mean_squared_error: 0.0013\n",
            "Epoch 4/5\n",
            "32/32 [==============================] - 0s 15ms/step - loss: 0.0013 - mean_squared_error: 0.0013\n",
            "Epoch 5/5\n",
            "32/32 [==============================] - 1s 16ms/step - loss: 0.0013 - mean_squared_error: 0.0013\n"
          ]
        },
        {
          "output_type": "display_data",
          "data": {
            "text/plain": [
              "array([[20.756565]], dtype=float32)"
            ]
          },
          "metadata": {}
        },
        {
          "output_type": "stream",
          "name": "stdout",
          "text": [
            "Epoch 1/5\n",
            "32/32 [==============================] - 0s 15ms/step - loss: 0.0013 - mean_squared_error: 0.0013\n",
            "Epoch 2/5\n",
            "32/32 [==============================] - 0s 15ms/step - loss: 0.0014 - mean_squared_error: 0.0014\n",
            "Epoch 3/5\n",
            "32/32 [==============================] - 0s 15ms/step - loss: 0.0013 - mean_squared_error: 0.0013\n",
            "Epoch 4/5\n",
            "32/32 [==============================] - 1s 16ms/step - loss: 0.0013 - mean_squared_error: 0.0013\n",
            "Epoch 5/5\n",
            "32/32 [==============================] - 1s 16ms/step - loss: 0.0013 - mean_squared_error: 0.0013\n"
          ]
        },
        {
          "output_type": "display_data",
          "data": {
            "text/plain": [
              "array([[21.05195]], dtype=float32)"
            ]
          },
          "metadata": {}
        },
        {
          "output_type": "stream",
          "name": "stdout",
          "text": [
            "Epoch 1/5\n",
            "32/32 [==============================] - 0s 15ms/step - loss: 0.0013 - mean_squared_error: 0.0013\n",
            "Epoch 2/5\n",
            "32/32 [==============================] - 0s 15ms/step - loss: 0.0013 - mean_squared_error: 0.0013\n",
            "Epoch 3/5\n",
            "32/32 [==============================] - 1s 16ms/step - loss: 0.0014 - mean_squared_error: 0.0014\n",
            "Epoch 4/5\n",
            "32/32 [==============================] - 1s 16ms/step - loss: 0.0013 - mean_squared_error: 0.0013\n",
            "Epoch 5/5\n",
            "32/32 [==============================] - 0s 15ms/step - loss: 0.0013 - mean_squared_error: 0.0013\n"
          ]
        },
        {
          "output_type": "display_data",
          "data": {
            "text/plain": [
              "array([[21.263458]], dtype=float32)"
            ]
          },
          "metadata": {}
        },
        {
          "output_type": "stream",
          "name": "stdout",
          "text": [
            "Epoch 1/5\n",
            "32/32 [==============================] - 1s 16ms/step - loss: 0.0013 - mean_squared_error: 0.0013\n",
            "Epoch 2/5\n",
            "32/32 [==============================] - 0s 15ms/step - loss: 0.0013 - mean_squared_error: 0.0013\n",
            "Epoch 3/5\n",
            "32/32 [==============================] - 1s 16ms/step - loss: 0.0013 - mean_squared_error: 0.0013\n",
            "Epoch 4/5\n",
            "32/32 [==============================] - 0s 15ms/step - loss: 0.0013 - mean_squared_error: 0.0013\n",
            "Epoch 5/5\n",
            "32/32 [==============================] - 1s 16ms/step - loss: 0.0013 - mean_squared_error: 0.0013\n"
          ]
        },
        {
          "output_type": "display_data",
          "data": {
            "text/plain": [
              "array([[21.441772]], dtype=float32)"
            ]
          },
          "metadata": {}
        },
        {
          "output_type": "stream",
          "name": "stdout",
          "text": [
            "Epoch 1/5\n",
            "32/32 [==============================] - 0s 15ms/step - loss: 0.0013 - mean_squared_error: 0.0013\n",
            "Epoch 2/5\n",
            "32/32 [==============================] - 0s 15ms/step - loss: 0.0013 - mean_squared_error: 0.0013\n",
            "Epoch 3/5\n",
            "32/32 [==============================] - 0s 15ms/step - loss: 0.0013 - mean_squared_error: 0.0013\n",
            "Epoch 4/5\n",
            "32/32 [==============================] - 0s 15ms/step - loss: 0.0013 - mean_squared_error: 0.0013\n",
            "Epoch 5/5\n",
            "32/32 [==============================] - 0s 15ms/step - loss: 0.0013 - mean_squared_error: 0.0013\n"
          ]
        },
        {
          "output_type": "display_data",
          "data": {
            "text/plain": [
              "array([[21.260675]], dtype=float32)"
            ]
          },
          "metadata": {}
        },
        {
          "output_type": "stream",
          "name": "stdout",
          "text": [
            "Epoch 1/5\n",
            "32/32 [==============================] - 0s 15ms/step - loss: 0.0013 - mean_squared_error: 0.0013\n",
            "Epoch 2/5\n",
            "32/32 [==============================] - 0s 15ms/step - loss: 0.0012 - mean_squared_error: 0.0012\n",
            "Epoch 3/5\n",
            "32/32 [==============================] - 1s 16ms/step - loss: 0.0013 - mean_squared_error: 0.0013\n",
            "Epoch 4/5\n",
            "32/32 [==============================] - 0s 15ms/step - loss: 0.0013 - mean_squared_error: 0.0013\n",
            "Epoch 5/5\n",
            "32/32 [==============================] - 0s 14ms/step - loss: 0.0013 - mean_squared_error: 0.0013\n"
          ]
        },
        {
          "output_type": "display_data",
          "data": {
            "text/plain": [
              "array([[21.177094]], dtype=float32)"
            ]
          },
          "metadata": {}
        },
        {
          "output_type": "stream",
          "name": "stdout",
          "text": [
            "Epoch 1/5\n",
            "32/32 [==============================] - 0s 15ms/step - loss: 0.0013 - mean_squared_error: 0.0013\n",
            "Epoch 2/5\n",
            "32/32 [==============================] - 1s 15ms/step - loss: 0.0012 - mean_squared_error: 0.0012\n",
            "Epoch 3/5\n",
            "32/32 [==============================] - 0s 15ms/step - loss: 0.0014 - mean_squared_error: 0.0014\n",
            "Epoch 4/5\n",
            "32/32 [==============================] - 0s 14ms/step - loss: 0.0014 - mean_squared_error: 0.0014\n",
            "Epoch 5/5\n",
            "32/32 [==============================] - 0s 15ms/step - loss: 0.0013 - mean_squared_error: 0.0013\n"
          ]
        },
        {
          "output_type": "display_data",
          "data": {
            "text/plain": [
              "array([[21.087883]], dtype=float32)"
            ]
          },
          "metadata": {}
        },
        {
          "output_type": "stream",
          "name": "stdout",
          "text": [
            "Epoch 1/5\n",
            "32/32 [==============================] - 0s 15ms/step - loss: 0.0013 - mean_squared_error: 0.0013\n",
            "Epoch 2/5\n",
            "32/32 [==============================] - 0s 15ms/step - loss: 0.0014 - mean_squared_error: 0.0014\n",
            "Epoch 3/5\n",
            "32/32 [==============================] - 0s 15ms/step - loss: 0.0014 - mean_squared_error: 0.0014\n",
            "Epoch 4/5\n",
            "32/32 [==============================] - 0s 14ms/step - loss: 0.0013 - mean_squared_error: 0.0013\n",
            "Epoch 5/5\n",
            "32/32 [==============================] - 0s 15ms/step - loss: 0.0013 - mean_squared_error: 0.0013\n"
          ]
        },
        {
          "output_type": "display_data",
          "data": {
            "text/plain": [
              "array([[21.602577]], dtype=float32)"
            ]
          },
          "metadata": {}
        },
        {
          "output_type": "stream",
          "name": "stdout",
          "text": [
            "Epoch 1/5\n",
            "32/32 [==============================] - 0s 15ms/step - loss: 0.0013 - mean_squared_error: 0.0013\n",
            "Epoch 2/5\n",
            "32/32 [==============================] - 1s 16ms/step - loss: 0.0012 - mean_squared_error: 0.0012\n",
            "Epoch 3/5\n",
            "32/32 [==============================] - 1s 16ms/step - loss: 0.0013 - mean_squared_error: 0.0013\n",
            "Epoch 4/5\n",
            "32/32 [==============================] - 1s 16ms/step - loss: 0.0013 - mean_squared_error: 0.0013\n",
            "Epoch 5/5\n",
            "32/32 [==============================] - 0s 15ms/step - loss: 0.0013 - mean_squared_error: 0.0013\n"
          ]
        },
        {
          "output_type": "display_data",
          "data": {
            "text/plain": [
              "array([[21.482048]], dtype=float32)"
            ]
          },
          "metadata": {}
        },
        {
          "output_type": "stream",
          "name": "stdout",
          "text": [
            "Epoch 1/5\n",
            "32/32 [==============================] - 1s 16ms/step - loss: 0.0013 - mean_squared_error: 0.0013\n",
            "Epoch 2/5\n",
            "32/32 [==============================] - 1s 17ms/step - loss: 0.0013 - mean_squared_error: 0.0013\n",
            "Epoch 3/5\n",
            "32/32 [==============================] - 0s 15ms/step - loss: 0.0013 - mean_squared_error: 0.0013\n",
            "Epoch 4/5\n",
            "32/32 [==============================] - 0s 15ms/step - loss: 0.0012 - mean_squared_error: 0.0012\n",
            "Epoch 5/5\n",
            "32/32 [==============================] - 1s 16ms/step - loss: 0.0013 - mean_squared_error: 0.0013\n"
          ]
        },
        {
          "output_type": "display_data",
          "data": {
            "text/plain": [
              "array([[21.710373]], dtype=float32)"
            ]
          },
          "metadata": {}
        },
        {
          "output_type": "stream",
          "name": "stdout",
          "text": [
            "Epoch 1/5\n",
            "32/32 [==============================] - 0s 11ms/step - loss: 0.0013 - mean_squared_error: 0.0013\n",
            "Epoch 2/5\n",
            "32/32 [==============================] - 0s 12ms/step - loss: 0.0013 - mean_squared_error: 0.0013\n",
            "Epoch 3/5\n",
            "32/32 [==============================] - 0s 11ms/step - loss: 0.0013 - mean_squared_error: 0.0013\n",
            "Epoch 4/5\n",
            "32/32 [==============================] - 0s 11ms/step - loss: 0.0012 - mean_squared_error: 0.0012\n",
            "Epoch 5/5\n",
            "32/32 [==============================] - 0s 11ms/step - loss: 0.0012 - mean_squared_error: 0.0012\n"
          ]
        },
        {
          "output_type": "display_data",
          "data": {
            "text/plain": [
              "array([[21.793154]], dtype=float32)"
            ]
          },
          "metadata": {}
        },
        {
          "output_type": "stream",
          "name": "stdout",
          "text": [
            "Epoch 1/5\n",
            "33/33 [==============================] - 1s 15ms/step - loss: 0.0013 - mean_squared_error: 0.0013\n",
            "Epoch 2/5\n",
            "33/33 [==============================] - 1s 15ms/step - loss: 0.0013 - mean_squared_error: 0.0013\n",
            "Epoch 3/5\n",
            "33/33 [==============================] - 0s 14ms/step - loss: 0.0014 - mean_squared_error: 0.0014\n",
            "Epoch 4/5\n",
            "33/33 [==============================] - 0s 14ms/step - loss: 0.0013 - mean_squared_error: 0.0013\n",
            "Epoch 5/5\n",
            "33/33 [==============================] - 1s 16ms/step - loss: 0.0015 - mean_squared_error: 0.0015\n"
          ]
        },
        {
          "output_type": "display_data",
          "data": {
            "text/plain": [
              "array([[22.126915]], dtype=float32)"
            ]
          },
          "metadata": {}
        },
        {
          "output_type": "stream",
          "name": "stdout",
          "text": [
            "Epoch 1/5\n",
            "33/33 [==============================] - 0s 15ms/step - loss: 0.0014 - mean_squared_error: 0.0014\n",
            "Epoch 2/5\n",
            "33/33 [==============================] - 1s 16ms/step - loss: 0.0013 - mean_squared_error: 0.0013\n",
            "Epoch 3/5\n",
            "33/33 [==============================] - 0s 14ms/step - loss: 0.0013 - mean_squared_error: 0.0013\n",
            "Epoch 4/5\n",
            "33/33 [==============================] - 1s 16ms/step - loss: 0.0015 - mean_squared_error: 0.0015\n",
            "Epoch 5/5\n",
            "33/33 [==============================] - 0s 15ms/step - loss: 0.0014 - mean_squared_error: 0.0014\n"
          ]
        },
        {
          "output_type": "display_data",
          "data": {
            "text/plain": [
              "array([[22.1408]], dtype=float32)"
            ]
          },
          "metadata": {}
        },
        {
          "output_type": "stream",
          "name": "stdout",
          "text": [
            "Epoch 1/5\n",
            "33/33 [==============================] - 1s 15ms/step - loss: 0.0014 - mean_squared_error: 0.0014\n",
            "Epoch 2/5\n",
            "33/33 [==============================] - 1s 15ms/step - loss: 0.0014 - mean_squared_error: 0.0014\n",
            "Epoch 3/5\n",
            "33/33 [==============================] - 1s 16ms/step - loss: 0.0013 - mean_squared_error: 0.0013\n",
            "Epoch 4/5\n",
            "33/33 [==============================] - 1s 15ms/step - loss: 0.0013 - mean_squared_error: 0.0013\n",
            "Epoch 5/5\n",
            "33/33 [==============================] - 1s 15ms/step - loss: 0.0014 - mean_squared_error: 0.0014\n"
          ]
        },
        {
          "output_type": "display_data",
          "data": {
            "text/plain": [
              "array([[21.730509]], dtype=float32)"
            ]
          },
          "metadata": {}
        },
        {
          "output_type": "stream",
          "name": "stdout",
          "text": [
            "Epoch 1/5\n",
            "33/33 [==============================] - 0s 15ms/step - loss: 0.0014 - mean_squared_error: 0.0014\n",
            "Epoch 2/5\n",
            "33/33 [==============================] - 1s 15ms/step - loss: 0.0013 - mean_squared_error: 0.0013\n",
            "Epoch 3/5\n",
            "33/33 [==============================] - 1s 15ms/step - loss: 0.0013 - mean_squared_error: 0.0013\n",
            "Epoch 4/5\n",
            "33/33 [==============================] - 1s 16ms/step - loss: 0.0014 - mean_squared_error: 0.0014\n",
            "Epoch 5/5\n",
            "33/33 [==============================] - 1s 16ms/step - loss: 0.0013 - mean_squared_error: 0.0013\n"
          ]
        },
        {
          "output_type": "display_data",
          "data": {
            "text/plain": [
              "array([[22.118591]], dtype=float32)"
            ]
          },
          "metadata": {}
        },
        {
          "output_type": "stream",
          "name": "stdout",
          "text": [
            "Epoch 1/5\n",
            "33/33 [==============================] - 1s 16ms/step - loss: 0.0012 - mean_squared_error: 0.0012\n",
            "Epoch 2/5\n",
            "33/33 [==============================] - 1s 21ms/step - loss: 0.0013 - mean_squared_error: 0.0013\n",
            "Epoch 3/5\n",
            "33/33 [==============================] - 1s 21ms/step - loss: 0.0012 - mean_squared_error: 0.0012\n",
            "Epoch 4/5\n",
            "33/33 [==============================] - 1s 21ms/step - loss: 0.0013 - mean_squared_error: 0.0013\n",
            "Epoch 5/5\n",
            "33/33 [==============================] - 1s 21ms/step - loss: 0.0013 - mean_squared_error: 0.0013\n"
          ]
        },
        {
          "output_type": "display_data",
          "data": {
            "text/plain": [
              "array([[21.820946]], dtype=float32)"
            ]
          },
          "metadata": {}
        },
        {
          "output_type": "stream",
          "name": "stdout",
          "text": [
            "Epoch 1/5\n",
            "33/33 [==============================] - 0s 15ms/step - loss: 0.0013 - mean_squared_error: 0.0013\n",
            "Epoch 2/5\n",
            "33/33 [==============================] - 0s 15ms/step - loss: 0.0014 - mean_squared_error: 0.0014\n",
            "Epoch 3/5\n",
            "33/33 [==============================] - 1s 15ms/step - loss: 0.0013 - mean_squared_error: 0.0013\n",
            "Epoch 4/5\n",
            "33/33 [==============================] - 0s 15ms/step - loss: 0.0012 - mean_squared_error: 0.0012\n",
            "Epoch 5/5\n",
            "33/33 [==============================] - 1s 15ms/step - loss: 0.0012 - mean_squared_error: 0.0012\n"
          ]
        },
        {
          "output_type": "display_data",
          "data": {
            "text/plain": [
              "array([[21.834326]], dtype=float32)"
            ]
          },
          "metadata": {}
        },
        {
          "output_type": "stream",
          "name": "stdout",
          "text": [
            "Epoch 1/5\n",
            "33/33 [==============================] - 1s 16ms/step - loss: 0.0013 - mean_squared_error: 0.0013\n",
            "Epoch 2/5\n",
            "33/33 [==============================] - 0s 15ms/step - loss: 0.0014 - mean_squared_error: 0.0014\n",
            "Epoch 3/5\n",
            "33/33 [==============================] - 1s 15ms/step - loss: 0.0013 - mean_squared_error: 0.0013\n",
            "Epoch 4/5\n",
            "33/33 [==============================] - 1s 15ms/step - loss: 0.0012 - mean_squared_error: 0.0012\n",
            "Epoch 5/5\n",
            "33/33 [==============================] - 0s 15ms/step - loss: 0.0014 - mean_squared_error: 0.0014\n"
          ]
        },
        {
          "output_type": "display_data",
          "data": {
            "text/plain": [
              "array([[22.0171]], dtype=float32)"
            ]
          },
          "metadata": {}
        },
        {
          "output_type": "stream",
          "name": "stdout",
          "text": [
            "Epoch 1/5\n",
            "33/33 [==============================] - 1s 15ms/step - loss: 0.0014 - mean_squared_error: 0.0014\n",
            "Epoch 2/5\n",
            "33/33 [==============================] - 0s 14ms/step - loss: 0.0013 - mean_squared_error: 0.0013\n",
            "Epoch 3/5\n",
            "33/33 [==============================] - 1s 15ms/step - loss: 0.0013 - mean_squared_error: 0.0013\n",
            "Epoch 4/5\n",
            "33/33 [==============================] - 1s 16ms/step - loss: 0.0013 - mean_squared_error: 0.0013\n",
            "Epoch 5/5\n",
            "33/33 [==============================] - 1s 15ms/step - loss: 0.0014 - mean_squared_error: 0.0014\n"
          ]
        },
        {
          "output_type": "display_data",
          "data": {
            "text/plain": [
              "array([[21.943068]], dtype=float32)"
            ]
          },
          "metadata": {}
        },
        {
          "output_type": "stream",
          "name": "stdout",
          "text": [
            "Epoch 1/5\n",
            "33/33 [==============================] - 0s 15ms/step - loss: 0.0012 - mean_squared_error: 0.0012\n",
            "Epoch 2/5\n",
            "33/33 [==============================] - 1s 15ms/step - loss: 0.0012 - mean_squared_error: 0.0012\n",
            "Epoch 3/5\n",
            "33/33 [==============================] - 0s 14ms/step - loss: 0.0013 - mean_squared_error: 0.0013\n",
            "Epoch 4/5\n",
            "33/33 [==============================] - 0s 15ms/step - loss: 0.0012 - mean_squared_error: 0.0012\n",
            "Epoch 5/5\n",
            "33/33 [==============================] - 1s 15ms/step - loss: 0.0014 - mean_squared_error: 0.0014\n"
          ]
        },
        {
          "output_type": "display_data",
          "data": {
            "text/plain": [
              "array([[21.791601]], dtype=float32)"
            ]
          },
          "metadata": {}
        },
        {
          "output_type": "stream",
          "name": "stdout",
          "text": [
            "Epoch 1/5\n",
            "33/33 [==============================] - 0s 15ms/step - loss: 0.0012 - mean_squared_error: 0.0012\n",
            "Epoch 2/5\n",
            "33/33 [==============================] - 0s 15ms/step - loss: 0.0013 - mean_squared_error: 0.0013\n",
            "Epoch 3/5\n",
            "33/33 [==============================] - 1s 15ms/step - loss: 0.0013 - mean_squared_error: 0.0013\n",
            "Epoch 4/5\n",
            "33/33 [==============================] - 0s 15ms/step - loss: 0.0013 - mean_squared_error: 0.0013\n",
            "Epoch 5/5\n",
            "33/33 [==============================] - 1s 16ms/step - loss: 0.0012 - mean_squared_error: 0.0012\n"
          ]
        },
        {
          "output_type": "display_data",
          "data": {
            "text/plain": [
              "array([[21.793076]], dtype=float32)"
            ]
          },
          "metadata": {}
        },
        {
          "output_type": "stream",
          "name": "stdout",
          "text": [
            "Epoch 1/5\n",
            "33/33 [==============================] - 1s 16ms/step - loss: 0.0013 - mean_squared_error: 0.0013\n",
            "Epoch 2/5\n",
            "33/33 [==============================] - 1s 16ms/step - loss: 0.0013 - mean_squared_error: 0.0013\n",
            "Epoch 3/5\n",
            "33/33 [==============================] - 1s 16ms/step - loss: 0.0014 - mean_squared_error: 0.0014\n",
            "Epoch 4/5\n",
            "33/33 [==============================] - 1s 17ms/step - loss: 0.0013 - mean_squared_error: 0.0013\n",
            "Epoch 5/5\n",
            "33/33 [==============================] - 1s 15ms/step - loss: 0.0013 - mean_squared_error: 0.0013\n"
          ]
        },
        {
          "output_type": "display_data",
          "data": {
            "text/plain": [
              "array([[21.759256]], dtype=float32)"
            ]
          },
          "metadata": {}
        },
        {
          "output_type": "stream",
          "name": "stdout",
          "text": [
            "Epoch 1/5\n",
            "33/33 [==============================] - 1s 16ms/step - loss: 0.0013 - mean_squared_error: 0.0013\n",
            "Epoch 2/5\n",
            "33/33 [==============================] - 1s 15ms/step - loss: 0.0012 - mean_squared_error: 0.0012\n",
            "Epoch 3/5\n",
            "33/33 [==============================] - 1s 17ms/step - loss: 0.0012 - mean_squared_error: 0.0012\n",
            "Epoch 4/5\n",
            "33/33 [==============================] - 1s 16ms/step - loss: 0.0013 - mean_squared_error: 0.0013\n",
            "Epoch 5/5\n",
            "33/33 [==============================] - 1s 15ms/step - loss: 0.0012 - mean_squared_error: 0.0012\n"
          ]
        },
        {
          "output_type": "display_data",
          "data": {
            "text/plain": [
              "array([[21.760548]], dtype=float32)"
            ]
          },
          "metadata": {}
        },
        {
          "output_type": "stream",
          "name": "stdout",
          "text": [
            "Epoch 1/5\n",
            "33/33 [==============================] - 1s 16ms/step - loss: 0.0012 - mean_squared_error: 0.0012\n",
            "Epoch 2/5\n",
            "33/33 [==============================] - 0s 15ms/step - loss: 0.0013 - mean_squared_error: 0.0013\n",
            "Epoch 3/5\n",
            "33/33 [==============================] - 1s 15ms/step - loss: 0.0012 - mean_squared_error: 0.0012\n",
            "Epoch 4/5\n",
            "33/33 [==============================] - 1s 16ms/step - loss: 0.0013 - mean_squared_error: 0.0013\n",
            "Epoch 5/5\n",
            "33/33 [==============================] - 1s 15ms/step - loss: 0.0013 - mean_squared_error: 0.0013\n"
          ]
        },
        {
          "output_type": "display_data",
          "data": {
            "text/plain": [
              "array([[21.69412]], dtype=float32)"
            ]
          },
          "metadata": {}
        },
        {
          "output_type": "stream",
          "name": "stdout",
          "text": [
            "Epoch 1/5\n",
            "33/33 [==============================] - 0s 14ms/step - loss: 0.0012 - mean_squared_error: 0.0012\n",
            "Epoch 2/5\n",
            "33/33 [==============================] - 1s 16ms/step - loss: 0.0012 - mean_squared_error: 0.0012\n",
            "Epoch 3/5\n",
            "33/33 [==============================] - 1s 15ms/step - loss: 0.0012 - mean_squared_error: 0.0012\n",
            "Epoch 4/5\n",
            "33/33 [==============================] - 1s 16ms/step - loss: 0.0013 - mean_squared_error: 0.0013\n",
            "Epoch 5/5\n",
            "33/33 [==============================] - 1s 16ms/step - loss: 0.0013 - mean_squared_error: 0.0013\n"
          ]
        },
        {
          "output_type": "display_data",
          "data": {
            "text/plain": [
              "array([[21.689384]], dtype=float32)"
            ]
          },
          "metadata": {}
        },
        {
          "output_type": "stream",
          "name": "stdout",
          "text": [
            "Epoch 1/5\n",
            "33/33 [==============================] - 1s 15ms/step - loss: 0.0012 - mean_squared_error: 0.0012\n",
            "Epoch 2/5\n",
            "33/33 [==============================] - 1s 15ms/step - loss: 0.0012 - mean_squared_error: 0.0012\n",
            "Epoch 3/5\n",
            "33/33 [==============================] - 1s 16ms/step - loss: 0.0014 - mean_squared_error: 0.0014\n",
            "Epoch 4/5\n",
            "33/33 [==============================] - 1s 18ms/step - loss: 0.0013 - mean_squared_error: 0.0013\n",
            "Epoch 5/5\n",
            "33/33 [==============================] - 1s 16ms/step - loss: 0.0012 - mean_squared_error: 0.0012\n"
          ]
        },
        {
          "output_type": "display_data",
          "data": {
            "text/plain": [
              "array([[21.653786]], dtype=float32)"
            ]
          },
          "metadata": {}
        },
        {
          "output_type": "stream",
          "name": "stdout",
          "text": [
            "Epoch 1/5\n",
            "33/33 [==============================] - 1s 16ms/step - loss: 0.0013 - mean_squared_error: 0.0013\n",
            "Epoch 2/5\n",
            "33/33 [==============================] - 1s 16ms/step - loss: 0.0013 - mean_squared_error: 0.0013\n",
            "Epoch 3/5\n",
            "33/33 [==============================] - 1s 16ms/step - loss: 0.0013 - mean_squared_error: 0.0013\n",
            "Epoch 4/5\n",
            "33/33 [==============================] - 1s 15ms/step - loss: 0.0013 - mean_squared_error: 0.0013\n",
            "Epoch 5/5\n",
            "33/33 [==============================] - 1s 17ms/step - loss: 0.0012 - mean_squared_error: 0.0012\n"
          ]
        },
        {
          "output_type": "display_data",
          "data": {
            "text/plain": [
              "array([[21.47713]], dtype=float32)"
            ]
          },
          "metadata": {}
        },
        {
          "output_type": "stream",
          "name": "stdout",
          "text": [
            "Epoch 1/5\n",
            "33/33 [==============================] - 1s 15ms/step - loss: 0.0013 - mean_squared_error: 0.0013\n",
            "Epoch 2/5\n",
            "33/33 [==============================] - 1s 15ms/step - loss: 0.0013 - mean_squared_error: 0.0013\n",
            "Epoch 3/5\n",
            "33/33 [==============================] - 1s 15ms/step - loss: 0.0012 - mean_squared_error: 0.0012\n",
            "Epoch 4/5\n",
            "33/33 [==============================] - 1s 17ms/step - loss: 0.0013 - mean_squared_error: 0.0013\n",
            "Epoch 5/5\n",
            "33/33 [==============================] - 1s 16ms/step - loss: 0.0012 - mean_squared_error: 0.0012\n"
          ]
        },
        {
          "output_type": "display_data",
          "data": {
            "text/plain": [
              "array([[21.629822]], dtype=float32)"
            ]
          },
          "metadata": {}
        },
        {
          "output_type": "stream",
          "name": "stdout",
          "text": [
            "Epoch 1/5\n",
            "33/33 [==============================] - 1s 16ms/step - loss: 0.0012 - mean_squared_error: 0.0012\n",
            "Epoch 2/5\n",
            "33/33 [==============================] - 1s 16ms/step - loss: 0.0012 - mean_squared_error: 0.0012\n",
            "Epoch 3/5\n",
            "33/33 [==============================] - 1s 16ms/step - loss: 0.0013 - mean_squared_error: 0.0013\n",
            "Epoch 4/5\n",
            "33/33 [==============================] - 1s 17ms/step - loss: 0.0012 - mean_squared_error: 0.0012\n",
            "Epoch 5/5\n",
            "33/33 [==============================] - 1s 16ms/step - loss: 0.0012 - mean_squared_error: 0.0012\n"
          ]
        },
        {
          "output_type": "display_data",
          "data": {
            "text/plain": [
              "array([[21.69223]], dtype=float32)"
            ]
          },
          "metadata": {}
        },
        {
          "output_type": "stream",
          "name": "stdout",
          "text": [
            "Epoch 1/5\n",
            "33/33 [==============================] - 1s 17ms/step - loss: 0.0012 - mean_squared_error: 0.0012\n",
            "Epoch 2/5\n",
            "33/33 [==============================] - 1s 16ms/step - loss: 0.0012 - mean_squared_error: 0.0012\n",
            "Epoch 3/5\n",
            "33/33 [==============================] - 1s 16ms/step - loss: 0.0013 - mean_squared_error: 0.0013\n",
            "Epoch 4/5\n",
            "33/33 [==============================] - 1s 16ms/step - loss: 0.0012 - mean_squared_error: 0.0012\n",
            "Epoch 5/5\n",
            "33/33 [==============================] - 1s 16ms/step - loss: 0.0012 - mean_squared_error: 0.0012\n"
          ]
        },
        {
          "output_type": "display_data",
          "data": {
            "text/plain": [
              "array([[21.629068]], dtype=float32)"
            ]
          },
          "metadata": {}
        },
        {
          "output_type": "stream",
          "name": "stdout",
          "text": [
            "Epoch 1/5\n",
            "33/33 [==============================] - 1s 17ms/step - loss: 0.0012 - mean_squared_error: 0.0012\n",
            "Epoch 2/5\n",
            "33/33 [==============================] - 1s 16ms/step - loss: 0.0013 - mean_squared_error: 0.0013\n",
            "Epoch 3/5\n",
            "33/33 [==============================] - 1s 15ms/step - loss: 0.0012 - mean_squared_error: 0.0012\n",
            "Epoch 4/5\n",
            "33/33 [==============================] - 1s 15ms/step - loss: 0.0013 - mean_squared_error: 0.0013\n",
            "Epoch 5/5\n",
            "33/33 [==============================] - 1s 17ms/step - loss: 0.0012 - mean_squared_error: 0.0012\n"
          ]
        },
        {
          "output_type": "display_data",
          "data": {
            "text/plain": [
              "array([[21.683216]], dtype=float32)"
            ]
          },
          "metadata": {}
        },
        {
          "output_type": "stream",
          "name": "stdout",
          "text": [
            "Epoch 1/5\n",
            "33/33 [==============================] - 1s 15ms/step - loss: 0.0012 - mean_squared_error: 0.0012\n",
            "Epoch 2/5\n",
            "33/33 [==============================] - 1s 16ms/step - loss: 0.0013 - mean_squared_error: 0.0013\n",
            "Epoch 3/5\n",
            "33/33 [==============================] - 1s 16ms/step - loss: 0.0013 - mean_squared_error: 0.0013\n",
            "Epoch 4/5\n",
            "33/33 [==============================] - 1s 16ms/step - loss: 0.0013 - mean_squared_error: 0.0013\n",
            "Epoch 5/5\n",
            "33/33 [==============================] - 1s 16ms/step - loss: 0.0013 - mean_squared_error: 0.0013\n"
          ]
        },
        {
          "output_type": "display_data",
          "data": {
            "text/plain": [
              "array([[21.536022]], dtype=float32)"
            ]
          },
          "metadata": {}
        },
        {
          "output_type": "stream",
          "name": "stdout",
          "text": [
            "Epoch 1/5\n",
            "33/33 [==============================] - 1s 17ms/step - loss: 0.0013 - mean_squared_error: 0.0013\n",
            "Epoch 2/5\n",
            "33/33 [==============================] - 1s 16ms/step - loss: 0.0013 - mean_squared_error: 0.0013\n",
            "Epoch 3/5\n",
            "33/33 [==============================] - 1s 16ms/step - loss: 0.0014 - mean_squared_error: 0.0014\n",
            "Epoch 4/5\n",
            "33/33 [==============================] - 1s 16ms/step - loss: 0.0013 - mean_squared_error: 0.0013\n",
            "Epoch 5/5\n",
            "33/33 [==============================] - 1s 16ms/step - loss: 0.0012 - mean_squared_error: 0.0012\n"
          ]
        },
        {
          "output_type": "display_data",
          "data": {
            "text/plain": [
              "array([[21.313688]], dtype=float32)"
            ]
          },
          "metadata": {}
        },
        {
          "output_type": "stream",
          "name": "stdout",
          "text": [
            "Epoch 1/5\n",
            "33/33 [==============================] - 1s 17ms/step - loss: 0.0013 - mean_squared_error: 0.0013\n",
            "Epoch 2/5\n",
            "33/33 [==============================] - 1s 17ms/step - loss: 0.0012 - mean_squared_error: 0.0012\n",
            "Epoch 3/5\n",
            "33/33 [==============================] - 1s 16ms/step - loss: 0.0012 - mean_squared_error: 0.0012\n",
            "Epoch 4/5\n",
            "33/33 [==============================] - 1s 16ms/step - loss: 0.0012 - mean_squared_error: 0.0012\n",
            "Epoch 5/5\n",
            "33/33 [==============================] - 1s 17ms/step - loss: 0.0012 - mean_squared_error: 0.0012\n"
          ]
        },
        {
          "output_type": "display_data",
          "data": {
            "text/plain": [
              "array([[21.463581]], dtype=float32)"
            ]
          },
          "metadata": {}
        },
        {
          "output_type": "stream",
          "name": "stdout",
          "text": [
            "Epoch 1/5\n",
            "33/33 [==============================] - 1s 17ms/step - loss: 0.0012 - mean_squared_error: 0.0012\n",
            "Epoch 2/5\n",
            "33/33 [==============================] - 1s 16ms/step - loss: 0.0012 - mean_squared_error: 0.0012\n",
            "Epoch 3/5\n",
            "33/33 [==============================] - 1s 16ms/step - loss: 0.0012 - mean_squared_error: 0.0012\n",
            "Epoch 4/5\n",
            "33/33 [==============================] - 1s 17ms/step - loss: 0.0012 - mean_squared_error: 0.0012\n",
            "Epoch 5/5\n",
            "33/33 [==============================] - 1s 16ms/step - loss: 0.0012 - mean_squared_error: 0.0012\n"
          ]
        },
        {
          "output_type": "display_data",
          "data": {
            "text/plain": [
              "array([[21.480442]], dtype=float32)"
            ]
          },
          "metadata": {}
        },
        {
          "output_type": "stream",
          "name": "stdout",
          "text": [
            "Epoch 1/5\n",
            "33/33 [==============================] - 1s 16ms/step - loss: 0.0012 - mean_squared_error: 0.0012\n",
            "Epoch 2/5\n",
            "33/33 [==============================] - 1s 17ms/step - loss: 0.0012 - mean_squared_error: 0.0012\n",
            "Epoch 3/5\n",
            "33/33 [==============================] - 1s 16ms/step - loss: 0.0013 - mean_squared_error: 0.0013\n",
            "Epoch 4/5\n",
            "33/33 [==============================] - 1s 17ms/step - loss: 0.0012 - mean_squared_error: 0.0012\n",
            "Epoch 5/5\n",
            "33/33 [==============================] - 1s 16ms/step - loss: 0.0012 - mean_squared_error: 0.0012\n"
          ]
        },
        {
          "output_type": "display_data",
          "data": {
            "text/plain": [
              "array([[21.65034]], dtype=float32)"
            ]
          },
          "metadata": {}
        },
        {
          "output_type": "stream",
          "name": "stdout",
          "text": [
            "Epoch 1/5\n",
            "33/33 [==============================] - 1s 16ms/step - loss: 0.0012 - mean_squared_error: 0.0012\n",
            "Epoch 2/5\n",
            "33/33 [==============================] - 1s 17ms/step - loss: 0.0012 - mean_squared_error: 0.0012\n",
            "Epoch 3/5\n",
            "33/33 [==============================] - 1s 16ms/step - loss: 0.0013 - mean_squared_error: 0.0013\n",
            "Epoch 4/5\n",
            "33/33 [==============================] - 1s 16ms/step - loss: 0.0012 - mean_squared_error: 0.0012\n",
            "Epoch 5/5\n",
            "33/33 [==============================] - 1s 16ms/step - loss: 0.0012 - mean_squared_error: 0.0012\n"
          ]
        },
        {
          "output_type": "display_data",
          "data": {
            "text/plain": [
              "array([[21.610758]], dtype=float32)"
            ]
          },
          "metadata": {}
        },
        {
          "output_type": "stream",
          "name": "stdout",
          "text": [
            "Epoch 1/5\n",
            "33/33 [==============================] - 1s 17ms/step - loss: 0.0013 - mean_squared_error: 0.0013\n",
            "Epoch 2/5\n",
            "33/33 [==============================] - 1s 16ms/step - loss: 0.0012 - mean_squared_error: 0.0012\n",
            "Epoch 3/5\n",
            "33/33 [==============================] - 1s 16ms/step - loss: 0.0012 - mean_squared_error: 0.0012\n",
            "Epoch 4/5\n",
            "33/33 [==============================] - 1s 16ms/step - loss: 0.0012 - mean_squared_error: 0.0012\n",
            "Epoch 5/5\n",
            "33/33 [==============================] - 1s 15ms/step - loss: 0.0012 - mean_squared_error: 0.0012\n"
          ]
        },
        {
          "output_type": "display_data",
          "data": {
            "text/plain": [
              "array([[21.658365]], dtype=float32)"
            ]
          },
          "metadata": {}
        },
        {
          "output_type": "stream",
          "name": "stdout",
          "text": [
            "Epoch 1/5\n",
            "33/33 [==============================] - 1s 15ms/step - loss: 0.0014 - mean_squared_error: 0.0014\n",
            "Epoch 2/5\n",
            "33/33 [==============================] - 1s 16ms/step - loss: 0.0013 - mean_squared_error: 0.0013\n",
            "Epoch 3/5\n",
            "33/33 [==============================] - 1s 15ms/step - loss: 0.0012 - mean_squared_error: 0.0012\n",
            "Epoch 4/5\n",
            "33/33 [==============================] - 1s 16ms/step - loss: 0.0012 - mean_squared_error: 0.0012\n",
            "Epoch 5/5\n",
            "33/33 [==============================] - 1s 15ms/step - loss: 0.0013 - mean_squared_error: 0.0013\n"
          ]
        },
        {
          "output_type": "display_data",
          "data": {
            "text/plain": [
              "array([[21.705969]], dtype=float32)"
            ]
          },
          "metadata": {}
        },
        {
          "output_type": "stream",
          "name": "stdout",
          "text": [
            "Epoch 1/5\n",
            "33/33 [==============================] - 0s 15ms/step - loss: 0.0013 - mean_squared_error: 0.0013\n",
            "Epoch 2/5\n",
            "33/33 [==============================] - 1s 15ms/step - loss: 0.0012 - mean_squared_error: 0.0012\n",
            "Epoch 3/5\n",
            "33/33 [==============================] - 1s 16ms/step - loss: 0.0013 - mean_squared_error: 0.0013\n",
            "Epoch 4/5\n",
            "33/33 [==============================] - 1s 16ms/step - loss: 0.0012 - mean_squared_error: 0.0012\n",
            "Epoch 5/5\n",
            "33/33 [==============================] - 1s 16ms/step - loss: 0.0012 - mean_squared_error: 0.0012\n"
          ]
        },
        {
          "output_type": "display_data",
          "data": {
            "text/plain": [
              "array([[21.942358]], dtype=float32)"
            ]
          },
          "metadata": {}
        },
        {
          "output_type": "stream",
          "name": "stdout",
          "text": [
            "Epoch 1/5\n",
            "33/33 [==============================] - 1s 16ms/step - loss: 0.0013 - mean_squared_error: 0.0013\n",
            "Epoch 2/5\n",
            "33/33 [==============================] - 1s 15ms/step - loss: 0.0012 - mean_squared_error: 0.0012\n",
            "Epoch 3/5\n",
            "33/33 [==============================] - 1s 16ms/step - loss: 0.0012 - mean_squared_error: 0.0012\n",
            "Epoch 4/5\n",
            "33/33 [==============================] - 1s 16ms/step - loss: 0.0012 - mean_squared_error: 0.0012\n",
            "Epoch 5/5\n",
            "33/33 [==============================] - 1s 17ms/step - loss: 0.0012 - mean_squared_error: 0.0012\n"
          ]
        },
        {
          "output_type": "display_data",
          "data": {
            "text/plain": [
              "array([[21.655588]], dtype=float32)"
            ]
          },
          "metadata": {}
        },
        {
          "output_type": "stream",
          "name": "stdout",
          "text": [
            "Epoch 1/5\n",
            "33/33 [==============================] - 1s 16ms/step - loss: 0.0012 - mean_squared_error: 0.0012\n",
            "Epoch 2/5\n",
            "33/33 [==============================] - 0s 15ms/step - loss: 0.0012 - mean_squared_error: 0.0012\n",
            "Epoch 3/5\n",
            "33/33 [==============================] - 1s 16ms/step - loss: 0.0012 - mean_squared_error: 0.0012\n",
            "Epoch 4/5\n",
            "33/33 [==============================] - 1s 16ms/step - loss: 0.0012 - mean_squared_error: 0.0012\n",
            "Epoch 5/5\n",
            "33/33 [==============================] - 1s 16ms/step - loss: 0.0012 - mean_squared_error: 0.0012\n"
          ]
        },
        {
          "output_type": "display_data",
          "data": {
            "text/plain": [
              "array([[21.634167]], dtype=float32)"
            ]
          },
          "metadata": {}
        },
        {
          "output_type": "stream",
          "name": "stdout",
          "text": [
            "Epoch 1/5\n",
            "33/33 [==============================] - 0s 12ms/step - loss: 0.0012 - mean_squared_error: 0.0012\n",
            "Epoch 2/5\n",
            "33/33 [==============================] - 0s 11ms/step - loss: 0.0012 - mean_squared_error: 0.0012\n",
            "Epoch 3/5\n",
            "33/33 [==============================] - 0s 13ms/step - loss: 0.0013 - mean_squared_error: 0.0013\n",
            "Epoch 4/5\n",
            "33/33 [==============================] - 0s 12ms/step - loss: 0.0013 - mean_squared_error: 0.0013\n",
            "Epoch 5/5\n",
            "33/33 [==============================] - 0s 13ms/step - loss: 0.0012 - mean_squared_error: 0.0012\n"
          ]
        },
        {
          "output_type": "display_data",
          "data": {
            "text/plain": [
              "array([[21.7007]], dtype=float32)"
            ]
          },
          "metadata": {}
        },
        {
          "output_type": "stream",
          "name": "stdout",
          "text": [
            "Epoch 1/5\n",
            "34/34 [==============================] - 1s 15ms/step - loss: 0.0012 - mean_squared_error: 0.0012\n",
            "Epoch 2/5\n",
            "34/34 [==============================] - 1s 15ms/step - loss: 0.0012 - mean_squared_error: 0.0012\n",
            "Epoch 3/5\n",
            "34/34 [==============================] - 1s 15ms/step - loss: 0.0012 - mean_squared_error: 0.0012\n",
            "Epoch 4/5\n",
            "34/34 [==============================] - 1s 16ms/step - loss: 0.0013 - mean_squared_error: 0.0013\n",
            "Epoch 5/5\n",
            "34/34 [==============================] - 1s 17ms/step - loss: 0.0012 - mean_squared_error: 0.0012\n"
          ]
        },
        {
          "output_type": "display_data",
          "data": {
            "text/plain": [
              "array([[21.376112]], dtype=float32)"
            ]
          },
          "metadata": {}
        },
        {
          "output_type": "stream",
          "name": "stdout",
          "text": [
            "Epoch 1/5\n",
            "34/34 [==============================] - 1s 15ms/step - loss: 0.0015 - mean_squared_error: 0.0015\n",
            "Epoch 2/5\n",
            "34/34 [==============================] - 1s 16ms/step - loss: 0.0013 - mean_squared_error: 0.0013\n",
            "Epoch 3/5\n",
            "34/34 [==============================] - 1s 15ms/step - loss: 0.0013 - mean_squared_error: 0.0013\n",
            "Epoch 4/5\n",
            "34/34 [==============================] - 1s 15ms/step - loss: 0.0012 - mean_squared_error: 0.0012\n",
            "Epoch 5/5\n",
            "34/34 [==============================] - 1s 17ms/step - loss: 0.0012 - mean_squared_error: 0.0012\n"
          ]
        },
        {
          "output_type": "display_data",
          "data": {
            "text/plain": [
              "array([[21.532063]], dtype=float32)"
            ]
          },
          "metadata": {}
        },
        {
          "output_type": "stream",
          "name": "stdout",
          "text": [
            "Epoch 1/5\n",
            "34/34 [==============================] - 1s 15ms/step - loss: 0.0012 - mean_squared_error: 0.0012\n",
            "Epoch 2/5\n",
            "34/34 [==============================] - 1s 15ms/step - loss: 0.0012 - mean_squared_error: 0.0012\n",
            "Epoch 3/5\n",
            "34/34 [==============================] - 1s 16ms/step - loss: 0.0013 - mean_squared_error: 0.0013\n",
            "Epoch 4/5\n",
            "34/34 [==============================] - 1s 16ms/step - loss: 0.0012 - mean_squared_error: 0.0012\n",
            "Epoch 5/5\n",
            "34/34 [==============================] - 1s 17ms/step - loss: 0.0012 - mean_squared_error: 0.0012\n"
          ]
        },
        {
          "output_type": "display_data",
          "data": {
            "text/plain": [
              "array([[21.252132]], dtype=float32)"
            ]
          },
          "metadata": {}
        },
        {
          "output_type": "stream",
          "name": "stdout",
          "text": [
            "Epoch 1/5\n",
            "34/34 [==============================] - 1s 15ms/step - loss: 0.0013 - mean_squared_error: 0.0013\n",
            "Epoch 2/5\n",
            "34/34 [==============================] - 1s 16ms/step - loss: 0.0013 - mean_squared_error: 0.0013\n",
            "Epoch 3/5\n",
            "34/34 [==============================] - 1s 16ms/step - loss: 0.0012 - mean_squared_error: 0.0012\n",
            "Epoch 4/5\n",
            "34/34 [==============================] - 1s 15ms/step - loss: 0.0012 - mean_squared_error: 0.0012\n",
            "Epoch 5/5\n",
            "34/34 [==============================] - 1s 16ms/step - loss: 0.0012 - mean_squared_error: 0.0012\n"
          ]
        },
        {
          "output_type": "display_data",
          "data": {
            "text/plain": [
              "array([[21.068655]], dtype=float32)"
            ]
          },
          "metadata": {}
        },
        {
          "output_type": "stream",
          "name": "stdout",
          "text": [
            "Epoch 1/5\n",
            "34/34 [==============================] - 1s 16ms/step - loss: 0.0012 - mean_squared_error: 0.0012\n",
            "Epoch 2/5\n",
            "34/34 [==============================] - 1s 15ms/step - loss: 0.0012 - mean_squared_error: 0.0012\n",
            "Epoch 3/5\n",
            "34/34 [==============================] - 1s 16ms/step - loss: 0.0012 - mean_squared_error: 0.0012\n",
            "Epoch 4/5\n",
            "34/34 [==============================] - 1s 15ms/step - loss: 0.0013 - mean_squared_error: 0.0013\n",
            "Epoch 5/5\n",
            "34/34 [==============================] - 1s 16ms/step - loss: 0.0013 - mean_squared_error: 0.0013\n"
          ]
        },
        {
          "output_type": "display_data",
          "data": {
            "text/plain": [
              "array([[20.962097]], dtype=float32)"
            ]
          },
          "metadata": {}
        },
        {
          "output_type": "stream",
          "name": "stdout",
          "text": [
            "Epoch 1/5\n",
            "34/34 [==============================] - 1s 16ms/step - loss: 0.0012 - mean_squared_error: 0.0012\n",
            "Epoch 2/5\n",
            "34/34 [==============================] - 1s 16ms/step - loss: 0.0012 - mean_squared_error: 0.0012\n",
            "Epoch 3/5\n",
            "34/34 [==============================] - 1s 17ms/step - loss: 0.0015 - mean_squared_error: 0.0015\n",
            "Epoch 4/5\n",
            "34/34 [==============================] - 1s 16ms/step - loss: 0.0013 - mean_squared_error: 0.0013\n",
            "Epoch 5/5\n",
            "34/34 [==============================] - 1s 15ms/step - loss: 0.0013 - mean_squared_error: 0.0013\n"
          ]
        },
        {
          "output_type": "display_data",
          "data": {
            "text/plain": [
              "array([[20.794842]], dtype=float32)"
            ]
          },
          "metadata": {}
        },
        {
          "output_type": "stream",
          "name": "stdout",
          "text": [
            "Epoch 1/5\n",
            "34/34 [==============================] - 1s 15ms/step - loss: 0.0012 - mean_squared_error: 0.0012\n",
            "Epoch 2/5\n",
            "34/34 [==============================] - 1s 16ms/step - loss: 0.0012 - mean_squared_error: 0.0012\n",
            "Epoch 3/5\n",
            "34/34 [==============================] - 1s 15ms/step - loss: 0.0012 - mean_squared_error: 0.0012\n",
            "Epoch 4/5\n",
            "34/34 [==============================] - 1s 16ms/step - loss: 0.0013 - mean_squared_error: 0.0013\n",
            "Epoch 5/5\n",
            "34/34 [==============================] - 1s 16ms/step - loss: 0.0012 - mean_squared_error: 0.0012\n"
          ]
        },
        {
          "output_type": "display_data",
          "data": {
            "text/plain": [
              "array([[20.906622]], dtype=float32)"
            ]
          },
          "metadata": {}
        },
        {
          "output_type": "stream",
          "name": "stdout",
          "text": [
            "Epoch 1/5\n",
            "34/34 [==============================] - 1s 15ms/step - loss: 0.0012 - mean_squared_error: 0.0012\n",
            "Epoch 2/5\n",
            "34/34 [==============================] - 1s 15ms/step - loss: 0.0013 - mean_squared_error: 0.0013\n",
            "Epoch 3/5\n",
            "34/34 [==============================] - 1s 15ms/step - loss: 0.0012 - mean_squared_error: 0.0012\n",
            "Epoch 4/5\n",
            "34/34 [==============================] - 0s 14ms/step - loss: 0.0012 - mean_squared_error: 0.0012\n",
            "Epoch 5/5\n",
            "34/34 [==============================] - 0s 15ms/step - loss: 0.0012 - mean_squared_error: 0.0012\n"
          ]
        },
        {
          "output_type": "display_data",
          "data": {
            "text/plain": [
              "array([[20.830864]], dtype=float32)"
            ]
          },
          "metadata": {}
        },
        {
          "output_type": "stream",
          "name": "stdout",
          "text": [
            "Epoch 1/5\n",
            "34/34 [==============================] - 1s 15ms/step - loss: 0.0012 - mean_squared_error: 0.0012\n",
            "Epoch 2/5\n",
            "34/34 [==============================] - 1s 16ms/step - loss: 0.0013 - mean_squared_error: 0.0013\n",
            "Epoch 3/5\n",
            "34/34 [==============================] - 0s 14ms/step - loss: 0.0012 - mean_squared_error: 0.0012\n",
            "Epoch 4/5\n",
            "34/34 [==============================] - 1s 16ms/step - loss: 0.0012 - mean_squared_error: 0.0012\n",
            "Epoch 5/5\n",
            "34/34 [==============================] - 1s 15ms/step - loss: 0.0012 - mean_squared_error: 0.0012\n"
          ]
        },
        {
          "output_type": "display_data",
          "data": {
            "text/plain": [
              "array([[20.539806]], dtype=float32)"
            ]
          },
          "metadata": {}
        },
        {
          "output_type": "stream",
          "name": "stdout",
          "text": [
            "Epoch 1/5\n",
            "34/34 [==============================] - 1s 15ms/step - loss: 0.0012 - mean_squared_error: 0.0012\n",
            "Epoch 2/5\n",
            "34/34 [==============================] - 1s 15ms/step - loss: 0.0012 - mean_squared_error: 0.0012\n",
            "Epoch 3/5\n",
            "34/34 [==============================] - 1s 15ms/step - loss: 0.0012 - mean_squared_error: 0.0012\n",
            "Epoch 4/5\n",
            "34/34 [==============================] - 1s 16ms/step - loss: 0.0013 - mean_squared_error: 0.0013\n",
            "Epoch 5/5\n",
            "34/34 [==============================] - 1s 15ms/step - loss: 0.0012 - mean_squared_error: 0.0012\n"
          ]
        },
        {
          "output_type": "display_data",
          "data": {
            "text/plain": [
              "array([[20.70306]], dtype=float32)"
            ]
          },
          "metadata": {}
        },
        {
          "output_type": "stream",
          "name": "stdout",
          "text": [
            "Epoch 1/5\n",
            "34/34 [==============================] - 1s 15ms/step - loss: 0.0012 - mean_squared_error: 0.0012\n",
            "Epoch 2/5\n",
            "34/34 [==============================] - 1s 15ms/step - loss: 0.0011 - mean_squared_error: 0.0011\n",
            "Epoch 3/5\n",
            "34/34 [==============================] - 1s 16ms/step - loss: 0.0012 - mean_squared_error: 0.0012\n",
            "Epoch 4/5\n",
            "34/34 [==============================] - 1s 15ms/step - loss: 0.0012 - mean_squared_error: 0.0012\n",
            "Epoch 5/5\n",
            "34/34 [==============================] - 1s 16ms/step - loss: 0.0011 - mean_squared_error: 0.0011\n"
          ]
        },
        {
          "output_type": "display_data",
          "data": {
            "text/plain": [
              "array([[20.325823]], dtype=float32)"
            ]
          },
          "metadata": {}
        },
        {
          "output_type": "stream",
          "name": "stdout",
          "text": [
            "Epoch 1/5\n",
            "34/34 [==============================] - 1s 16ms/step - loss: 0.0011 - mean_squared_error: 0.0011\n",
            "Epoch 2/5\n",
            "34/34 [==============================] - 1s 17ms/step - loss: 0.0012 - mean_squared_error: 0.0012\n",
            "Epoch 3/5\n",
            "34/34 [==============================] - 1s 16ms/step - loss: 0.0012 - mean_squared_error: 0.0012\n",
            "Epoch 4/5\n",
            "34/34 [==============================] - 1s 16ms/step - loss: 0.0012 - mean_squared_error: 0.0012\n",
            "Epoch 5/5\n",
            "34/34 [==============================] - 1s 15ms/step - loss: 0.0012 - mean_squared_error: 0.0012\n"
          ]
        },
        {
          "output_type": "display_data",
          "data": {
            "text/plain": [
              "array([[20.274134]], dtype=float32)"
            ]
          },
          "metadata": {}
        },
        {
          "output_type": "stream",
          "name": "stdout",
          "text": [
            "Epoch 1/5\n",
            "34/34 [==============================] - 1s 15ms/step - loss: 0.0012 - mean_squared_error: 0.0012\n",
            "Epoch 2/5\n",
            "34/34 [==============================] - 1s 16ms/step - loss: 0.0012 - mean_squared_error: 0.0012\n",
            "Epoch 3/5\n",
            "34/34 [==============================] - 1s 16ms/step - loss: 0.0012 - mean_squared_error: 0.0012\n",
            "Epoch 4/5\n",
            "34/34 [==============================] - 1s 16ms/step - loss: 0.0012 - mean_squared_error: 0.0012\n",
            "Epoch 5/5\n",
            "34/34 [==============================] - 1s 16ms/step - loss: 0.0012 - mean_squared_error: 0.0012\n"
          ]
        },
        {
          "output_type": "display_data",
          "data": {
            "text/plain": [
              "array([[20.541975]], dtype=float32)"
            ]
          },
          "metadata": {}
        },
        {
          "output_type": "stream",
          "name": "stdout",
          "text": [
            "Epoch 1/5\n",
            "34/34 [==============================] - 1s 16ms/step - loss: 0.0012 - mean_squared_error: 0.0012\n",
            "Epoch 2/5\n",
            "34/34 [==============================] - 1s 15ms/step - loss: 0.0013 - mean_squared_error: 0.0013\n",
            "Epoch 3/5\n",
            "34/34 [==============================] - 1s 16ms/step - loss: 0.0012 - mean_squared_error: 0.0012\n",
            "Epoch 4/5\n",
            "34/34 [==============================] - 1s 16ms/step - loss: 0.0012 - mean_squared_error: 0.0012\n",
            "Epoch 5/5\n",
            "34/34 [==============================] - 1s 16ms/step - loss: 0.0011 - mean_squared_error: 0.0011\n"
          ]
        },
        {
          "output_type": "display_data",
          "data": {
            "text/plain": [
              "array([[20.761353]], dtype=float32)"
            ]
          },
          "metadata": {}
        },
        {
          "output_type": "stream",
          "name": "stdout",
          "text": [
            "Epoch 1/5\n",
            "34/34 [==============================] - 1s 15ms/step - loss: 0.0012 - mean_squared_error: 0.0012\n",
            "Epoch 2/5\n",
            "34/34 [==============================] - 1s 16ms/step - loss: 0.0012 - mean_squared_error: 0.0012\n",
            "Epoch 3/5\n",
            "34/34 [==============================] - 1s 15ms/step - loss: 0.0011 - mean_squared_error: 0.0011\n",
            "Epoch 4/5\n",
            "34/34 [==============================] - 1s 17ms/step - loss: 0.0012 - mean_squared_error: 0.0012\n",
            "Epoch 5/5\n",
            "34/34 [==============================] - 1s 16ms/step - loss: 0.0012 - mean_squared_error: 0.0012\n"
          ]
        },
        {
          "output_type": "display_data",
          "data": {
            "text/plain": [
              "array([[20.878607]], dtype=float32)"
            ]
          },
          "metadata": {}
        },
        {
          "output_type": "stream",
          "name": "stdout",
          "text": [
            "Epoch 1/5\n",
            "34/34 [==============================] - 1s 17ms/step - loss: 0.0012 - mean_squared_error: 0.0012\n",
            "Epoch 2/5\n",
            "34/34 [==============================] - 1s 16ms/step - loss: 0.0011 - mean_squared_error: 0.0011\n",
            "Epoch 3/5\n",
            "34/34 [==============================] - 1s 15ms/step - loss: 0.0012 - mean_squared_error: 0.0012\n",
            "Epoch 4/5\n",
            "34/34 [==============================] - 1s 15ms/step - loss: 0.0012 - mean_squared_error: 0.0012\n",
            "Epoch 5/5\n",
            "34/34 [==============================] - 1s 16ms/step - loss: 0.0012 - mean_squared_error: 0.0012\n"
          ]
        },
        {
          "output_type": "display_data",
          "data": {
            "text/plain": [
              "array([[20.917418]], dtype=float32)"
            ]
          },
          "metadata": {}
        },
        {
          "output_type": "stream",
          "name": "stdout",
          "text": [
            "Epoch 1/5\n",
            "34/34 [==============================] - 1s 15ms/step - loss: 0.0012 - mean_squared_error: 0.0012\n",
            "Epoch 2/5\n",
            "34/34 [==============================] - 1s 15ms/step - loss: 0.0012 - mean_squared_error: 0.0012\n",
            "Epoch 3/5\n",
            "34/34 [==============================] - 1s 15ms/step - loss: 0.0012 - mean_squared_error: 0.0012\n",
            "Epoch 4/5\n",
            "34/34 [==============================] - 1s 15ms/step - loss: 0.0011 - mean_squared_error: 0.0011\n",
            "Epoch 5/5\n",
            "34/34 [==============================] - 1s 15ms/step - loss: 0.0012 - mean_squared_error: 0.0012\n"
          ]
        },
        {
          "output_type": "display_data",
          "data": {
            "text/plain": [
              "array([[20.972641]], dtype=float32)"
            ]
          },
          "metadata": {}
        },
        {
          "output_type": "stream",
          "name": "stdout",
          "text": [
            "Epoch 1/5\n",
            "34/34 [==============================] - 1s 15ms/step - loss: 0.0012 - mean_squared_error: 0.0012\n",
            "Epoch 2/5\n",
            "34/34 [==============================] - 1s 16ms/step - loss: 0.0012 - mean_squared_error: 0.0012\n",
            "Epoch 3/5\n",
            "34/34 [==============================] - 1s 16ms/step - loss: 0.0012 - mean_squared_error: 0.0012\n",
            "Epoch 4/5\n",
            "34/34 [==============================] - 1s 16ms/step - loss: 0.0012 - mean_squared_error: 0.0012\n",
            "Epoch 5/5\n",
            "34/34 [==============================] - 1s 15ms/step - loss: 0.0012 - mean_squared_error: 0.0012\n"
          ]
        },
        {
          "output_type": "display_data",
          "data": {
            "text/plain": [
              "array([[20.906448]], dtype=float32)"
            ]
          },
          "metadata": {}
        },
        {
          "output_type": "stream",
          "name": "stdout",
          "text": [
            "Epoch 1/5\n",
            "34/34 [==============================] - 1s 15ms/step - loss: 0.0012 - mean_squared_error: 0.0012\n",
            "Epoch 2/5\n",
            "34/34 [==============================] - 0s 15ms/step - loss: 0.0013 - mean_squared_error: 0.0013\n",
            "Epoch 3/5\n",
            "34/34 [==============================] - 1s 15ms/step - loss: 0.0012 - mean_squared_error: 0.0012\n",
            "Epoch 4/5\n",
            "34/34 [==============================] - 1s 16ms/step - loss: 0.0012 - mean_squared_error: 0.0012\n",
            "Epoch 5/5\n",
            "34/34 [==============================] - 1s 15ms/step - loss: 0.0012 - mean_squared_error: 0.0012\n"
          ]
        },
        {
          "output_type": "display_data",
          "data": {
            "text/plain": [
              "array([[21.042181]], dtype=float32)"
            ]
          },
          "metadata": {}
        },
        {
          "output_type": "stream",
          "name": "stdout",
          "text": [
            "Epoch 1/5\n",
            "34/34 [==============================] - 1s 15ms/step - loss: 0.0011 - mean_squared_error: 0.0011\n",
            "Epoch 2/5\n",
            "34/34 [==============================] - 1s 15ms/step - loss: 0.0012 - mean_squared_error: 0.0012\n",
            "Epoch 3/5\n",
            "34/34 [==============================] - 1s 16ms/step - loss: 0.0011 - mean_squared_error: 0.0011\n",
            "Epoch 4/5\n",
            "34/34 [==============================] - 1s 15ms/step - loss: 0.0012 - mean_squared_error: 0.0012\n",
            "Epoch 5/5\n",
            "34/34 [==============================] - 1s 16ms/step - loss: 0.0012 - mean_squared_error: 0.0012\n"
          ]
        },
        {
          "output_type": "display_data",
          "data": {
            "text/plain": [
              "array([[21.067556]], dtype=float32)"
            ]
          },
          "metadata": {}
        },
        {
          "output_type": "stream",
          "name": "stdout",
          "text": [
            "Epoch 1/5\n",
            "34/34 [==============================] - 1s 15ms/step - loss: 0.0012 - mean_squared_error: 0.0012\n",
            "Epoch 2/5\n",
            "34/34 [==============================] - 1s 15ms/step - loss: 0.0012 - mean_squared_error: 0.0012\n",
            "Epoch 3/5\n",
            "34/34 [==============================] - 1s 16ms/step - loss: 0.0012 - mean_squared_error: 0.0012\n",
            "Epoch 4/5\n",
            "34/34 [==============================] - 1s 16ms/step - loss: 0.0012 - mean_squared_error: 0.0012\n",
            "Epoch 5/5\n",
            "34/34 [==============================] - 1s 16ms/step - loss: 0.0012 - mean_squared_error: 0.0012\n"
          ]
        },
        {
          "output_type": "display_data",
          "data": {
            "text/plain": [
              "array([[21.246014]], dtype=float32)"
            ]
          },
          "metadata": {}
        },
        {
          "output_type": "stream",
          "name": "stdout",
          "text": [
            "Epoch 1/5\n",
            "34/34 [==============================] - 1s 16ms/step - loss: 0.0012 - mean_squared_error: 0.0012\n",
            "Epoch 2/5\n",
            "34/34 [==============================] - 1s 16ms/step - loss: 0.0013 - mean_squared_error: 0.0013\n",
            "Epoch 3/5\n",
            "34/34 [==============================] - 1s 16ms/step - loss: 0.0011 - mean_squared_error: 0.0011\n",
            "Epoch 4/5\n",
            "34/34 [==============================] - 1s 17ms/step - loss: 0.0012 - mean_squared_error: 0.0012\n",
            "Epoch 5/5\n",
            "34/34 [==============================] - 1s 16ms/step - loss: 0.0012 - mean_squared_error: 0.0012\n"
          ]
        },
        {
          "output_type": "display_data",
          "data": {
            "text/plain": [
              "array([[21.619371]], dtype=float32)"
            ]
          },
          "metadata": {}
        },
        {
          "output_type": "stream",
          "name": "stdout",
          "text": [
            "Epoch 1/5\n",
            "34/34 [==============================] - 1s 16ms/step - loss: 0.0011 - mean_squared_error: 0.0011\n",
            "Epoch 2/5\n",
            "34/34 [==============================] - 1s 16ms/step - loss: 0.0012 - mean_squared_error: 0.0012\n",
            "Epoch 3/5\n",
            "34/34 [==============================] - 1s 16ms/step - loss: 0.0012 - mean_squared_error: 0.0012\n",
            "Epoch 4/5\n",
            "34/34 [==============================] - 1s 23ms/step - loss: 0.0012 - mean_squared_error: 0.0012\n",
            "Epoch 5/5\n",
            "34/34 [==============================] - 1s 23ms/step - loss: 0.0012 - mean_squared_error: 0.0012\n"
          ]
        },
        {
          "output_type": "display_data",
          "data": {
            "text/plain": [
              "array([[21.666779]], dtype=float32)"
            ]
          },
          "metadata": {}
        },
        {
          "output_type": "stream",
          "name": "stdout",
          "text": [
            "Epoch 1/5\n",
            "34/34 [==============================] - 1s 22ms/step - loss: 0.0012 - mean_squared_error: 0.0012\n",
            "Epoch 2/5\n",
            "34/34 [==============================] - 1s 17ms/step - loss: 0.0011 - mean_squared_error: 0.0011\n",
            "Epoch 3/5\n",
            "34/34 [==============================] - 1s 16ms/step - loss: 0.0012 - mean_squared_error: 0.0012\n",
            "Epoch 4/5\n",
            "34/34 [==============================] - 1s 16ms/step - loss: 0.0011 - mean_squared_error: 0.0011\n",
            "Epoch 5/5\n",
            "34/34 [==============================] - 1s 17ms/step - loss: 0.0011 - mean_squared_error: 0.0011\n"
          ]
        },
        {
          "output_type": "display_data",
          "data": {
            "text/plain": [
              "array([[21.550776]], dtype=float32)"
            ]
          },
          "metadata": {}
        },
        {
          "output_type": "stream",
          "name": "stdout",
          "text": [
            "Epoch 1/5\n",
            "34/34 [==============================] - 1s 15ms/step - loss: 0.0011 - mean_squared_error: 0.0011\n",
            "Epoch 2/5\n",
            "34/34 [==============================] - 1s 16ms/step - loss: 0.0012 - mean_squared_error: 0.0012\n",
            "Epoch 3/5\n",
            "34/34 [==============================] - 1s 16ms/step - loss: 0.0012 - mean_squared_error: 0.0012\n",
            "Epoch 4/5\n",
            "34/34 [==============================] - 1s 17ms/step - loss: 0.0011 - mean_squared_error: 0.0011\n",
            "Epoch 5/5\n",
            "34/34 [==============================] - 1s 16ms/step - loss: 0.0011 - mean_squared_error: 0.0011\n"
          ]
        },
        {
          "output_type": "display_data",
          "data": {
            "text/plain": [
              "array([[21.615568]], dtype=float32)"
            ]
          },
          "metadata": {}
        },
        {
          "output_type": "stream",
          "name": "stdout",
          "text": [
            "Epoch 1/5\n",
            "34/34 [==============================] - 1s 16ms/step - loss: 0.0012 - mean_squared_error: 0.0012\n",
            "Epoch 2/5\n",
            "34/34 [==============================] - 1s 16ms/step - loss: 0.0012 - mean_squared_error: 0.0012\n",
            "Epoch 3/5\n",
            "34/34 [==============================] - 1s 15ms/step - loss: 0.0012 - mean_squared_error: 0.0012\n",
            "Epoch 4/5\n",
            "34/34 [==============================] - 1s 15ms/step - loss: 0.0012 - mean_squared_error: 0.0012\n",
            "Epoch 5/5\n",
            "34/34 [==============================] - 1s 15ms/step - loss: 0.0011 - mean_squared_error: 0.0011\n"
          ]
        },
        {
          "output_type": "display_data",
          "data": {
            "text/plain": [
              "array([[21.506592]], dtype=float32)"
            ]
          },
          "metadata": {}
        },
        {
          "output_type": "stream",
          "name": "stdout",
          "text": [
            "Epoch 1/5\n",
            "34/34 [==============================] - 1s 16ms/step - loss: 0.0012 - mean_squared_error: 0.0012\n",
            "Epoch 2/5\n",
            "34/34 [==============================] - 1s 15ms/step - loss: 0.0011 - mean_squared_error: 0.0011\n",
            "Epoch 3/5\n",
            "34/34 [==============================] - 1s 16ms/step - loss: 0.0011 - mean_squared_error: 0.0011\n",
            "Epoch 4/5\n",
            "34/34 [==============================] - 1s 16ms/step - loss: 0.0012 - mean_squared_error: 0.0012\n",
            "Epoch 5/5\n",
            "34/34 [==============================] - 1s 15ms/step - loss: 0.0012 - mean_squared_error: 0.0012\n"
          ]
        },
        {
          "output_type": "display_data",
          "data": {
            "text/plain": [
              "array([[21.552166]], dtype=float32)"
            ]
          },
          "metadata": {}
        },
        {
          "output_type": "stream",
          "name": "stdout",
          "text": [
            "Epoch 1/5\n",
            "34/34 [==============================] - 1s 15ms/step - loss: 0.0011 - mean_squared_error: 0.0011\n",
            "Epoch 2/5\n",
            "34/34 [==============================] - 1s 16ms/step - loss: 0.0011 - mean_squared_error: 0.0011\n",
            "Epoch 3/5\n",
            "34/34 [==============================] - 1s 15ms/step - loss: 0.0011 - mean_squared_error: 0.0011\n",
            "Epoch 4/5\n",
            "34/34 [==============================] - 1s 16ms/step - loss: 0.0012 - mean_squared_error: 0.0012\n",
            "Epoch 5/5\n",
            "34/34 [==============================] - 1s 15ms/step - loss: 0.0011 - mean_squared_error: 0.0011\n"
          ]
        },
        {
          "output_type": "display_data",
          "data": {
            "text/plain": [
              "array([[21.39445]], dtype=float32)"
            ]
          },
          "metadata": {}
        },
        {
          "output_type": "stream",
          "name": "stdout",
          "text": [
            "Epoch 1/5\n",
            "34/34 [==============================] - 1s 16ms/step - loss: 0.0012 - mean_squared_error: 0.0012\n",
            "Epoch 2/5\n",
            "34/34 [==============================] - 1s 16ms/step - loss: 0.0011 - mean_squared_error: 0.0011\n",
            "Epoch 3/5\n",
            "34/34 [==============================] - 1s 16ms/step - loss: 0.0011 - mean_squared_error: 0.0011\n",
            "Epoch 4/5\n",
            "34/34 [==============================] - 1s 16ms/step - loss: 0.0011 - mean_squared_error: 0.0011\n",
            "Epoch 5/5\n",
            "34/34 [==============================] - 1s 16ms/step - loss: 0.0012 - mean_squared_error: 0.0012\n"
          ]
        },
        {
          "output_type": "display_data",
          "data": {
            "text/plain": [
              "array([[21.659012]], dtype=float32)"
            ]
          },
          "metadata": {}
        },
        {
          "output_type": "stream",
          "name": "stdout",
          "text": [
            "Epoch 1/5\n",
            "34/34 [==============================] - 1s 15ms/step - loss: 0.0011 - mean_squared_error: 0.0011\n",
            "Epoch 2/5\n",
            "34/34 [==============================] - 1s 16ms/step - loss: 0.0012 - mean_squared_error: 0.0012\n",
            "Epoch 3/5\n",
            "34/34 [==============================] - 1s 15ms/step - loss: 0.0012 - mean_squared_error: 0.0012\n",
            "Epoch 4/5\n",
            "34/34 [==============================] - 1s 16ms/step - loss: 0.0011 - mean_squared_error: 0.0011\n",
            "Epoch 5/5\n",
            "34/34 [==============================] - 1s 15ms/step - loss: 0.0011 - mean_squared_error: 0.0011\n"
          ]
        },
        {
          "output_type": "display_data",
          "data": {
            "text/plain": [
              "array([[21.49853]], dtype=float32)"
            ]
          },
          "metadata": {}
        },
        {
          "output_type": "stream",
          "name": "stdout",
          "text": [
            "Epoch 1/5\n",
            "34/34 [==============================] - 1s 17ms/step - loss: 0.0011 - mean_squared_error: 0.0011\n",
            "Epoch 2/5\n",
            "34/34 [==============================] - 1s 17ms/step - loss: 0.0011 - mean_squared_error: 0.0011\n",
            "Epoch 3/5\n",
            "34/34 [==============================] - 1s 15ms/step - loss: 0.0011 - mean_squared_error: 0.0011\n",
            "Epoch 4/5\n",
            "34/34 [==============================] - 1s 16ms/step - loss: 0.0011 - mean_squared_error: 0.0011\n",
            "Epoch 5/5\n",
            "34/34 [==============================] - 1s 16ms/step - loss: 0.0012 - mean_squared_error: 0.0012\n"
          ]
        },
        {
          "output_type": "display_data",
          "data": {
            "text/plain": [
              "array([[21.639969]], dtype=float32)"
            ]
          },
          "metadata": {}
        },
        {
          "output_type": "stream",
          "name": "stdout",
          "text": [
            "Epoch 1/5\n",
            "34/34 [==============================] - 0s 13ms/step - loss: 0.0011 - mean_squared_error: 0.0011\n",
            "Epoch 2/5\n",
            "34/34 [==============================] - 0s 12ms/step - loss: 0.0011 - mean_squared_error: 0.0011\n",
            "Epoch 3/5\n",
            "34/34 [==============================] - 0s 13ms/step - loss: 0.0011 - mean_squared_error: 0.0011\n",
            "Epoch 4/5\n",
            "34/34 [==============================] - 0s 12ms/step - loss: 0.0011 - mean_squared_error: 0.0011\n",
            "Epoch 5/5\n",
            "34/34 [==============================] - 0s 11ms/step - loss: 0.0011 - mean_squared_error: 0.0011\n"
          ]
        },
        {
          "output_type": "display_data",
          "data": {
            "text/plain": [
              "array([[21.557114]], dtype=float32)"
            ]
          },
          "metadata": {}
        },
        {
          "output_type": "stream",
          "name": "stdout",
          "text": [
            "Epoch 1/5\n",
            "35/35 [==============================] - 1s 15ms/step - loss: 0.0011 - mean_squared_error: 0.0011\n",
            "Epoch 2/5\n",
            "35/35 [==============================] - 1s 17ms/step - loss: 0.0011 - mean_squared_error: 0.0011\n",
            "Epoch 3/5\n",
            "35/35 [==============================] - 1s 16ms/step - loss: 0.0013 - mean_squared_error: 0.0013\n",
            "Epoch 4/5\n",
            "35/35 [==============================] - 1s 16ms/step - loss: 0.0012 - mean_squared_error: 0.0012\n",
            "Epoch 5/5\n",
            "35/35 [==============================] - 1s 15ms/step - loss: 0.0011 - mean_squared_error: 0.0011\n"
          ]
        },
        {
          "output_type": "display_data",
          "data": {
            "text/plain": [
              "array([[21.510159]], dtype=float32)"
            ]
          },
          "metadata": {}
        },
        {
          "output_type": "stream",
          "name": "stdout",
          "text": [
            "Epoch 1/5\n",
            "35/35 [==============================] - 1s 17ms/step - loss: 0.0012 - mean_squared_error: 0.0012\n",
            "Epoch 2/5\n",
            "35/35 [==============================] - 1s 15ms/step - loss: 0.0013 - mean_squared_error: 0.0013\n",
            "Epoch 3/5\n",
            "35/35 [==============================] - 1s 16ms/step - loss: 0.0012 - mean_squared_error: 0.0012\n",
            "Epoch 4/5\n",
            "35/35 [==============================] - 1s 16ms/step - loss: 0.0012 - mean_squared_error: 0.0012\n",
            "Epoch 5/5\n",
            "35/35 [==============================] - 1s 16ms/step - loss: 0.0012 - mean_squared_error: 0.0012\n"
          ]
        },
        {
          "output_type": "display_data",
          "data": {
            "text/plain": [
              "array([[21.405392]], dtype=float32)"
            ]
          },
          "metadata": {}
        },
        {
          "output_type": "stream",
          "name": "stdout",
          "text": [
            "Epoch 1/5\n",
            "35/35 [==============================] - 1s 17ms/step - loss: 0.0012 - mean_squared_error: 0.0012\n",
            "Epoch 2/5\n",
            "35/35 [==============================] - 1s 17ms/step - loss: 0.0012 - mean_squared_error: 0.0012\n",
            "Epoch 3/5\n",
            "35/35 [==============================] - 1s 16ms/step - loss: 0.0011 - mean_squared_error: 0.0011\n",
            "Epoch 4/5\n",
            "35/35 [==============================] - 1s 17ms/step - loss: 0.0014 - mean_squared_error: 0.0014\n",
            "Epoch 5/5\n",
            "35/35 [==============================] - 1s 15ms/step - loss: 0.0011 - mean_squared_error: 0.0011\n"
          ]
        },
        {
          "output_type": "display_data",
          "data": {
            "text/plain": [
              "array([[21.369093]], dtype=float32)"
            ]
          },
          "metadata": {}
        },
        {
          "output_type": "stream",
          "name": "stdout",
          "text": [
            "Epoch 1/5\n",
            "35/35 [==============================] - 1s 16ms/step - loss: 0.0011 - mean_squared_error: 0.0011\n",
            "Epoch 2/5\n",
            "35/35 [==============================] - 1s 16ms/step - loss: 0.0011 - mean_squared_error: 0.0011\n",
            "Epoch 3/5\n",
            "35/35 [==============================] - 1s 16ms/step - loss: 0.0011 - mean_squared_error: 0.0011\n",
            "Epoch 4/5\n",
            "35/35 [==============================] - 1s 16ms/step - loss: 0.0011 - mean_squared_error: 0.0011\n",
            "Epoch 5/5\n",
            "35/35 [==============================] - 1s 16ms/step - loss: 0.0012 - mean_squared_error: 0.0012\n"
          ]
        },
        {
          "output_type": "display_data",
          "data": {
            "text/plain": [
              "array([[21.326977]], dtype=float32)"
            ]
          },
          "metadata": {}
        },
        {
          "output_type": "stream",
          "name": "stdout",
          "text": [
            "Epoch 1/5\n",
            "35/35 [==============================] - 1s 16ms/step - loss: 0.0011 - mean_squared_error: 0.0011\n",
            "Epoch 2/5\n",
            "35/35 [==============================] - 1s 16ms/step - loss: 0.0011 - mean_squared_error: 0.0011\n",
            "Epoch 3/5\n",
            "35/35 [==============================] - 1s 16ms/step - loss: 0.0011 - mean_squared_error: 0.0011\n",
            "Epoch 4/5\n",
            "35/35 [==============================] - 1s 16ms/step - loss: 0.0012 - mean_squared_error: 0.0012\n",
            "Epoch 5/5\n",
            "35/35 [==============================] - 1s 15ms/step - loss: 0.0011 - mean_squared_error: 0.0011\n"
          ]
        },
        {
          "output_type": "display_data",
          "data": {
            "text/plain": [
              "array([[21.364254]], dtype=float32)"
            ]
          },
          "metadata": {}
        },
        {
          "output_type": "stream",
          "name": "stdout",
          "text": [
            "Epoch 1/5\n",
            "35/35 [==============================] - 1s 16ms/step - loss: 0.0011 - mean_squared_error: 0.0011\n",
            "Epoch 2/5\n",
            "35/35 [==============================] - 1s 15ms/step - loss: 0.0011 - mean_squared_error: 0.0011\n",
            "Epoch 3/5\n",
            "35/35 [==============================] - 1s 15ms/step - loss: 0.0011 - mean_squared_error: 0.0011\n",
            "Epoch 4/5\n",
            "35/35 [==============================] - 1s 15ms/step - loss: 0.0011 - mean_squared_error: 0.0011\n",
            "Epoch 5/5\n",
            "35/35 [==============================] - 1s 16ms/step - loss: 0.0011 - mean_squared_error: 0.0011\n"
          ]
        },
        {
          "output_type": "display_data",
          "data": {
            "text/plain": [
              "array([[21.386501]], dtype=float32)"
            ]
          },
          "metadata": {}
        },
        {
          "output_type": "stream",
          "name": "stdout",
          "text": [
            "Epoch 1/5\n",
            "35/35 [==============================] - 1s 16ms/step - loss: 0.0011 - mean_squared_error: 0.0011\n",
            "Epoch 2/5\n",
            "35/35 [==============================] - 1s 15ms/step - loss: 0.0011 - mean_squared_error: 0.0011\n",
            "Epoch 3/5\n",
            "35/35 [==============================] - 1s 16ms/step - loss: 0.0012 - mean_squared_error: 0.0012\n",
            "Epoch 4/5\n",
            "35/35 [==============================] - 1s 16ms/step - loss: 0.0011 - mean_squared_error: 0.0011\n",
            "Epoch 5/5\n",
            "35/35 [==============================] - 1s 16ms/step - loss: 0.0011 - mean_squared_error: 0.0011\n"
          ]
        },
        {
          "output_type": "display_data",
          "data": {
            "text/plain": [
              "array([[21.444769]], dtype=float32)"
            ]
          },
          "metadata": {}
        },
        {
          "output_type": "stream",
          "name": "stdout",
          "text": [
            "Epoch 1/5\n",
            "35/35 [==============================] - 1s 16ms/step - loss: 0.0012 - mean_squared_error: 0.0012\n",
            "Epoch 2/5\n",
            "35/35 [==============================] - 1s 15ms/step - loss: 0.0011 - mean_squared_error: 0.0011\n",
            "Epoch 3/5\n",
            "35/35 [==============================] - 1s 16ms/step - loss: 0.0011 - mean_squared_error: 0.0011\n",
            "Epoch 4/5\n",
            "35/35 [==============================] - 1s 16ms/step - loss: 0.0011 - mean_squared_error: 0.0011\n",
            "Epoch 5/5\n",
            "35/35 [==============================] - 1s 15ms/step - loss: 0.0012 - mean_squared_error: 0.0012\n"
          ]
        },
        {
          "output_type": "display_data",
          "data": {
            "text/plain": [
              "array([[21.5231]], dtype=float32)"
            ]
          },
          "metadata": {}
        },
        {
          "output_type": "stream",
          "name": "stdout",
          "text": [
            "Epoch 1/5\n",
            "35/35 [==============================] - 1s 16ms/step - loss: 0.0011 - mean_squared_error: 0.0011\n",
            "Epoch 2/5\n",
            "35/35 [==============================] - 1s 16ms/step - loss: 0.0011 - mean_squared_error: 0.0011\n",
            "Epoch 3/5\n",
            "35/35 [==============================] - 1s 16ms/step - loss: 0.0011 - mean_squared_error: 0.0011\n",
            "Epoch 4/5\n",
            "35/35 [==============================] - 1s 15ms/step - loss: 0.0011 - mean_squared_error: 0.0011\n",
            "Epoch 5/5\n",
            "35/35 [==============================] - 1s 15ms/step - loss: 0.0011 - mean_squared_error: 0.0011\n"
          ]
        },
        {
          "output_type": "display_data",
          "data": {
            "text/plain": [
              "array([[21.639029]], dtype=float32)"
            ]
          },
          "metadata": {}
        },
        {
          "output_type": "stream",
          "name": "stdout",
          "text": [
            "Epoch 1/5\n",
            "35/35 [==============================] - 1s 15ms/step - loss: 0.0011 - mean_squared_error: 0.0011\n",
            "Epoch 2/5\n",
            "35/35 [==============================] - 1s 16ms/step - loss: 0.0012 - mean_squared_error: 0.0012\n",
            "Epoch 3/5\n",
            "35/35 [==============================] - 1s 16ms/step - loss: 0.0011 - mean_squared_error: 0.0011\n",
            "Epoch 4/5\n",
            "35/35 [==============================] - 1s 15ms/step - loss: 0.0011 - mean_squared_error: 0.0011\n",
            "Epoch 5/5\n",
            "35/35 [==============================] - 1s 15ms/step - loss: 0.0011 - mean_squared_error: 0.0011\n"
          ]
        },
        {
          "output_type": "display_data",
          "data": {
            "text/plain": [
              "array([[21.366756]], dtype=float32)"
            ]
          },
          "metadata": {}
        },
        {
          "output_type": "stream",
          "name": "stdout",
          "text": [
            "Epoch 1/5\n",
            "35/35 [==============================] - 1s 16ms/step - loss: 0.0011 - mean_squared_error: 0.0011\n",
            "Epoch 2/5\n",
            "35/35 [==============================] - 1s 17ms/step - loss: 0.0011 - mean_squared_error: 0.0011\n",
            "Epoch 3/5\n",
            "35/35 [==============================] - 1s 15ms/step - loss: 0.0011 - mean_squared_error: 0.0011\n",
            "Epoch 4/5\n",
            "35/35 [==============================] - 1s 16ms/step - loss: 0.0011 - mean_squared_error: 0.0011\n",
            "Epoch 5/5\n",
            "35/35 [==============================] - 1s 17ms/step - loss: 0.0011 - mean_squared_error: 0.0011\n"
          ]
        },
        {
          "output_type": "display_data",
          "data": {
            "text/plain": [
              "array([[21.39792]], dtype=float32)"
            ]
          },
          "metadata": {}
        },
        {
          "output_type": "stream",
          "name": "stdout",
          "text": [
            "Epoch 1/5\n",
            "35/35 [==============================] - 1s 15ms/step - loss: 0.0011 - mean_squared_error: 0.0011\n",
            "Epoch 2/5\n",
            "35/35 [==============================] - 1s 16ms/step - loss: 0.0012 - mean_squared_error: 0.0012\n",
            "Epoch 3/5\n",
            "35/35 [==============================] - 1s 15ms/step - loss: 0.0011 - mean_squared_error: 0.0011\n",
            "Epoch 4/5\n",
            "35/35 [==============================] - 1s 15ms/step - loss: 0.0012 - mean_squared_error: 0.0012\n",
            "Epoch 5/5\n",
            "35/35 [==============================] - 1s 16ms/step - loss: 0.0011 - mean_squared_error: 0.0011\n"
          ]
        },
        {
          "output_type": "display_data",
          "data": {
            "text/plain": [
              "array([[21.363579]], dtype=float32)"
            ]
          },
          "metadata": {}
        },
        {
          "output_type": "stream",
          "name": "stdout",
          "text": [
            "Epoch 1/5\n",
            "35/35 [==============================] - 1s 15ms/step - loss: 0.0011 - mean_squared_error: 0.0011\n",
            "Epoch 2/5\n",
            "35/35 [==============================] - 1s 15ms/step - loss: 0.0011 - mean_squared_error: 0.0011\n",
            "Epoch 3/5\n",
            "35/35 [==============================] - 1s 16ms/step - loss: 0.0011 - mean_squared_error: 0.0011\n",
            "Epoch 4/5\n",
            "35/35 [==============================] - 1s 16ms/step - loss: 0.0012 - mean_squared_error: 0.0012\n",
            "Epoch 5/5\n",
            "35/35 [==============================] - 1s 16ms/step - loss: 0.0011 - mean_squared_error: 0.0011\n"
          ]
        },
        {
          "output_type": "display_data",
          "data": {
            "text/plain": [
              "array([[21.4632]], dtype=float32)"
            ]
          },
          "metadata": {}
        },
        {
          "output_type": "stream",
          "name": "stdout",
          "text": [
            "Epoch 1/5\n",
            "35/35 [==============================] - 1s 17ms/step - loss: 0.0011 - mean_squared_error: 0.0011\n",
            "Epoch 2/5\n",
            "35/35 [==============================] - 1s 16ms/step - loss: 0.0011 - mean_squared_error: 0.0011\n",
            "Epoch 3/5\n",
            "35/35 [==============================] - 1s 16ms/step - loss: 0.0011 - mean_squared_error: 0.0011\n",
            "Epoch 4/5\n",
            "35/35 [==============================] - 1s 16ms/step - loss: 0.0012 - mean_squared_error: 0.0012\n",
            "Epoch 5/5\n",
            "35/35 [==============================] - 1s 15ms/step - loss: 0.0011 - mean_squared_error: 0.0011\n"
          ]
        },
        {
          "output_type": "display_data",
          "data": {
            "text/plain": [
              "array([[21.259268]], dtype=float32)"
            ]
          },
          "metadata": {}
        },
        {
          "output_type": "stream",
          "name": "stdout",
          "text": [
            "Epoch 1/5\n",
            "35/35 [==============================] - 1s 17ms/step - loss: 0.0011 - mean_squared_error: 0.0011\n",
            "Epoch 2/5\n",
            "35/35 [==============================] - 1s 15ms/step - loss: 0.0011 - mean_squared_error: 0.0011\n",
            "Epoch 3/5\n",
            "35/35 [==============================] - 1s 16ms/step - loss: 0.0011 - mean_squared_error: 0.0011\n",
            "Epoch 4/5\n",
            "35/35 [==============================] - 1s 15ms/step - loss: 0.0012 - mean_squared_error: 0.0012\n",
            "Epoch 5/5\n",
            "35/35 [==============================] - 1s 15ms/step - loss: 0.0012 - mean_squared_error: 0.0012\n"
          ]
        },
        {
          "output_type": "display_data",
          "data": {
            "text/plain": [
              "array([[21.2785]], dtype=float32)"
            ]
          },
          "metadata": {}
        },
        {
          "output_type": "stream",
          "name": "stdout",
          "text": [
            "Epoch 1/5\n",
            "35/35 [==============================] - 1s 15ms/step - loss: 0.0011 - mean_squared_error: 0.0011\n",
            "Epoch 2/5\n",
            "35/35 [==============================] - 1s 16ms/step - loss: 0.0011 - mean_squared_error: 0.0011\n",
            "Epoch 3/5\n",
            "35/35 [==============================] - 1s 16ms/step - loss: 0.0011 - mean_squared_error: 0.0011\n",
            "Epoch 4/5\n",
            "35/35 [==============================] - 1s 15ms/step - loss: 0.0011 - mean_squared_error: 0.0011\n",
            "Epoch 5/5\n",
            "35/35 [==============================] - 1s 16ms/step - loss: 0.0011 - mean_squared_error: 0.0011\n"
          ]
        },
        {
          "output_type": "display_data",
          "data": {
            "text/plain": [
              "array([[21.074936]], dtype=float32)"
            ]
          },
          "metadata": {}
        },
        {
          "output_type": "stream",
          "name": "stdout",
          "text": [
            "Epoch 1/5\n",
            "35/35 [==============================] - 1s 17ms/step - loss: 0.0011 - mean_squared_error: 0.0011\n",
            "Epoch 2/5\n",
            "35/35 [==============================] - 1s 17ms/step - loss: 0.0011 - mean_squared_error: 0.0011\n",
            "Epoch 3/5\n",
            "35/35 [==============================] - 1s 15ms/step - loss: 0.0010 - mean_squared_error: 0.0010\n",
            "Epoch 4/5\n",
            "35/35 [==============================] - 1s 15ms/step - loss: 0.0011 - mean_squared_error: 0.0011\n",
            "Epoch 5/5\n",
            "35/35 [==============================] - 1s 16ms/step - loss: 0.0011 - mean_squared_error: 0.0011\n"
          ]
        },
        {
          "output_type": "display_data",
          "data": {
            "text/plain": [
              "array([[21.132942]], dtype=float32)"
            ]
          },
          "metadata": {}
        },
        {
          "output_type": "stream",
          "name": "stdout",
          "text": [
            "Epoch 1/5\n",
            "35/35 [==============================] - 1s 16ms/step - loss: 0.0011 - mean_squared_error: 0.0011\n",
            "Epoch 2/5\n",
            "35/35 [==============================] - 1s 16ms/step - loss: 0.0011 - mean_squared_error: 0.0011\n",
            "Epoch 3/5\n",
            "35/35 [==============================] - 1s 16ms/step - loss: 0.0012 - mean_squared_error: 0.0012\n",
            "Epoch 4/5\n",
            "35/35 [==============================] - 1s 15ms/step - loss: 0.0011 - mean_squared_error: 0.0011\n",
            "Epoch 5/5\n",
            "35/35 [==============================] - 1s 16ms/step - loss: 0.0011 - mean_squared_error: 0.0011\n"
          ]
        },
        {
          "output_type": "display_data",
          "data": {
            "text/plain": [
              "array([[20.920736]], dtype=float32)"
            ]
          },
          "metadata": {}
        },
        {
          "output_type": "stream",
          "name": "stdout",
          "text": [
            "Epoch 1/5\n",
            "35/35 [==============================] - 1s 16ms/step - loss: 0.0012 - mean_squared_error: 0.0012\n",
            "Epoch 2/5\n",
            "35/35 [==============================] - 1s 16ms/step - loss: 0.0011 - mean_squared_error: 0.0011\n",
            "Epoch 3/5\n",
            "35/35 [==============================] - 1s 15ms/step - loss: 0.0011 - mean_squared_error: 0.0011\n",
            "Epoch 4/5\n",
            "35/35 [==============================] - 1s 15ms/step - loss: 0.0012 - mean_squared_error: 0.0012\n",
            "Epoch 5/5\n",
            "35/35 [==============================] - 1s 16ms/step - loss: 0.0011 - mean_squared_error: 0.0011\n"
          ]
        },
        {
          "output_type": "display_data",
          "data": {
            "text/plain": [
              "array([[20.886837]], dtype=float32)"
            ]
          },
          "metadata": {}
        },
        {
          "output_type": "stream",
          "name": "stdout",
          "text": [
            "Epoch 1/5\n",
            "35/35 [==============================] - 1s 15ms/step - loss: 0.0011 - mean_squared_error: 0.0011\n",
            "Epoch 2/5\n",
            "35/35 [==============================] - 1s 16ms/step - loss: 0.0012 - mean_squared_error: 0.0012\n",
            "Epoch 3/5\n",
            "35/35 [==============================] - 1s 17ms/step - loss: 0.0011 - mean_squared_error: 0.0011\n",
            "Epoch 4/5\n",
            "35/35 [==============================] - 1s 18ms/step - loss: 0.0011 - mean_squared_error: 0.0011\n",
            "Epoch 5/5\n",
            "35/35 [==============================] - 1s 17ms/step - loss: 0.0011 - mean_squared_error: 0.0011\n"
          ]
        },
        {
          "output_type": "display_data",
          "data": {
            "text/plain": [
              "array([[21.08856]], dtype=float32)"
            ]
          },
          "metadata": {}
        },
        {
          "output_type": "stream",
          "name": "stdout",
          "text": [
            "Epoch 1/5\n",
            "35/35 [==============================] - 1s 15ms/step - loss: 0.0010 - mean_squared_error: 0.0010\n",
            "Epoch 2/5\n",
            "35/35 [==============================] - 1s 15ms/step - loss: 0.0011 - mean_squared_error: 0.0011\n",
            "Epoch 3/5\n",
            "35/35 [==============================] - 1s 17ms/step - loss: 0.0011 - mean_squared_error: 0.0011\n",
            "Epoch 4/5\n",
            "35/35 [==============================] - 1s 16ms/step - loss: 0.0011 - mean_squared_error: 0.0011\n",
            "Epoch 5/5\n",
            "35/35 [==============================] - 1s 16ms/step - loss: 0.0011 - mean_squared_error: 0.0011\n"
          ]
        },
        {
          "output_type": "display_data",
          "data": {
            "text/plain": [
              "array([[20.908987]], dtype=float32)"
            ]
          },
          "metadata": {}
        },
        {
          "output_type": "stream",
          "name": "stdout",
          "text": [
            "Epoch 1/5\n",
            "35/35 [==============================] - 1s 16ms/step - loss: 0.0011 - mean_squared_error: 0.0011\n",
            "Epoch 2/5\n",
            "35/35 [==============================] - 1s 15ms/step - loss: 0.0011 - mean_squared_error: 0.0011\n",
            "Epoch 3/5\n",
            "35/35 [==============================] - 1s 16ms/step - loss: 0.0012 - mean_squared_error: 0.0012\n",
            "Epoch 4/5\n",
            "35/35 [==============================] - 1s 15ms/step - loss: 0.0011 - mean_squared_error: 0.0011\n",
            "Epoch 5/5\n",
            "35/35 [==============================] - 1s 15ms/step - loss: 0.0011 - mean_squared_error: 0.0011\n"
          ]
        },
        {
          "output_type": "display_data",
          "data": {
            "text/plain": [
              "array([[21.078688]], dtype=float32)"
            ]
          },
          "metadata": {}
        },
        {
          "output_type": "stream",
          "name": "stdout",
          "text": [
            "Epoch 1/5\n",
            "35/35 [==============================] - 1s 16ms/step - loss: 0.0010 - mean_squared_error: 0.0010\n",
            "Epoch 2/5\n",
            "35/35 [==============================] - 1s 17ms/step - loss: 0.0010 - mean_squared_error: 0.0010   \n",
            "Epoch 3/5\n",
            "35/35 [==============================] - 1s 17ms/step - loss: 0.0011 - mean_squared_error: 0.0011\n",
            "Epoch 4/5\n",
            "35/35 [==============================] - 1s 16ms/step - loss: 0.0011 - mean_squared_error: 0.0011\n",
            "Epoch 5/5\n",
            "35/35 [==============================] - 1s 16ms/step - loss: 0.0011 - mean_squared_error: 0.0011\n"
          ]
        },
        {
          "output_type": "display_data",
          "data": {
            "text/plain": [
              "array([[21.297197]], dtype=float32)"
            ]
          },
          "metadata": {}
        },
        {
          "output_type": "stream",
          "name": "stdout",
          "text": [
            "Epoch 1/5\n",
            "35/35 [==============================] - 1s 16ms/step - loss: 0.0011 - mean_squared_error: 0.0011\n",
            "Epoch 2/5\n",
            "35/35 [==============================] - 1s 16ms/step - loss: 0.0010 - mean_squared_error: 0.0010\n",
            "Epoch 3/5\n",
            "35/35 [==============================] - 1s 17ms/step - loss: 0.0011 - mean_squared_error: 0.0011\n",
            "Epoch 4/5\n",
            "35/35 [==============================] - 1s 15ms/step - loss: 0.0010 - mean_squared_error: 0.0010\n",
            "Epoch 5/5\n",
            "35/35 [==============================] - 1s 16ms/step - loss: 0.0011 - mean_squared_error: 0.0011\n"
          ]
        },
        {
          "output_type": "display_data",
          "data": {
            "text/plain": [
              "array([[21.169334]], dtype=float32)"
            ]
          },
          "metadata": {}
        },
        {
          "output_type": "stream",
          "name": "stdout",
          "text": [
            "Epoch 1/5\n",
            "35/35 [==============================] - 1s 16ms/step - loss: 0.0011 - mean_squared_error: 0.0011\n",
            "Epoch 2/5\n",
            "35/35 [==============================] - 1s 16ms/step - loss: 0.0011 - mean_squared_error: 0.0011\n",
            "Epoch 3/5\n",
            "35/35 [==============================] - 1s 16ms/step - loss: 0.0011 - mean_squared_error: 0.0011\n",
            "Epoch 4/5\n",
            "35/35 [==============================] - 1s 15ms/step - loss: 0.0010 - mean_squared_error: 0.0010\n",
            "Epoch 5/5\n",
            "35/35 [==============================] - 1s 16ms/step - loss: 0.0011 - mean_squared_error: 0.0011\n"
          ]
        },
        {
          "output_type": "display_data",
          "data": {
            "text/plain": [
              "array([[21.151226]], dtype=float32)"
            ]
          },
          "metadata": {}
        },
        {
          "output_type": "stream",
          "name": "stdout",
          "text": [
            "Epoch 1/5\n",
            "35/35 [==============================] - 1s 15ms/step - loss: 0.0011 - mean_squared_error: 0.0011\n",
            "Epoch 2/5\n",
            "35/35 [==============================] - 1s 17ms/step - loss: 0.0011 - mean_squared_error: 0.0011\n",
            "Epoch 3/5\n",
            "35/35 [==============================] - 1s 16ms/step - loss: 0.0011 - mean_squared_error: 0.0011\n",
            "Epoch 4/5\n",
            "35/35 [==============================] - 1s 16ms/step - loss: 0.0011 - mean_squared_error: 0.0011\n",
            "Epoch 5/5\n",
            "35/35 [==============================] - 1s 15ms/step - loss: 0.0011 - mean_squared_error: 0.0011\n"
          ]
        },
        {
          "output_type": "display_data",
          "data": {
            "text/plain": [
              "array([[21.05146]], dtype=float32)"
            ]
          },
          "metadata": {}
        },
        {
          "output_type": "stream",
          "name": "stdout",
          "text": [
            "Epoch 1/5\n",
            "35/35 [==============================] - 1s 15ms/step - loss: 0.0011 - mean_squared_error: 0.0011\n",
            "Epoch 2/5\n",
            "35/35 [==============================] - 1s 16ms/step - loss: 0.0011 - mean_squared_error: 0.0011\n",
            "Epoch 3/5\n",
            "35/35 [==============================] - 1s 15ms/step - loss: 0.0010 - mean_squared_error: 0.0010\n",
            "Epoch 4/5\n",
            "35/35 [==============================] - 1s 16ms/step - loss: 0.0011 - mean_squared_error: 0.0011\n",
            "Epoch 5/5\n",
            "35/35 [==============================] - 1s 16ms/step - loss: 0.0011 - mean_squared_error: 0.0011\n"
          ]
        },
        {
          "output_type": "display_data",
          "data": {
            "text/plain": [
              "array([[21.009764]], dtype=float32)"
            ]
          },
          "metadata": {}
        },
        {
          "output_type": "stream",
          "name": "stdout",
          "text": [
            "Epoch 1/5\n",
            "35/35 [==============================] - 1s 15ms/step - loss: 0.0011 - mean_squared_error: 0.0011\n",
            "Epoch 2/5\n",
            "35/35 [==============================] - 1s 16ms/step - loss: 0.0011 - mean_squared_error: 0.0011\n",
            "Epoch 3/5\n",
            "35/35 [==============================] - 1s 15ms/step - loss: 0.0012 - mean_squared_error: 0.0012\n",
            "Epoch 4/5\n",
            "35/35 [==============================] - 1s 15ms/step - loss: 0.0011 - mean_squared_error: 0.0011\n",
            "Epoch 5/5\n",
            "35/35 [==============================] - 1s 15ms/step - loss: 0.0010 - mean_squared_error: 0.0010\n"
          ]
        },
        {
          "output_type": "display_data",
          "data": {
            "text/plain": [
              "array([[21.227835]], dtype=float32)"
            ]
          },
          "metadata": {}
        },
        {
          "output_type": "stream",
          "name": "stdout",
          "text": [
            "Epoch 1/5\n",
            "35/35 [==============================] - 1s 16ms/step - loss: 0.0012 - mean_squared_error: 0.0012\n",
            "Epoch 2/5\n",
            "35/35 [==============================] - 1s 15ms/step - loss: 0.0011 - mean_squared_error: 0.0011\n",
            "Epoch 3/5\n",
            "35/35 [==============================] - 1s 16ms/step - loss: 0.0010 - mean_squared_error: 0.0010\n",
            "Epoch 4/5\n",
            "35/35 [==============================] - 1s 17ms/step - loss: 0.0011 - mean_squared_error: 0.0011\n",
            "Epoch 5/5\n",
            "35/35 [==============================] - 1s 17ms/step - loss: 0.0010 - mean_squared_error: 0.0010\n"
          ]
        },
        {
          "output_type": "display_data",
          "data": {
            "text/plain": [
              "array([[21.165552]], dtype=float32)"
            ]
          },
          "metadata": {}
        },
        {
          "output_type": "stream",
          "name": "stdout",
          "text": [
            "Epoch 1/5\n",
            "35/35 [==============================] - 1s 17ms/step - loss: 0.0011 - mean_squared_error: 0.0011\n",
            "Epoch 2/5\n",
            "35/35 [==============================] - 1s 16ms/step - loss: 0.0011 - mean_squared_error: 0.0011\n",
            "Epoch 3/5\n",
            "35/35 [==============================] - 1s 17ms/step - loss: 0.0011 - mean_squared_error: 0.0011\n",
            "Epoch 4/5\n",
            "35/35 [==============================] - 1s 16ms/step - loss: 0.0011 - mean_squared_error: 0.0011\n",
            "Epoch 5/5\n",
            "35/35 [==============================] - 1s 15ms/step - loss: 0.0010 - mean_squared_error: 0.0010\n"
          ]
        },
        {
          "output_type": "display_data",
          "data": {
            "text/plain": [
              "array([[21.29673]], dtype=float32)"
            ]
          },
          "metadata": {}
        },
        {
          "output_type": "stream",
          "name": "stdout",
          "text": [
            "Epoch 1/5\n",
            "35/35 [==============================] - 1s 15ms/step - loss: 0.0011 - mean_squared_error: 0.0011\n",
            "Epoch 2/5\n",
            "35/35 [==============================] - 1s 16ms/step - loss: 0.0010 - mean_squared_error: 0.0010\n",
            "Epoch 3/5\n",
            "35/35 [==============================] - 1s 17ms/step - loss: 0.0010 - mean_squared_error: 0.0010\n",
            "Epoch 4/5\n",
            "35/35 [==============================] - 1s 17ms/step - loss: 0.0011 - mean_squared_error: 0.0011\n",
            "Epoch 5/5\n",
            "35/35 [==============================] - 1s 17ms/step - loss: 0.0010 - mean_squared_error: 0.0010   \n"
          ]
        },
        {
          "output_type": "display_data",
          "data": {
            "text/plain": [
              "array([[21.445927]], dtype=float32)"
            ]
          },
          "metadata": {}
        },
        {
          "output_type": "stream",
          "name": "stdout",
          "text": [
            "Epoch 1/5\n",
            "35/35 [==============================] - 0s 13ms/step - loss: 0.0011 - mean_squared_error: 0.0011\n",
            "Epoch 2/5\n",
            "35/35 [==============================] - 0s 12ms/step - loss: 0.0011 - mean_squared_error: 0.0011\n",
            "Epoch 3/5\n",
            "35/35 [==============================] - 0s 13ms/step - loss: 0.0011 - mean_squared_error: 0.0011\n",
            "Epoch 4/5\n",
            "35/35 [==============================] - 0s 12ms/step - loss: 0.0011 - mean_squared_error: 0.0011\n",
            "Epoch 5/5\n",
            "35/35 [==============================] - 0s 12ms/step - loss: 0.0011 - mean_squared_error: 0.0011\n"
          ]
        },
        {
          "output_type": "display_data",
          "data": {
            "text/plain": [
              "array([[21.56615]], dtype=float32)"
            ]
          },
          "metadata": {}
        },
        {
          "output_type": "stream",
          "name": "stdout",
          "text": [
            "Epoch 1/5\n",
            "36/36 [==============================] - 1s 16ms/step - loss: 0.0010 - mean_squared_error: 0.0010\n",
            "Epoch 2/5\n",
            "36/36 [==============================] - 1s 17ms/step - loss: 0.0010 - mean_squared_error: 0.0010\n",
            "Epoch 3/5\n",
            "36/36 [==============================] - 1s 16ms/step - loss: 0.0011 - mean_squared_error: 0.0011\n",
            "Epoch 4/5\n",
            "36/36 [==============================] - 1s 16ms/step - loss: 0.0011 - mean_squared_error: 0.0011\n",
            "Epoch 5/5\n",
            "36/36 [==============================] - 1s 16ms/step - loss: 0.0011 - mean_squared_error: 0.0011\n"
          ]
        },
        {
          "output_type": "display_data",
          "data": {
            "text/plain": [
              "array([[21.50171]], dtype=float32)"
            ]
          },
          "metadata": {}
        },
        {
          "output_type": "stream",
          "name": "stdout",
          "text": [
            "Epoch 1/5\n",
            "36/36 [==============================] - 1s 16ms/step - loss: 0.0011 - mean_squared_error: 0.0011\n",
            "Epoch 2/5\n",
            "36/36 [==============================] - 1s 16ms/step - loss: 0.0012 - mean_squared_error: 0.0012\n",
            "Epoch 3/5\n",
            "36/36 [==============================] - 1s 16ms/step - loss: 0.0010 - mean_squared_error: 0.0010\n",
            "Epoch 4/5\n",
            "36/36 [==============================] - 1s 15ms/step - loss: 0.0011 - mean_squared_error: 0.0011\n",
            "Epoch 5/5\n",
            "36/36 [==============================] - 1s 16ms/step - loss: 0.0010 - mean_squared_error: 0.0010\n"
          ]
        },
        {
          "output_type": "display_data",
          "data": {
            "text/plain": [
              "array([[21.35646]], dtype=float32)"
            ]
          },
          "metadata": {}
        },
        {
          "output_type": "stream",
          "name": "stdout",
          "text": [
            "Epoch 1/5\n",
            "36/36 [==============================] - 1s 16ms/step - loss: 0.0010 - mean_squared_error: 0.0010\n",
            "Epoch 2/5\n",
            "36/36 [==============================] - 1s 18ms/step - loss: 0.0010 - mean_squared_error: 0.0010\n",
            "Epoch 3/5\n",
            "36/36 [==============================] - 1s 16ms/step - loss: 0.0010 - mean_squared_error: 0.0010\n",
            "Epoch 4/5\n",
            "36/36 [==============================] - 1s 16ms/step - loss: 0.0011 - mean_squared_error: 0.0011\n",
            "Epoch 5/5\n",
            "36/36 [==============================] - 1s 16ms/step - loss: 0.0011 - mean_squared_error: 0.0011\n"
          ]
        },
        {
          "output_type": "display_data",
          "data": {
            "text/plain": [
              "array([[21.50997]], dtype=float32)"
            ]
          },
          "metadata": {}
        },
        {
          "output_type": "stream",
          "name": "stdout",
          "text": [
            "Epoch 1/5\n",
            "36/36 [==============================] - 1s 16ms/step - loss: 0.0010 - mean_squared_error: 0.0010\n",
            "Epoch 2/5\n",
            "36/36 [==============================] - 1s 16ms/step - loss: 0.0010 - mean_squared_error: 0.0010\n",
            "Epoch 3/5\n",
            "36/36 [==============================] - 1s 15ms/step - loss: 0.0010 - mean_squared_error: 0.0010\n",
            "Epoch 4/5\n",
            "36/36 [==============================] - 1s 16ms/step - loss: 0.0011 - mean_squared_error: 0.0011\n",
            "Epoch 5/5\n",
            "36/36 [==============================] - 1s 16ms/step - loss: 0.0010 - mean_squared_error: 0.0010\n"
          ]
        },
        {
          "output_type": "display_data",
          "data": {
            "text/plain": [
              "array([[21.500319]], dtype=float32)"
            ]
          },
          "metadata": {}
        },
        {
          "output_type": "stream",
          "name": "stdout",
          "text": [
            "Epoch 1/5\n",
            "36/36 [==============================] - 1s 15ms/step - loss: 9.9067e-04 - mean_squared_error: 9.9067e-04\n",
            "Epoch 2/5\n",
            "36/36 [==============================] - 1s 15ms/step - loss: 0.0010 - mean_squared_error: 0.0010\n",
            "Epoch 3/5\n",
            "36/36 [==============================] - 1s 16ms/step - loss: 9.9099e-04 - mean_squared_error: 9.9099e-04\n",
            "Epoch 4/5\n",
            "36/36 [==============================] - 1s 18ms/step - loss: 0.0011 - mean_squared_error: 0.0011\n",
            "Epoch 5/5\n",
            "36/36 [==============================] - 1s 17ms/step - loss: 0.0010 - mean_squared_error: 0.0010\n"
          ]
        },
        {
          "output_type": "display_data",
          "data": {
            "text/plain": [
              "array([[21.619888]], dtype=float32)"
            ]
          },
          "metadata": {}
        },
        {
          "output_type": "stream",
          "name": "stdout",
          "text": [
            "Epoch 1/5\n",
            "36/36 [==============================] - 1s 16ms/step - loss: 0.0010 - mean_squared_error: 0.0010\n",
            "Epoch 2/5\n",
            "36/36 [==============================] - 1s 15ms/step - loss: 0.0011 - mean_squared_error: 0.0011\n",
            "Epoch 3/5\n",
            "36/36 [==============================] - 1s 16ms/step - loss: 0.0010 - mean_squared_error: 0.0010\n",
            "Epoch 4/5\n",
            "36/36 [==============================] - 1s 14ms/step - loss: 0.0010 - mean_squared_error: 0.0010\n",
            "Epoch 5/5\n",
            "36/36 [==============================] - 1s 16ms/step - loss: 0.0010 - mean_squared_error: 0.0010\n"
          ]
        },
        {
          "output_type": "display_data",
          "data": {
            "text/plain": [
              "array([[21.442537]], dtype=float32)"
            ]
          },
          "metadata": {}
        },
        {
          "output_type": "stream",
          "name": "stdout",
          "text": [
            "Epoch 1/5\n",
            "36/36 [==============================] - 1s 16ms/step - loss: 0.0010 - mean_squared_error: 0.0010\n",
            "Epoch 2/5\n",
            "36/36 [==============================] - 1s 15ms/step - loss: 0.0010 - mean_squared_error: 0.0010\n",
            "Epoch 3/5\n",
            "36/36 [==============================] - 1s 16ms/step - loss: 0.0010 - mean_squared_error: 0.0010\n",
            "Epoch 4/5\n",
            "36/36 [==============================] - 1s 16ms/step - loss: 0.0010 - mean_squared_error: 0.0010\n",
            "Epoch 5/5\n",
            "36/36 [==============================] - 1s 17ms/step - loss: 9.6893e-04 - mean_squared_error: 9.6893e-04\n"
          ]
        },
        {
          "output_type": "display_data",
          "data": {
            "text/plain": [
              "array([[21.304502]], dtype=float32)"
            ]
          },
          "metadata": {}
        },
        {
          "output_type": "stream",
          "name": "stdout",
          "text": [
            "Epoch 1/5\n",
            "36/36 [==============================] - 1s 16ms/step - loss: 0.0011 - mean_squared_error: 0.0011\n",
            "Epoch 2/5\n",
            "36/36 [==============================] - 1s 16ms/step - loss: 9.9273e-04 - mean_squared_error: 9.9273e-04\n",
            "Epoch 3/5\n",
            "36/36 [==============================] - 1s 17ms/step - loss: 0.0011 - mean_squared_error: 0.0011\n",
            "Epoch 4/5\n",
            "36/36 [==============================] - 1s 15ms/step - loss: 0.0010 - mean_squared_error: 0.0010\n",
            "Epoch 5/5\n",
            "36/36 [==============================] - 1s 16ms/step - loss: 0.0010 - mean_squared_error: 0.0010\n"
          ]
        },
        {
          "output_type": "display_data",
          "data": {
            "text/plain": [
              "array([[21.288124]], dtype=float32)"
            ]
          },
          "metadata": {}
        },
        {
          "output_type": "stream",
          "name": "stdout",
          "text": [
            "Epoch 1/5\n",
            "36/36 [==============================] - 1s 17ms/step - loss: 9.9693e-04 - mean_squared_error: 9.9693e-04\n",
            "Epoch 2/5\n",
            "36/36 [==============================] - 1s 16ms/step - loss: 0.0011 - mean_squared_error: 0.0011\n",
            "Epoch 3/5\n",
            "36/36 [==============================] - 1s 18ms/step - loss: 0.0010 - mean_squared_error: 0.0010\n",
            "Epoch 4/5\n",
            "36/36 [==============================] - 1s 22ms/step - loss: 0.0010 - mean_squared_error: 0.0010\n",
            "Epoch 5/5\n",
            "36/36 [==============================] - 1s 23ms/step - loss: 0.0010 - mean_squared_error: 0.0010\n"
          ]
        },
        {
          "output_type": "display_data",
          "data": {
            "text/plain": [
              "array([[21.160738]], dtype=float32)"
            ]
          },
          "metadata": {}
        },
        {
          "output_type": "stream",
          "name": "stdout",
          "text": [
            "Epoch 1/5\n",
            "36/36 [==============================] - 1s 17ms/step - loss: 0.0011 - mean_squared_error: 0.0011\n",
            "Epoch 2/5\n",
            "36/36 [==============================] - 1s 17ms/step - loss: 0.0010 - mean_squared_error: 0.0010\n",
            "Epoch 3/5\n",
            "36/36 [==============================] - 1s 15ms/step - loss: 0.0010 - mean_squared_error: 0.0010\n",
            "Epoch 4/5\n",
            "36/36 [==============================] - 1s 16ms/step - loss: 9.6379e-04 - mean_squared_error: 9.6379e-04\n",
            "Epoch 5/5\n",
            "36/36 [==============================] - 1s 15ms/step - loss: 0.0010 - mean_squared_error: 0.0010\n"
          ]
        },
        {
          "output_type": "display_data",
          "data": {
            "text/plain": [
              "array([[21.276304]], dtype=float32)"
            ]
          },
          "metadata": {}
        },
        {
          "output_type": "stream",
          "name": "stdout",
          "text": [
            "Epoch 1/5\n",
            "36/36 [==============================] - 1s 18ms/step - loss: 0.0010 - mean_squared_error: 0.0010\n",
            "Epoch 2/5\n",
            "36/36 [==============================] - 1s 17ms/step - loss: 0.0010 - mean_squared_error: 0.0010\n",
            "Epoch 3/5\n",
            "36/36 [==============================] - 1s 15ms/step - loss: 0.0011 - mean_squared_error: 0.0011\n",
            "Epoch 4/5\n",
            "36/36 [==============================] - 1s 16ms/step - loss: 9.8795e-04 - mean_squared_error: 9.8795e-04\n",
            "Epoch 5/5\n",
            "36/36 [==============================] - 1s 17ms/step - loss: 0.0010 - mean_squared_error: 0.0010\n"
          ]
        },
        {
          "output_type": "display_data",
          "data": {
            "text/plain": [
              "array([[21.218864]], dtype=float32)"
            ]
          },
          "metadata": {}
        },
        {
          "output_type": "stream",
          "name": "stdout",
          "text": [
            "Epoch 1/5\n",
            "36/36 [==============================] - 1s 16ms/step - loss: 9.6194e-04 - mean_squared_error: 9.6194e-04\n",
            "Epoch 2/5\n",
            "36/36 [==============================] - 1s 17ms/step - loss: 0.0011 - mean_squared_error: 0.0011\n",
            "Epoch 3/5\n",
            "36/36 [==============================] - 1s 15ms/step - loss: 0.0011 - mean_squared_error: 0.0011\n",
            "Epoch 4/5\n",
            "36/36 [==============================] - 1s 16ms/step - loss: 0.0011 - mean_squared_error: 0.0011\n",
            "Epoch 5/5\n",
            "36/36 [==============================] - 1s 16ms/step - loss: 9.8937e-04 - mean_squared_error: 9.8937e-04\n"
          ]
        },
        {
          "output_type": "display_data",
          "data": {
            "text/plain": [
              "array([[21.025606]], dtype=float32)"
            ]
          },
          "metadata": {}
        },
        {
          "output_type": "stream",
          "name": "stdout",
          "text": [
            "Epoch 1/5\n",
            "36/36 [==============================] - 1s 15ms/step - loss: 9.9482e-04 - mean_squared_error: 9.9482e-04\n",
            "Epoch 2/5\n",
            "36/36 [==============================] - 1s 16ms/step - loss: 9.6774e-04 - mean_squared_error: 9.6774e-04\n",
            "Epoch 3/5\n",
            "36/36 [==============================] - 1s 16ms/step - loss: 9.9747e-04 - mean_squared_error: 9.9747e-04\n",
            "Epoch 4/5\n",
            "36/36 [==============================] - 1s 15ms/step - loss: 0.0010 - mean_squared_error: 0.0010\n",
            "Epoch 5/5\n",
            "36/36 [==============================] - 1s 16ms/step - loss: 0.0011 - mean_squared_error: 0.0011\n"
          ]
        },
        {
          "output_type": "display_data",
          "data": {
            "text/plain": [
              "array([[21.104708]], dtype=float32)"
            ]
          },
          "metadata": {}
        },
        {
          "output_type": "stream",
          "name": "stdout",
          "text": [
            "Epoch 1/5\n",
            "36/36 [==============================] - 1s 15ms/step - loss: 0.0010 - mean_squared_error: 0.0010\n",
            "Epoch 2/5\n",
            "36/36 [==============================] - 1s 15ms/step - loss: 0.0010 - mean_squared_error: 0.0010\n",
            "Epoch 3/5\n",
            "36/36 [==============================] - 1s 17ms/step - loss: 9.9655e-04 - mean_squared_error: 9.9655e-04\n",
            "Epoch 4/5\n",
            "36/36 [==============================] - 1s 17ms/step - loss: 9.9851e-04 - mean_squared_error: 9.9851e-04\n",
            "Epoch 5/5\n",
            "36/36 [==============================] - 1s 15ms/step - loss: 9.5902e-04 - mean_squared_error: 9.5902e-04\n"
          ]
        },
        {
          "output_type": "display_data",
          "data": {
            "text/plain": [
              "array([[21.023874]], dtype=float32)"
            ]
          },
          "metadata": {}
        },
        {
          "output_type": "stream",
          "name": "stdout",
          "text": [
            "Epoch 1/5\n",
            "36/36 [==============================] - 1s 16ms/step - loss: 9.6328e-04 - mean_squared_error: 9.6328e-04\n",
            "Epoch 2/5\n",
            "36/36 [==============================] - 1s 17ms/step - loss: 0.0011 - mean_squared_error: 0.0011\n",
            "Epoch 3/5\n",
            "36/36 [==============================] - 1s 16ms/step - loss: 0.0010 - mean_squared_error: 0.0010\n",
            "Epoch 4/5\n",
            "36/36 [==============================] - 1s 16ms/step - loss: 9.8177e-04 - mean_squared_error: 9.8177e-04\n",
            "Epoch 5/5\n",
            "36/36 [==============================] - 1s 16ms/step - loss: 9.6956e-04 - mean_squared_error: 9.6956e-04\n"
          ]
        },
        {
          "output_type": "display_data",
          "data": {
            "text/plain": [
              "array([[20.786549]], dtype=float32)"
            ]
          },
          "metadata": {}
        },
        {
          "output_type": "stream",
          "name": "stdout",
          "text": [
            "Epoch 1/5\n",
            "36/36 [==============================] - 1s 16ms/step - loss: 0.0010 - mean_squared_error: 0.0010   \n",
            "Epoch 2/5\n",
            "36/36 [==============================] - 1s 16ms/step - loss: 9.6344e-04 - mean_squared_error: 9.6344e-04\n",
            "Epoch 3/5\n",
            "36/36 [==============================] - 1s 16ms/step - loss: 0.0010 - mean_squared_error: 0.0010\n",
            "Epoch 4/5\n",
            "36/36 [==============================] - 1s 16ms/step - loss: 9.7335e-04 - mean_squared_error: 9.7335e-04\n",
            "Epoch 5/5\n",
            "36/36 [==============================] - 1s 15ms/step - loss: 9.5699e-04 - mean_squared_error: 9.5699e-04\n"
          ]
        },
        {
          "output_type": "display_data",
          "data": {
            "text/plain": [
              "array([[20.801123]], dtype=float32)"
            ]
          },
          "metadata": {}
        },
        {
          "output_type": "stream",
          "name": "stdout",
          "text": [
            "Epoch 1/5\n",
            "36/36 [==============================] - 1s 16ms/step - loss: 9.9187e-04 - mean_squared_error: 9.9187e-04\n",
            "Epoch 2/5\n",
            "36/36 [==============================] - 1s 17ms/step - loss: 9.8769e-04 - mean_squared_error: 9.8769e-04\n",
            "Epoch 3/5\n",
            "36/36 [==============================] - 1s 16ms/step - loss: 9.6120e-04 - mean_squared_error: 9.6120e-04\n",
            "Epoch 4/5\n",
            "36/36 [==============================] - 1s 16ms/step - loss: 9.5601e-04 - mean_squared_error: 9.5601e-04\n",
            "Epoch 5/5\n",
            "36/36 [==============================] - 1s 17ms/step - loss: 0.0010 - mean_squared_error: 0.0010\n"
          ]
        },
        {
          "output_type": "display_data",
          "data": {
            "text/plain": [
              "array([[20.823065]], dtype=float32)"
            ]
          },
          "metadata": {}
        },
        {
          "output_type": "stream",
          "name": "stdout",
          "text": [
            "Epoch 1/5\n",
            "36/36 [==============================] - 1s 16ms/step - loss: 9.5413e-04 - mean_squared_error: 9.5413e-04\n",
            "Epoch 2/5\n",
            "36/36 [==============================] - 1s 16ms/step - loss: 9.8498e-04 - mean_squared_error: 9.8498e-04\n",
            "Epoch 3/5\n",
            "36/36 [==============================] - 1s 16ms/step - loss: 9.8793e-04 - mean_squared_error: 9.8793e-04\n",
            "Epoch 4/5\n",
            "36/36 [==============================] - 1s 17ms/step - loss: 9.8549e-04 - mean_squared_error: 9.8549e-04\n",
            "Epoch 5/5\n",
            "36/36 [==============================] - 1s 17ms/step - loss: 9.7612e-04 - mean_squared_error: 9.7612e-04\n"
          ]
        },
        {
          "output_type": "display_data",
          "data": {
            "text/plain": [
              "array([[20.912512]], dtype=float32)"
            ]
          },
          "metadata": {}
        },
        {
          "output_type": "stream",
          "name": "stdout",
          "text": [
            "Epoch 1/5\n",
            "36/36 [==============================] - 1s 16ms/step - loss: 9.8323e-04 - mean_squared_error: 9.8323e-04\n",
            "Epoch 2/5\n",
            "36/36 [==============================] - 1s 16ms/step - loss: 9.5634e-04 - mean_squared_error: 9.5634e-04\n",
            "Epoch 3/5\n",
            "36/36 [==============================] - 1s 16ms/step - loss: 0.0010 - mean_squared_error: 0.0010\n",
            "Epoch 4/5\n",
            "36/36 [==============================] - 1s 16ms/step - loss: 9.9669e-04 - mean_squared_error: 9.9669e-04\n",
            "Epoch 5/5\n",
            "36/36 [==============================] - 1s 17ms/step - loss: 0.0010 - mean_squared_error: 0.0010\n"
          ]
        },
        {
          "output_type": "display_data",
          "data": {
            "text/plain": [
              "array([[20.955124]], dtype=float32)"
            ]
          },
          "metadata": {}
        },
        {
          "output_type": "stream",
          "name": "stdout",
          "text": [
            "Epoch 1/5\n",
            "36/36 [==============================] - 1s 16ms/step - loss: 0.0010 - mean_squared_error: 0.0010\n",
            "Epoch 2/5\n",
            "36/36 [==============================] - 1s 17ms/step - loss: 9.5525e-04 - mean_squared_error: 9.5525e-04\n",
            "Epoch 3/5\n",
            "36/36 [==============================] - 1s 16ms/step - loss: 9.2249e-04 - mean_squared_error: 9.2249e-04\n",
            "Epoch 4/5\n",
            "36/36 [==============================] - 1s 16ms/step - loss: 9.6225e-04 - mean_squared_error: 9.6225e-04\n",
            "Epoch 5/5\n",
            "36/36 [==============================] - 1s 16ms/step - loss: 9.4596e-04 - mean_squared_error: 9.4596e-04\n"
          ]
        },
        {
          "output_type": "display_data",
          "data": {
            "text/plain": [
              "array([[20.999691]], dtype=float32)"
            ]
          },
          "metadata": {}
        },
        {
          "output_type": "stream",
          "name": "stdout",
          "text": [
            "Epoch 1/5\n",
            "36/36 [==============================] - 1s 17ms/step - loss: 9.8461e-04 - mean_squared_error: 9.8461e-04\n",
            "Epoch 2/5\n",
            "36/36 [==============================] - 1s 16ms/step - loss: 0.0010 - mean_squared_error: 0.0010\n",
            "Epoch 3/5\n",
            "36/36 [==============================] - 1s 16ms/step - loss: 9.6592e-04 - mean_squared_error: 9.6592e-04\n",
            "Epoch 4/5\n",
            "36/36 [==============================] - 1s 16ms/step - loss: 9.7144e-04 - mean_squared_error: 9.7144e-04\n",
            "Epoch 5/5\n",
            "36/36 [==============================] - 1s 17ms/step - loss: 9.9320e-04 - mean_squared_error: 9.9320e-04\n"
          ]
        },
        {
          "output_type": "display_data",
          "data": {
            "text/plain": [
              "array([[20.883278]], dtype=float32)"
            ]
          },
          "metadata": {}
        },
        {
          "output_type": "stream",
          "name": "stdout",
          "text": [
            "Epoch 1/5\n",
            "36/36 [==============================] - 1s 16ms/step - loss: 9.4790e-04 - mean_squared_error: 9.4790e-04\n",
            "Epoch 2/5\n",
            "36/36 [==============================] - 1s 16ms/step - loss: 9.6386e-04 - mean_squared_error: 9.6386e-04\n",
            "Epoch 3/5\n",
            "36/36 [==============================] - 1s 16ms/step - loss: 9.9268e-04 - mean_squared_error: 9.9268e-04\n",
            "Epoch 4/5\n",
            "36/36 [==============================] - 1s 16ms/step - loss: 9.4515e-04 - mean_squared_error: 9.4515e-04\n",
            "Epoch 5/5\n",
            "36/36 [==============================] - 1s 16ms/step - loss: 9.3122e-04 - mean_squared_error: 9.3122e-04\n"
          ]
        },
        {
          "output_type": "display_data",
          "data": {
            "text/plain": [
              "array([[20.678686]], dtype=float32)"
            ]
          },
          "metadata": {}
        },
        {
          "output_type": "stream",
          "name": "stdout",
          "text": [
            "Epoch 1/5\n",
            "36/36 [==============================] - 1s 16ms/step - loss: 9.6193e-04 - mean_squared_error: 9.6193e-04\n",
            "Epoch 2/5\n",
            "36/36 [==============================] - 1s 15ms/step - loss: 0.0011 - mean_squared_error: 0.0011\n",
            "Epoch 3/5\n",
            "36/36 [==============================] - 1s 17ms/step - loss: 9.7827e-04 - mean_squared_error: 9.7827e-04\n",
            "Epoch 4/5\n",
            "36/36 [==============================] - 1s 16ms/step - loss: 9.8603e-04 - mean_squared_error: 9.8603e-04\n",
            "Epoch 5/5\n",
            "36/36 [==============================] - 1s 16ms/step - loss: 9.4596e-04 - mean_squared_error: 9.4596e-04\n"
          ]
        },
        {
          "output_type": "display_data",
          "data": {
            "text/plain": [
              "array([[20.656116]], dtype=float32)"
            ]
          },
          "metadata": {}
        },
        {
          "output_type": "stream",
          "name": "stdout",
          "text": [
            "Epoch 1/5\n",
            "36/36 [==============================] - 1s 16ms/step - loss: 9.2900e-04 - mean_squared_error: 9.2900e-04\n",
            "Epoch 2/5\n",
            "36/36 [==============================] - 1s 16ms/step - loss: 9.4879e-04 - mean_squared_error: 9.4879e-04\n",
            "Epoch 3/5\n",
            "36/36 [==============================] - 1s 17ms/step - loss: 9.7757e-04 - mean_squared_error: 9.7757e-04\n",
            "Epoch 4/5\n",
            "36/36 [==============================] - 1s 17ms/step - loss: 9.4607e-04 - mean_squared_error: 9.4607e-04\n",
            "Epoch 5/5\n",
            "36/36 [==============================] - 1s 16ms/step - loss: 9.4315e-04 - mean_squared_error: 9.4315e-04\n"
          ]
        },
        {
          "output_type": "display_data",
          "data": {
            "text/plain": [
              "array([[20.71682]], dtype=float32)"
            ]
          },
          "metadata": {}
        },
        {
          "output_type": "stream",
          "name": "stdout",
          "text": [
            "Epoch 1/5\n",
            "36/36 [==============================] - 1s 18ms/step - loss: 9.7001e-04 - mean_squared_error: 9.7001e-04\n",
            "Epoch 2/5\n",
            "36/36 [==============================] - 1s 17ms/step - loss: 9.7785e-04 - mean_squared_error: 9.7785e-04\n",
            "Epoch 3/5\n",
            "36/36 [==============================] - 1s 17ms/step - loss: 9.3091e-04 - mean_squared_error: 9.3091e-04\n",
            "Epoch 4/5\n",
            "36/36 [==============================] - 1s 18ms/step - loss: 9.3113e-04 - mean_squared_error: 9.3113e-04\n",
            "Epoch 5/5\n",
            "36/36 [==============================] - 1s 17ms/step - loss: 9.2015e-04 - mean_squared_error: 9.2015e-04\n"
          ]
        },
        {
          "output_type": "display_data",
          "data": {
            "text/plain": [
              "array([[20.798914]], dtype=float32)"
            ]
          },
          "metadata": {}
        },
        {
          "output_type": "stream",
          "name": "stdout",
          "text": [
            "Epoch 1/5\n",
            "36/36 [==============================] - 1s 17ms/step - loss: 9.4352e-04 - mean_squared_error: 9.4352e-04\n",
            "Epoch 2/5\n",
            "36/36 [==============================] - 1s 17ms/step - loss: 9.5647e-04 - mean_squared_error: 9.5647e-04\n",
            "Epoch 3/5\n",
            "36/36 [==============================] - 1s 17ms/step - loss: 0.0010 - mean_squared_error: 0.0010   \n",
            "Epoch 4/5\n",
            "36/36 [==============================] - 1s 17ms/step - loss: 0.0010 - mean_squared_error: 0.0010\n",
            "Epoch 5/5\n",
            "36/36 [==============================] - 1s 17ms/step - loss: 9.7878e-04 - mean_squared_error: 9.7878e-04\n"
          ]
        },
        {
          "output_type": "display_data",
          "data": {
            "text/plain": [
              "array([[20.840654]], dtype=float32)"
            ]
          },
          "metadata": {}
        },
        {
          "output_type": "stream",
          "name": "stdout",
          "text": [
            "Epoch 1/5\n",
            "36/36 [==============================] - 1s 17ms/step - loss: 9.2474e-04 - mean_squared_error: 9.2474e-04\n",
            "Epoch 2/5\n",
            "36/36 [==============================] - 1s 17ms/step - loss: 8.9114e-04 - mean_squared_error: 8.9114e-04\n",
            "Epoch 3/5\n",
            "36/36 [==============================] - 1s 17ms/step - loss: 9.4648e-04 - mean_squared_error: 9.4648e-04\n",
            "Epoch 4/5\n",
            "36/36 [==============================] - 1s 16ms/step - loss: 9.1930e-04 - mean_squared_error: 9.1930e-04\n",
            "Epoch 5/5\n",
            "36/36 [==============================] - 1s 16ms/step - loss: 9.3771e-04 - mean_squared_error: 9.3771e-04\n"
          ]
        },
        {
          "output_type": "display_data",
          "data": {
            "text/plain": [
              "array([[20.96107]], dtype=float32)"
            ]
          },
          "metadata": {}
        },
        {
          "output_type": "stream",
          "name": "stdout",
          "text": [
            "Epoch 1/5\n",
            "36/36 [==============================] - 1s 16ms/step - loss: 9.4823e-04 - mean_squared_error: 9.4823e-04\n",
            "Epoch 2/5\n",
            "36/36 [==============================] - 1s 16ms/step - loss: 0.0010 - mean_squared_error: 0.0010\n",
            "Epoch 3/5\n",
            "36/36 [==============================] - 1s 18ms/step - loss: 8.5781e-04 - mean_squared_error: 8.5781e-04\n",
            "Epoch 4/5\n",
            "36/36 [==============================] - 1s 17ms/step - loss: 9.3311e-04 - mean_squared_error: 9.3311e-04\n",
            "Epoch 5/5\n",
            "36/36 [==============================] - 1s 18ms/step - loss: 9.1363e-04 - mean_squared_error: 9.1363e-04\n"
          ]
        },
        {
          "output_type": "display_data",
          "data": {
            "text/plain": [
              "array([[20.893467]], dtype=float32)"
            ]
          },
          "metadata": {}
        },
        {
          "output_type": "stream",
          "name": "stdout",
          "text": [
            "Epoch 1/5\n",
            "36/36 [==============================] - 1s 17ms/step - loss: 9.9136e-04 - mean_squared_error: 9.9136e-04\n",
            "Epoch 2/5\n",
            "36/36 [==============================] - 1s 17ms/step - loss: 0.0010 - mean_squared_error: 0.0010   \n",
            "Epoch 3/5\n",
            "36/36 [==============================] - 1s 16ms/step - loss: 9.5778e-04 - mean_squared_error: 9.5778e-04\n",
            "Epoch 4/5\n",
            "36/36 [==============================] - 1s 16ms/step - loss: 9.3774e-04 - mean_squared_error: 9.3774e-04\n",
            "Epoch 5/5\n",
            "36/36 [==============================] - 1s 17ms/step - loss: 9.6573e-04 - mean_squared_error: 9.6573e-04\n"
          ]
        },
        {
          "output_type": "display_data",
          "data": {
            "text/plain": [
              "array([[20.988745]], dtype=float32)"
            ]
          },
          "metadata": {}
        },
        {
          "output_type": "stream",
          "name": "stdout",
          "text": [
            "Epoch 1/5\n",
            "36/36 [==============================] - 1s 16ms/step - loss: 9.0946e-04 - mean_squared_error: 9.0946e-04\n",
            "Epoch 2/5\n",
            "36/36 [==============================] - 1s 16ms/step - loss: 9.2700e-04 - mean_squared_error: 9.2700e-04\n",
            "Epoch 3/5\n",
            "36/36 [==============================] - 1s 17ms/step - loss: 9.4856e-04 - mean_squared_error: 9.4856e-04\n",
            "Epoch 4/5\n",
            "36/36 [==============================] - 1s 17ms/step - loss: 8.8788e-04 - mean_squared_error: 8.8788e-04\n",
            "Epoch 5/5\n",
            "36/36 [==============================] - 1s 16ms/step - loss: 8.8562e-04 - mean_squared_error: 8.8562e-04\n"
          ]
        },
        {
          "output_type": "display_data",
          "data": {
            "text/plain": [
              "array([[20.866371]], dtype=float32)"
            ]
          },
          "metadata": {}
        },
        {
          "output_type": "stream",
          "name": "stdout",
          "text": [
            "Epoch 1/5\n",
            "36/36 [==============================] - 1s 16ms/step - loss: 9.6283e-04 - mean_squared_error: 9.6283e-04\n",
            "Epoch 2/5\n",
            "36/36 [==============================] - 1s 17ms/step - loss: 9.7050e-04 - mean_squared_error: 9.7050e-04\n",
            "Epoch 3/5\n",
            "36/36 [==============================] - 1s 17ms/step - loss: 9.5739e-04 - mean_squared_error: 9.5739e-04\n",
            "Epoch 4/5\n",
            "36/36 [==============================] - 1s 16ms/step - loss: 9.5299e-04 - mean_squared_error: 9.5299e-04\n",
            "Epoch 5/5\n",
            "36/36 [==============================] - 1s 16ms/step - loss: 9.2701e-04 - mean_squared_error: 9.2701e-04\n"
          ]
        },
        {
          "output_type": "display_data",
          "data": {
            "text/plain": [
              "array([[21.076563]], dtype=float32)"
            ]
          },
          "metadata": {}
        },
        {
          "output_type": "stream",
          "name": "stdout",
          "text": [
            "Epoch 1/5\n",
            "36/36 [==============================] - 0s 12ms/step - loss: 8.9669e-04 - mean_squared_error: 8.9669e-04\n",
            "Epoch 2/5\n",
            "36/36 [==============================] - 0s 12ms/step - loss: 9.2447e-04 - mean_squared_error: 9.2447e-04\n",
            "Epoch 3/5\n",
            "36/36 [==============================] - 0s 13ms/step - loss: 9.0154e-04 - mean_squared_error: 9.0154e-04\n",
            "Epoch 4/5\n",
            "36/36 [==============================] - 0s 12ms/step - loss: 9.5612e-04 - mean_squared_error: 9.5612e-04\n",
            "Epoch 5/5\n",
            "36/36 [==============================] - 0s 12ms/step - loss: 9.0522e-04 - mean_squared_error: 9.0522e-04\n"
          ]
        },
        {
          "output_type": "display_data",
          "data": {
            "text/plain": [
              "array([[21.24499]], dtype=float32)"
            ]
          },
          "metadata": {}
        },
        {
          "output_type": "stream",
          "name": "stdout",
          "text": [
            "Epoch 1/5\n",
            "37/37 [==============================] - 1s 16ms/step - loss: 9.2074e-04 - mean_squared_error: 9.2074e-04\n",
            "Epoch 2/5\n",
            "37/37 [==============================] - 1s 17ms/step - loss: 9.3129e-04 - mean_squared_error: 9.3129e-04\n",
            "Epoch 3/5\n",
            "37/37 [==============================] - 1s 16ms/step - loss: 0.0011 - mean_squared_error: 0.0011\n",
            "Epoch 4/5\n",
            "37/37 [==============================] - 1s 15ms/step - loss: 9.6613e-04 - mean_squared_error: 9.6613e-04\n",
            "Epoch 5/5\n",
            "37/37 [==============================] - 1s 15ms/step - loss: 9.5811e-04 - mean_squared_error: 9.5811e-04\n"
          ]
        },
        {
          "output_type": "display_data",
          "data": {
            "text/plain": [
              "array([[21.46541]], dtype=float32)"
            ]
          },
          "metadata": {}
        },
        {
          "output_type": "stream",
          "name": "stdout",
          "text": [
            "Epoch 1/5\n",
            "37/37 [==============================] - 1s 16ms/step - loss: 9.2126e-04 - mean_squared_error: 9.2126e-04\n",
            "Epoch 2/5\n",
            "37/37 [==============================] - 1s 15ms/step - loss: 9.0452e-04 - mean_squared_error: 9.0452e-04\n",
            "Epoch 3/5\n",
            "37/37 [==============================] - 1s 16ms/step - loss: 8.8359e-04 - mean_squared_error: 8.8359e-04\n",
            "Epoch 4/5\n",
            "37/37 [==============================] - 1s 16ms/step - loss: 9.8083e-04 - mean_squared_error: 9.8083e-04\n",
            "Epoch 5/5\n",
            "37/37 [==============================] - 1s 16ms/step - loss: 0.0012 - mean_squared_error: 0.0012\n"
          ]
        },
        {
          "output_type": "display_data",
          "data": {
            "text/plain": [
              "array([[21.51892]], dtype=float32)"
            ]
          },
          "metadata": {}
        },
        {
          "output_type": "stream",
          "name": "stdout",
          "text": [
            "Epoch 1/5\n",
            "37/37 [==============================] - 1s 17ms/step - loss: 9.5996e-04 - mean_squared_error: 9.5996e-04\n",
            "Epoch 2/5\n",
            "37/37 [==============================] - 1s 15ms/step - loss: 9.7816e-04 - mean_squared_error: 9.7816e-04\n",
            "Epoch 3/5\n",
            "37/37 [==============================] - 1s 16ms/step - loss: 9.2050e-04 - mean_squared_error: 9.2050e-04\n",
            "Epoch 4/5\n",
            "37/37 [==============================] - 1s 16ms/step - loss: 9.0921e-04 - mean_squared_error: 9.0921e-04\n",
            "Epoch 5/5\n",
            "37/37 [==============================] - 1s 16ms/step - loss: 9.8416e-04 - mean_squared_error: 9.8416e-04\n"
          ]
        },
        {
          "output_type": "display_data",
          "data": {
            "text/plain": [
              "array([[21.648273]], dtype=float32)"
            ]
          },
          "metadata": {}
        },
        {
          "output_type": "stream",
          "name": "stdout",
          "text": [
            "Epoch 1/5\n",
            "37/37 [==============================] - 1s 16ms/step - loss: 9.1348e-04 - mean_squared_error: 9.1348e-04\n",
            "Epoch 2/5\n",
            "37/37 [==============================] - 1s 16ms/step - loss: 9.3392e-04 - mean_squared_error: 9.3392e-04\n",
            "Epoch 3/5\n",
            "37/37 [==============================] - 1s 17ms/step - loss: 9.1278e-04 - mean_squared_error: 9.1278e-04\n",
            "Epoch 4/5\n",
            "37/37 [==============================] - 1s 16ms/step - loss: 9.1843e-04 - mean_squared_error: 9.1843e-04\n",
            "Epoch 5/5\n",
            "37/37 [==============================] - 1s 15ms/step - loss: 8.8058e-04 - mean_squared_error: 8.8058e-04\n"
          ]
        },
        {
          "output_type": "display_data",
          "data": {
            "text/plain": [
              "array([[21.612469]], dtype=float32)"
            ]
          },
          "metadata": {}
        },
        {
          "output_type": "stream",
          "name": "stdout",
          "text": [
            "Epoch 1/5\n",
            "37/37 [==============================] - 1s 16ms/step - loss: 8.6789e-04 - mean_squared_error: 8.6789e-04\n",
            "Epoch 2/5\n",
            "37/37 [==============================] - 1s 16ms/step - loss: 9.3614e-04 - mean_squared_error: 9.3614e-04\n",
            "Epoch 3/5\n",
            "37/37 [==============================] - 1s 17ms/step - loss: 9.0008e-04 - mean_squared_error: 9.0008e-04\n",
            "Epoch 4/5\n",
            "37/37 [==============================] - 1s 16ms/step - loss: 9.2062e-04 - mean_squared_error: 9.2062e-04\n",
            "Epoch 5/5\n",
            "37/37 [==============================] - 1s 16ms/step - loss: 8.7431e-04 - mean_squared_error: 8.7431e-04\n"
          ]
        },
        {
          "output_type": "display_data",
          "data": {
            "text/plain": [
              "array([[21.576393]], dtype=float32)"
            ]
          },
          "metadata": {}
        },
        {
          "output_type": "stream",
          "name": "stdout",
          "text": [
            "Epoch 1/5\n",
            "37/37 [==============================] - 1s 15ms/step - loss: 9.2084e-04 - mean_squared_error: 9.2084e-04\n",
            "Epoch 2/5\n",
            "37/37 [==============================] - 1s 15ms/step - loss: 9.0782e-04 - mean_squared_error: 9.0782e-04\n",
            "Epoch 3/5\n",
            "37/37 [==============================] - 1s 17ms/step - loss: 8.8064e-04 - mean_squared_error: 8.8064e-04\n",
            "Epoch 4/5\n",
            "37/37 [==============================] - 1s 16ms/step - loss: 9.3456e-04 - mean_squared_error: 9.3456e-04\n",
            "Epoch 5/5\n",
            "37/37 [==============================] - 1s 16ms/step - loss: 8.9170e-04 - mean_squared_error: 8.9170e-04\n"
          ]
        },
        {
          "output_type": "display_data",
          "data": {
            "text/plain": [
              "array([[21.633354]], dtype=float32)"
            ]
          },
          "metadata": {}
        },
        {
          "output_type": "stream",
          "name": "stdout",
          "text": [
            "Epoch 1/5\n",
            "37/37 [==============================] - 1s 16ms/step - loss: 9.1250e-04 - mean_squared_error: 9.1250e-04\n",
            "Epoch 2/5\n",
            "37/37 [==============================] - 1s 16ms/step - loss: 8.9029e-04 - mean_squared_error: 8.9029e-04\n",
            "Epoch 3/5\n",
            "37/37 [==============================] - 1s 15ms/step - loss: 8.7890e-04 - mean_squared_error: 8.7890e-04\n",
            "Epoch 4/5\n",
            "37/37 [==============================] - 1s 18ms/step - loss: 8.9736e-04 - mean_squared_error: 8.9736e-04\n",
            "Epoch 5/5\n",
            "37/37 [==============================] - 1s 15ms/step - loss: 8.8237e-04 - mean_squared_error: 8.8237e-04\n"
          ]
        },
        {
          "output_type": "display_data",
          "data": {
            "text/plain": [
              "array([[21.58214]], dtype=float32)"
            ]
          },
          "metadata": {}
        },
        {
          "output_type": "stream",
          "name": "stdout",
          "text": [
            "Epoch 1/5\n",
            "37/37 [==============================] - 1s 16ms/step - loss: 8.7694e-04 - mean_squared_error: 8.7694e-04\n",
            "Epoch 2/5\n",
            "37/37 [==============================] - 1s 16ms/step - loss: 9.5101e-04 - mean_squared_error: 9.5101e-04\n",
            "Epoch 3/5\n",
            "37/37 [==============================] - 1s 15ms/step - loss: 8.6836e-04 - mean_squared_error: 8.6836e-04\n",
            "Epoch 4/5\n",
            "37/37 [==============================] - 1s 16ms/step - loss: 8.9100e-04 - mean_squared_error: 8.9100e-04\n",
            "Epoch 5/5\n",
            "37/37 [==============================] - 1s 15ms/step - loss: 8.8359e-04 - mean_squared_error: 8.8359e-04\n"
          ]
        },
        {
          "output_type": "display_data",
          "data": {
            "text/plain": [
              "array([[21.655691]], dtype=float32)"
            ]
          },
          "metadata": {}
        },
        {
          "output_type": "stream",
          "name": "stdout",
          "text": [
            "Epoch 1/5\n",
            "37/37 [==============================] - 1s 16ms/step - loss: 8.6442e-04 - mean_squared_error: 8.6442e-04\n",
            "Epoch 2/5\n",
            "37/37 [==============================] - 1s 16ms/step - loss: 9.1419e-04 - mean_squared_error: 9.1419e-04\n",
            "Epoch 3/5\n",
            "37/37 [==============================] - 1s 16ms/step - loss: 8.9655e-04 - mean_squared_error: 8.9655e-04\n",
            "Epoch 4/5\n",
            "37/37 [==============================] - 1s 16ms/step - loss: 9.3611e-04 - mean_squared_error: 9.3611e-04\n",
            "Epoch 5/5\n",
            "37/37 [==============================] - 1s 16ms/step - loss: 9.0798e-04 - mean_squared_error: 9.0798e-04\n"
          ]
        },
        {
          "output_type": "display_data",
          "data": {
            "text/plain": [
              "array([[21.605896]], dtype=float32)"
            ]
          },
          "metadata": {}
        },
        {
          "output_type": "stream",
          "name": "stdout",
          "text": [
            "Epoch 1/5\n",
            "37/37 [==============================] - 1s 16ms/step - loss: 8.4965e-04 - mean_squared_error: 8.4965e-04\n",
            "Epoch 2/5\n",
            "37/37 [==============================] - 1s 17ms/step - loss: 8.6417e-04 - mean_squared_error: 8.6417e-04\n",
            "Epoch 3/5\n",
            "37/37 [==============================] - 1s 15ms/step - loss: 9.0956e-04 - mean_squared_error: 9.0956e-04\n",
            "Epoch 4/5\n",
            "37/37 [==============================] - 1s 17ms/step - loss: 9.4102e-04 - mean_squared_error: 9.4102e-04\n",
            "Epoch 5/5\n",
            "37/37 [==============================] - 1s 15ms/step - loss: 8.6380e-04 - mean_squared_error: 8.6380e-04\n"
          ]
        },
        {
          "output_type": "display_data",
          "data": {
            "text/plain": [
              "array([[21.583275]], dtype=float32)"
            ]
          },
          "metadata": {}
        },
        {
          "output_type": "stream",
          "name": "stdout",
          "text": [
            "Epoch 1/5\n",
            "37/37 [==============================] - 1s 16ms/step - loss: 9.1276e-04 - mean_squared_error: 9.1276e-04\n",
            "Epoch 2/5\n",
            "37/37 [==============================] - 1s 17ms/step - loss: 8.8931e-04 - mean_squared_error: 8.8931e-04\n",
            "Epoch 3/5\n",
            "37/37 [==============================] - 1s 15ms/step - loss: 8.7274e-04 - mean_squared_error: 8.7274e-04\n",
            "Epoch 4/5\n",
            "37/37 [==============================] - 1s 15ms/step - loss: 8.6240e-04 - mean_squared_error: 8.6240e-04\n",
            "Epoch 5/5\n",
            "37/37 [==============================] - 1s 16ms/step - loss: 8.3741e-04 - mean_squared_error: 8.3741e-04\n"
          ]
        },
        {
          "output_type": "display_data",
          "data": {
            "text/plain": [
              "array([[21.455318]], dtype=float32)"
            ]
          },
          "metadata": {}
        },
        {
          "output_type": "stream",
          "name": "stdout",
          "text": [
            "Epoch 1/5\n",
            "37/37 [==============================] - 1s 15ms/step - loss: 8.4859e-04 - mean_squared_error: 8.4859e-04\n",
            "Epoch 2/5\n",
            "37/37 [==============================] - 1s 15ms/step - loss: 8.8852e-04 - mean_squared_error: 8.8852e-04\n",
            "Epoch 3/5\n",
            "37/37 [==============================] - 1s 16ms/step - loss: 9.5500e-04 - mean_squared_error: 9.5500e-04\n",
            "Epoch 4/5\n",
            "37/37 [==============================] - 1s 16ms/step - loss: 8.7975e-04 - mean_squared_error: 8.7975e-04\n",
            "Epoch 5/5\n",
            "37/37 [==============================] - 1s 16ms/step - loss: 8.7093e-04 - mean_squared_error: 8.7093e-04\n"
          ]
        },
        {
          "output_type": "display_data",
          "data": {
            "text/plain": [
              "array([[21.606457]], dtype=float32)"
            ]
          },
          "metadata": {}
        },
        {
          "output_type": "stream",
          "name": "stdout",
          "text": [
            "Epoch 1/5\n",
            "37/37 [==============================] - 1s 16ms/step - loss: 8.6103e-04 - mean_squared_error: 8.6103e-04\n",
            "Epoch 2/5\n",
            "37/37 [==============================] - 1s 16ms/step - loss: 8.8275e-04 - mean_squared_error: 8.8275e-04\n",
            "Epoch 3/5\n",
            "37/37 [==============================] - 1s 16ms/step - loss: 8.8884e-04 - mean_squared_error: 8.8884e-04\n",
            "Epoch 4/5\n",
            "37/37 [==============================] - 1s 15ms/step - loss: 8.6250e-04 - mean_squared_error: 8.6250e-04\n",
            "Epoch 5/5\n",
            "37/37 [==============================] - 1s 15ms/step - loss: 8.8254e-04 - mean_squared_error: 8.8254e-04\n"
          ]
        },
        {
          "output_type": "display_data",
          "data": {
            "text/plain": [
              "array([[21.627626]], dtype=float32)"
            ]
          },
          "metadata": {}
        },
        {
          "output_type": "stream",
          "name": "stdout",
          "text": [
            "Epoch 1/5\n",
            "37/37 [==============================] - 1s 15ms/step - loss: 9.0394e-04 - mean_squared_error: 9.0394e-04\n",
            "Epoch 2/5\n",
            "37/37 [==============================] - 1s 16ms/step - loss: 8.5044e-04 - mean_squared_error: 8.5044e-04\n",
            "Epoch 3/5\n",
            "37/37 [==============================] - 1s 16ms/step - loss: 9.2145e-04 - mean_squared_error: 9.2145e-04\n",
            "Epoch 4/5\n",
            "37/37 [==============================] - 1s 17ms/step - loss: 9.0684e-04 - mean_squared_error: 9.0684e-04\n",
            "Epoch 5/5\n",
            "37/37 [==============================] - 1s 16ms/step - loss: 9.2560e-04 - mean_squared_error: 9.2560e-04\n"
          ]
        },
        {
          "output_type": "display_data",
          "data": {
            "text/plain": [
              "array([[21.461212]], dtype=float32)"
            ]
          },
          "metadata": {}
        },
        {
          "output_type": "stream",
          "name": "stdout",
          "text": [
            "Epoch 1/5\n",
            "37/37 [==============================] - 1s 16ms/step - loss: 8.9985e-04 - mean_squared_error: 8.9985e-04\n",
            "Epoch 2/5\n",
            "37/37 [==============================] - 1s 17ms/step - loss: 8.9226e-04 - mean_squared_error: 8.9226e-04\n",
            "Epoch 3/5\n",
            "37/37 [==============================] - 1s 16ms/step - loss: 9.2354e-04 - mean_squared_error: 9.2354e-04\n",
            "Epoch 4/5\n",
            "37/37 [==============================] - 1s 17ms/step - loss: 8.8284e-04 - mean_squared_error: 8.8284e-04\n",
            "Epoch 5/5\n",
            "37/37 [==============================] - 1s 16ms/step - loss: 8.9519e-04 - mean_squared_error: 8.9519e-04\n"
          ]
        },
        {
          "output_type": "display_data",
          "data": {
            "text/plain": [
              "array([[21.306364]], dtype=float32)"
            ]
          },
          "metadata": {}
        },
        {
          "output_type": "stream",
          "name": "stdout",
          "text": [
            "Epoch 1/5\n",
            "37/37 [==============================] - 1s 16ms/step - loss: 8.6312e-04 - mean_squared_error: 8.6312e-04\n",
            "Epoch 2/5\n",
            "37/37 [==============================] - 1s 16ms/step - loss: 8.3479e-04 - mean_squared_error: 8.3479e-04\n",
            "Epoch 3/5\n",
            "37/37 [==============================] - 1s 17ms/step - loss: 8.9532e-04 - mean_squared_error: 8.9532e-04\n",
            "Epoch 4/5\n",
            "37/37 [==============================] - 1s 17ms/step - loss: 8.8138e-04 - mean_squared_error: 8.8138e-04\n",
            "Epoch 5/5\n",
            "37/37 [==============================] - 1s 17ms/step - loss: 8.8125e-04 - mean_squared_error: 8.8125e-04\n"
          ]
        },
        {
          "output_type": "display_data",
          "data": {
            "text/plain": [
              "array([[21.358927]], dtype=float32)"
            ]
          },
          "metadata": {}
        },
        {
          "output_type": "stream",
          "name": "stdout",
          "text": [
            "Epoch 1/5\n",
            "37/37 [==============================] - 1s 16ms/step - loss: 8.2337e-04 - mean_squared_error: 8.2337e-04\n",
            "Epoch 2/5\n",
            "37/37 [==============================] - 1s 17ms/step - loss: 8.1686e-04 - mean_squared_error: 8.1686e-04\n",
            "Epoch 3/5\n",
            "37/37 [==============================] - 1s 16ms/step - loss: 8.7893e-04 - mean_squared_error: 8.7893e-04\n",
            "Epoch 4/5\n",
            "37/37 [==============================] - 1s 16ms/step - loss: 9.3773e-04 - mean_squared_error: 9.3773e-04\n",
            "Epoch 5/5\n",
            "37/37 [==============================] - 1s 16ms/step - loss: 8.4345e-04 - mean_squared_error: 8.4345e-04\n"
          ]
        },
        {
          "output_type": "display_data",
          "data": {
            "text/plain": [
              "array([[21.19169]], dtype=float32)"
            ]
          },
          "metadata": {}
        },
        {
          "output_type": "stream",
          "name": "stdout",
          "text": [
            "Epoch 1/5\n",
            "37/37 [==============================] - 1s 17ms/step - loss: 8.5069e-04 - mean_squared_error: 8.5069e-04\n",
            "Epoch 2/5\n",
            "37/37 [==============================] - 1s 16ms/step - loss: 9.0990e-04 - mean_squared_error: 9.0990e-04\n",
            "Epoch 3/5\n",
            "37/37 [==============================] - 1s 16ms/step - loss: 8.4586e-04 - mean_squared_error: 8.4586e-04\n",
            "Epoch 4/5\n",
            "37/37 [==============================] - 1s 17ms/step - loss: 8.4510e-04 - mean_squared_error: 8.4510e-04\n",
            "Epoch 5/5\n",
            "37/37 [==============================] - 1s 16ms/step - loss: 8.5592e-04 - mean_squared_error: 8.5592e-04\n"
          ]
        },
        {
          "output_type": "display_data",
          "data": {
            "text/plain": [
              "array([[21.239286]], dtype=float32)"
            ]
          },
          "metadata": {}
        },
        {
          "output_type": "stream",
          "name": "stdout",
          "text": [
            "Epoch 1/5\n",
            "37/37 [==============================] - 1s 16ms/step - loss: 8.8957e-04 - mean_squared_error: 8.8957e-04\n",
            "Epoch 2/5\n",
            "37/37 [==============================] - 1s 16ms/step - loss: 8.5497e-04 - mean_squared_error: 8.5497e-04\n",
            "Epoch 3/5\n",
            "37/37 [==============================] - 1s 16ms/step - loss: 8.2296e-04 - mean_squared_error: 8.2296e-04\n",
            "Epoch 4/5\n",
            "37/37 [==============================] - 1s 16ms/step - loss: 8.2968e-04 - mean_squared_error: 8.2968e-04\n",
            "Epoch 5/5\n",
            "37/37 [==============================] - 1s 17ms/step - loss: 8.5207e-04 - mean_squared_error: 8.5207e-04\n"
          ]
        },
        {
          "output_type": "display_data",
          "data": {
            "text/plain": [
              "array([[21.250248]], dtype=float32)"
            ]
          },
          "metadata": {}
        },
        {
          "output_type": "stream",
          "name": "stdout",
          "text": [
            "Epoch 1/5\n",
            "37/37 [==============================] - 1s 17ms/step - loss: 8.8859e-04 - mean_squared_error: 8.8859e-04\n",
            "Epoch 2/5\n",
            "37/37 [==============================] - 1s 16ms/step - loss: 8.6006e-04 - mean_squared_error: 8.6006e-04\n",
            "Epoch 3/5\n",
            "37/37 [==============================] - 1s 16ms/step - loss: 8.4411e-04 - mean_squared_error: 8.4411e-04\n",
            "Epoch 4/5\n",
            "37/37 [==============================] - 1s 17ms/step - loss: 8.1237e-04 - mean_squared_error: 8.1237e-04\n",
            "Epoch 5/5\n",
            "37/37 [==============================] - 1s 16ms/step - loss: 8.6235e-04 - mean_squared_error: 8.6235e-04\n"
          ]
        },
        {
          "output_type": "display_data",
          "data": {
            "text/plain": [
              "array([[21.335611]], dtype=float32)"
            ]
          },
          "metadata": {}
        },
        {
          "output_type": "stream",
          "name": "stdout",
          "text": [
            "Epoch 1/5\n",
            "37/37 [==============================] - 1s 16ms/step - loss: 9.0661e-04 - mean_squared_error: 9.0661e-04\n",
            "Epoch 2/5\n",
            "37/37 [==============================] - 1s 16ms/step - loss: 8.9424e-04 - mean_squared_error: 8.9424e-04\n",
            "Epoch 3/5\n",
            "37/37 [==============================] - 1s 16ms/step - loss: 8.3299e-04 - mean_squared_error: 8.3299e-04\n",
            "Epoch 4/5\n",
            "37/37 [==============================] - 1s 15ms/step - loss: 9.0894e-04 - mean_squared_error: 9.0894e-04\n",
            "Epoch 5/5\n",
            "37/37 [==============================] - 1s 16ms/step - loss: 8.6859e-04 - mean_squared_error: 8.6859e-04\n"
          ]
        },
        {
          "output_type": "display_data",
          "data": {
            "text/plain": [
              "array([[21.24674]], dtype=float32)"
            ]
          },
          "metadata": {}
        },
        {
          "output_type": "stream",
          "name": "stdout",
          "text": [
            "Epoch 1/5\n",
            "37/37 [==============================] - 1s 16ms/step - loss: 8.4632e-04 - mean_squared_error: 8.4632e-04\n",
            "Epoch 2/5\n",
            "37/37 [==============================] - 1s 15ms/step - loss: 8.3699e-04 - mean_squared_error: 8.3699e-04\n",
            "Epoch 3/5\n",
            "37/37 [==============================] - 1s 15ms/step - loss: 8.1176e-04 - mean_squared_error: 8.1176e-04\n",
            "Epoch 4/5\n",
            "37/37 [==============================] - 1s 16ms/step - loss: 8.4329e-04 - mean_squared_error: 8.4329e-04\n",
            "Epoch 5/5\n",
            "37/37 [==============================] - 1s 15ms/step - loss: 8.6088e-04 - mean_squared_error: 8.6088e-04\n"
          ]
        },
        {
          "output_type": "display_data",
          "data": {
            "text/plain": [
              "array([[21.33625]], dtype=float32)"
            ]
          },
          "metadata": {}
        },
        {
          "output_type": "stream",
          "name": "stdout",
          "text": [
            "Epoch 1/5\n",
            "37/37 [==============================] - 1s 15ms/step - loss: 8.5663e-04 - mean_squared_error: 8.5663e-04\n",
            "Epoch 2/5\n",
            "37/37 [==============================] - 1s 16ms/step - loss: 8.2280e-04 - mean_squared_error: 8.2280e-04\n",
            "Epoch 3/5\n",
            "37/37 [==============================] - 1s 16ms/step - loss: 8.6362e-04 - mean_squared_error: 8.6362e-04\n",
            "Epoch 4/5\n",
            "37/37 [==============================] - 1s 16ms/step - loss: 9.0756e-04 - mean_squared_error: 9.0756e-04\n",
            "Epoch 5/5\n",
            "37/37 [==============================] - 1s 17ms/step - loss: 8.7879e-04 - mean_squared_error: 8.7879e-04\n"
          ]
        },
        {
          "output_type": "display_data",
          "data": {
            "text/plain": [
              "array([[21.213013]], dtype=float32)"
            ]
          },
          "metadata": {}
        },
        {
          "output_type": "stream",
          "name": "stdout",
          "text": [
            "Epoch 1/5\n",
            "37/37 [==============================] - 1s 16ms/step - loss: 8.2817e-04 - mean_squared_error: 8.2817e-04\n",
            "Epoch 2/5\n",
            "37/37 [==============================] - 1s 22ms/step - loss: 8.4637e-04 - mean_squared_error: 8.4637e-04\n",
            "Epoch 3/5\n",
            "37/37 [==============================] - 1s 24ms/step - loss: 8.1358e-04 - mean_squared_error: 8.1358e-04\n",
            "Epoch 4/5\n",
            "37/37 [==============================] - 1s 23ms/step - loss: 8.9363e-04 - mean_squared_error: 8.9363e-04\n",
            "Epoch 5/5\n",
            "37/37 [==============================] - 1s 21ms/step - loss: 8.6396e-04 - mean_squared_error: 8.6396e-04\n"
          ]
        },
        {
          "output_type": "display_data",
          "data": {
            "text/plain": [
              "array([[21.270098]], dtype=float32)"
            ]
          },
          "metadata": {}
        },
        {
          "output_type": "stream",
          "name": "stdout",
          "text": [
            "Epoch 1/5\n",
            "37/37 [==============================] - 1s 16ms/step - loss: 8.6081e-04 - mean_squared_error: 8.6081e-04\n",
            "Epoch 2/5\n",
            "37/37 [==============================] - 1s 16ms/step - loss: 8.1575e-04 - mean_squared_error: 8.1575e-04\n",
            "Epoch 3/5\n",
            "37/37 [==============================] - 1s 15ms/step - loss: 8.1479e-04 - mean_squared_error: 8.1479e-04\n",
            "Epoch 4/5\n",
            "37/37 [==============================] - 1s 15ms/step - loss: 8.2702e-04 - mean_squared_error: 8.2702e-04\n",
            "Epoch 5/5\n",
            "37/37 [==============================] - 1s 17ms/step - loss: 8.6403e-04 - mean_squared_error: 8.6403e-04\n"
          ]
        },
        {
          "output_type": "display_data",
          "data": {
            "text/plain": [
              "array([[21.047222]], dtype=float32)"
            ]
          },
          "metadata": {}
        },
        {
          "output_type": "stream",
          "name": "stdout",
          "text": [
            "Epoch 1/5\n",
            "37/37 [==============================] - 1s 16ms/step - loss: 8.2804e-04 - mean_squared_error: 8.2804e-04\n",
            "Epoch 2/5\n",
            "37/37 [==============================] - 1s 15ms/step - loss: 8.1056e-04 - mean_squared_error: 8.1056e-04\n",
            "Epoch 3/5\n",
            "37/37 [==============================] - 1s 15ms/step - loss: 8.4153e-04 - mean_squared_error: 8.4153e-04\n",
            "Epoch 4/5\n",
            "37/37 [==============================] - 1s 15ms/step - loss: 8.4657e-04 - mean_squared_error: 8.4657e-04\n",
            "Epoch 5/5\n",
            "37/37 [==============================] - 1s 15ms/step - loss: 8.7615e-04 - mean_squared_error: 8.7615e-04\n"
          ]
        },
        {
          "output_type": "display_data",
          "data": {
            "text/plain": [
              "array([[21.088282]], dtype=float32)"
            ]
          },
          "metadata": {}
        },
        {
          "output_type": "stream",
          "name": "stdout",
          "text": [
            "Epoch 1/5\n",
            "37/37 [==============================] - 1s 16ms/step - loss: 8.4531e-04 - mean_squared_error: 8.4531e-04\n",
            "Epoch 2/5\n",
            "37/37 [==============================] - 1s 15ms/step - loss: 8.0198e-04 - mean_squared_error: 8.0198e-04\n",
            "Epoch 3/5\n",
            "37/37 [==============================] - 1s 16ms/step - loss: 8.4285e-04 - mean_squared_error: 8.4285e-04\n",
            "Epoch 4/5\n",
            "37/37 [==============================] - 1s 16ms/step - loss: 8.3882e-04 - mean_squared_error: 8.3882e-04\n",
            "Epoch 5/5\n",
            "37/37 [==============================] - 1s 17ms/step - loss: 8.6629e-04 - mean_squared_error: 8.6629e-04\n"
          ]
        },
        {
          "output_type": "display_data",
          "data": {
            "text/plain": [
              "array([[21.072945]], dtype=float32)"
            ]
          },
          "metadata": {}
        },
        {
          "output_type": "stream",
          "name": "stdout",
          "text": [
            "Epoch 1/5\n",
            "37/37 [==============================] - 1s 16ms/step - loss: 8.1388e-04 - mean_squared_error: 8.1388e-04\n",
            "Epoch 2/5\n",
            "37/37 [==============================] - 1s 16ms/step - loss: 8.3540e-04 - mean_squared_error: 8.3540e-04\n",
            "Epoch 3/5\n",
            "37/37 [==============================] - 1s 18ms/step - loss: 8.2814e-04 - mean_squared_error: 8.2814e-04\n",
            "Epoch 4/5\n",
            "37/37 [==============================] - 1s 15ms/step - loss: 8.6624e-04 - mean_squared_error: 8.6624e-04\n",
            "Epoch 5/5\n",
            "37/37 [==============================] - 1s 16ms/step - loss: 8.3046e-04 - mean_squared_error: 8.3046e-04\n"
          ]
        },
        {
          "output_type": "display_data",
          "data": {
            "text/plain": [
              "array([[21.23233]], dtype=float32)"
            ]
          },
          "metadata": {}
        },
        {
          "output_type": "stream",
          "name": "stdout",
          "text": [
            "Epoch 1/5\n",
            "37/37 [==============================] - 1s 15ms/step - loss: 8.5220e-04 - mean_squared_error: 8.5220e-04\n",
            "Epoch 2/5\n",
            "37/37 [==============================] - 1s 16ms/step - loss: 8.4678e-04 - mean_squared_error: 8.4678e-04\n",
            "Epoch 3/5\n",
            "37/37 [==============================] - 1s 15ms/step - loss: 8.2582e-04 - mean_squared_error: 8.2582e-04\n",
            "Epoch 4/5\n",
            "37/37 [==============================] - 1s 15ms/step - loss: 8.6275e-04 - mean_squared_error: 8.6275e-04\n",
            "Epoch 5/5\n",
            "37/37 [==============================] - 1s 15ms/step - loss: 8.3356e-04 - mean_squared_error: 8.3356e-04\n"
          ]
        },
        {
          "output_type": "display_data",
          "data": {
            "text/plain": [
              "array([[21.268501]], dtype=float32)"
            ]
          },
          "metadata": {}
        },
        {
          "output_type": "stream",
          "name": "stdout",
          "text": [
            "Epoch 1/5\n",
            "37/37 [==============================] - 1s 16ms/step - loss: 8.1011e-04 - mean_squared_error: 8.1011e-04\n",
            "Epoch 2/5\n",
            "37/37 [==============================] - 1s 16ms/step - loss: 8.6090e-04 - mean_squared_error: 8.6090e-04\n",
            "Epoch 3/5\n",
            "37/37 [==============================] - 1s 17ms/step - loss: 7.9482e-04 - mean_squared_error: 7.9482e-04\n",
            "Epoch 4/5\n",
            "37/37 [==============================] - 1s 17ms/step - loss: 8.2254e-04 - mean_squared_error: 8.2254e-04\n",
            "Epoch 5/5\n",
            "37/37 [==============================] - 1s 16ms/step - loss: 8.9862e-04 - mean_squared_error: 8.9862e-04\n"
          ]
        },
        {
          "output_type": "display_data",
          "data": {
            "text/plain": [
              "array([[21.26075]], dtype=float32)"
            ]
          },
          "metadata": {}
        },
        {
          "output_type": "stream",
          "name": "stdout",
          "text": [
            "Epoch 1/5\n",
            "37/37 [==============================] - 1s 16ms/step - loss: 8.7357e-04 - mean_squared_error: 8.7357e-04\n",
            "Epoch 2/5\n",
            "37/37 [==============================] - 1s 17ms/step - loss: 8.1828e-04 - mean_squared_error: 8.1828e-04\n",
            "Epoch 3/5\n",
            "37/37 [==============================] - 1s 15ms/step - loss: 8.2010e-04 - mean_squared_error: 8.2010e-04\n",
            "Epoch 4/5\n",
            "37/37 [==============================] - 1s 15ms/step - loss: 8.7224e-04 - mean_squared_error: 8.7224e-04\n",
            "Epoch 5/5\n",
            "37/37 [==============================] - 1s 16ms/step - loss: 8.1413e-04 - mean_squared_error: 8.1413e-04\n"
          ]
        },
        {
          "output_type": "display_data",
          "data": {
            "text/plain": [
              "array([[21.331522]], dtype=float32)"
            ]
          },
          "metadata": {}
        },
        {
          "output_type": "stream",
          "name": "stdout",
          "text": [
            "Epoch 1/5\n",
            "37/37 [==============================] - 0s 11ms/step - loss: 8.1930e-04 - mean_squared_error: 8.1930e-04\n",
            "Epoch 2/5\n",
            "37/37 [==============================] - 0s 12ms/step - loss: 8.2233e-04 - mean_squared_error: 8.2233e-04\n",
            "Epoch 3/5\n",
            "37/37 [==============================] - 0s 12ms/step - loss: 8.2884e-04 - mean_squared_error: 8.2884e-04\n",
            "Epoch 4/5\n",
            "37/37 [==============================] - 0s 11ms/step - loss: 8.6142e-04 - mean_squared_error: 8.6142e-04\n",
            "Epoch 5/5\n",
            "37/37 [==============================] - 0s 11ms/step - loss: 8.1666e-04 - mean_squared_error: 8.1666e-04\n"
          ]
        },
        {
          "output_type": "display_data",
          "data": {
            "text/plain": [
              "array([[21.350399]], dtype=float32)"
            ]
          },
          "metadata": {}
        },
        {
          "output_type": "stream",
          "name": "stdout",
          "text": [
            "Epoch 1/5\n",
            "38/38 [==============================] - 1s 15ms/step - loss: 8.4731e-04 - mean_squared_error: 8.4731e-04\n",
            "Epoch 2/5\n",
            "38/38 [==============================] - 1s 16ms/step - loss: 8.4863e-04 - mean_squared_error: 8.4863e-04\n",
            "Epoch 3/5\n",
            "38/38 [==============================] - 1s 15ms/step - loss: 8.4686e-04 - mean_squared_error: 8.4686e-04\n",
            "Epoch 4/5\n",
            "38/38 [==============================] - 1s 15ms/step - loss: 9.0642e-04 - mean_squared_error: 9.0642e-04\n",
            "Epoch 5/5\n",
            "38/38 [==============================] - 1s 16ms/step - loss: 8.3002e-04 - mean_squared_error: 8.3002e-04\n"
          ]
        },
        {
          "output_type": "display_data",
          "data": {
            "text/plain": [
              "array([[21.414335]], dtype=float32)"
            ]
          },
          "metadata": {}
        },
        {
          "output_type": "stream",
          "name": "stdout",
          "text": [
            "Epoch 1/5\n",
            "38/38 [==============================] - 1s 16ms/step - loss: 8.3940e-04 - mean_squared_error: 8.3940e-04\n",
            "Epoch 2/5\n",
            "38/38 [==============================] - 1s 16ms/step - loss: 9.0691e-04 - mean_squared_error: 9.0691e-04\n",
            "Epoch 3/5\n",
            "38/38 [==============================] - 1s 16ms/step - loss: 8.6879e-04 - mean_squared_error: 8.6879e-04\n",
            "Epoch 4/5\n",
            "38/38 [==============================] - 1s 16ms/step - loss: 8.3009e-04 - mean_squared_error: 8.3009e-04\n",
            "Epoch 5/5\n",
            "38/38 [==============================] - 1s 16ms/step - loss: 8.8084e-04 - mean_squared_error: 8.8084e-04\n"
          ]
        },
        {
          "output_type": "display_data",
          "data": {
            "text/plain": [
              "array([[21.55818]], dtype=float32)"
            ]
          },
          "metadata": {}
        },
        {
          "output_type": "stream",
          "name": "stdout",
          "text": [
            "Epoch 1/5\n",
            "38/38 [==============================] - 1s 16ms/step - loss: 8.6156e-04 - mean_squared_error: 8.6156e-04\n",
            "Epoch 2/5\n",
            "38/38 [==============================] - 1s 17ms/step - loss: 7.8455e-04 - mean_squared_error: 7.8455e-04\n",
            "Epoch 3/5\n",
            "38/38 [==============================] - 1s 16ms/step - loss: 8.6352e-04 - mean_squared_error: 8.6352e-04\n",
            "Epoch 4/5\n",
            "38/38 [==============================] - 1s 16ms/step - loss: 9.2590e-04 - mean_squared_error: 9.2590e-04\n",
            "Epoch 5/5\n",
            "38/38 [==============================] - 1s 16ms/step - loss: 8.0900e-04 - mean_squared_error: 8.0900e-04\n"
          ]
        },
        {
          "output_type": "display_data",
          "data": {
            "text/plain": [
              "array([[21.517708]], dtype=float32)"
            ]
          },
          "metadata": {}
        },
        {
          "output_type": "stream",
          "name": "stdout",
          "text": [
            "Epoch 1/5\n",
            "38/38 [==============================] - 1s 16ms/step - loss: 8.2115e-04 - mean_squared_error: 8.2115e-04\n",
            "Epoch 2/5\n",
            "38/38 [==============================] - 1s 17ms/step - loss: 8.1951e-04 - mean_squared_error: 8.1951e-04\n",
            "Epoch 3/5\n",
            "38/38 [==============================] - 1s 15ms/step - loss: 9.0319e-04 - mean_squared_error: 9.0319e-04\n",
            "Epoch 4/5\n",
            "38/38 [==============================] - 1s 16ms/step - loss: 8.8103e-04 - mean_squared_error: 8.8103e-04\n",
            "Epoch 5/5\n",
            "38/38 [==============================] - 1s 16ms/step - loss: 8.1808e-04 - mean_squared_error: 8.1808e-04\n"
          ]
        },
        {
          "output_type": "display_data",
          "data": {
            "text/plain": [
              "array([[21.41212]], dtype=float32)"
            ]
          },
          "metadata": {}
        },
        {
          "output_type": "stream",
          "name": "stdout",
          "text": [
            "Epoch 1/5\n",
            "38/38 [==============================] - 1s 16ms/step - loss: 8.4231e-04 - mean_squared_error: 8.4231e-04\n",
            "Epoch 2/5\n",
            "38/38 [==============================] - 1s 16ms/step - loss: 8.0991e-04 - mean_squared_error: 8.0991e-04\n",
            "Epoch 3/5\n",
            "38/38 [==============================] - 1s 16ms/step - loss: 8.1860e-04 - mean_squared_error: 8.1860e-04\n",
            "Epoch 4/5\n",
            "38/38 [==============================] - 1s 16ms/step - loss: 8.0197e-04 - mean_squared_error: 8.0197e-04\n",
            "Epoch 5/5\n",
            "38/38 [==============================] - 1s 17ms/step - loss: 8.1202e-04 - mean_squared_error: 8.1202e-04\n"
          ]
        },
        {
          "output_type": "display_data",
          "data": {
            "text/plain": [
              "array([[21.363058]], dtype=float32)"
            ]
          },
          "metadata": {}
        },
        {
          "output_type": "stream",
          "name": "stdout",
          "text": [
            "Epoch 1/5\n",
            "38/38 [==============================] - 1s 16ms/step - loss: 8.0158e-04 - mean_squared_error: 8.0158e-04\n",
            "Epoch 2/5\n",
            "38/38 [==============================] - 1s 17ms/step - loss: 8.0433e-04 - mean_squared_error: 8.0433e-04\n",
            "Epoch 3/5\n",
            "38/38 [==============================] - 1s 16ms/step - loss: 7.6359e-04 - mean_squared_error: 7.6359e-04\n",
            "Epoch 4/5\n",
            "38/38 [==============================] - 1s 17ms/step - loss: 7.9259e-04 - mean_squared_error: 7.9259e-04\n",
            "Epoch 5/5\n",
            "38/38 [==============================] - 1s 16ms/step - loss: 8.2808e-04 - mean_squared_error: 8.2808e-04\n"
          ]
        },
        {
          "output_type": "display_data",
          "data": {
            "text/plain": [
              "array([[21.410397]], dtype=float32)"
            ]
          },
          "metadata": {}
        },
        {
          "output_type": "stream",
          "name": "stdout",
          "text": [
            "Epoch 1/5\n",
            "38/38 [==============================] - 1s 16ms/step - loss: 8.3365e-04 - mean_squared_error: 8.3365e-04\n",
            "Epoch 2/5\n",
            "38/38 [==============================] - 1s 17ms/step - loss: 7.9381e-04 - mean_squared_error: 7.9381e-04\n",
            "Epoch 3/5\n",
            "38/38 [==============================] - 1s 15ms/step - loss: 7.8166e-04 - mean_squared_error: 7.8166e-04\n",
            "Epoch 4/5\n",
            "38/38 [==============================] - 1s 16ms/step - loss: 7.9463e-04 - mean_squared_error: 7.9463e-04\n",
            "Epoch 5/5\n",
            "38/38 [==============================] - 1s 15ms/step - loss: 7.3956e-04 - mean_squared_error: 7.3956e-04\n"
          ]
        },
        {
          "output_type": "display_data",
          "data": {
            "text/plain": [
              "array([[21.396574]], dtype=float32)"
            ]
          },
          "metadata": {}
        },
        {
          "output_type": "stream",
          "name": "stdout",
          "text": [
            "Epoch 1/5\n",
            "38/38 [==============================] - 1s 16ms/step - loss: 7.5653e-04 - mean_squared_error: 7.5653e-04\n",
            "Epoch 2/5\n",
            "38/38 [==============================] - 1s 16ms/step - loss: 7.6278e-04 - mean_squared_error: 7.6278e-04\n",
            "Epoch 3/5\n",
            "38/38 [==============================] - 1s 17ms/step - loss: 7.3775e-04 - mean_squared_error: 7.3775e-04\n",
            "Epoch 4/5\n",
            "38/38 [==============================] - 1s 17ms/step - loss: 8.4832e-04 - mean_squared_error: 8.4832e-04\n",
            "Epoch 5/5\n",
            "38/38 [==============================] - 1s 16ms/step - loss: 8.2469e-04 - mean_squared_error: 8.2469e-04\n"
          ]
        },
        {
          "output_type": "display_data",
          "data": {
            "text/plain": [
              "array([[21.328629]], dtype=float32)"
            ]
          },
          "metadata": {}
        },
        {
          "output_type": "stream",
          "name": "stdout",
          "text": [
            "Epoch 1/5\n",
            "38/38 [==============================] - 1s 15ms/step - loss: 8.5439e-04 - mean_squared_error: 8.5439e-04\n",
            "Epoch 2/5\n",
            "38/38 [==============================] - 1s 16ms/step - loss: 7.6791e-04 - mean_squared_error: 7.6791e-04\n",
            "Epoch 3/5\n",
            "38/38 [==============================] - 1s 15ms/step - loss: 8.1109e-04 - mean_squared_error: 8.1109e-04\n",
            "Epoch 4/5\n",
            "38/38 [==============================] - 1s 16ms/step - loss: 7.9357e-04 - mean_squared_error: 7.9357e-04\n",
            "Epoch 5/5\n",
            "38/38 [==============================] - 1s 16ms/step - loss: 7.9107e-04 - mean_squared_error: 7.9107e-04\n"
          ]
        },
        {
          "output_type": "display_data",
          "data": {
            "text/plain": [
              "array([[21.273575]], dtype=float32)"
            ]
          },
          "metadata": {}
        },
        {
          "output_type": "stream",
          "name": "stdout",
          "text": [
            "Epoch 1/5\n",
            "38/38 [==============================] - 1s 16ms/step - loss: 7.8913e-04 - mean_squared_error: 7.8913e-04\n",
            "Epoch 2/5\n",
            "38/38 [==============================] - 1s 17ms/step - loss: 7.8107e-04 - mean_squared_error: 7.8107e-04\n",
            "Epoch 3/5\n",
            "38/38 [==============================] - 1s 17ms/step - loss: 8.0818e-04 - mean_squared_error: 8.0818e-04\n",
            "Epoch 4/5\n",
            "38/38 [==============================] - 1s 16ms/step - loss: 7.6423e-04 - mean_squared_error: 7.6423e-04\n",
            "Epoch 5/5\n",
            "38/38 [==============================] - 1s 16ms/step - loss: 7.8482e-04 - mean_squared_error: 7.8482e-04\n"
          ]
        },
        {
          "output_type": "display_data",
          "data": {
            "text/plain": [
              "array([[21.28489]], dtype=float32)"
            ]
          },
          "metadata": {}
        },
        {
          "output_type": "stream",
          "name": "stdout",
          "text": [
            "Epoch 1/5\n",
            "38/38 [==============================] - 1s 17ms/step - loss: 7.6034e-04 - mean_squared_error: 7.6034e-04\n",
            "Epoch 2/5\n",
            "38/38 [==============================] - 1s 16ms/step - loss: 7.9952e-04 - mean_squared_error: 7.9952e-04\n",
            "Epoch 3/5\n",
            "38/38 [==============================] - 1s 17ms/step - loss: 7.9097e-04 - mean_squared_error: 7.9097e-04\n",
            "Epoch 4/5\n",
            "38/38 [==============================] - 1s 16ms/step - loss: 7.9562e-04 - mean_squared_error: 7.9562e-04\n",
            "Epoch 5/5\n",
            "38/38 [==============================] - 1s 17ms/step - loss: 7.4653e-04 - mean_squared_error: 7.4653e-04\n"
          ]
        },
        {
          "output_type": "display_data",
          "data": {
            "text/plain": [
              "array([[21.314367]], dtype=float32)"
            ]
          },
          "metadata": {}
        },
        {
          "output_type": "stream",
          "name": "stdout",
          "text": [
            "Epoch 1/5\n",
            "38/38 [==============================] - 1s 16ms/step - loss: 7.4574e-04 - mean_squared_error: 7.4574e-04\n",
            "Epoch 2/5\n",
            "38/38 [==============================] - 1s 17ms/step - loss: 8.0069e-04 - mean_squared_error: 8.0069e-04\n",
            "Epoch 3/5\n",
            "38/38 [==============================] - 1s 16ms/step - loss: 7.8345e-04 - mean_squared_error: 7.8345e-04\n",
            "Epoch 4/5\n",
            "38/38 [==============================] - 1s 16ms/step - loss: 7.9277e-04 - mean_squared_error: 7.9277e-04\n",
            "Epoch 5/5\n",
            "38/38 [==============================] - 1s 16ms/step - loss: 8.2655e-04 - mean_squared_error: 8.2655e-04\n"
          ]
        },
        {
          "output_type": "display_data",
          "data": {
            "text/plain": [
              "array([[21.297888]], dtype=float32)"
            ]
          },
          "metadata": {}
        },
        {
          "output_type": "stream",
          "name": "stdout",
          "text": [
            "Epoch 1/5\n",
            "38/38 [==============================] - 1s 17ms/step - loss: 8.2422e-04 - mean_squared_error: 8.2422e-04\n",
            "Epoch 2/5\n",
            "38/38 [==============================] - 1s 16ms/step - loss: 7.3403e-04 - mean_squared_error: 7.3403e-04\n",
            "Epoch 3/5\n",
            "38/38 [==============================] - 1s 16ms/step - loss: 7.8289e-04 - mean_squared_error: 7.8289e-04\n",
            "Epoch 4/5\n",
            "38/38 [==============================] - 1s 15ms/step - loss: 7.6495e-04 - mean_squared_error: 7.6495e-04\n",
            "Epoch 5/5\n",
            "38/38 [==============================] - 1s 16ms/step - loss: 7.9904e-04 - mean_squared_error: 7.9904e-04\n"
          ]
        },
        {
          "output_type": "display_data",
          "data": {
            "text/plain": [
              "array([[21.317596]], dtype=float32)"
            ]
          },
          "metadata": {}
        },
        {
          "output_type": "stream",
          "name": "stdout",
          "text": [
            "Epoch 1/5\n",
            "38/38 [==============================] - 1s 16ms/step - loss: 7.8852e-04 - mean_squared_error: 7.8852e-04\n",
            "Epoch 2/5\n",
            "38/38 [==============================] - 1s 16ms/step - loss: 8.6522e-04 - mean_squared_error: 8.6522e-04\n",
            "Epoch 3/5\n",
            "38/38 [==============================] - 1s 16ms/step - loss: 7.7191e-04 - mean_squared_error: 7.7191e-04\n",
            "Epoch 4/5\n",
            "38/38 [==============================] - 1s 17ms/step - loss: 7.6754e-04 - mean_squared_error: 7.6754e-04\n",
            "Epoch 5/5\n",
            "38/38 [==============================] - 1s 16ms/step - loss: 7.7262e-04 - mean_squared_error: 7.7262e-04\n"
          ]
        },
        {
          "output_type": "display_data",
          "data": {
            "text/plain": [
              "array([[21.368664]], dtype=float32)"
            ]
          },
          "metadata": {}
        },
        {
          "output_type": "stream",
          "name": "stdout",
          "text": [
            "Epoch 1/5\n",
            "38/38 [==============================] - 1s 16ms/step - loss: 7.9910e-04 - mean_squared_error: 7.9910e-04\n",
            "Epoch 2/5\n",
            "38/38 [==============================] - 1s 16ms/step - loss: 7.6458e-04 - mean_squared_error: 7.6458e-04\n",
            "Epoch 3/5\n",
            "38/38 [==============================] - 1s 16ms/step - loss: 7.1525e-04 - mean_squared_error: 7.1525e-04\n",
            "Epoch 4/5\n",
            "38/38 [==============================] - 1s 17ms/step - loss: 8.1111e-04 - mean_squared_error: 8.1111e-04\n",
            "Epoch 5/5\n",
            "38/38 [==============================] - 1s 15ms/step - loss: 8.1432e-04 - mean_squared_error: 8.1432e-04\n"
          ]
        },
        {
          "output_type": "display_data",
          "data": {
            "text/plain": [
              "array([[21.433018]], dtype=float32)"
            ]
          },
          "metadata": {}
        },
        {
          "output_type": "stream",
          "name": "stdout",
          "text": [
            "Epoch 1/5\n",
            "38/38 [==============================] - 1s 16ms/step - loss: 7.3952e-04 - mean_squared_error: 7.3952e-04\n",
            "Epoch 2/5\n",
            "38/38 [==============================] - 1s 17ms/step - loss: 7.5283e-04 - mean_squared_error: 7.5283e-04\n",
            "Epoch 3/5\n",
            "38/38 [==============================] - 1s 17ms/step - loss: 7.7973e-04 - mean_squared_error: 7.7973e-04\n",
            "Epoch 4/5\n",
            "38/38 [==============================] - 1s 16ms/step - loss: 7.7063e-04 - mean_squared_error: 7.7063e-04\n",
            "Epoch 5/5\n",
            "38/38 [==============================] - 1s 17ms/step - loss: 7.3603e-04 - mean_squared_error: 7.3603e-04\n"
          ]
        },
        {
          "output_type": "display_data",
          "data": {
            "text/plain": [
              "array([[21.433975]], dtype=float32)"
            ]
          },
          "metadata": {}
        },
        {
          "output_type": "stream",
          "name": "stdout",
          "text": [
            "Epoch 1/5\n",
            "38/38 [==============================] - 1s 16ms/step - loss: 7.6139e-04 - mean_squared_error: 7.6139e-04\n",
            "Epoch 2/5\n",
            "38/38 [==============================] - 1s 17ms/step - loss: 7.4131e-04 - mean_squared_error: 7.4131e-04\n",
            "Epoch 3/5\n",
            "38/38 [==============================] - 1s 18ms/step - loss: 7.8668e-04 - mean_squared_error: 7.8668e-04\n",
            "Epoch 4/5\n",
            "38/38 [==============================] - 1s 17ms/step - loss: 8.2524e-04 - mean_squared_error: 8.2524e-04\n",
            "Epoch 5/5\n",
            "38/38 [==============================] - 1s 17ms/step - loss: 7.8094e-04 - mean_squared_error: 7.8094e-04\n"
          ]
        },
        {
          "output_type": "display_data",
          "data": {
            "text/plain": [
              "array([[21.552156]], dtype=float32)"
            ]
          },
          "metadata": {}
        },
        {
          "output_type": "stream",
          "name": "stdout",
          "text": [
            "Epoch 1/5\n",
            "38/38 [==============================] - 1s 16ms/step - loss: 7.7488e-04 - mean_squared_error: 7.7488e-04\n",
            "Epoch 2/5\n",
            "38/38 [==============================] - 1s 17ms/step - loss: 7.7544e-04 - mean_squared_error: 7.7544e-04\n",
            "Epoch 3/5\n",
            "38/38 [==============================] - 1s 16ms/step - loss: 7.7838e-04 - mean_squared_error: 7.7838e-04\n",
            "Epoch 4/5\n",
            "38/38 [==============================] - 1s 16ms/step - loss: 7.3241e-04 - mean_squared_error: 7.3241e-04\n",
            "Epoch 5/5\n",
            "38/38 [==============================] - 1s 17ms/step - loss: 7.8310e-04 - mean_squared_error: 7.8310e-04\n"
          ]
        },
        {
          "output_type": "display_data",
          "data": {
            "text/plain": [
              "array([[21.483461]], dtype=float32)"
            ]
          },
          "metadata": {}
        },
        {
          "output_type": "stream",
          "name": "stdout",
          "text": [
            "Epoch 1/5\n",
            "38/38 [==============================] - 1s 17ms/step - loss: 7.4901e-04 - mean_squared_error: 7.4901e-04\n",
            "Epoch 2/5\n",
            "38/38 [==============================] - 1s 17ms/step - loss: 8.3013e-04 - mean_squared_error: 8.3013e-04\n",
            "Epoch 3/5\n",
            "38/38 [==============================] - 1s 18ms/step - loss: 7.5312e-04 - mean_squared_error: 7.5312e-04\n",
            "Epoch 4/5\n",
            "38/38 [==============================] - 1s 18ms/step - loss: 7.5138e-04 - mean_squared_error: 7.5138e-04\n",
            "Epoch 5/5\n",
            "38/38 [==============================] - 1s 18ms/step - loss: 7.4440e-04 - mean_squared_error: 7.4440e-04\n"
          ]
        },
        {
          "output_type": "display_data",
          "data": {
            "text/plain": [
              "array([[21.327936]], dtype=float32)"
            ]
          },
          "metadata": {}
        },
        {
          "output_type": "stream",
          "name": "stdout",
          "text": [
            "Epoch 1/5\n",
            "38/38 [==============================] - 1s 17ms/step - loss: 7.6209e-04 - mean_squared_error: 7.6209e-04\n",
            "Epoch 2/5\n",
            "38/38 [==============================] - 1s 18ms/step - loss: 7.4295e-04 - mean_squared_error: 7.4295e-04\n",
            "Epoch 3/5\n",
            "38/38 [==============================] - 1s 18ms/step - loss: 7.2624e-04 - mean_squared_error: 7.2624e-04\n",
            "Epoch 4/5\n",
            "38/38 [==============================] - 1s 17ms/step - loss: 7.6121e-04 - mean_squared_error: 7.6121e-04\n",
            "Epoch 5/5\n",
            "38/38 [==============================] - 1s 17ms/step - loss: 7.3827e-04 - mean_squared_error: 7.3827e-04\n"
          ]
        },
        {
          "output_type": "display_data",
          "data": {
            "text/plain": [
              "array([[21.313078]], dtype=float32)"
            ]
          },
          "metadata": {}
        },
        {
          "output_type": "stream",
          "name": "stdout",
          "text": [
            "Epoch 1/5\n",
            "38/38 [==============================] - 1s 17ms/step - loss: 7.6543e-04 - mean_squared_error: 7.6543e-04\n",
            "Epoch 2/5\n",
            "38/38 [==============================] - 1s 17ms/step - loss: 7.3466e-04 - mean_squared_error: 7.3466e-04\n",
            "Epoch 3/5\n",
            "38/38 [==============================] - 1s 17ms/step - loss: 7.4407e-04 - mean_squared_error: 7.4407e-04\n",
            "Epoch 4/5\n",
            "38/38 [==============================] - 1s 18ms/step - loss: 7.1176e-04 - mean_squared_error: 7.1176e-04\n",
            "Epoch 5/5\n",
            "38/38 [==============================] - 1s 17ms/step - loss: 7.6587e-04 - mean_squared_error: 7.6587e-04\n"
          ]
        },
        {
          "output_type": "display_data",
          "data": {
            "text/plain": [
              "array([[21.496616]], dtype=float32)"
            ]
          },
          "metadata": {}
        },
        {
          "output_type": "stream",
          "name": "stdout",
          "text": [
            "Epoch 1/5\n",
            "38/38 [==============================] - 1s 17ms/step - loss: 6.8311e-04 - mean_squared_error: 6.8311e-04\n",
            "Epoch 2/5\n",
            "38/38 [==============================] - 1s 17ms/step - loss: 7.0157e-04 - mean_squared_error: 7.0157e-04\n",
            "Epoch 3/5\n",
            "38/38 [==============================] - 1s 16ms/step - loss: 7.1860e-04 - mean_squared_error: 7.1860e-04\n",
            "Epoch 4/5\n",
            "38/38 [==============================] - 1s 18ms/step - loss: 6.9255e-04 - mean_squared_error: 6.9255e-04\n",
            "Epoch 5/5\n",
            "38/38 [==============================] - 1s 16ms/step - loss: 6.9745e-04 - mean_squared_error: 6.9745e-04\n"
          ]
        },
        {
          "output_type": "display_data",
          "data": {
            "text/plain": [
              "array([[21.466457]], dtype=float32)"
            ]
          },
          "metadata": {}
        },
        {
          "output_type": "stream",
          "name": "stdout",
          "text": [
            "Epoch 1/5\n",
            "38/38 [==============================] - 1s 17ms/step - loss: 7.3682e-04 - mean_squared_error: 7.3682e-04\n",
            "Epoch 2/5\n",
            "38/38 [==============================] - 1s 17ms/step - loss: 7.4678e-04 - mean_squared_error: 7.4678e-04\n",
            "Epoch 3/5\n",
            "38/38 [==============================] - 1s 17ms/step - loss: 7.2724e-04 - mean_squared_error: 7.2724e-04\n",
            "Epoch 4/5\n",
            "38/38 [==============================] - 1s 16ms/step - loss: 7.7243e-04 - mean_squared_error: 7.7243e-04\n",
            "Epoch 5/5\n",
            "38/38 [==============================] - 1s 17ms/step - loss: 7.5456e-04 - mean_squared_error: 7.5456e-04\n"
          ]
        },
        {
          "output_type": "display_data",
          "data": {
            "text/plain": [
              "array([[21.439123]], dtype=float32)"
            ]
          },
          "metadata": {}
        },
        {
          "output_type": "stream",
          "name": "stdout",
          "text": [
            "Epoch 1/5\n",
            "38/38 [==============================] - 1s 17ms/step - loss: 7.4790e-04 - mean_squared_error: 7.4790e-04\n",
            "Epoch 2/5\n",
            "38/38 [==============================] - 1s 16ms/step - loss: 7.0125e-04 - mean_squared_error: 7.0125e-04\n",
            "Epoch 3/5\n",
            "38/38 [==============================] - 1s 17ms/step - loss: 7.2778e-04 - mean_squared_error: 7.2778e-04\n",
            "Epoch 4/5\n",
            "38/38 [==============================] - 1s 16ms/step - loss: 8.4630e-04 - mean_squared_error: 8.4630e-04\n",
            "Epoch 5/5\n",
            "38/38 [==============================] - 1s 16ms/step - loss: 7.7005e-04 - mean_squared_error: 7.7005e-04\n"
          ]
        },
        {
          "output_type": "display_data",
          "data": {
            "text/plain": [
              "array([[21.289501]], dtype=float32)"
            ]
          },
          "metadata": {}
        },
        {
          "output_type": "stream",
          "name": "stdout",
          "text": [
            "Epoch 1/5\n",
            "38/38 [==============================] - 1s 17ms/step - loss: 8.1208e-04 - mean_squared_error: 8.1208e-04\n",
            "Epoch 2/5\n",
            "38/38 [==============================] - 1s 16ms/step - loss: 7.5840e-04 - mean_squared_error: 7.5840e-04\n",
            "Epoch 3/5\n",
            "38/38 [==============================] - 1s 16ms/step - loss: 7.0439e-04 - mean_squared_error: 7.0439e-04\n",
            "Epoch 4/5\n",
            "38/38 [==============================] - 1s 17ms/step - loss: 7.1822e-04 - mean_squared_error: 7.1822e-04\n",
            "Epoch 5/5\n",
            "38/38 [==============================] - 1s 16ms/step - loss: 7.0692e-04 - mean_squared_error: 7.0692e-04\n"
          ]
        },
        {
          "output_type": "display_data",
          "data": {
            "text/plain": [
              "array([[21.301226]], dtype=float32)"
            ]
          },
          "metadata": {}
        },
        {
          "output_type": "stream",
          "name": "stdout",
          "text": [
            "Epoch 1/5\n",
            "38/38 [==============================] - 1s 16ms/step - loss: 7.2391e-04 - mean_squared_error: 7.2391e-04\n",
            "Epoch 2/5\n",
            "38/38 [==============================] - 1s 17ms/step - loss: 7.2175e-04 - mean_squared_error: 7.2175e-04\n",
            "Epoch 3/5\n",
            "38/38 [==============================] - 1s 16ms/step - loss: 7.6011e-04 - mean_squared_error: 7.6011e-04\n",
            "Epoch 4/5\n",
            "38/38 [==============================] - 1s 16ms/step - loss: 7.1072e-04 - mean_squared_error: 7.1072e-04\n",
            "Epoch 5/5\n",
            "38/38 [==============================] - 1s 16ms/step - loss: 6.9385e-04 - mean_squared_error: 6.9385e-04\n"
          ]
        },
        {
          "output_type": "display_data",
          "data": {
            "text/plain": [
              "array([[21.10214]], dtype=float32)"
            ]
          },
          "metadata": {}
        },
        {
          "output_type": "stream",
          "name": "stdout",
          "text": [
            "Epoch 1/5\n",
            "38/38 [==============================] - 1s 15ms/step - loss: 7.6590e-04 - mean_squared_error: 7.6590e-04\n",
            "Epoch 2/5\n",
            "38/38 [==============================] - 1s 16ms/step - loss: 7.6175e-04 - mean_squared_error: 7.6175e-04\n",
            "Epoch 3/5\n",
            "38/38 [==============================] - 1s 17ms/step - loss: 7.3141e-04 - mean_squared_error: 7.3141e-04\n",
            "Epoch 4/5\n",
            "38/38 [==============================] - 1s 15ms/step - loss: 7.3979e-04 - mean_squared_error: 7.3979e-04\n",
            "Epoch 5/5\n",
            "38/38 [==============================] - 1s 17ms/step - loss: 7.6542e-04 - mean_squared_error: 7.6542e-04\n"
          ]
        },
        {
          "output_type": "display_data",
          "data": {
            "text/plain": [
              "array([[21.128794]], dtype=float32)"
            ]
          },
          "metadata": {}
        },
        {
          "output_type": "stream",
          "name": "stdout",
          "text": [
            "Epoch 1/5\n",
            "38/38 [==============================] - 1s 16ms/step - loss: 7.3069e-04 - mean_squared_error: 7.3069e-04\n",
            "Epoch 2/5\n",
            "38/38 [==============================] - 1s 16ms/step - loss: 7.6760e-04 - mean_squared_error: 7.6760e-04\n",
            "Epoch 3/5\n",
            "38/38 [==============================] - 1s 17ms/step - loss: 7.4534e-04 - mean_squared_error: 7.4534e-04\n",
            "Epoch 4/5\n",
            "38/38 [==============================] - 1s 16ms/step - loss: 7.1270e-04 - mean_squared_error: 7.1270e-04\n",
            "Epoch 5/5\n",
            "38/38 [==============================] - 1s 16ms/step - loss: 7.0830e-04 - mean_squared_error: 7.0830e-04\n"
          ]
        },
        {
          "output_type": "display_data",
          "data": {
            "text/plain": [
              "array([[21.121616]], dtype=float32)"
            ]
          },
          "metadata": {}
        },
        {
          "output_type": "stream",
          "name": "stdout",
          "text": [
            "Epoch 1/5\n",
            "38/38 [==============================] - 1s 16ms/step - loss: 7.0857e-04 - mean_squared_error: 7.0857e-04\n",
            "Epoch 2/5\n",
            "38/38 [==============================] - 1s 17ms/step - loss: 6.9662e-04 - mean_squared_error: 6.9662e-04\n",
            "Epoch 3/5\n",
            "38/38 [==============================] - 1s 18ms/step - loss: 7.0335e-04 - mean_squared_error: 7.0335e-04\n",
            "Epoch 4/5\n",
            "38/38 [==============================] - 1s 16ms/step - loss: 7.0265e-04 - mean_squared_error: 7.0265e-04\n",
            "Epoch 5/5\n",
            "38/38 [==============================] - 1s 16ms/step - loss: 7.2346e-04 - mean_squared_error: 7.2346e-04\n"
          ]
        },
        {
          "output_type": "display_data",
          "data": {
            "text/plain": [
              "array([[21.144579]], dtype=float32)"
            ]
          },
          "metadata": {}
        },
        {
          "output_type": "stream",
          "name": "stdout",
          "text": [
            "Epoch 1/5\n",
            "38/38 [==============================] - 1s 15ms/step - loss: 7.7048e-04 - mean_squared_error: 7.7048e-04\n",
            "Epoch 2/5\n",
            "38/38 [==============================] - 1s 17ms/step - loss: 6.9933e-04 - mean_squared_error: 6.9933e-04\n",
            "Epoch 3/5\n",
            "38/38 [==============================] - 1s 17ms/step - loss: 6.8595e-04 - mean_squared_error: 6.8595e-04\n",
            "Epoch 4/5\n",
            "38/38 [==============================] - 1s 16ms/step - loss: 8.0667e-04 - mean_squared_error: 8.0667e-04\n",
            "Epoch 5/5\n",
            "38/38 [==============================] - 1s 17ms/step - loss: 7.7803e-04 - mean_squared_error: 7.7803e-04\n"
          ]
        },
        {
          "output_type": "display_data",
          "data": {
            "text/plain": [
              "array([[21.186842]], dtype=float32)"
            ]
          },
          "metadata": {}
        },
        {
          "output_type": "stream",
          "name": "stdout",
          "text": [
            "Epoch 1/5\n",
            "38/38 [==============================] - 1s 16ms/step - loss: 7.0746e-04 - mean_squared_error: 7.0746e-04\n",
            "Epoch 2/5\n",
            "38/38 [==============================] - 1s 17ms/step - loss: 7.4511e-04 - mean_squared_error: 7.4511e-04\n",
            "Epoch 3/5\n",
            "38/38 [==============================] - 1s 16ms/step - loss: 7.5857e-04 - mean_squared_error: 7.5857e-04\n",
            "Epoch 4/5\n",
            "38/38 [==============================] - 1s 17ms/step - loss: 6.8264e-04 - mean_squared_error: 6.8264e-04\n",
            "Epoch 5/5\n",
            "38/38 [==============================] - 1s 17ms/step - loss: 7.3787e-04 - mean_squared_error: 7.3787e-04\n"
          ]
        },
        {
          "output_type": "display_data",
          "data": {
            "text/plain": [
              "array([[21.257195]], dtype=float32)"
            ]
          },
          "metadata": {}
        },
        {
          "output_type": "stream",
          "name": "stdout",
          "text": [
            "Epoch 1/5\n",
            "38/38 [==============================] - 0s 13ms/step - loss: 7.2290e-04 - mean_squared_error: 7.2290e-04\n",
            "Epoch 2/5\n",
            "38/38 [==============================] - 0s 12ms/step - loss: 7.2275e-04 - mean_squared_error: 7.2275e-04\n",
            "Epoch 3/5\n",
            "38/38 [==============================] - 0s 13ms/step - loss: 6.9236e-04 - mean_squared_error: 6.9236e-04\n",
            "Epoch 4/5\n",
            "38/38 [==============================] - 0s 13ms/step - loss: 6.7694e-04 - mean_squared_error: 6.7694e-04\n",
            "Epoch 5/5\n",
            "38/38 [==============================] - 0s 13ms/step - loss: 6.9657e-04 - mean_squared_error: 6.9657e-04\n"
          ]
        },
        {
          "output_type": "display_data",
          "data": {
            "text/plain": [
              "array([[21.373314]], dtype=float32)"
            ]
          },
          "metadata": {}
        },
        {
          "output_type": "stream",
          "name": "stdout",
          "text": [
            "Epoch 1/5\n",
            "39/39 [==============================] - 1s 16ms/step - loss: 7.0368e-04 - mean_squared_error: 7.0368e-04\n",
            "Epoch 2/5\n",
            "39/39 [==============================] - 1s 16ms/step - loss: 7.6343e-04 - mean_squared_error: 7.6343e-04\n",
            "Epoch 3/5\n",
            "39/39 [==============================] - 1s 16ms/step - loss: 8.5839e-04 - mean_squared_error: 8.5839e-04\n",
            "Epoch 4/5\n",
            "39/39 [==============================] - 1s 16ms/step - loss: 7.3194e-04 - mean_squared_error: 7.3194e-04\n",
            "Epoch 5/5\n",
            "39/39 [==============================] - 1s 17ms/step - loss: 6.8768e-04 - mean_squared_error: 6.8768e-04\n"
          ]
        },
        {
          "output_type": "display_data",
          "data": {
            "text/plain": [
              "array([[21.170696]], dtype=float32)"
            ]
          },
          "metadata": {}
        },
        {
          "output_type": "stream",
          "name": "stdout",
          "text": [
            "Epoch 1/5\n",
            "39/39 [==============================] - 1s 15ms/step - loss: 7.1675e-04 - mean_squared_error: 7.1675e-04\n",
            "Epoch 2/5\n",
            "39/39 [==============================] - 1s 16ms/step - loss: 7.1753e-04 - mean_squared_error: 7.1753e-04\n",
            "Epoch 3/5\n",
            "39/39 [==============================] - 1s 17ms/step - loss: 7.1439e-04 - mean_squared_error: 7.1439e-04\n",
            "Epoch 4/5\n",
            "39/39 [==============================] - 1s 15ms/step - loss: 7.2080e-04 - mean_squared_error: 7.2080e-04\n",
            "Epoch 5/5\n",
            "39/39 [==============================] - 1s 15ms/step - loss: 7.0174e-04 - mean_squared_error: 7.0174e-04\n"
          ]
        },
        {
          "output_type": "display_data",
          "data": {
            "text/plain": [
              "array([[21.246075]], dtype=float32)"
            ]
          },
          "metadata": {}
        },
        {
          "output_type": "stream",
          "name": "stdout",
          "text": [
            "Epoch 1/5\n",
            "39/39 [==============================] - 1s 18ms/step - loss: 6.8936e-04 - mean_squared_error: 6.8936e-04\n",
            "Epoch 2/5\n",
            "39/39 [==============================] - 1s 16ms/step - loss: 6.8287e-04 - mean_squared_error: 6.8287e-04\n",
            "Epoch 3/5\n",
            "39/39 [==============================] - 1s 16ms/step - loss: 6.9652e-04 - mean_squared_error: 6.9652e-04\n",
            "Epoch 4/5\n",
            "39/39 [==============================] - 1s 17ms/step - loss: 7.5298e-04 - mean_squared_error: 7.5298e-04\n",
            "Epoch 5/5\n",
            "39/39 [==============================] - 1s 15ms/step - loss: 7.1504e-04 - mean_squared_error: 7.1504e-04\n"
          ]
        },
        {
          "output_type": "display_data",
          "data": {
            "text/plain": [
              "array([[21.20684]], dtype=float32)"
            ]
          },
          "metadata": {}
        },
        {
          "output_type": "stream",
          "name": "stdout",
          "text": [
            "Epoch 1/5\n",
            "39/39 [==============================] - 1s 17ms/step - loss: 7.3320e-04 - mean_squared_error: 7.3320e-04\n",
            "Epoch 2/5\n",
            "39/39 [==============================] - 1s 22ms/step - loss: 6.9003e-04 - mean_squared_error: 6.9003e-04\n",
            "Epoch 3/5\n",
            "39/39 [==============================] - 1s 20ms/step - loss: 7.0568e-04 - mean_squared_error: 7.0568e-04\n",
            "Epoch 4/5\n",
            "39/39 [==============================] - 1s 21ms/step - loss: 7.1308e-04 - mean_squared_error: 7.1308e-04\n",
            "Epoch 5/5\n",
            "39/39 [==============================] - 1s 19ms/step - loss: 6.8036e-04 - mean_squared_error: 6.8036e-04\n"
          ]
        },
        {
          "output_type": "display_data",
          "data": {
            "text/plain": [
              "array([[21.228539]], dtype=float32)"
            ]
          },
          "metadata": {}
        },
        {
          "output_type": "stream",
          "name": "stdout",
          "text": [
            "Epoch 1/5\n",
            "39/39 [==============================] - 1s 17ms/step - loss: 6.5053e-04 - mean_squared_error: 6.5053e-04\n",
            "Epoch 2/5\n",
            "39/39 [==============================] - 1s 17ms/step - loss: 6.3774e-04 - mean_squared_error: 6.3774e-04\n",
            "Epoch 3/5\n",
            "39/39 [==============================] - 1s 17ms/step - loss: 6.7853e-04 - mean_squared_error: 6.7853e-04\n",
            "Epoch 4/5\n",
            "39/39 [==============================] - 1s 17ms/step - loss: 6.6071e-04 - mean_squared_error: 6.6071e-04\n",
            "Epoch 5/5\n",
            "39/39 [==============================] - 1s 16ms/step - loss: 6.7013e-04 - mean_squared_error: 6.7013e-04\n"
          ]
        },
        {
          "output_type": "display_data",
          "data": {
            "text/plain": [
              "array([[21.192677]], dtype=float32)"
            ]
          },
          "metadata": {}
        },
        {
          "output_type": "stream",
          "name": "stdout",
          "text": [
            "Epoch 1/5\n",
            "39/39 [==============================] - 1s 17ms/step - loss: 7.5944e-04 - mean_squared_error: 7.5944e-04\n",
            "Epoch 2/5\n",
            "39/39 [==============================] - 1s 17ms/step - loss: 6.7633e-04 - mean_squared_error: 6.7633e-04\n",
            "Epoch 3/5\n",
            "39/39 [==============================] - 1s 17ms/step - loss: 6.9465e-04 - mean_squared_error: 6.9465e-04\n",
            "Epoch 4/5\n",
            "39/39 [==============================] - 1s 16ms/step - loss: 6.9058e-04 - mean_squared_error: 6.9058e-04\n",
            "Epoch 5/5\n",
            "39/39 [==============================] - 1s 16ms/step - loss: 6.3073e-04 - mean_squared_error: 6.3073e-04\n"
          ]
        },
        {
          "output_type": "display_data",
          "data": {
            "text/plain": [
              "array([[21.154083]], dtype=float32)"
            ]
          },
          "metadata": {}
        },
        {
          "output_type": "stream",
          "name": "stdout",
          "text": [
            "Epoch 1/5\n",
            "39/39 [==============================] - 1s 15ms/step - loss: 6.8497e-04 - mean_squared_error: 6.8497e-04\n",
            "Epoch 2/5\n",
            "39/39 [==============================] - 1s 17ms/step - loss: 6.9023e-04 - mean_squared_error: 6.9023e-04\n",
            "Epoch 3/5\n",
            "39/39 [==============================] - 1s 16ms/step - loss: 7.4320e-04 - mean_squared_error: 7.4320e-04\n",
            "Epoch 4/5\n",
            "39/39 [==============================] - 1s 16ms/step - loss: 6.7142e-04 - mean_squared_error: 6.7142e-04\n",
            "Epoch 5/5\n",
            "39/39 [==============================] - 1s 17ms/step - loss: 6.7460e-04 - mean_squared_error: 6.7460e-04\n"
          ]
        },
        {
          "output_type": "display_data",
          "data": {
            "text/plain": [
              "array([[21.179197]], dtype=float32)"
            ]
          },
          "metadata": {}
        },
        {
          "output_type": "stream",
          "name": "stdout",
          "text": [
            "Epoch 1/5\n",
            "39/39 [==============================] - 1s 17ms/step - loss: 6.8094e-04 - mean_squared_error: 6.8094e-04\n",
            "Epoch 2/5\n",
            "39/39 [==============================] - 1s 16ms/step - loss: 6.9306e-04 - mean_squared_error: 6.9306e-04\n",
            "Epoch 3/5\n",
            "39/39 [==============================] - 1s 17ms/step - loss: 6.5550e-04 - mean_squared_error: 6.5550e-04\n",
            "Epoch 4/5\n",
            "39/39 [==============================] - 1s 16ms/step - loss: 6.5052e-04 - mean_squared_error: 6.5052e-04\n",
            "Epoch 5/5\n",
            "39/39 [==============================] - 1s 16ms/step - loss: 6.7204e-04 - mean_squared_error: 6.7204e-04\n"
          ]
        },
        {
          "output_type": "display_data",
          "data": {
            "text/plain": [
              "array([[21.147995]], dtype=float32)"
            ]
          },
          "metadata": {}
        },
        {
          "output_type": "stream",
          "name": "stdout",
          "text": [
            "Epoch 1/5\n",
            "39/39 [==============================] - 1s 15ms/step - loss: 6.8773e-04 - mean_squared_error: 6.8773e-04\n",
            "Epoch 2/5\n",
            "39/39 [==============================] - 1s 16ms/step - loss: 6.7598e-04 - mean_squared_error: 6.7598e-04\n",
            "Epoch 3/5\n",
            "39/39 [==============================] - 1s 16ms/step - loss: 7.0579e-04 - mean_squared_error: 7.0579e-04\n",
            "Epoch 4/5\n",
            "39/39 [==============================] - 1s 15ms/step - loss: 7.3738e-04 - mean_squared_error: 7.3738e-04\n",
            "Epoch 5/5\n",
            "39/39 [==============================] - 1s 17ms/step - loss: 6.8077e-04 - mean_squared_error: 6.8077e-04\n"
          ]
        },
        {
          "output_type": "display_data",
          "data": {
            "text/plain": [
              "array([[21.145449]], dtype=float32)"
            ]
          },
          "metadata": {}
        },
        {
          "output_type": "stream",
          "name": "stdout",
          "text": [
            "Epoch 1/5\n",
            "39/39 [==============================] - 1s 17ms/step - loss: 6.1313e-04 - mean_squared_error: 6.1313e-04\n",
            "Epoch 2/5\n",
            "39/39 [==============================] - 1s 16ms/step - loss: 6.7283e-04 - mean_squared_error: 6.7283e-04\n",
            "Epoch 3/5\n",
            "39/39 [==============================] - 1s 16ms/step - loss: 6.4528e-04 - mean_squared_error: 6.4528e-04\n",
            "Epoch 4/5\n",
            "39/39 [==============================] - 1s 16ms/step - loss: 6.7552e-04 - mean_squared_error: 6.7552e-04\n",
            "Epoch 5/5\n",
            "39/39 [==============================] - 1s 16ms/step - loss: 6.9006e-04 - mean_squared_error: 6.9006e-04\n"
          ]
        },
        {
          "output_type": "display_data",
          "data": {
            "text/plain": [
              "array([[20.96177]], dtype=float32)"
            ]
          },
          "metadata": {}
        },
        {
          "output_type": "stream",
          "name": "stdout",
          "text": [
            "Epoch 1/5\n",
            "39/39 [==============================] - 1s 15ms/step - loss: 6.7903e-04 - mean_squared_error: 6.7903e-04\n",
            "Epoch 2/5\n",
            "39/39 [==============================] - 1s 17ms/step - loss: 7.1557e-04 - mean_squared_error: 7.1557e-04\n",
            "Epoch 3/5\n",
            "39/39 [==============================] - 1s 17ms/step - loss: 6.5626e-04 - mean_squared_error: 6.5626e-04\n",
            "Epoch 4/5\n",
            "39/39 [==============================] - 1s 15ms/step - loss: 6.7812e-04 - mean_squared_error: 6.7812e-04\n",
            "Epoch 5/5\n",
            "39/39 [==============================] - 1s 16ms/step - loss: 6.3525e-04 - mean_squared_error: 6.3525e-04\n"
          ]
        },
        {
          "output_type": "display_data",
          "data": {
            "text/plain": [
              "array([[20.97298]], dtype=float32)"
            ]
          },
          "metadata": {}
        },
        {
          "output_type": "stream",
          "name": "stdout",
          "text": [
            "Epoch 1/5\n",
            "39/39 [==============================] - 1s 15ms/step - loss: 6.9301e-04 - mean_squared_error: 6.9301e-04\n",
            "Epoch 2/5\n",
            "39/39 [==============================] - 1s 14ms/step - loss: 6.7187e-04 - mean_squared_error: 6.7187e-04\n",
            "Epoch 3/5\n",
            "39/39 [==============================] - 1s 17ms/step - loss: 6.6930e-04 - mean_squared_error: 6.6930e-04\n",
            "Epoch 4/5\n",
            "39/39 [==============================] - 1s 16ms/step - loss: 7.1732e-04 - mean_squared_error: 7.1732e-04\n",
            "Epoch 5/5\n",
            "39/39 [==============================] - 1s 16ms/step - loss: 6.8205e-04 - mean_squared_error: 6.8205e-04\n"
          ]
        },
        {
          "output_type": "display_data",
          "data": {
            "text/plain": [
              "array([[20.875772]], dtype=float32)"
            ]
          },
          "metadata": {}
        },
        {
          "output_type": "stream",
          "name": "stdout",
          "text": [
            "Epoch 1/5\n",
            "39/39 [==============================] - 1s 17ms/step - loss: 6.9314e-04 - mean_squared_error: 6.9314e-04\n",
            "Epoch 2/5\n",
            "39/39 [==============================] - 1s 16ms/step - loss: 6.5078e-04 - mean_squared_error: 6.5078e-04\n",
            "Epoch 3/5\n",
            "39/39 [==============================] - 1s 16ms/step - loss: 6.4314e-04 - mean_squared_error: 6.4314e-04\n",
            "Epoch 4/5\n",
            "39/39 [==============================] - 1s 16ms/step - loss: 6.7663e-04 - mean_squared_error: 6.7663e-04\n",
            "Epoch 5/5\n",
            "39/39 [==============================] - 1s 15ms/step - loss: 7.2976e-04 - mean_squared_error: 7.2976e-04\n"
          ]
        },
        {
          "output_type": "display_data",
          "data": {
            "text/plain": [
              "array([[21.075428]], dtype=float32)"
            ]
          },
          "metadata": {}
        },
        {
          "output_type": "stream",
          "name": "stdout",
          "text": [
            "Epoch 1/5\n",
            "39/39 [==============================] - 1s 16ms/step - loss: 6.7677e-04 - mean_squared_error: 6.7677e-04\n",
            "Epoch 2/5\n",
            "39/39 [==============================] - 1s 16ms/step - loss: 6.5498e-04 - mean_squared_error: 6.5498e-04\n",
            "Epoch 3/5\n",
            "39/39 [==============================] - 1s 16ms/step - loss: 6.4909e-04 - mean_squared_error: 6.4909e-04\n",
            "Epoch 4/5\n",
            "39/39 [==============================] - 1s 16ms/step - loss: 6.2686e-04 - mean_squared_error: 6.2686e-04\n",
            "Epoch 5/5\n",
            "39/39 [==============================] - 1s 16ms/step - loss: 6.2821e-04 - mean_squared_error: 6.2821e-04\n"
          ]
        },
        {
          "output_type": "display_data",
          "data": {
            "text/plain": [
              "array([[21.18196]], dtype=float32)"
            ]
          },
          "metadata": {}
        },
        {
          "output_type": "stream",
          "name": "stdout",
          "text": [
            "Epoch 1/5\n",
            "39/39 [==============================] - 1s 16ms/step - loss: 6.5335e-04 - mean_squared_error: 6.5335e-04\n",
            "Epoch 2/5\n",
            "39/39 [==============================] - 1s 17ms/step - loss: 6.4558e-04 - mean_squared_error: 6.4558e-04\n",
            "Epoch 3/5\n",
            "39/39 [==============================] - 1s 16ms/step - loss: 6.8595e-04 - mean_squared_error: 6.8595e-04\n",
            "Epoch 4/5\n",
            "39/39 [==============================] - 1s 16ms/step - loss: 6.3888e-04 - mean_squared_error: 6.3888e-04\n",
            "Epoch 5/5\n",
            "39/39 [==============================] - 1s 15ms/step - loss: 5.9387e-04 - mean_squared_error: 5.9387e-04\n"
          ]
        },
        {
          "output_type": "display_data",
          "data": {
            "text/plain": [
              "array([[21.18284]], dtype=float32)"
            ]
          },
          "metadata": {}
        },
        {
          "output_type": "stream",
          "name": "stdout",
          "text": [
            "Epoch 1/5\n",
            "39/39 [==============================] - 1s 16ms/step - loss: 6.4169e-04 - mean_squared_error: 6.4169e-04\n",
            "Epoch 2/5\n",
            "39/39 [==============================] - 1s 17ms/step - loss: 6.5662e-04 - mean_squared_error: 6.5662e-04\n",
            "Epoch 3/5\n",
            "39/39 [==============================] - 1s 16ms/step - loss: 6.7442e-04 - mean_squared_error: 6.7442e-04\n",
            "Epoch 4/5\n",
            "39/39 [==============================] - 1s 16ms/step - loss: 6.5703e-04 - mean_squared_error: 6.5703e-04\n",
            "Epoch 5/5\n",
            "39/39 [==============================] - 1s 17ms/step - loss: 6.0931e-04 - mean_squared_error: 6.0931e-04\n"
          ]
        },
        {
          "output_type": "display_data",
          "data": {
            "text/plain": [
              "array([[21.114178]], dtype=float32)"
            ]
          },
          "metadata": {}
        },
        {
          "output_type": "stream",
          "name": "stdout",
          "text": [
            "Epoch 1/5\n",
            "39/39 [==============================] - 1s 16ms/step - loss: 6.9802e-04 - mean_squared_error: 6.9802e-04\n",
            "Epoch 2/5\n",
            "39/39 [==============================] - 1s 16ms/step - loss: 6.7436e-04 - mean_squared_error: 6.7436e-04\n",
            "Epoch 3/5\n",
            "39/39 [==============================] - 1s 16ms/step - loss: 6.4069e-04 - mean_squared_error: 6.4069e-04\n",
            "Epoch 4/5\n",
            "39/39 [==============================] - 1s 15ms/step - loss: 6.6542e-04 - mean_squared_error: 6.6542e-04\n",
            "Epoch 5/5\n",
            "39/39 [==============================] - 1s 17ms/step - loss: 6.8112e-04 - mean_squared_error: 6.8112e-04\n"
          ]
        },
        {
          "output_type": "display_data",
          "data": {
            "text/plain": [
              "array([[21.169348]], dtype=float32)"
            ]
          },
          "metadata": {}
        },
        {
          "output_type": "stream",
          "name": "stdout",
          "text": [
            "Epoch 1/5\n",
            "39/39 [==============================] - 1s 15ms/step - loss: 6.5169e-04 - mean_squared_error: 6.5169e-04\n",
            "Epoch 2/5\n",
            "39/39 [==============================] - 1s 15ms/step - loss: 6.6376e-04 - mean_squared_error: 6.6376e-04\n",
            "Epoch 3/5\n",
            "39/39 [==============================] - 1s 16ms/step - loss: 5.8927e-04 - mean_squared_error: 5.8927e-04\n",
            "Epoch 4/5\n",
            "39/39 [==============================] - 1s 17ms/step - loss: 5.9376e-04 - mean_squared_error: 5.9376e-04\n",
            "Epoch 5/5\n",
            "39/39 [==============================] - 1s 15ms/step - loss: 6.9671e-04 - mean_squared_error: 6.9671e-04\n"
          ]
        },
        {
          "output_type": "display_data",
          "data": {
            "text/plain": [
              "array([[21.189432]], dtype=float32)"
            ]
          },
          "metadata": {}
        },
        {
          "output_type": "stream",
          "name": "stdout",
          "text": [
            "Epoch 1/5\n",
            "39/39 [==============================] - 1s 15ms/step - loss: 6.2706e-04 - mean_squared_error: 6.2706e-04\n",
            "Epoch 2/5\n",
            "39/39 [==============================] - 1s 15ms/step - loss: 6.2894e-04 - mean_squared_error: 6.2894e-04\n",
            "Epoch 3/5\n",
            "39/39 [==============================] - 1s 15ms/step - loss: 7.0642e-04 - mean_squared_error: 7.0642e-04\n",
            "Epoch 4/5\n",
            "39/39 [==============================] - 1s 16ms/step - loss: 6.7683e-04 - mean_squared_error: 6.7683e-04\n",
            "Epoch 5/5\n",
            "39/39 [==============================] - 1s 15ms/step - loss: 6.5307e-04 - mean_squared_error: 6.5307e-04\n"
          ]
        },
        {
          "output_type": "display_data",
          "data": {
            "text/plain": [
              "array([[21.329533]], dtype=float32)"
            ]
          },
          "metadata": {}
        },
        {
          "output_type": "stream",
          "name": "stdout",
          "text": [
            "Epoch 1/5\n",
            "39/39 [==============================] - 1s 16ms/step - loss: 6.6115e-04 - mean_squared_error: 6.6115e-04\n",
            "Epoch 2/5\n",
            "39/39 [==============================] - 1s 16ms/step - loss: 6.8634e-04 - mean_squared_error: 6.8634e-04\n",
            "Epoch 3/5\n",
            "39/39 [==============================] - 1s 16ms/step - loss: 7.0244e-04 - mean_squared_error: 7.0244e-04\n",
            "Epoch 4/5\n",
            "39/39 [==============================] - 1s 15ms/step - loss: 6.2300e-04 - mean_squared_error: 6.2300e-04\n",
            "Epoch 5/5\n",
            "39/39 [==============================] - 1s 16ms/step - loss: 6.6021e-04 - mean_squared_error: 6.6021e-04\n"
          ]
        },
        {
          "output_type": "display_data",
          "data": {
            "text/plain": [
              "array([[21.418226]], dtype=float32)"
            ]
          },
          "metadata": {}
        },
        {
          "output_type": "stream",
          "name": "stdout",
          "text": [
            "Epoch 1/5\n",
            "39/39 [==============================] - 1s 15ms/step - loss: 6.2544e-04 - mean_squared_error: 6.2544e-04\n",
            "Epoch 2/5\n",
            "39/39 [==============================] - 1s 16ms/step - loss: 6.4178e-04 - mean_squared_error: 6.4178e-04\n",
            "Epoch 3/5\n",
            "39/39 [==============================] - 1s 17ms/step - loss: 6.6730e-04 - mean_squared_error: 6.6730e-04\n",
            "Epoch 4/5\n",
            "39/39 [==============================] - 1s 17ms/step - loss: 6.0755e-04 - mean_squared_error: 6.0755e-04\n",
            "Epoch 5/5\n",
            "39/39 [==============================] - 1s 16ms/step - loss: 6.5165e-04 - mean_squared_error: 6.5165e-04\n"
          ]
        },
        {
          "output_type": "display_data",
          "data": {
            "text/plain": [
              "array([[21.268324]], dtype=float32)"
            ]
          },
          "metadata": {}
        },
        {
          "output_type": "stream",
          "name": "stdout",
          "text": [
            "Epoch 1/5\n",
            "39/39 [==============================] - 1s 16ms/step - loss: 6.4305e-04 - mean_squared_error: 6.4305e-04\n",
            "Epoch 2/5\n",
            "39/39 [==============================] - 1s 16ms/step - loss: 6.6386e-04 - mean_squared_error: 6.6386e-04\n",
            "Epoch 3/5\n",
            "39/39 [==============================] - 1s 16ms/step - loss: 6.2905e-04 - mean_squared_error: 6.2905e-04\n",
            "Epoch 4/5\n",
            "39/39 [==============================] - 1s 16ms/step - loss: 6.0832e-04 - mean_squared_error: 6.0832e-04\n",
            "Epoch 5/5\n",
            "39/39 [==============================] - 1s 16ms/step - loss: 6.3401e-04 - mean_squared_error: 6.3401e-04\n"
          ]
        },
        {
          "output_type": "display_data",
          "data": {
            "text/plain": [
              "array([[21.264416]], dtype=float32)"
            ]
          },
          "metadata": {}
        },
        {
          "output_type": "stream",
          "name": "stdout",
          "text": [
            "Epoch 1/5\n",
            "39/39 [==============================] - 1s 17ms/step - loss: 5.9564e-04 - mean_squared_error: 5.9564e-04\n",
            "Epoch 2/5\n",
            "39/39 [==============================] - 1s 16ms/step - loss: 6.4585e-04 - mean_squared_error: 6.4585e-04\n",
            "Epoch 3/5\n",
            "39/39 [==============================] - 1s 16ms/step - loss: 6.5304e-04 - mean_squared_error: 6.5304e-04\n",
            "Epoch 4/5\n",
            "39/39 [==============================] - 1s 16ms/step - loss: 6.3258e-04 - mean_squared_error: 6.3258e-04\n",
            "Epoch 5/5\n",
            "39/39 [==============================] - 1s 16ms/step - loss: 6.5525e-04 - mean_squared_error: 6.5525e-04\n"
          ]
        },
        {
          "output_type": "display_data",
          "data": {
            "text/plain": [
              "array([[21.3563]], dtype=float32)"
            ]
          },
          "metadata": {}
        },
        {
          "output_type": "stream",
          "name": "stdout",
          "text": [
            "Epoch 1/5\n",
            "39/39 [==============================] - 1s 17ms/step - loss: 6.7027e-04 - mean_squared_error: 6.7027e-04\n",
            "Epoch 2/5\n",
            "39/39 [==============================] - 1s 17ms/step - loss: 6.3882e-04 - mean_squared_error: 6.3882e-04\n",
            "Epoch 3/5\n",
            "39/39 [==============================] - 1s 17ms/step - loss: 6.2453e-04 - mean_squared_error: 6.2453e-04\n",
            "Epoch 4/5\n",
            "39/39 [==============================] - 1s 16ms/step - loss: 6.8496e-04 - mean_squared_error: 6.8496e-04\n",
            "Epoch 5/5\n",
            "39/39 [==============================] - 1s 16ms/step - loss: 6.3651e-04 - mean_squared_error: 6.3651e-04\n"
          ]
        },
        {
          "output_type": "display_data",
          "data": {
            "text/plain": [
              "array([[21.219604]], dtype=float32)"
            ]
          },
          "metadata": {}
        },
        {
          "output_type": "stream",
          "name": "stdout",
          "text": [
            "Epoch 1/5\n",
            "39/39 [==============================] - 1s 16ms/step - loss: 5.5410e-04 - mean_squared_error: 5.5410e-04\n",
            "Epoch 2/5\n",
            "39/39 [==============================] - 1s 17ms/step - loss: 5.8874e-04 - mean_squared_error: 5.8874e-04\n",
            "Epoch 3/5\n",
            "39/39 [==============================] - 1s 15ms/step - loss: 6.4305e-04 - mean_squared_error: 6.4305e-04\n",
            "Epoch 4/5\n",
            "39/39 [==============================] - 1s 17ms/step - loss: 5.9288e-04 - mean_squared_error: 5.9288e-04\n",
            "Epoch 5/5\n",
            "39/39 [==============================] - 1s 17ms/step - loss: 6.6051e-04 - mean_squared_error: 6.6051e-04\n"
          ]
        },
        {
          "output_type": "display_data",
          "data": {
            "text/plain": [
              "array([[21.299187]], dtype=float32)"
            ]
          },
          "metadata": {}
        },
        {
          "output_type": "stream",
          "name": "stdout",
          "text": [
            "Epoch 1/5\n",
            "39/39 [==============================] - 1s 17ms/step - loss: 6.0429e-04 - mean_squared_error: 6.0429e-04\n",
            "Epoch 2/5\n",
            "39/39 [==============================] - 1s 16ms/step - loss: 6.5572e-04 - mean_squared_error: 6.5572e-04\n",
            "Epoch 3/5\n",
            "39/39 [==============================] - 1s 17ms/step - loss: 6.5295e-04 - mean_squared_error: 6.5295e-04\n",
            "Epoch 4/5\n",
            "39/39 [==============================] - 1s 16ms/step - loss: 6.3890e-04 - mean_squared_error: 6.3890e-04\n",
            "Epoch 5/5\n",
            "39/39 [==============================] - 1s 15ms/step - loss: 6.1907e-04 - mean_squared_error: 6.1907e-04\n"
          ]
        },
        {
          "output_type": "display_data",
          "data": {
            "text/plain": [
              "array([[21.35976]], dtype=float32)"
            ]
          },
          "metadata": {}
        },
        {
          "output_type": "stream",
          "name": "stdout",
          "text": [
            "Epoch 1/5\n",
            "39/39 [==============================] - 1s 16ms/step - loss: 5.8845e-04 - mean_squared_error: 5.8845e-04\n",
            "Epoch 2/5\n",
            "39/39 [==============================] - 1s 15ms/step - loss: 5.9571e-04 - mean_squared_error: 5.9571e-04\n",
            "Epoch 3/5\n",
            "39/39 [==============================] - 1s 16ms/step - loss: 5.8721e-04 - mean_squared_error: 5.8721e-04\n",
            "Epoch 4/5\n",
            "39/39 [==============================] - 1s 18ms/step - loss: 6.7093e-04 - mean_squared_error: 6.7093e-04\n",
            "Epoch 5/5\n",
            "39/39 [==============================] - 1s 16ms/step - loss: 6.2363e-04 - mean_squared_error: 6.2363e-04\n"
          ]
        },
        {
          "output_type": "display_data",
          "data": {
            "text/plain": [
              "array([[21.322876]], dtype=float32)"
            ]
          },
          "metadata": {}
        },
        {
          "output_type": "stream",
          "name": "stdout",
          "text": [
            "Epoch 1/5\n",
            "39/39 [==============================] - 1s 16ms/step - loss: 6.3207e-04 - mean_squared_error: 6.3207e-04\n",
            "Epoch 2/5\n",
            "39/39 [==============================] - 1s 16ms/step - loss: 6.7119e-04 - mean_squared_error: 6.7119e-04\n",
            "Epoch 3/5\n",
            "39/39 [==============================] - 1s 15ms/step - loss: 6.2508e-04 - mean_squared_error: 6.2508e-04\n",
            "Epoch 4/5\n",
            "39/39 [==============================] - 1s 17ms/step - loss: 6.1299e-04 - mean_squared_error: 6.1299e-04\n",
            "Epoch 5/5\n",
            "39/39 [==============================] - 1s 16ms/step - loss: 6.3143e-04 - mean_squared_error: 6.3143e-04\n"
          ]
        },
        {
          "output_type": "display_data",
          "data": {
            "text/plain": [
              "array([[21.208305]], dtype=float32)"
            ]
          },
          "metadata": {}
        },
        {
          "output_type": "stream",
          "name": "stdout",
          "text": [
            "Epoch 1/5\n",
            "39/39 [==============================] - 1s 16ms/step - loss: 6.1537e-04 - mean_squared_error: 6.1537e-04\n",
            "Epoch 2/5\n",
            "39/39 [==============================] - 1s 17ms/step - loss: 5.9309e-04 - mean_squared_error: 5.9309e-04\n",
            "Epoch 3/5\n",
            "39/39 [==============================] - 1s 18ms/step - loss: 6.3224e-04 - mean_squared_error: 6.3224e-04\n",
            "Epoch 4/5\n",
            "39/39 [==============================] - 1s 15ms/step - loss: 6.8303e-04 - mean_squared_error: 6.8303e-04\n",
            "Epoch 5/5\n",
            "39/39 [==============================] - 1s 18ms/step - loss: 6.9886e-04 - mean_squared_error: 6.9886e-04\n"
          ]
        },
        {
          "output_type": "display_data",
          "data": {
            "text/plain": [
              "array([[21.239883]], dtype=float32)"
            ]
          },
          "metadata": {}
        },
        {
          "output_type": "stream",
          "name": "stdout",
          "text": [
            "Epoch 1/5\n",
            "39/39 [==============================] - 1s 16ms/step - loss: 6.1158e-04 - mean_squared_error: 6.1158e-04\n",
            "Epoch 2/5\n",
            "39/39 [==============================] - 1s 15ms/step - loss: 6.3513e-04 - mean_squared_error: 6.3513e-04\n",
            "Epoch 3/5\n",
            "39/39 [==============================] - 1s 18ms/step - loss: 6.1761e-04 - mean_squared_error: 6.1761e-04\n",
            "Epoch 4/5\n",
            "39/39 [==============================] - 1s 17ms/step - loss: 5.9586e-04 - mean_squared_error: 5.9586e-04\n",
            "Epoch 5/5\n",
            "39/39 [==============================] - 1s 16ms/step - loss: 5.9000e-04 - mean_squared_error: 5.9000e-04\n"
          ]
        },
        {
          "output_type": "display_data",
          "data": {
            "text/plain": [
              "array([[21.188393]], dtype=float32)"
            ]
          },
          "metadata": {}
        },
        {
          "output_type": "stream",
          "name": "stdout",
          "text": [
            "Epoch 1/5\n",
            "39/39 [==============================] - 1s 16ms/step - loss: 6.6553e-04 - mean_squared_error: 6.6553e-04\n",
            "Epoch 2/5\n",
            "39/39 [==============================] - 1s 16ms/step - loss: 6.5506e-04 - mean_squared_error: 6.5506e-04\n",
            "Epoch 3/5\n",
            "39/39 [==============================] - 1s 16ms/step - loss: 5.8847e-04 - mean_squared_error: 5.8847e-04\n",
            "Epoch 4/5\n",
            "39/39 [==============================] - 1s 18ms/step - loss: 5.9169e-04 - mean_squared_error: 5.9169e-04\n",
            "Epoch 5/5\n",
            "39/39 [==============================] - 1s 17ms/step - loss: 6.0886e-04 - mean_squared_error: 6.0886e-04\n"
          ]
        },
        {
          "output_type": "display_data",
          "data": {
            "text/plain": [
              "array([[21.340876]], dtype=float32)"
            ]
          },
          "metadata": {}
        },
        {
          "output_type": "stream",
          "name": "stdout",
          "text": [
            "Epoch 1/5\n",
            "39/39 [==============================] - 0s 12ms/step - loss: 6.1967e-04 - mean_squared_error: 6.1967e-04\n",
            "Epoch 2/5\n",
            "39/39 [==============================] - 0s 12ms/step - loss: 5.8906e-04 - mean_squared_error: 5.8906e-04\n",
            "Epoch 3/5\n",
            "39/39 [==============================] - 1s 13ms/step - loss: 6.4289e-04 - mean_squared_error: 6.4289e-04\n",
            "Epoch 4/5\n",
            "39/39 [==============================] - 1s 13ms/step - loss: 6.2482e-04 - mean_squared_error: 6.2482e-04\n",
            "Epoch 5/5\n",
            "39/39 [==============================] - 1s 13ms/step - loss: 5.6830e-04 - mean_squared_error: 5.6830e-04\n"
          ]
        },
        {
          "output_type": "display_data",
          "data": {
            "text/plain": [
              "array([[21.438086]], dtype=float32)"
            ]
          },
          "metadata": {}
        },
        {
          "output_type": "stream",
          "name": "stdout",
          "text": [
            "Epoch 1/5\n",
            "40/40 [==============================] - 1s 16ms/step - loss: 5.6934e-04 - mean_squared_error: 5.6934e-04\n",
            "Epoch 2/5\n",
            "40/40 [==============================] - 1s 16ms/step - loss: 6.2471e-04 - mean_squared_error: 6.2471e-04\n",
            "Epoch 3/5\n",
            "40/40 [==============================] - 1s 16ms/step - loss: 6.4530e-04 - mean_squared_error: 6.4530e-04\n",
            "Epoch 4/5\n",
            "40/40 [==============================] - 1s 16ms/step - loss: 6.4253e-04 - mean_squared_error: 6.4253e-04\n",
            "Epoch 5/5\n",
            "40/40 [==============================] - 1s 16ms/step - loss: 6.3194e-04 - mean_squared_error: 6.3194e-04\n"
          ]
        },
        {
          "output_type": "display_data",
          "data": {
            "text/plain": [
              "array([[21.300705]], dtype=float32)"
            ]
          },
          "metadata": {}
        },
        {
          "output_type": "stream",
          "name": "stdout",
          "text": [
            "Epoch 1/5\n",
            "40/40 [==============================] - 1s 17ms/step - loss: 6.0580e-04 - mean_squared_error: 6.0580e-04\n",
            "Epoch 2/5\n",
            "40/40 [==============================] - 1s 17ms/step - loss: 6.0422e-04 - mean_squared_error: 6.0422e-04\n",
            "Epoch 3/5\n",
            "40/40 [==============================] - 1s 17ms/step - loss: 5.6185e-04 - mean_squared_error: 5.6185e-04\n",
            "Epoch 4/5\n",
            "40/40 [==============================] - 1s 17ms/step - loss: 5.9198e-04 - mean_squared_error: 5.9198e-04\n",
            "Epoch 5/5\n",
            "40/40 [==============================] - 1s 17ms/step - loss: 5.9186e-04 - mean_squared_error: 5.9186e-04\n"
          ]
        },
        {
          "output_type": "display_data",
          "data": {
            "text/plain": [
              "array([[21.367378]], dtype=float32)"
            ]
          },
          "metadata": {}
        },
        {
          "output_type": "stream",
          "name": "stdout",
          "text": [
            "Epoch 1/5\n",
            "40/40 [==============================] - 1s 16ms/step - loss: 5.7817e-04 - mean_squared_error: 5.7817e-04\n",
            "Epoch 2/5\n",
            "40/40 [==============================] - 1s 16ms/step - loss: 6.3320e-04 - mean_squared_error: 6.3320e-04\n",
            "Epoch 3/5\n",
            "40/40 [==============================] - 1s 17ms/step - loss: 5.9985e-04 - mean_squared_error: 5.9985e-04\n",
            "Epoch 4/5\n",
            "40/40 [==============================] - 1s 17ms/step - loss: 5.5887e-04 - mean_squared_error: 5.5887e-04\n",
            "Epoch 5/5\n",
            "40/40 [==============================] - 1s 16ms/step - loss: 5.9923e-04 - mean_squared_error: 5.9923e-04\n"
          ]
        }
      ],
      "source": [
        "# last_input=df.iloc[-window_size:, :]['Close'].values\n",
        "\n",
        "for i in range(300): \n",
        "  # input_array=last_input[-window_size:]\n",
        "  # display(input_array)\n",
        "  # input_scaled=X_scaler.transform([input_array])\n",
        "  # input_reshaped=input_scaled.reshape(1, window_size, 1)\n",
        "  # prediction_scaled=model.predict(X_scaled[-1])\n",
        "  prediction_scaled=model.predict(X_scaled[-1].reshape(1, window_size, 1))\n",
        "  \n",
        "  next_prediction=y_scaler.inverse_transform(prediction_scaled)\n",
        "  display(next_prediction)\n",
        "  new_train_sample=np.append(X_scaled[-1], prediction_scaled)[1:].reshape(1, window_size, 1)\n",
        "  X_scaled=np.append(X_scaled, new_train_sample, axis=0)\n",
        "  y_scaled=np.append(y_scaled, prediction_scaled, axis=0)\n",
        "  model.fit(X_scaled, y_scaled, epochs=5)\n",
        "  # last_input=np.append(last_input, next_prediction)\n",
        "  # input_array"
      ]
    },
    {
      "cell_type": "code",
      "execution_count": 76,
      "id": "faIQrGZ9qFIq",
      "metadata": {
        "colab": {
          "base_uri": "https://localhost:8080/",
          "height": 283
        },
        "id": "faIQrGZ9qFIq",
        "outputId": "50b37e1a-3619-4fec-a0b5-6123457661e6"
      },
      "outputs": [
        {
          "output_type": "execute_result",
          "data": {
            "text/plain": [
              "[<matplotlib.lines.Line2D at 0x7f0da2b9d510>]"
            ]
          },
          "metadata": {},
          "execution_count": 76
        },
        {
          "output_type": "display_data",
          "data": {
            "text/plain": [
              "<Figure size 432x288 with 1 Axes>"
            ],
            "image/png": "[encoded data removed]"
          },
          "metadata": {
            "needs_background": "light"
          }
        }
      ],
      "source": [
        "plt.plot(y_scaled)"
      ]
    },
    {
      "cell_type": "code",
      "execution_count": 77,
      "id": "Ke2ymgDjtyLX",
      "metadata": {
        "colab": {
          "base_uri": "https://localhost:8080/",
          "height": 283
        },
        "id": "Ke2ymgDjtyLX",
        "outputId": "75bb16c9-3807-448d-8af4-652083c3261d"
      },
      "outputs": [
        {
          "output_type": "execute_result",
          "data": {
            "text/plain": [
              "<matplotlib.axes._subplots.AxesSubplot at 0x7f0da531fd90>"
            ]
          },
          "metadata": {},
          "execution_count": 77
        },
        {
          "output_type": "display_data",
          "data": {
            "text/plain": [
              "<Figure size 432x288 with 1 Axes>"
            ],
            "image/png": "[encoded data removed]"
          },
          "metadata": {
            "needs_background": "light"
          }
        }
      ],
      "source": [
        "df['close'].plot()"
      ]
    },
    {
      "cell_type": "code",
      "execution_count": 78,
      "id": "524d5fc7-13a8-49c3-a864-89d4f1711f3b",
      "metadata": {
        "id": "524d5fc7-13a8-49c3-a864-89d4f1711f3b"
      },
      "outputs": [],
      "source": [
        "prediction = model.predict(X_scaled)"
      ]
    },
    {
      "cell_type": "code",
      "execution_count": 79,
      "id": "ef42091a-16b0-4c74-91cb-3b9822073dee",
      "metadata": {
        "id": "ef42091a-16b0-4c74-91cb-3b9822073dee"
      },
      "outputs": [],
      "source": [
        "y_predicted=y_scaler.inverse_transform(prediction)"
      ]
    },
    {
      "cell_type": "code",
      "execution_count": 80,
      "id": "k1zcJIHCvGSy",
      "metadata": {
        "id": "k1zcJIHCvGSy",
        "colab": {
          "base_uri": "https://localhost:8080/",
          "height": 287
        },
        "outputId": "a65ef3ff-bafc-4afc-8005-14ba83644974"
      },
      "outputs": [
        {
          "output_type": "execute_result",
          "data": {
            "text/plain": [
              "[<matplotlib.lines.Line2D at 0x7f0da2b6ee90>]"
            ]
          },
          "metadata": {},
          "execution_count": 80
        },
        {
          "output_type": "display_data",
          "data": {
            "text/plain": [
              "<Figure size 432x288 with 1 Axes>"
            ],
            "image/png": "[encoded data removed]"
          },
          "metadata": {
            "needs_background": "light"
          }
        }
      ],
      "source": [
        "plt.plot(y_predicted)"
      ]
    },
    {
      "cell_type": "code",
      "execution_count": 81,
      "id": "ff9fafa8-4057-4967-b1b1-6602451e3663",
      "metadata": {
        "colab": {
          "base_uri": "https://localhost:8080/",
          "height": 285
        },
        "id": "ff9fafa8-4057-4967-b1b1-6602451e3663",
        "outputId": "a2625ed6-8a1b-4ed9-dcd8-34d440bef930"
      },
      "outputs": [
        {
          "output_type": "execute_result",
          "data": {
            "text/plain": [
              "[<matplotlib.lines.Line2D at 0x7f0da3416390>]"
            ]
          },
          "metadata": {},
          "execution_count": 81
        },
        {
          "output_type": "display_data",
          "data": {
            "text/plain": [
              "<Figure size 432x288 with 1 Axes>"
            ],
            "image/png": "[encoded data removed]"
          },
          "metadata": {
            "needs_background": "light"
          }
        }
      ],
      "source": [
        "plt.plot(df['close'])"
      ]
    },
    {
      "cell_type": "code",
      "execution_count": 57,
      "id": "49acfba8-d634-4a89-8b7f-1bf2383912f7",
      "metadata": {
        "colab": {
          "base_uri": "https://localhost:8080/",
          "height": 53
        },
        "id": "49acfba8-d634-4a89-8b7f-1bf2383912f7",
        "outputId": "425c46f3-03d5-434b-e434-43f73c953962"
      },
      "outputs": [
        {
          "output_type": "display_data",
          "data": {
            "text/plain": [
              "1151"
            ]
          },
          "metadata": {}
        },
        {
          "output_type": "display_data",
          "data": {
            "text/plain": [
              "1151"
            ]
          },
          "metadata": {}
        }
      ],
      "source": [
        "display(len(X_scaled))\n",
        "display(len(y_scaled))"
      ]
    },
    {
      "cell_type": "code",
      "execution_count": 57,
      "id": "ec8e9773-92de-4b08-84b4-aa5b92a03e25",
      "metadata": {
        "id": "ec8e9773-92de-4b08-84b4-aa5b92a03e25"
      },
      "outputs": [],
      "source": [
        ""
      ]
    }
  ],
  "metadata": {
    "colab": {
      "name": "ELAN_future_300.ipynb",
      "provenance": [],
      "collapsed_sections": [],
      "include_colab_link": true
    },
    "kernelspec": {
      "display_name": "Python 3 (ipykernel)",
      "language": "python",
      "name": "python3"
    },
    "language_info": {
      "codemirror_mode": {
        "name": "ipython",
        "version": 3
      },
      "file_extension": ".py",
      "mimetype": "text/x-python",
      "name": "python",
      "nbconvert_exporter": "python",
      "pygments_lexer": "ipython3",
      "version": "3.9.12"
    }
  },
  "nbformat": 4,
  "nbformat_minor": 5
}