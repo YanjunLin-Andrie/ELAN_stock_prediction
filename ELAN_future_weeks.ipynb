{
  "cells": [
    {
      "cell_type": "markdown",
      "metadata": {
        "id": "view-in-github",
        "colab_type": "text"
      },
      "source": [
        "<a href=\"https://colab.research.google.com/github/YanjunLin-Andrie/elan_price_prediction/blob/main/ELAN_future_weeks.ipynb\" target=\"_parent\"><img src=\"https://colab.research.google.com/assets/colab-badge.svg\" alt=\"Open In Colab\"/></a>"
      ]
    },
    {
      "cell_type": "code",
      "source": [
        "pip install yfinance"
      ],
      "metadata": {
        "colab": {
          "base_uri": "https://localhost:8080/"
        },
        "id": "SbwHNbEcP9OY",
        "outputId": "eed06b4a-b69f-4f41-9ce4-fa5e8d4e83d5"
      },
      "id": "SbwHNbEcP9OY",
      "execution_count": 100,
      "outputs": [
        {
          "output_type": "stream",
          "name": "stdout",
          "text": [
            "Looking in indexes: https://pypi.org/simple, https://us-python.pkg.dev/colab-wheels/public/simple/\n",
            "Requirement already satisfied: yfinance in /usr/local/lib/python3.7/dist-packages (0.1.74)\n",
            "Requirement already satisfied: requests>=2.26 in /usr/local/lib/python3.7/dist-packages (from yfinance) (2.28.1)\n",
            "Requirement already satisfied: pandas>=0.24.0 in /usr/local/lib/python3.7/dist-packages (from yfinance) (1.3.5)\n",
            "Requirement already satisfied: numpy>=1.15 in /usr/local/lib/python3.7/dist-packages (from yfinance) (1.21.6)\n",
            "Requirement already satisfied: lxml>=4.5.1 in /usr/local/lib/python3.7/dist-packages (from yfinance) (4.9.1)\n",
            "Requirement already satisfied: multitasking>=0.0.7 in /usr/local/lib/python3.7/dist-packages (from yfinance) (0.0.11)\n",
            "Requirement already satisfied: pytz>=2017.3 in /usr/local/lib/python3.7/dist-packages (from pandas>=0.24.0->yfinance) (2022.1)\n",
            "Requirement already satisfied: python-dateutil>=2.7.3 in /usr/local/lib/python3.7/dist-packages (from pandas>=0.24.0->yfinance) (2.8.2)\n",
            "Requirement already satisfied: six>=1.5 in /usr/local/lib/python3.7/dist-packages (from python-dateutil>=2.7.3->pandas>=0.24.0->yfinance) (1.15.0)\n",
            "Requirement already satisfied: charset-normalizer<3,>=2 in /usr/local/lib/python3.7/dist-packages (from requests>=2.26->yfinance) (2.1.0)\n",
            "Requirement already satisfied: urllib3<1.27,>=1.21.1 in /usr/local/lib/python3.7/dist-packages (from requests>=2.26->yfinance) (1.26.10)\n",
            "Requirement already satisfied: idna<4,>=2.5 in /usr/local/lib/python3.7/dist-packages (from requests>=2.26->yfinance) (2.10)\n",
            "Requirement already satisfied: certifi>=2017.4.17 in /usr/local/lib/python3.7/dist-packages (from requests>=2.26->yfinance) (2022.6.15)\n"
          ]
        }
      ]
    },
    {
      "cell_type": "code",
      "source": [
        "pip install yahoo_fin"
      ],
      "metadata": {
        "colab": {
          "base_uri": "https://localhost:8080/"
        },
        "id": "-HQkL5BbQHUM",
        "outputId": "8ebd316f-122c-4041-8e22-bbda578b8259"
      },
      "id": "-HQkL5BbQHUM",
      "execution_count": 101,
      "outputs": [
        {
          "output_type": "stream",
          "name": "stdout",
          "text": [
            "Looking in indexes: https://pypi.org/simple, https://us-python.pkg.dev/colab-wheels/public/simple/\n",
            "Requirement already satisfied: yahoo_fin in /usr/local/lib/python3.7/dist-packages (0.8.9.1)\n",
            "Requirement already satisfied: requests-html in /usr/local/lib/python3.7/dist-packages (from yahoo_fin) (0.10.0)\n",
            "Requirement already satisfied: requests in /usr/local/lib/python3.7/dist-packages (from yahoo_fin) (2.28.1)\n",
            "Requirement already satisfied: pandas in /usr/local/lib/python3.7/dist-packages (from yahoo_fin) (1.3.5)\n",
            "Requirement already satisfied: feedparser in /usr/local/lib/python3.7/dist-packages (from yahoo_fin) (6.0.10)\n",
            "Requirement already satisfied: sgmllib3k in /usr/local/lib/python3.7/dist-packages (from feedparser->yahoo_fin) (1.0.0)\n",
            "Requirement already satisfied: pytz>=2017.3 in /usr/local/lib/python3.7/dist-packages (from pandas->yahoo_fin) (2022.1)\n",
            "Requirement already satisfied: python-dateutil>=2.7.3 in /usr/local/lib/python3.7/dist-packages (from pandas->yahoo_fin) (2.8.2)\n",
            "Requirement already satisfied: numpy>=1.17.3 in /usr/local/lib/python3.7/dist-packages (from pandas->yahoo_fin) (1.21.6)\n",
            "Requirement already satisfied: six>=1.5 in /usr/local/lib/python3.7/dist-packages (from python-dateutil>=2.7.3->pandas->yahoo_fin) (1.15.0)\n",
            "Requirement already satisfied: certifi>=2017.4.17 in /usr/local/lib/python3.7/dist-packages (from requests->yahoo_fin) (2022.6.15)\n",
            "Requirement already satisfied: urllib3<1.27,>=1.21.1 in /usr/local/lib/python3.7/dist-packages (from requests->yahoo_fin) (1.26.10)\n",
            "Requirement already satisfied: charset-normalizer<3,>=2 in /usr/local/lib/python3.7/dist-packages (from requests->yahoo_fin) (2.1.0)\n",
            "Requirement already satisfied: idna<4,>=2.5 in /usr/local/lib/python3.7/dist-packages (from requests->yahoo_fin) (2.10)\n",
            "Requirement already satisfied: fake-useragent in /usr/local/lib/python3.7/dist-packages (from requests-html->yahoo_fin) (0.1.11)\n",
            "Requirement already satisfied: bs4 in /usr/local/lib/python3.7/dist-packages (from requests-html->yahoo_fin) (0.0.1)\n",
            "Requirement already satisfied: pyquery in /usr/local/lib/python3.7/dist-packages (from requests-html->yahoo_fin) (1.4.3)\n",
            "Requirement already satisfied: pyppeteer>=0.0.14 in /usr/local/lib/python3.7/dist-packages (from requests-html->yahoo_fin) (1.0.2)\n",
            "Requirement already satisfied: parse in /usr/local/lib/python3.7/dist-packages (from requests-html->yahoo_fin) (1.19.0)\n",
            "Requirement already satisfied: w3lib in /usr/local/lib/python3.7/dist-packages (from requests-html->yahoo_fin) (1.22.0)\n",
            "Requirement already satisfied: tqdm<5.0.0,>=4.42.1 in /usr/local/lib/python3.7/dist-packages (from pyppeteer>=0.0.14->requests-html->yahoo_fin) (4.64.0)\n",
            "Requirement already satisfied: appdirs<2.0.0,>=1.4.3 in /usr/local/lib/python3.7/dist-packages (from pyppeteer>=0.0.14->requests-html->yahoo_fin) (1.4.4)\n",
            "Requirement already satisfied: importlib-metadata>=1.4 in /usr/local/lib/python3.7/dist-packages (from pyppeteer>=0.0.14->requests-html->yahoo_fin) (4.12.0)\n",
            "Requirement already satisfied: websockets<11.0,>=10.0 in /usr/local/lib/python3.7/dist-packages (from pyppeteer>=0.0.14->requests-html->yahoo_fin) (10.3)\n",
            "Requirement already satisfied: pyee<9.0.0,>=8.1.0 in /usr/local/lib/python3.7/dist-packages (from pyppeteer>=0.0.14->requests-html->yahoo_fin) (8.2.2)\n",
            "Requirement already satisfied: zipp>=0.5 in /usr/local/lib/python3.7/dist-packages (from importlib-metadata>=1.4->pyppeteer>=0.0.14->requests-html->yahoo_fin) (3.8.0)\n",
            "Requirement already satisfied: typing-extensions>=3.6.4 in /usr/local/lib/python3.7/dist-packages (from importlib-metadata>=1.4->pyppeteer>=0.0.14->requests-html->yahoo_fin) (4.1.1)\n",
            "Requirement already satisfied: beautifulsoup4 in /usr/local/lib/python3.7/dist-packages (from bs4->requests-html->yahoo_fin) (4.6.3)\n",
            "Requirement already satisfied: lxml>=2.1 in /usr/local/lib/python3.7/dist-packages (from pyquery->requests-html->yahoo_fin) (4.9.1)\n",
            "Requirement already satisfied: cssselect>0.7.9 in /usr/local/lib/python3.7/dist-packages (from pyquery->requests-html->yahoo_fin) (1.1.0)\n"
          ]
        }
      ]
    },
    {
      "cell_type": "code",
      "execution_count": 102,
      "id": "c4b3d2eb-bcd0-4574-beee-4647cb2848fa",
      "metadata": {
        "id": "c4b3d2eb-bcd0-4574-beee-4647cb2848fa"
      },
      "outputs": [],
      "source": [
        "import tensorflow as tf\n",
        "import yfinance as yf\n",
        "from yahoo_fin.stock_info import get_data\n",
        "import pandas as pd\n",
        "import numpy as np\n",
        "import pandas_datareader\n",
        "from sklearn.preprocessing import MinMaxScaler\n",
        "from tensorflow.keras.models import Sequential\n",
        "from tensorflow.keras.layers import LSTM, Dense, Dropout\n",
        "import matplotlib.pyplot as plt"
      ]
    },
    {
      "cell_type": "code",
      "execution_count": 103,
      "id": "4e9f7e45-182c-412b-8803-f3b6f87098bf",
      "metadata": {
        "colab": {
          "base_uri": "https://localhost:8080/",
          "height": 424
        },
        "id": "4e9f7e45-182c-412b-8803-f3b6f87098bf",
        "outputId": "8d2e3c84-ba75-4025-cc56-c21bd18c5e36"
      },
      "outputs": [
        {
          "output_type": "execute_result",
          "data": {
            "text/plain": [
              "                 open       high        low      close   adjclose    volume\n",
              "2018-09-17  32.250000  36.009998  32.049999  34.099998  34.099998  49452200\n",
              "2018-09-24  34.099998  37.610001  33.700001  34.889999  34.889999  16028100\n",
              "2018-10-01  35.480000  35.480000  32.709999  34.340000  34.340000  10334300\n",
              "2018-10-08  34.000000  34.950001  31.760000  32.580002  32.580002   6534000\n",
              "2018-10-15  32.490002  32.930000  31.330000  31.610001  31.610001   6136800\n",
              "...               ...        ...        ...        ...        ...       ...\n",
              "2022-06-27  20.809999  20.910000  19.340000  20.620001  20.620001  24564300\n",
              "2022-07-04  20.250000  20.910000  20.030001  20.450001  20.450001  13488200\n",
              "2022-07-11  20.250000  20.500000  19.110001  20.080000  20.080000  14734000\n",
              "2022-07-18  20.090000  20.330000  19.930000  20.000000  20.000000   2536900\n",
              "2022-07-19  20.450001  20.650000  20.230000  20.549999  20.549999   1205424\n",
              "\n",
              "[202 rows x 6 columns]"
            ],
            "text/html": [
              "\n",
              "  <div id=\"df-ed1c59c5-fc0c-4d85-abc0-9a36fdaad0d1\">\n",
              "    <div class=\"colab-df-container\">\n",
              "      <div>\n",
              "<style scoped>\n",
              "    .dataframe tbody tr th:only-of-type {\n",
              "        vertical-align: middle;\n",
              "    }\n",
              "\n",
              "    .dataframe tbody tr th {\n",
              "        vertical-align: top;\n",
              "    }\n",
              "\n",
              "    .dataframe thead th {\n",
              "        text-align: right;\n",
              "    }\n",
              "</style>\n",
              "<table border=\"1\" class=\"dataframe\">\n",
              "  <thead>\n",
              "    <tr style=\"text-align: right;\">\n",
              "      <th></th>\n",
              "      <th>open</th>\n",
              "      <th>high</th>\n",
              "      <th>low</th>\n",
              "      <th>close</th>\n",
              "      <th>adjclose</th>\n",
              "      <th>volume</th>\n",
              "    </tr>\n",
              "  </thead>\n",
              "  <tbody>\n",
              "    <tr>\n",
              "      <th>2018-09-17</th>\n",
              "      <td>32.250000</td>\n",
              "      <td>36.009998</td>\n",
              "      <td>32.049999</td>\n",
              "      <td>34.099998</td>\n",
              "      <td>34.099998</td>\n",
              "      <td>49452200</td>\n",
              "    </tr>\n",
              "    <tr>\n",
              "      <th>2018-09-24</th>\n",
              "      <td>34.099998</td>\n",
              "      <td>37.610001</td>\n",
              "      <td>33.700001</td>\n",
              "      <td>34.889999</td>\n",
              "      <td>34.889999</td>\n",
              "      <td>16028100</td>\n",
              "    </tr>\n",
              "    <tr>\n",
              "      <th>2018-10-01</th>\n",
              "      <td>35.480000</td>\n",
              "      <td>35.480000</td>\n",
              "      <td>32.709999</td>\n",
              "      <td>34.340000</td>\n",
              "      <td>34.340000</td>\n",
              "      <td>10334300</td>\n",
              "    </tr>\n",
              "    <tr>\n",
              "      <th>2018-10-08</th>\n",
              "      <td>34.000000</td>\n",
              "      <td>34.950001</td>\n",
              "      <td>31.760000</td>\n",
              "      <td>32.580002</td>\n",
              "      <td>32.580002</td>\n",
              "      <td>6534000</td>\n",
              "    </tr>\n",
              "    <tr>\n",
              "      <th>2018-10-15</th>\n",
              "      <td>32.490002</td>\n",
              "      <td>32.930000</td>\n",
              "      <td>31.330000</td>\n",
              "      <td>31.610001</td>\n",
              "      <td>31.610001</td>\n",
              "      <td>6136800</td>\n",
              "    </tr>\n",
              "    <tr>\n",
              "      <th>...</th>\n",
              "      <td>...</td>\n",
              "      <td>...</td>\n",
              "      <td>...</td>\n",
              "      <td>...</td>\n",
              "      <td>...</td>\n",
              "      <td>...</td>\n",
              "    </tr>\n",
              "    <tr>\n",
              "      <th>2022-06-27</th>\n",
              "      <td>20.809999</td>\n",
              "      <td>20.910000</td>\n",
              "      <td>19.340000</td>\n",
              "      <td>20.620001</td>\n",
              "      <td>20.620001</td>\n",
              "      <td>24564300</td>\n",
              "    </tr>\n",
              "    <tr>\n",
              "      <th>2022-07-04</th>\n",
              "      <td>20.250000</td>\n",
              "      <td>20.910000</td>\n",
              "      <td>20.030001</td>\n",
              "      <td>20.450001</td>\n",
              "      <td>20.450001</td>\n",
              "      <td>13488200</td>\n",
              "    </tr>\n",
              "    <tr>\n",
              "      <th>2022-07-11</th>\n",
              "      <td>20.250000</td>\n",
              "      <td>20.500000</td>\n",
              "      <td>19.110001</td>\n",
              "      <td>20.080000</td>\n",
              "      <td>20.080000</td>\n",
              "      <td>14734000</td>\n",
              "    </tr>\n",
              "    <tr>\n",
              "      <th>2022-07-18</th>\n",
              "      <td>20.090000</td>\n",
              "      <td>20.330000</td>\n",
              "      <td>19.930000</td>\n",
              "      <td>20.000000</td>\n",
              "      <td>20.000000</td>\n",
              "      <td>2536900</td>\n",
              "    </tr>\n",
              "    <tr>\n",
              "      <th>2022-07-19</th>\n",
              "      <td>20.450001</td>\n",
              "      <td>20.650000</td>\n",
              "      <td>20.230000</td>\n",
              "      <td>20.549999</td>\n",
              "      <td>20.549999</td>\n",
              "      <td>1205424</td>\n",
              "    </tr>\n",
              "  </tbody>\n",
              "</table>\n",
              "<p>202 rows × 6 columns</p>\n",
              "</div>\n",
              "      <button class=\"colab-df-convert\" onclick=\"convertToInteractive('df-ed1c59c5-fc0c-4d85-abc0-9a36fdaad0d1')\"\n",
              "              title=\"Convert this dataframe to an interactive table.\"\n",
              "              style=\"display:none;\">\n",
              "        \n",
              "  <svg xmlns=\"http://www.w3.org/2000/svg\" height=\"24px\"viewBox=\"0 0 24 24\"\n",
              "       width=\"24px\">\n",
              "    <path d=\"M0 0h24v24H0V0z\" fill=\"none\"/>\n",
              "    <path d=\"M18.56 5.44l.94 2.06.94-2.06 2.06-.94-2.06-.94-.94-2.06-.94 2.06-2.06.94zm-11 1L8.5 8.5l.94-2.06 2.06-.94-2.06-.94L8.5 2.5l-.94 2.06-2.06.94zm10 10l.94 2.06.94-2.06 2.06-.94-2.06-.94-.94-2.06-.94 2.06-2.06.94z\"/><path d=\"M17.41 7.96l-1.37-1.37c-.4-.4-.92-.59-1.43-.59-.52 0-1.04.2-1.43.59L10.3 9.45l-7.72 7.72c-.78.78-.78 2.05 0 2.83L4 21.41c.39.39.9.59 1.41.59.51 0 1.02-.2 1.41-.59l7.78-7.78 2.81-2.81c.8-.78.8-2.07 0-2.86zM5.41 20L4 18.59l7.72-7.72 1.47 1.35L5.41 20z\"/>\n",
              "  </svg>\n",
              "      </button>\n",
              "      \n",
              "  <style>\n",
              "    .colab-df-container {\n",
              "      display:flex;\n",
              "      flex-wrap:wrap;\n",
              "      gap: 12px;\n",
              "    }\n",
              "\n",
              "    .colab-df-convert {\n",
              "      background-color: #E8F0FE;\n",
              "      border: none;\n",
              "      border-radius: 50%;\n",
              "      cursor: pointer;\n",
              "      display: none;\n",
              "      fill: #1967D2;\n",
              "      height: 32px;\n",
              "      padding: 0 0 0 0;\n",
              "      width: 32px;\n",
              "    }\n",
              "\n",
              "    .colab-df-convert:hover {\n",
              "      background-color: #E2EBFA;\n",
              "      box-shadow: 0px 1px 2px rgba(60, 64, 67, 0.3), 0px 1px 3px 1px rgba(60, 64, 67, 0.15);\n",
              "      fill: #174EA6;\n",
              "    }\n",
              "\n",
              "    [theme=dark] .colab-df-convert {\n",
              "      background-color: #3B4455;\n",
              "      fill: #D2E3FC;\n",
              "    }\n",
              "\n",
              "    [theme=dark] .colab-df-convert:hover {\n",
              "      background-color: #434B5C;\n",
              "      box-shadow: 0px 1px 3px 1px rgba(0, 0, 0, 0.15);\n",
              "      filter: drop-shadow(0px 1px 2px rgba(0, 0, 0, 0.3));\n",
              "      fill: #FFFFFF;\n",
              "    }\n",
              "  </style>\n",
              "\n",
              "      <script>\n",
              "        const buttonEl =\n",
              "          document.querySelector('#df-ed1c59c5-fc0c-4d85-abc0-9a36fdaad0d1 button.colab-df-convert');\n",
              "        buttonEl.style.display =\n",
              "          google.colab.kernel.accessAllowed ? 'block' : 'none';\n",
              "\n",
              "        async function convertToInteractive(key) {\n",
              "          const element = document.querySelector('#df-ed1c59c5-fc0c-4d85-abc0-9a36fdaad0d1');\n",
              "          const dataTable =\n",
              "            await google.colab.kernel.invokeFunction('convertToInteractive',\n",
              "                                                     [key], {});\n",
              "          if (!dataTable) return;\n",
              "\n",
              "          const docLinkHtml = 'Like what you see? Visit the ' +\n",
              "            '<a target=\"_blank\" href=https://colab.research.google.com/notebooks/data_table.ipynb>data table notebook</a>'\n",
              "            + ' to learn more about interactive tables.';\n",
              "          element.innerHTML = '';\n",
              "          dataTable['output_type'] = 'display_data';\n",
              "          await google.colab.output.renderOutput(dataTable, element);\n",
              "          const docLink = document.createElement('div');\n",
              "          docLink.innerHTML = docLinkHtml;\n",
              "          element.appendChild(docLink);\n",
              "        }\n",
              "      </script>\n",
              "    </div>\n",
              "  </div>\n",
              "  "
            ]
          },
          "metadata": {},
          "execution_count": 103
        }
      ],
      "source": [
        "#get all ELAN trading history until today from yahoo finance\n",
        "df = get_data('ELAN', index_as_date = True, interval = '1wk').drop(columns = 'ticker')\n",
        "df"
      ]
    },
    {
      "cell_type": "code",
      "execution_count": 104,
      "id": "07ceeffd-2657-46f9-91cc-8c5419864a54",
      "metadata": {
        "id": "07ceeffd-2657-46f9-91cc-8c5419864a54"
      },
      "outputs": [],
      "source": [
        "# Defines function to split X and y data\n",
        "def window_data(df, window, feature_col_number, target_col_number):\n",
        "    # Creates empty X and y list\n",
        "    X = []\n",
        "    y = []\n",
        "    # loops through data\n",
        "    for i in range(len(df) - window - 1):\n",
        "        # splits the features by grouping window amount of previous close data\n",
        "        features = df.iloc[i:(i + window), feature_col_number]\n",
        "        # splits target by taking current close values\n",
        "        target = df.iloc[(i + window), target_col_number]\n",
        "        # Adds end of each loops data to respective X and y list\n",
        "        X.append(features)\n",
        "        y.append(target)\n",
        "    # returns X,y as arrays\n",
        "    return np.array(X), np.array(y).reshape(-1, 1)"
      ]
    },
    {
      "cell_type": "code",
      "execution_count": 105,
      "id": "c0290e24-f967-4add-88bd-8cd22f7818db",
      "metadata": {
        "id": "c0290e24-f967-4add-88bd-8cd22f7818db"
      },
      "outputs": [],
      "source": [
        "# Defines window size\n",
        "window_size=10"
      ]
    },
    {
      "cell_type": "code",
      "execution_count": 106,
      "id": "d614c3fa-5866-4b3c-ad81-468410a279d2",
      "metadata": {
        "colab": {
          "base_uri": "https://localhost:8080/",
          "height": 1000
        },
        "id": "d614c3fa-5866-4b3c-ad81-468410a279d2",
        "outputId": "8990fe67-2c6f-4f89-eb89-56fccfa02488"
      },
      "outputs": [
        {
          "output_type": "display_data",
          "data": {
            "text/plain": [
              "array([[34.09999847, 34.88999939, 34.34000015, ..., 34.45999908,\n",
              "        34.        , 33.61000061],\n",
              "       [34.88999939, 34.34000015, 32.58000183, ..., 34.        ,\n",
              "        33.61000061, 33.40999985],\n",
              "       [34.34000015, 32.58000183, 31.61000061, ..., 33.61000061,\n",
              "        33.40999985, 33.56999969],\n",
              "       ...,\n",
              "       [25.30999947, 23.79000092, 22.27000046, ..., 20.54999924,\n",
              "        20.61000061, 20.62000084],\n",
              "       [23.79000092, 22.27000046, 24.27000046, ..., 20.61000061,\n",
              "        20.62000084, 20.45000076],\n",
              "       [22.27000046, 24.27000046, 23.87000084, ..., 20.62000084,\n",
              "        20.45000076, 20.07999992]])"
            ]
          },
          "metadata": {}
        },
        {
          "output_type": "display_data",
          "data": {
            "text/plain": [
              "array([[33.40999985],\n",
              "       [33.56999969],\n",
              "       [32.36999893],\n",
              "       [30.        ],\n",
              "       [31.31999969],\n",
              "       [31.82999992],\n",
              "       [31.95999908],\n",
              "       [31.52000046],\n",
              "       [30.60000038],\n",
              "       [29.45000076],\n",
              "       [29.69000053],\n",
              "       [29.60000038],\n",
              "       [29.19000053],\n",
              "       [31.03000069],\n",
              "       [29.39999962],\n",
              "       [30.63999939],\n",
              "       [32.72000122],\n",
              "       [32.06999969],\n",
              "       [33.11999893],\n",
              "       [32.56999969],\n",
              "       [31.11000061],\n",
              "       [32.72000122],\n",
              "       [32.13000107],\n",
              "       [33.29999924],\n",
              "       [33.04000092],\n",
              "       [32.09999847],\n",
              "       [31.28000069],\n",
              "       [32.68999863],\n",
              "       [31.95000076],\n",
              "       [33.72999954],\n",
              "       [33.79999924],\n",
              "       [34.18999863],\n",
              "       [33.31000137],\n",
              "       [32.5       ],\n",
              "       [33.15999985],\n",
              "       [32.88999939],\n",
              "       [30.64999962],\n",
              "       [29.36000061],\n",
              "       [26.40999985],\n",
              "       [26.02000046],\n",
              "       [27.35000038],\n",
              "       [28.68000031],\n",
              "       [27.53000069],\n",
              "       [26.39999962],\n",
              "       [26.78000069],\n",
              "       [26.88999939],\n",
              "       [26.22999954],\n",
              "       [26.87000084],\n",
              "       [27.39999962],\n",
              "       [27.22999954],\n",
              "       [26.11000061],\n",
              "       [26.79000092],\n",
              "       [27.70999908],\n",
              "       [27.09000015],\n",
              "       [27.78000069],\n",
              "       [28.79999924],\n",
              "       [29.34000015],\n",
              "       [29.10000038],\n",
              "       [28.72999954],\n",
              "       [30.        ],\n",
              "       [31.56999969],\n",
              "       [30.89999962],\n",
              "       [31.38999939],\n",
              "       [30.97999954],\n",
              "       [31.14999962],\n",
              "       [27.39999962],\n",
              "       [25.38999939],\n",
              "       [22.43000031],\n",
              "       [17.5       ],\n",
              "       [21.81999969],\n",
              "       [20.19000053],\n",
              "       [24.5       ],\n",
              "       [24.29000092],\n",
              "       [23.85000038],\n",
              "       [24.04000092],\n",
              "       [19.84000015],\n",
              "       [19.12000084],\n",
              "       [18.94000053],\n",
              "       [21.40999985],\n",
              "       [23.75      ],\n",
              "       [22.06999969],\n",
              "       [22.26000023],\n",
              "       [21.15999985],\n",
              "       [21.20999908],\n",
              "       [22.03000069],\n",
              "       [23.79000092],\n",
              "       [23.59000015],\n",
              "       [23.62999916],\n",
              "       [24.29999924],\n",
              "       [25.77000046],\n",
              "       [27.10000038],\n",
              "       [29.12999916],\n",
              "       [28.10000038],\n",
              "       [27.07999992],\n",
              "       [26.54000092],\n",
              "       [26.85000038],\n",
              "       [27.70000076],\n",
              "       [33.09999847],\n",
              "       [31.54000092],\n",
              "       [31.37999916],\n",
              "       [31.01000023],\n",
              "       [30.29000092],\n",
              "       [30.14999962],\n",
              "       [29.42000008],\n",
              "       [31.31999969],\n",
              "       [29.37999916],\n",
              "       [28.64999962],\n",
              "       [30.01000023],\n",
              "       [30.54000092],\n",
              "       [30.67000008],\n",
              "       [31.37999916],\n",
              "       [31.51000023],\n",
              "       [30.45999908],\n",
              "       [29.03000069],\n",
              "       [28.37999916],\n",
              "       [29.75      ],\n",
              "       [30.10000038],\n",
              "       [32.86000061],\n",
              "       [31.12999916],\n",
              "       [34.27000046],\n",
              "       [31.09000015],\n",
              "       [27.85000038],\n",
              "       [28.79000092],\n",
              "       [29.75      ],\n",
              "       [29.97999954],\n",
              "       [30.87999916],\n",
              "       [31.70999908],\n",
              "       [32.88000107],\n",
              "       [34.79999924],\n",
              "       [35.75999832],\n",
              "       [35.97999954],\n",
              "       [34.18000031],\n",
              "       [33.70000076],\n",
              "       [34.68999863],\n",
              "       [35.04000092],\n",
              "       [34.93999863],\n",
              "       [34.63999939],\n",
              "       [34.25999832],\n",
              "       [36.5       ],\n",
              "       [36.47000122],\n",
              "       [35.36000061],\n",
              "       [31.        ],\n",
              "       [31.5       ],\n",
              "       [33.31000137],\n",
              "       [34.15000153],\n",
              "       [33.38000107],\n",
              "       [32.40000153],\n",
              "       [32.63000107],\n",
              "       [32.09000015],\n",
              "       [33.15000153],\n",
              "       [32.54000092],\n",
              "       [33.90000153],\n",
              "       [32.88000107],\n",
              "       [34.09000015],\n",
              "       [33.02999878],\n",
              "       [32.11000061],\n",
              "       [30.21999931],\n",
              "       [28.17000008],\n",
              "       [27.96999931],\n",
              "       [28.27000046],\n",
              "       [28.87999916],\n",
              "       [28.37999916],\n",
              "       [27.04999924],\n",
              "       [27.03000069],\n",
              "       [26.77000046],\n",
              "       [25.51000023],\n",
              "       [24.96999931],\n",
              "       [25.48999977],\n",
              "       [25.51000023],\n",
              "       [27.87000084],\n",
              "       [27.95000076],\n",
              "       [26.48999977],\n",
              "       [27.42000008],\n",
              "       [26.59000015],\n",
              "       [26.12000084],\n",
              "       [26.25      ],\n",
              "       [26.25      ],\n",
              "       [25.28000069],\n",
              "       [25.30999947],\n",
              "       [23.79000092],\n",
              "       [22.27000046],\n",
              "       [24.27000046],\n",
              "       [23.87000084],\n",
              "       [24.19000053],\n",
              "       [22.27000046],\n",
              "       [20.54999924],\n",
              "       [20.61000061],\n",
              "       [20.62000084],\n",
              "       [20.45000076],\n",
              "       [20.07999992],\n",
              "       [20.        ]])"
            ]
          },
          "metadata": {}
        }
      ],
      "source": [
        "# Runs function to split X and y data\n",
        "X, y=window_data(df, window_size, 3, 3)\n",
        "# Displays X and y\n",
        "display(X)\n",
        "display(y)"
      ]
    },
    {
      "cell_type": "code",
      "execution_count": 107,
      "id": "f4fa42a0-81f8-4e02-9e12-20cbefe20492",
      "metadata": {
        "id": "f4fa42a0-81f8-4e02-9e12-20cbefe20492"
      },
      "outputs": [],
      "source": [
        "# Scales X and y data using MinMaxScaler\n",
        "X_scaler=MinMaxScaler()\n",
        "X_scaler.fit(X)\n",
        "X_scaled=X_scaler.transform(X)\n",
        "y_scaler=MinMaxScaler()\n",
        "y_scaler.fit(y)\n",
        "y_scaled=y_scaler.transform(y)"
      ]
    },
    {
      "cell_type": "code",
      "execution_count": 108,
      "id": "fcbce4bc-34ad-4ead-b40c-f42d24132a68",
      "metadata": {
        "id": "fcbce4bc-34ad-4ead-b40c-f42d24132a68"
      },
      "outputs": [],
      "source": [
        "# Defines where train and test data will be split (70% is train)\n",
        "split=int(0.7*len(X_scaled))\n",
        "# Splits train and test data\n",
        "X_train=X_scaled[:split]\n",
        "X_test=X_scaled[split:]\n",
        "y_train=y_scaled[:split]\n",
        "y_test=y_scaled[split:]"
      ]
    },
    {
      "cell_type": "code",
      "execution_count": 109,
      "id": "60e9fc2d-1010-45e9-9acf-dbb6c338bc1f",
      "metadata": {
        "id": "60e9fc2d-1010-45e9-9acf-dbb6c338bc1f"
      },
      "outputs": [],
      "source": [
        "#X_scaled=X_scaled.reshape(X_scaled.shape[0], X_scaled.shape[1], 1)\n",
        "#display(X.shape)"
      ]
    },
    {
      "cell_type": "code",
      "execution_count": 110,
      "id": "cc78138d-c9b8-4260-8e68-b36579263bee",
      "metadata": {
        "colab": {
          "base_uri": "https://localhost:8080/",
          "height": 53
        },
        "id": "cc78138d-c9b8-4260-8e68-b36579263bee",
        "outputId": "25273491-f25b-4b7b-82c6-949262d3ecd8"
      },
      "outputs": [
        {
          "output_type": "display_data",
          "data": {
            "text/plain": [
              "(133, 10, 1)"
            ]
          },
          "metadata": {}
        },
        {
          "output_type": "display_data",
          "data": {
            "text/plain": [
              "(58, 10, 1)"
            ]
          },
          "metadata": {}
        }
      ],
      "source": [
        "# Reshapes data into size LSTM can handle\n",
        "X_train=X_train.reshape(X_train.shape[0], X_train.shape[1], 1)\n",
        "X_test=X_test.reshape(X_test.shape[0], X_test.shape[1], 1)\n",
        "display(X_train.shape)\n",
        "display(X_test.shape)"
      ]
    },
    {
      "cell_type": "code",
      "execution_count": 111,
      "id": "703a9741-a03d-4697-8530-b9a458f9e021",
      "metadata": {
        "id": "703a9741-a03d-4697-8530-b9a458f9e021"
      },
      "outputs": [],
      "source": [
        "# Creates neural network\n",
        "model=Sequential()\n",
        "# Defines and adds LSTM layer\n",
        "first_lstm_layer=LSTM(units=30, return_sequences=True, input_shape=(window_size, 1))\n",
        "model.add(first_lstm_layer)\n",
        "# Randomly drops 20% of defined nodes\n",
        "first_dropout_layer=Dropout(0.2)\n",
        "# Defines and adds LSTM layer\n",
        "model.add(first_dropout_layer)\n",
        "second_lstm_layer=LSTM(units=30, return_sequences=True)\n",
        "model.add(second_lstm_layer)\n",
        "# Randomly drops 20% of defined nodes\n",
        "second_dropout_layer=Dropout(0.2)\n",
        "# Defines and adds LSTM layer\n",
        "model.add(second_dropout_layer)\n",
        "third_lstm_layer=LSTM(units=30)\n",
        "model.add(third_lstm_layer)\n",
        "# Defines and adds output layer with linear activation\n",
        "output_layer=Dense(units=1, activation='linear')\n",
        "model.add(output_layer)"
      ]
    },
    {
      "cell_type": "code",
      "execution_count": 112,
      "id": "8dbea1ae-7ae0-477b-9671-20d6a636c869",
      "metadata": {
        "id": "8dbea1ae-7ae0-477b-9671-20d6a636c869"
      },
      "outputs": [],
      "source": [
        "# Compiles model\n",
        "model.compile(loss='mean_squared_error', optimizer='adam', metrics='mean_squared_error')"
      ]
    },
    {
      "cell_type": "code",
      "execution_count": 113,
      "id": "c6b63a61-2ebf-4b39-9e4f-262db1d471ec",
      "metadata": {
        "colab": {
          "base_uri": "https://localhost:8080/"
        },
        "id": "c6b63a61-2ebf-4b39-9e4f-262db1d471ec",
        "outputId": "52145db6-7bd5-4101-99ce-536356281adb"
      },
      "outputs": [
        {
          "output_type": "stream",
          "name": "stdout",
          "text": [
            "Model: \"sequential_5\"\n",
            "_________________________________________________________________\n",
            " Layer (type)                Output Shape              Param #   \n",
            "=================================================================\n",
            " lstm_15 (LSTM)              (None, 10, 30)            3840      \n",
            "                                                                 \n",
            " dropout_10 (Dropout)        (None, 10, 30)            0         \n",
            "                                                                 \n",
            " lstm_16 (LSTM)              (None, 10, 30)            7320      \n",
            "                                                                 \n",
            " dropout_11 (Dropout)        (None, 10, 30)            0         \n",
            "                                                                 \n",
            " lstm_17 (LSTM)              (None, 30)                7320      \n",
            "                                                                 \n",
            " dense_5 (Dense)             (None, 1)                 31        \n",
            "                                                                 \n",
            "=================================================================\n",
            "Total params: 18,511\n",
            "Trainable params: 18,511\n",
            "Non-trainable params: 0\n",
            "_________________________________________________________________\n"
          ]
        }
      ],
      "source": [
        "# Provides summary of model\n",
        "model.summary()"
      ]
    },
    {
      "cell_type": "code",
      "execution_count": 114,
      "id": "e750cfcc-e3af-44d6-9489-21e329ab69ac",
      "metadata": {
        "colab": {
          "base_uri": "https://localhost:8080/"
        },
        "id": "e750cfcc-e3af-44d6-9489-21e329ab69ac",
        "outputId": "1728eb45-dddf-4c34-be0d-45ec6dcf8a2d"
      },
      "outputs": [
        {
          "output_type": "stream",
          "name": "stdout",
          "text": [
            "Epoch 1/50\n",
            "5/5 [==============================] - 5s 16ms/step - loss: 0.3972 - mean_squared_error: 0.3972\n",
            "Epoch 2/50\n",
            "5/5 [==============================] - 0s 16ms/step - loss: 0.2599 - mean_squared_error: 0.2599\n",
            "Epoch 3/50\n",
            "5/5 [==============================] - 0s 16ms/step - loss: 0.1222 - mean_squared_error: 0.1222\n",
            "Epoch 4/50\n",
            "5/5 [==============================] - 0s 18ms/step - loss: 0.0352 - mean_squared_error: 0.0352\n",
            "Epoch 5/50\n",
            "5/5 [==============================] - 0s 26ms/step - loss: 0.0569 - mean_squared_error: 0.0569\n",
            "Epoch 6/50\n",
            "5/5 [==============================] - 0s 25ms/step - loss: 0.0327 - mean_squared_error: 0.0327\n",
            "Epoch 7/50\n",
            "5/5 [==============================] - 0s 25ms/step - loss: 0.0307 - mean_squared_error: 0.0307\n",
            "Epoch 8/50\n",
            "5/5 [==============================] - 0s 24ms/step - loss: 0.0328 - mean_squared_error: 0.0328\n",
            "Epoch 9/50\n",
            "5/5 [==============================] - 0s 24ms/step - loss: 0.0291 - mean_squared_error: 0.0291\n",
            "Epoch 10/50\n",
            "5/5 [==============================] - 0s 31ms/step - loss: 0.0275 - mean_squared_error: 0.0275\n",
            "Epoch 11/50\n",
            "5/5 [==============================] - 0s 29ms/step - loss: 0.0293 - mean_squared_error: 0.0293\n",
            "Epoch 12/50\n",
            "5/5 [==============================] - 0s 23ms/step - loss: 0.0285 - mean_squared_error: 0.0285\n",
            "Epoch 13/50\n",
            "5/5 [==============================] - 0s 31ms/step - loss: 0.0272 - mean_squared_error: 0.0272\n",
            "Epoch 14/50\n",
            "5/5 [==============================] - 0s 35ms/step - loss: 0.0284 - mean_squared_error: 0.0284\n",
            "Epoch 15/50\n",
            "5/5 [==============================] - 0s 27ms/step - loss: 0.0257 - mean_squared_error: 0.0257\n",
            "Epoch 16/50\n",
            "5/5 [==============================] - 0s 27ms/step - loss: 0.0251 - mean_squared_error: 0.0251\n",
            "Epoch 17/50\n",
            "5/5 [==============================] - 0s 33ms/step - loss: 0.0260 - mean_squared_error: 0.0260\n",
            "Epoch 18/50\n",
            "5/5 [==============================] - 0s 30ms/step - loss: 0.0246 - mean_squared_error: 0.0246\n",
            "Epoch 19/50\n",
            "5/5 [==============================] - 0s 20ms/step - loss: 0.0256 - mean_squared_error: 0.0256\n",
            "Epoch 20/50\n",
            "5/5 [==============================] - 0s 29ms/step - loss: 0.0256 - mean_squared_error: 0.0256\n",
            "Epoch 21/50\n",
            "5/5 [==============================] - 0s 28ms/step - loss: 0.0252 - mean_squared_error: 0.0252\n",
            "Epoch 22/50\n",
            "5/5 [==============================] - 0s 30ms/step - loss: 0.0255 - mean_squared_error: 0.0255\n",
            "Epoch 23/50\n",
            "5/5 [==============================] - 0s 32ms/step - loss: 0.0251 - mean_squared_error: 0.0251\n",
            "Epoch 24/50\n",
            "5/5 [==============================] - 0s 26ms/step - loss: 0.0242 - mean_squared_error: 0.0242\n",
            "Epoch 25/50\n",
            "5/5 [==============================] - 0s 26ms/step - loss: 0.0246 - mean_squared_error: 0.0246\n",
            "Epoch 26/50\n",
            "5/5 [==============================] - 0s 27ms/step - loss: 0.0238 - mean_squared_error: 0.0238\n",
            "Epoch 27/50\n",
            "5/5 [==============================] - 0s 28ms/step - loss: 0.0238 - mean_squared_error: 0.0238\n",
            "Epoch 28/50\n",
            "5/5 [==============================] - 0s 24ms/step - loss: 0.0225 - mean_squared_error: 0.0225\n",
            "Epoch 29/50\n",
            "5/5 [==============================] - 0s 26ms/step - loss: 0.0249 - mean_squared_error: 0.0249\n",
            "Epoch 30/50\n",
            "5/5 [==============================] - 0s 24ms/step - loss: 0.0241 - mean_squared_error: 0.0241\n",
            "Epoch 31/50\n",
            "5/5 [==============================] - 0s 29ms/step - loss: 0.0257 - mean_squared_error: 0.0257\n",
            "Epoch 32/50\n",
            "5/5 [==============================] - 0s 26ms/step - loss: 0.0239 - mean_squared_error: 0.0239\n",
            "Epoch 33/50\n",
            "5/5 [==============================] - 0s 37ms/step - loss: 0.0265 - mean_squared_error: 0.0265\n",
            "Epoch 34/50\n",
            "5/5 [==============================] - 0s 27ms/step - loss: 0.0246 - mean_squared_error: 0.0246\n",
            "Epoch 35/50\n",
            "5/5 [==============================] - 0s 22ms/step - loss: 0.0232 - mean_squared_error: 0.0232\n",
            "Epoch 36/50\n",
            "5/5 [==============================] - 0s 23ms/step - loss: 0.0234 - mean_squared_error: 0.0234\n",
            "Epoch 37/50\n",
            "5/5 [==============================] - 0s 24ms/step - loss: 0.0233 - mean_squared_error: 0.0233\n",
            "Epoch 38/50\n",
            "5/5 [==============================] - 0s 29ms/step - loss: 0.0234 - mean_squared_error: 0.0234\n",
            "Epoch 39/50\n",
            "5/5 [==============================] - 0s 25ms/step - loss: 0.0240 - mean_squared_error: 0.0240\n",
            "Epoch 40/50\n",
            "5/5 [==============================] - 0s 28ms/step - loss: 0.0245 - mean_squared_error: 0.0245\n",
            "Epoch 41/50\n",
            "5/5 [==============================] - 0s 23ms/step - loss: 0.0256 - mean_squared_error: 0.0256\n",
            "Epoch 42/50\n",
            "5/5 [==============================] - 0s 25ms/step - loss: 0.0234 - mean_squared_error: 0.0234\n",
            "Epoch 43/50\n",
            "5/5 [==============================] - 0s 33ms/step - loss: 0.0253 - mean_squared_error: 0.0253\n",
            "Epoch 44/50\n",
            "5/5 [==============================] - 0s 27ms/step - loss: 0.0243 - mean_squared_error: 0.0243\n",
            "Epoch 45/50\n",
            "5/5 [==============================] - 0s 25ms/step - loss: 0.0236 - mean_squared_error: 0.0236\n",
            "Epoch 46/50\n",
            "5/5 [==============================] - 0s 27ms/step - loss: 0.0239 - mean_squared_error: 0.0239\n",
            "Epoch 47/50\n",
            "5/5 [==============================] - 0s 27ms/step - loss: 0.0226 - mean_squared_error: 0.0226\n",
            "Epoch 48/50\n",
            "5/5 [==============================] - 0s 26ms/step - loss: 0.0228 - mean_squared_error: 0.0228\n",
            "Epoch 49/50\n",
            "5/5 [==============================] - 0s 41ms/step - loss: 0.0236 - mean_squared_error: 0.0236\n",
            "Epoch 50/50\n",
            "5/5 [==============================] - 0s 30ms/step - loss: 0.0231 - mean_squared_error: 0.0231\n"
          ]
        },
        {
          "output_type": "execute_result",
          "data": {
            "text/plain": [
              "<keras.callbacks.History at 0x7fa372842c50>"
            ]
          },
          "metadata": {},
          "execution_count": 114
        }
      ],
      "source": [
        "# Initially fits model using training data\n",
        "model.fit(X_train, y_train, epochs=50)"
      ]
    },
    {
      "cell_type": "code",
      "execution_count": 115,
      "id": "df1cbace-fc65-48f4-a350-c86254b293ba",
      "metadata": {
        "colab": {
          "base_uri": "https://localhost:8080/",
          "height": 1000
        },
        "id": "df1cbace-fc65-48f4-a350-c86254b293ba",
        "outputId": "8c2e124f-6f2e-4d84-ce5f-6292b9274d98"
      },
      "outputs": [
        {
          "output_type": "display_data",
          "data": {
            "text/plain": [
              "array([[31.018404]], dtype=float32)"
            ]
          },
          "metadata": {}
        },
        {
          "output_type": "stream",
          "name": "stdout",
          "text": [
            "Epoch 1/5\n",
            "5/5 [==============================] - 0s 35ms/step - loss: 0.0208 - mean_squared_error: 0.0208\n",
            "Epoch 2/5\n",
            "5/5 [==============================] - 0s 31ms/step - loss: 0.0223 - mean_squared_error: 0.0223\n",
            "Epoch 3/5\n",
            "5/5 [==============================] - 0s 27ms/step - loss: 0.0217 - mean_squared_error: 0.0217\n",
            "Epoch 4/5\n",
            "5/5 [==============================] - 0s 30ms/step - loss: 0.0218 - mean_squared_error: 0.0218\n",
            "Epoch 5/5\n",
            "5/5 [==============================] - 0s 28ms/step - loss: 0.0222 - mean_squared_error: 0.0222\n"
          ]
        },
        {
          "output_type": "display_data",
          "data": {
            "text/plain": [
              "array([[31.297218]], dtype=float32)"
            ]
          },
          "metadata": {}
        },
        {
          "output_type": "stream",
          "name": "stdout",
          "text": [
            "Epoch 1/5\n",
            "5/5 [==============================] - 0s 30ms/step - loss: 0.0214 - mean_squared_error: 0.0214\n",
            "Epoch 2/5\n",
            "5/5 [==============================] - 0s 37ms/step - loss: 0.0226 - mean_squared_error: 0.0226\n",
            "Epoch 3/5\n",
            "5/5 [==============================] - 0s 28ms/step - loss: 0.0212 - mean_squared_error: 0.0212\n",
            "Epoch 4/5\n",
            "5/5 [==============================] - 0s 25ms/step - loss: 0.0224 - mean_squared_error: 0.0224\n",
            "Epoch 5/5\n",
            "5/5 [==============================] - 0s 31ms/step - loss: 0.0205 - mean_squared_error: 0.0205\n"
          ]
        },
        {
          "output_type": "display_data",
          "data": {
            "text/plain": [
              "array([[31.979933]], dtype=float32)"
            ]
          },
          "metadata": {}
        },
        {
          "output_type": "stream",
          "name": "stdout",
          "text": [
            "Epoch 1/5\n",
            "5/5 [==============================] - 0s 33ms/step - loss: 0.0227 - mean_squared_error: 0.0227\n",
            "Epoch 2/5\n",
            "5/5 [==============================] - 0s 30ms/step - loss: 0.0213 - mean_squared_error: 0.0213\n",
            "Epoch 3/5\n",
            "5/5 [==============================] - 0s 33ms/step - loss: 0.0225 - mean_squared_error: 0.0225\n",
            "Epoch 4/5\n",
            "5/5 [==============================] - 0s 33ms/step - loss: 0.0203 - mean_squared_error: 0.0203\n",
            "Epoch 5/5\n",
            "5/5 [==============================] - 0s 26ms/step - loss: 0.0221 - mean_squared_error: 0.0221\n"
          ]
        },
        {
          "output_type": "display_data",
          "data": {
            "text/plain": [
              "array([[32.090954]], dtype=float32)"
            ]
          },
          "metadata": {}
        },
        {
          "output_type": "stream",
          "name": "stdout",
          "text": [
            "Epoch 1/5\n",
            "5/5 [==============================] - 0s 34ms/step - loss: 0.0211 - mean_squared_error: 0.0211\n",
            "Epoch 2/5\n",
            "5/5 [==============================] - 0s 41ms/step - loss: 0.0216 - mean_squared_error: 0.0216\n",
            "Epoch 3/5\n",
            "5/5 [==============================] - 0s 32ms/step - loss: 0.0201 - mean_squared_error: 0.0201\n",
            "Epoch 4/5\n",
            "5/5 [==============================] - 0s 37ms/step - loss: 0.0210 - mean_squared_error: 0.0210\n",
            "Epoch 5/5\n",
            "5/5 [==============================] - 0s 28ms/step - loss: 0.0209 - mean_squared_error: 0.0209\n"
          ]
        },
        {
          "output_type": "display_data",
          "data": {
            "text/plain": [
              "array([[31.53026]], dtype=float32)"
            ]
          },
          "metadata": {}
        },
        {
          "output_type": "stream",
          "name": "stdout",
          "text": [
            "Epoch 1/5\n",
            "5/5 [==============================] - 0s 45ms/step - loss: 0.0204 - mean_squared_error: 0.0204\n",
            "Epoch 2/5\n",
            "5/5 [==============================] - 0s 27ms/step - loss: 0.0217 - mean_squared_error: 0.0217\n",
            "Epoch 3/5\n",
            "5/5 [==============================] - 0s 26ms/step - loss: 0.0215 - mean_squared_error: 0.0215\n",
            "Epoch 4/5\n",
            "5/5 [==============================] - 0s 27ms/step - loss: 0.0223 - mean_squared_error: 0.0223\n",
            "Epoch 5/5\n",
            "5/5 [==============================] - 0s 29ms/step - loss: 0.0205 - mean_squared_error: 0.0205\n"
          ]
        },
        {
          "output_type": "display_data",
          "data": {
            "text/plain": [
              "array([[31.936348]], dtype=float32)"
            ]
          },
          "metadata": {}
        },
        {
          "output_type": "stream",
          "name": "stdout",
          "text": [
            "Epoch 1/5\n",
            "5/5 [==============================] - 0s 41ms/step - loss: 0.0194 - mean_squared_error: 0.0194\n",
            "Epoch 2/5\n",
            "5/5 [==============================] - 0s 44ms/step - loss: 0.0200 - mean_squared_error: 0.0200\n",
            "Epoch 3/5\n",
            "5/5 [==============================] - 0s 34ms/step - loss: 0.0195 - mean_squared_error: 0.0195\n",
            "Epoch 4/5\n",
            "5/5 [==============================] - 0s 31ms/step - loss: 0.0200 - mean_squared_error: 0.0200\n",
            "Epoch 5/5\n",
            "5/5 [==============================] - 0s 30ms/step - loss: 0.0200 - mean_squared_error: 0.0200\n"
          ]
        },
        {
          "output_type": "display_data",
          "data": {
            "text/plain": [
              "array([[31.866653]], dtype=float32)"
            ]
          },
          "metadata": {}
        },
        {
          "output_type": "stream",
          "name": "stdout",
          "text": [
            "Epoch 1/5\n",
            "5/5 [==============================] - 0s 40ms/step - loss: 0.0210 - mean_squared_error: 0.0210\n",
            "Epoch 2/5\n",
            "5/5 [==============================] - 0s 33ms/step - loss: 0.0185 - mean_squared_error: 0.0185\n",
            "Epoch 3/5\n",
            "5/5 [==============================] - 0s 26ms/step - loss: 0.0194 - mean_squared_error: 0.0194\n",
            "Epoch 4/5\n",
            "5/5 [==============================] - 0s 24ms/step - loss: 0.0181 - mean_squared_error: 0.0181\n",
            "Epoch 5/5\n",
            "5/5 [==============================] - 0s 25ms/step - loss: 0.0195 - mean_squared_error: 0.0195\n"
          ]
        },
        {
          "output_type": "display_data",
          "data": {
            "text/plain": [
              "array([[31.985687]], dtype=float32)"
            ]
          },
          "metadata": {}
        },
        {
          "output_type": "stream",
          "name": "stdout",
          "text": [
            "Epoch 1/5\n",
            "5/5 [==============================] - 0s 37ms/step - loss: 0.0185 - mean_squared_error: 0.0185\n",
            "Epoch 2/5\n",
            "5/5 [==============================] - 0s 26ms/step - loss: 0.0188 - mean_squared_error: 0.0188\n",
            "Epoch 3/5\n",
            "5/5 [==============================] - 0s 32ms/step - loss: 0.0164 - mean_squared_error: 0.0164\n",
            "Epoch 4/5\n",
            "5/5 [==============================] - 0s 34ms/step - loss: 0.0189 - mean_squared_error: 0.0189\n",
            "Epoch 5/5\n",
            "5/5 [==============================] - 0s 23ms/step - loss: 0.0166 - mean_squared_error: 0.0166\n"
          ]
        },
        {
          "output_type": "display_data",
          "data": {
            "text/plain": [
              "array([[31.057312]], dtype=float32)"
            ]
          },
          "metadata": {}
        },
        {
          "output_type": "stream",
          "name": "stdout",
          "text": [
            "Epoch 1/5\n",
            "5/5 [==============================] - 0s 25ms/step - loss: 0.0184 - mean_squared_error: 0.0184\n",
            "Epoch 2/5\n",
            "5/5 [==============================] - 0s 37ms/step - loss: 0.0177 - mean_squared_error: 0.0177\n",
            "Epoch 3/5\n",
            "5/5 [==============================] - 0s 35ms/step - loss: 0.0178 - mean_squared_error: 0.0178\n",
            "Epoch 4/5\n",
            "5/5 [==============================] - 0s 22ms/step - loss: 0.0186 - mean_squared_error: 0.0186\n",
            "Epoch 5/5\n",
            "5/5 [==============================] - 0s 28ms/step - loss: 0.0182 - mean_squared_error: 0.0182\n"
          ]
        },
        {
          "output_type": "display_data",
          "data": {
            "text/plain": [
              "array([[31.077768]], dtype=float32)"
            ]
          },
          "metadata": {}
        },
        {
          "output_type": "stream",
          "name": "stdout",
          "text": [
            "Epoch 1/5\n",
            "5/5 [==============================] - 0s 26ms/step - loss: 0.0194 - mean_squared_error: 0.0194\n",
            "Epoch 2/5\n",
            "5/5 [==============================] - 0s 29ms/step - loss: 0.0164 - mean_squared_error: 0.0164\n",
            "Epoch 3/5\n",
            "5/5 [==============================] - 0s 38ms/step - loss: 0.0165 - mean_squared_error: 0.0165\n",
            "Epoch 4/5\n",
            "5/5 [==============================] - 0s 37ms/step - loss: 0.0159 - mean_squared_error: 0.0159\n",
            "Epoch 5/5\n",
            "5/5 [==============================] - 0s 43ms/step - loss: 0.0169 - mean_squared_error: 0.0169\n"
          ]
        },
        {
          "output_type": "display_data",
          "data": {
            "text/plain": [
              "array([[31.393219]], dtype=float32)"
            ]
          },
          "metadata": {}
        },
        {
          "output_type": "stream",
          "name": "stdout",
          "text": [
            "Epoch 1/5\n",
            "5/5 [==============================] - 0s 30ms/step - loss: 0.0172 - mean_squared_error: 0.0172\n",
            "Epoch 2/5\n",
            "5/5 [==============================] - 0s 24ms/step - loss: 0.0206 - mean_squared_error: 0.0206\n",
            "Epoch 3/5\n",
            "5/5 [==============================] - 0s 25ms/step - loss: 0.0186 - mean_squared_error: 0.0186\n",
            "Epoch 4/5\n",
            "5/5 [==============================] - 0s 29ms/step - loss: 0.0164 - mean_squared_error: 0.0164\n",
            "Epoch 5/5\n",
            "5/5 [==============================] - 0s 31ms/step - loss: 0.0168 - mean_squared_error: 0.0168\n"
          ]
        },
        {
          "output_type": "display_data",
          "data": {
            "text/plain": [
              "array([[31.805155]], dtype=float32)"
            ]
          },
          "metadata": {}
        },
        {
          "output_type": "stream",
          "name": "stdout",
          "text": [
            "Epoch 1/5\n",
            "5/5 [==============================] - 0s 24ms/step - loss: 0.0179 - mean_squared_error: 0.0179\n",
            "Epoch 2/5\n",
            "5/5 [==============================] - 0s 27ms/step - loss: 0.0152 - mean_squared_error: 0.0152\n",
            "Epoch 3/5\n",
            "5/5 [==============================] - 0s 34ms/step - loss: 0.0149 - mean_squared_error: 0.0149\n",
            "Epoch 4/5\n",
            "5/5 [==============================] - 0s 31ms/step - loss: 0.0166 - mean_squared_error: 0.0166\n",
            "Epoch 5/5\n",
            "5/5 [==============================] - 0s 28ms/step - loss: 0.0163 - mean_squared_error: 0.0163\n"
          ]
        },
        {
          "output_type": "display_data",
          "data": {
            "text/plain": [
              "array([[30.894695]], dtype=float32)"
            ]
          },
          "metadata": {}
        },
        {
          "output_type": "stream",
          "name": "stdout",
          "text": [
            "Epoch 1/5\n",
            "5/5 [==============================] - 0s 15ms/step - loss: 0.0162 - mean_squared_error: 0.0162\n",
            "Epoch 2/5\n",
            "5/5 [==============================] - 0s 16ms/step - loss: 0.0147 - mean_squared_error: 0.0147\n",
            "Epoch 3/5\n",
            "5/5 [==============================] - 0s 16ms/step - loss: 0.0153 - mean_squared_error: 0.0153\n",
            "Epoch 4/5\n",
            "5/5 [==============================] - 0s 18ms/step - loss: 0.0163 - mean_squared_error: 0.0163\n",
            "Epoch 5/5\n",
            "5/5 [==============================] - 0s 16ms/step - loss: 0.0148 - mean_squared_error: 0.0148\n"
          ]
        },
        {
          "output_type": "display_data",
          "data": {
            "text/plain": [
              "array([[31.20881]], dtype=float32)"
            ]
          },
          "metadata": {}
        },
        {
          "output_type": "stream",
          "name": "stdout",
          "text": [
            "Epoch 1/5\n",
            "5/5 [==============================] - 0s 17ms/step - loss: 0.0162 - mean_squared_error: 0.0162\n",
            "Epoch 2/5\n",
            "5/5 [==============================] - 0s 17ms/step - loss: 0.0150 - mean_squared_error: 0.0150\n",
            "Epoch 3/5\n",
            "5/5 [==============================] - 0s 17ms/step - loss: 0.0155 - mean_squared_error: 0.0155\n",
            "Epoch 4/5\n",
            "5/5 [==============================] - 0s 16ms/step - loss: 0.0155 - mean_squared_error: 0.0155\n",
            "Epoch 5/5\n",
            "5/5 [==============================] - 0s 17ms/step - loss: 0.0135 - mean_squared_error: 0.0135\n"
          ]
        },
        {
          "output_type": "display_data",
          "data": {
            "text/plain": [
              "array([[30.67032]], dtype=float32)"
            ]
          },
          "metadata": {}
        },
        {
          "output_type": "stream",
          "name": "stdout",
          "text": [
            "Epoch 1/5\n",
            "5/5 [==============================] - 0s 17ms/step - loss: 0.0146 - mean_squared_error: 0.0146\n",
            "Epoch 2/5\n",
            "5/5 [==============================] - 0s 17ms/step - loss: 0.0157 - mean_squared_error: 0.0157\n",
            "Epoch 3/5\n",
            "5/5 [==============================] - 0s 18ms/step - loss: 0.0149 - mean_squared_error: 0.0149\n",
            "Epoch 4/5\n",
            "5/5 [==============================] - 0s 16ms/step - loss: 0.0155 - mean_squared_error: 0.0155\n",
            "Epoch 5/5\n",
            "5/5 [==============================] - 0s 17ms/step - loss: 0.0146 - mean_squared_error: 0.0146\n"
          ]
        },
        {
          "output_type": "display_data",
          "data": {
            "text/plain": [
              "array([[30.670456]], dtype=float32)"
            ]
          },
          "metadata": {}
        },
        {
          "output_type": "stream",
          "name": "stdout",
          "text": [
            "Epoch 1/5\n",
            "5/5 [==============================] - 0s 15ms/step - loss: 0.0155 - mean_squared_error: 0.0155\n",
            "Epoch 2/5\n",
            "5/5 [==============================] - 0s 17ms/step - loss: 0.0135 - mean_squared_error: 0.0135\n",
            "Epoch 3/5\n",
            "5/5 [==============================] - 0s 18ms/step - loss: 0.0146 - mean_squared_error: 0.0146\n",
            "Epoch 4/5\n",
            "5/5 [==============================] - 0s 16ms/step - loss: 0.0135 - mean_squared_error: 0.0135\n",
            "Epoch 5/5\n",
            "5/5 [==============================] - 0s 21ms/step - loss: 0.0134 - mean_squared_error: 0.0134\n"
          ]
        },
        {
          "output_type": "display_data",
          "data": {
            "text/plain": [
              "array([[31.069845]], dtype=float32)"
            ]
          },
          "metadata": {}
        },
        {
          "output_type": "stream",
          "name": "stdout",
          "text": [
            "Epoch 1/5\n",
            "5/5 [==============================] - 0s 17ms/step - loss: 0.0130 - mean_squared_error: 0.0130\n",
            "Epoch 2/5\n",
            "5/5 [==============================] - 0s 17ms/step - loss: 0.0142 - mean_squared_error: 0.0142\n",
            "Epoch 3/5\n",
            "5/5 [==============================] - 0s 17ms/step - loss: 0.0139 - mean_squared_error: 0.0139\n",
            "Epoch 4/5\n",
            "5/5 [==============================] - 0s 18ms/step - loss: 0.0128 - mean_squared_error: 0.0128\n",
            "Epoch 5/5\n",
            "5/5 [==============================] - 0s 16ms/step - loss: 0.0134 - mean_squared_error: 0.0134\n"
          ]
        },
        {
          "output_type": "display_data",
          "data": {
            "text/plain": [
              "array([[30.991829]], dtype=float32)"
            ]
          },
          "metadata": {}
        },
        {
          "output_type": "stream",
          "name": "stdout",
          "text": [
            "Epoch 1/5\n",
            "5/5 [==============================] - 0s 16ms/step - loss: 0.0140 - mean_squared_error: 0.0140\n",
            "Epoch 2/5\n",
            "5/5 [==============================] - 0s 15ms/step - loss: 0.0127 - mean_squared_error: 0.0127\n",
            "Epoch 3/5\n",
            "5/5 [==============================] - 0s 16ms/step - loss: 0.0130 - mean_squared_error: 0.0130\n",
            "Epoch 4/5\n",
            "5/5 [==============================] - 0s 18ms/step - loss: 0.0138 - mean_squared_error: 0.0138\n",
            "Epoch 5/5\n",
            "5/5 [==============================] - 0s 18ms/step - loss: 0.0128 - mean_squared_error: 0.0128\n"
          ]
        },
        {
          "output_type": "display_data",
          "data": {
            "text/plain": [
              "array([[30.890495]], dtype=float32)"
            ]
          },
          "metadata": {}
        },
        {
          "output_type": "stream",
          "name": "stdout",
          "text": [
            "Epoch 1/5\n",
            "5/5 [==============================] - 0s 16ms/step - loss: 0.0128 - mean_squared_error: 0.0128\n",
            "Epoch 2/5\n",
            "5/5 [==============================] - 0s 20ms/step - loss: 0.0134 - mean_squared_error: 0.0134\n",
            "Epoch 3/5\n",
            "5/5 [==============================] - 0s 16ms/step - loss: 0.0129 - mean_squared_error: 0.0129\n",
            "Epoch 4/5\n",
            "5/5 [==============================] - 0s 16ms/step - loss: 0.0131 - mean_squared_error: 0.0131\n",
            "Epoch 5/5\n",
            "5/5 [==============================] - 0s 16ms/step - loss: 0.0127 - mean_squared_error: 0.0127\n"
          ]
        },
        {
          "output_type": "display_data",
          "data": {
            "text/plain": [
              "array([[30.82687]], dtype=float32)"
            ]
          },
          "metadata": {}
        },
        {
          "output_type": "stream",
          "name": "stdout",
          "text": [
            "Epoch 1/5\n",
            "5/5 [==============================] - 0s 19ms/step - loss: 0.0125 - mean_squared_error: 0.0125\n",
            "Epoch 2/5\n",
            "5/5 [==============================] - 0s 21ms/step - loss: 0.0141 - mean_squared_error: 0.0141\n",
            "Epoch 3/5\n",
            "5/5 [==============================] - 0s 18ms/step - loss: 0.0126 - mean_squared_error: 0.0126\n",
            "Epoch 4/5\n",
            "5/5 [==============================] - 0s 18ms/step - loss: 0.0122 - mean_squared_error: 0.0122\n",
            "Epoch 5/5\n",
            "5/5 [==============================] - 0s 16ms/step - loss: 0.0124 - mean_squared_error: 0.0124\n"
          ]
        },
        {
          "output_type": "display_data",
          "data": {
            "text/plain": [
              "array([[30.706451]], dtype=float32)"
            ]
          },
          "metadata": {}
        },
        {
          "output_type": "stream",
          "name": "stdout",
          "text": [
            "Epoch 1/5\n",
            "5/5 [==============================] - 0s 18ms/step - loss: 0.0124 - mean_squared_error: 0.0124\n",
            "Epoch 2/5\n",
            "5/5 [==============================] - 0s 16ms/step - loss: 0.0124 - mean_squared_error: 0.0124\n",
            "Epoch 3/5\n",
            "5/5 [==============================] - 0s 16ms/step - loss: 0.0119 - mean_squared_error: 0.0119\n",
            "Epoch 4/5\n",
            "5/5 [==============================] - 0s 17ms/step - loss: 0.0123 - mean_squared_error: 0.0123\n",
            "Epoch 5/5\n",
            "5/5 [==============================] - 0s 18ms/step - loss: 0.0120 - mean_squared_error: 0.0120\n"
          ]
        },
        {
          "output_type": "display_data",
          "data": {
            "text/plain": [
              "array([[30.934916]], dtype=float32)"
            ]
          },
          "metadata": {}
        },
        {
          "output_type": "stream",
          "name": "stdout",
          "text": [
            "Epoch 1/5\n",
            "5/5 [==============================] - 0s 17ms/step - loss: 0.0121 - mean_squared_error: 0.0121\n",
            "Epoch 2/5\n",
            "5/5 [==============================] - 0s 17ms/step - loss: 0.0126 - mean_squared_error: 0.0126\n",
            "Epoch 3/5\n",
            "5/5 [==============================] - 0s 19ms/step - loss: 0.0119 - mean_squared_error: 0.0119\n",
            "Epoch 4/5\n",
            "5/5 [==============================] - 0s 17ms/step - loss: 0.0123 - mean_squared_error: 0.0123\n",
            "Epoch 5/5\n",
            "5/5 [==============================] - 0s 17ms/step - loss: 0.0109 - mean_squared_error: 0.0109\n"
          ]
        },
        {
          "output_type": "display_data",
          "data": {
            "text/plain": [
              "array([[30.969812]], dtype=float32)"
            ]
          },
          "metadata": {}
        },
        {
          "output_type": "stream",
          "name": "stdout",
          "text": [
            "Epoch 1/5\n",
            "5/5 [==============================] - 0s 16ms/step - loss: 0.0104 - mean_squared_error: 0.0104\n",
            "Epoch 2/5\n",
            "5/5 [==============================] - 0s 16ms/step - loss: 0.0114 - mean_squared_error: 0.0114\n",
            "Epoch 3/5\n",
            "5/5 [==============================] - 0s 18ms/step - loss: 0.0113 - mean_squared_error: 0.0113\n",
            "Epoch 4/5\n",
            "5/5 [==============================] - 0s 16ms/step - loss: 0.0120 - mean_squared_error: 0.0120\n",
            "Epoch 5/5\n",
            "5/5 [==============================] - 0s 16ms/step - loss: 0.0122 - mean_squared_error: 0.0122\n"
          ]
        },
        {
          "output_type": "display_data",
          "data": {
            "text/plain": [
              "array([[30.74735]], dtype=float32)"
            ]
          },
          "metadata": {}
        },
        {
          "output_type": "stream",
          "name": "stdout",
          "text": [
            "Epoch 1/5\n",
            "5/5 [==============================] - 0s 18ms/step - loss: 0.0114 - mean_squared_error: 0.0114\n",
            "Epoch 2/5\n",
            "5/5 [==============================] - 0s 17ms/step - loss: 0.0097 - mean_squared_error: 0.0097\n",
            "Epoch 3/5\n",
            "5/5 [==============================] - 0s 18ms/step - loss: 0.0115 - mean_squared_error: 0.0115\n",
            "Epoch 4/5\n",
            "5/5 [==============================] - 0s 18ms/step - loss: 0.0112 - mean_squared_error: 0.0112\n",
            "Epoch 5/5\n",
            "5/5 [==============================] - 0s 21ms/step - loss: 0.0129 - mean_squared_error: 0.0129\n"
          ]
        },
        {
          "output_type": "display_data",
          "data": {
            "text/plain": [
              "array([[30.683594]], dtype=float32)"
            ]
          },
          "metadata": {}
        },
        {
          "output_type": "stream",
          "name": "stdout",
          "text": [
            "Epoch 1/5\n",
            "5/5 [==============================] - 0s 18ms/step - loss: 0.0105 - mean_squared_error: 0.0105\n",
            "Epoch 2/5\n",
            "5/5 [==============================] - 0s 16ms/step - loss: 0.0107 - mean_squared_error: 0.0107\n",
            "Epoch 3/5\n",
            "5/5 [==============================] - 0s 18ms/step - loss: 0.0109 - mean_squared_error: 0.0109\n",
            "Epoch 4/5\n",
            "5/5 [==============================] - 0s 15ms/step - loss: 0.0109 - mean_squared_error: 0.0109\n",
            "Epoch 5/5\n",
            "5/5 [==============================] - 0s 17ms/step - loss: 0.0100 - mean_squared_error: 0.0100\n"
          ]
        },
        {
          "output_type": "display_data",
          "data": {
            "text/plain": [
              "array([[30.541893]], dtype=float32)"
            ]
          },
          "metadata": {}
        },
        {
          "output_type": "stream",
          "name": "stdout",
          "text": [
            "Epoch 1/5\n",
            "5/5 [==============================] - 0s 16ms/step - loss: 0.0110 - mean_squared_error: 0.0110\n",
            "Epoch 2/5\n",
            "5/5 [==============================] - 0s 18ms/step - loss: 0.0104 - mean_squared_error: 0.0104\n",
            "Epoch 3/5\n",
            "5/5 [==============================] - 0s 16ms/step - loss: 0.0108 - mean_squared_error: 0.0108\n",
            "Epoch 4/5\n",
            "5/5 [==============================] - 0s 18ms/step - loss: 0.0099 - mean_squared_error: 0.0099\n",
            "Epoch 5/5\n",
            "5/5 [==============================] - 0s 17ms/step - loss: 0.0105 - mean_squared_error: 0.0105\n"
          ]
        },
        {
          "output_type": "display_data",
          "data": {
            "text/plain": [
              "array([[30.747972]], dtype=float32)"
            ]
          },
          "metadata": {}
        },
        {
          "output_type": "stream",
          "name": "stdout",
          "text": [
            "Epoch 1/5\n",
            "5/5 [==============================] - 2s 14ms/step - loss: 0.0103 - mean_squared_error: 0.0103\n",
            "Epoch 2/5\n",
            "5/5 [==============================] - 0s 11ms/step - loss: 0.0088 - mean_squared_error: 0.0088\n",
            "Epoch 3/5\n",
            "5/5 [==============================] - 0s 12ms/step - loss: 0.0100 - mean_squared_error: 0.0100\n",
            "Epoch 4/5\n",
            "5/5 [==============================] - 0s 12ms/step - loss: 0.0103 - mean_squared_error: 0.0103\n",
            "Epoch 5/5\n",
            "5/5 [==============================] - 0s 12ms/step - loss: 0.0097 - mean_squared_error: 0.0097\n"
          ]
        },
        {
          "output_type": "display_data",
          "data": {
            "text/plain": [
              "array([[30.997356]], dtype=float32)"
            ]
          },
          "metadata": {}
        },
        {
          "output_type": "stream",
          "name": "stdout",
          "text": [
            "Epoch 1/5\n",
            "6/6 [==============================] - 0s 16ms/step - loss: 0.0112 - mean_squared_error: 0.0112\n",
            "Epoch 2/5\n",
            "6/6 [==============================] - 0s 16ms/step - loss: 0.0107 - mean_squared_error: 0.0107\n",
            "Epoch 3/5\n",
            "6/6 [==============================] - 0s 16ms/step - loss: 0.0149 - mean_squared_error: 0.0149\n",
            "Epoch 4/5\n",
            "6/6 [==============================] - 0s 16ms/step - loss: 0.0127 - mean_squared_error: 0.0127\n",
            "Epoch 5/5\n",
            "6/6 [==============================] - 0s 17ms/step - loss: 0.0144 - mean_squared_error: 0.0144\n"
          ]
        },
        {
          "output_type": "display_data",
          "data": {
            "text/plain": [
              "array([[30.48518]], dtype=float32)"
            ]
          },
          "metadata": {}
        },
        {
          "output_type": "stream",
          "name": "stdout",
          "text": [
            "Epoch 1/5\n",
            "6/6 [==============================] - 0s 18ms/step - loss: 0.0130 - mean_squared_error: 0.0130\n",
            "Epoch 2/5\n",
            "6/6 [==============================] - 0s 18ms/step - loss: 0.0116 - mean_squared_error: 0.0116\n",
            "Epoch 3/5\n",
            "6/6 [==============================] - 0s 17ms/step - loss: 0.0101 - mean_squared_error: 0.0101\n",
            "Epoch 4/5\n",
            "6/6 [==============================] - 0s 16ms/step - loss: 0.0118 - mean_squared_error: 0.0118\n",
            "Epoch 5/5\n",
            "6/6 [==============================] - 0s 17ms/step - loss: 0.0133 - mean_squared_error: 0.0133\n"
          ]
        },
        {
          "output_type": "display_data",
          "data": {
            "text/plain": [
              "array([[30.374666]], dtype=float32)"
            ]
          },
          "metadata": {}
        },
        {
          "output_type": "stream",
          "name": "stdout",
          "text": [
            "Epoch 1/5\n",
            "6/6 [==============================] - 0s 16ms/step - loss: 0.0115 - mean_squared_error: 0.0115\n",
            "Epoch 2/5\n",
            "6/6 [==============================] - 0s 17ms/step - loss: 0.0106 - mean_squared_error: 0.0106\n",
            "Epoch 3/5\n",
            "6/6 [==============================] - 0s 16ms/step - loss: 0.0107 - mean_squared_error: 0.0107\n",
            "Epoch 4/5\n",
            "6/6 [==============================] - 0s 15ms/step - loss: 0.0100 - mean_squared_error: 0.0100\n",
            "Epoch 5/5\n",
            "6/6 [==============================] - 0s 18ms/step - loss: 0.0101 - mean_squared_error: 0.0101\n"
          ]
        },
        {
          "output_type": "display_data",
          "data": {
            "text/plain": [
              "array([[30.628248]], dtype=float32)"
            ]
          },
          "metadata": {}
        },
        {
          "output_type": "stream",
          "name": "stdout",
          "text": [
            "Epoch 1/5\n",
            "6/6 [==============================] - 0s 17ms/step - loss: 0.0090 - mean_squared_error: 0.0090\n",
            "Epoch 2/5\n",
            "6/6 [==============================] - 0s 17ms/step - loss: 0.0106 - mean_squared_error: 0.0106\n",
            "Epoch 3/5\n",
            "6/6 [==============================] - 0s 16ms/step - loss: 0.0093 - mean_squared_error: 0.0093\n",
            "Epoch 4/5\n",
            "6/6 [==============================] - 0s 17ms/step - loss: 0.0079 - mean_squared_error: 0.0079\n",
            "Epoch 5/5\n",
            "6/6 [==============================] - 0s 18ms/step - loss: 0.0106 - mean_squared_error: 0.0106\n"
          ]
        },
        {
          "output_type": "display_data",
          "data": {
            "text/plain": [
              "array([[30.913403]], dtype=float32)"
            ]
          },
          "metadata": {}
        },
        {
          "output_type": "stream",
          "name": "stdout",
          "text": [
            "Epoch 1/5\n",
            "6/6 [==============================] - 0s 16ms/step - loss: 0.0099 - mean_squared_error: 0.0099\n",
            "Epoch 2/5\n",
            "6/6 [==============================] - 0s 16ms/step - loss: 0.0108 - mean_squared_error: 0.0108\n",
            "Epoch 3/5\n",
            "6/6 [==============================] - 0s 18ms/step - loss: 0.0090 - mean_squared_error: 0.0090\n",
            "Epoch 4/5\n",
            "6/6 [==============================] - 0s 17ms/step - loss: 0.0101 - mean_squared_error: 0.0101\n",
            "Epoch 5/5\n",
            "6/6 [==============================] - 0s 16ms/step - loss: 0.0084 - mean_squared_error: 0.0084\n"
          ]
        },
        {
          "output_type": "display_data",
          "data": {
            "text/plain": [
              "array([[31.313717]], dtype=float32)"
            ]
          },
          "metadata": {}
        },
        {
          "output_type": "stream",
          "name": "stdout",
          "text": [
            "Epoch 1/5\n",
            "6/6 [==============================] - 0s 16ms/step - loss: 0.0093 - mean_squared_error: 0.0093\n",
            "Epoch 2/5\n",
            "6/6 [==============================] - 0s 20ms/step - loss: 0.0096 - mean_squared_error: 0.0096\n",
            "Epoch 3/5\n",
            "6/6 [==============================] - 0s 16ms/step - loss: 0.0095 - mean_squared_error: 0.0095\n",
            "Epoch 4/5\n",
            "6/6 [==============================] - 0s 16ms/step - loss: 0.0111 - mean_squared_error: 0.0111\n",
            "Epoch 5/5\n",
            "6/6 [==============================] - 0s 17ms/step - loss: 0.0086 - mean_squared_error: 0.0086\n"
          ]
        },
        {
          "output_type": "display_data",
          "data": {
            "text/plain": [
              "array([[31.27887]], dtype=float32)"
            ]
          },
          "metadata": {}
        },
        {
          "output_type": "stream",
          "name": "stdout",
          "text": [
            "Epoch 1/5\n",
            "6/6 [==============================] - 0s 17ms/step - loss: 0.0093 - mean_squared_error: 0.0093\n",
            "Epoch 2/5\n",
            "6/6 [==============================] - 0s 18ms/step - loss: 0.0090 - mean_squared_error: 0.0090\n",
            "Epoch 3/5\n",
            "6/6 [==============================] - 0s 19ms/step - loss: 0.0091 - mean_squared_error: 0.0091\n",
            "Epoch 4/5\n",
            "6/6 [==============================] - 0s 16ms/step - loss: 0.0089 - mean_squared_error: 0.0089\n",
            "Epoch 5/5\n",
            "6/6 [==============================] - 0s 16ms/step - loss: 0.0081 - mean_squared_error: 0.0081\n"
          ]
        },
        {
          "output_type": "display_data",
          "data": {
            "text/plain": [
              "array([[30.807194]], dtype=float32)"
            ]
          },
          "metadata": {}
        },
        {
          "output_type": "stream",
          "name": "stdout",
          "text": [
            "Epoch 1/5\n",
            "6/6 [==============================] - 0s 17ms/step - loss: 0.0092 - mean_squared_error: 0.0092\n",
            "Epoch 2/5\n",
            "6/6 [==============================] - 0s 15ms/step - loss: 0.0091 - mean_squared_error: 0.0091\n",
            "Epoch 3/5\n",
            "6/6 [==============================] - 0s 16ms/step - loss: 0.0084 - mean_squared_error: 0.0084\n",
            "Epoch 4/5\n",
            "6/6 [==============================] - 0s 20ms/step - loss: 0.0088 - mean_squared_error: 0.0088\n",
            "Epoch 5/5\n",
            "6/6 [==============================] - 0s 16ms/step - loss: 0.0091 - mean_squared_error: 0.0091\n"
          ]
        },
        {
          "output_type": "display_data",
          "data": {
            "text/plain": [
              "array([[30.82908]], dtype=float32)"
            ]
          },
          "metadata": {}
        },
        {
          "output_type": "stream",
          "name": "stdout",
          "text": [
            "Epoch 1/5\n",
            "6/6 [==============================] - 0s 17ms/step - loss: 0.0075 - mean_squared_error: 0.0075\n",
            "Epoch 2/5\n",
            "6/6 [==============================] - 0s 17ms/step - loss: 0.0094 - mean_squared_error: 0.0094\n",
            "Epoch 3/5\n",
            "6/6 [==============================] - 0s 17ms/step - loss: 0.0084 - mean_squared_error: 0.0084\n",
            "Epoch 4/5\n",
            "6/6 [==============================] - 0s 18ms/step - loss: 0.0084 - mean_squared_error: 0.0084\n",
            "Epoch 5/5\n",
            "6/6 [==============================] - 0s 16ms/step - loss: 0.0092 - mean_squared_error: 0.0092\n"
          ]
        },
        {
          "output_type": "display_data",
          "data": {
            "text/plain": [
              "array([[31.282434]], dtype=float32)"
            ]
          },
          "metadata": {}
        },
        {
          "output_type": "stream",
          "name": "stdout",
          "text": [
            "Epoch 1/5\n",
            "6/6 [==============================] - 0s 17ms/step - loss: 0.0083 - mean_squared_error: 0.0083\n",
            "Epoch 2/5\n",
            "6/6 [==============================] - 0s 16ms/step - loss: 0.0086 - mean_squared_error: 0.0086\n",
            "Epoch 3/5\n",
            "6/6 [==============================] - 0s 17ms/step - loss: 0.0082 - mean_squared_error: 0.0082\n",
            "Epoch 4/5\n",
            "6/6 [==============================] - 0s 17ms/step - loss: 0.0086 - mean_squared_error: 0.0086\n",
            "Epoch 5/5\n",
            "6/6 [==============================] - 0s 16ms/step - loss: 0.0080 - mean_squared_error: 0.0080\n"
          ]
        },
        {
          "output_type": "display_data",
          "data": {
            "text/plain": [
              "array([[30.998264]], dtype=float32)"
            ]
          },
          "metadata": {}
        },
        {
          "output_type": "stream",
          "name": "stdout",
          "text": [
            "Epoch 1/5\n",
            "6/6 [==============================] - 0s 17ms/step - loss: 0.0083 - mean_squared_error: 0.0083\n",
            "Epoch 2/5\n",
            "6/6 [==============================] - 0s 17ms/step - loss: 0.0088 - mean_squared_error: 0.0088\n",
            "Epoch 3/5\n",
            "6/6 [==============================] - 0s 16ms/step - loss: 0.0074 - mean_squared_error: 0.0074\n",
            "Epoch 4/5\n",
            "6/6 [==============================] - 0s 19ms/step - loss: 0.0082 - mean_squared_error: 0.0082\n",
            "Epoch 5/5\n",
            "6/6 [==============================] - 0s 16ms/step - loss: 0.0080 - mean_squared_error: 0.0080\n"
          ]
        },
        {
          "output_type": "display_data",
          "data": {
            "text/plain": [
              "array([[30.881018]], dtype=float32)"
            ]
          },
          "metadata": {}
        },
        {
          "output_type": "stream",
          "name": "stdout",
          "text": [
            "Epoch 1/5\n",
            "6/6 [==============================] - 0s 17ms/step - loss: 0.0077 - mean_squared_error: 0.0077\n",
            "Epoch 2/5\n",
            "6/6 [==============================] - 0s 17ms/step - loss: 0.0072 - mean_squared_error: 0.0072\n",
            "Epoch 3/5\n",
            "6/6 [==============================] - 0s 16ms/step - loss: 0.0087 - mean_squared_error: 0.0087\n",
            "Epoch 4/5\n",
            "6/6 [==============================] - 0s 18ms/step - loss: 0.0081 - mean_squared_error: 0.0081\n",
            "Epoch 5/5\n",
            "6/6 [==============================] - 0s 17ms/step - loss: 0.0076 - mean_squared_error: 0.0076\n"
          ]
        },
        {
          "output_type": "display_data",
          "data": {
            "text/plain": [
              "array([[31.238861]], dtype=float32)"
            ]
          },
          "metadata": {}
        },
        {
          "output_type": "stream",
          "name": "stdout",
          "text": [
            "Epoch 1/5\n",
            "6/6 [==============================] - 0s 19ms/step - loss: 0.0075 - mean_squared_error: 0.0075\n",
            "Epoch 2/5\n",
            "6/6 [==============================] - 0s 17ms/step - loss: 0.0071 - mean_squared_error: 0.0071\n",
            "Epoch 3/5\n",
            "6/6 [==============================] - 0s 17ms/step - loss: 0.0077 - mean_squared_error: 0.0077\n",
            "Epoch 4/5\n",
            "6/6 [==============================] - 0s 17ms/step - loss: 0.0078 - mean_squared_error: 0.0078\n",
            "Epoch 5/5\n",
            "6/6 [==============================] - 0s 17ms/step - loss: 0.0072 - mean_squared_error: 0.0072\n"
          ]
        },
        {
          "output_type": "display_data",
          "data": {
            "text/plain": [
              "array([[31.477217]], dtype=float32)"
            ]
          },
          "metadata": {}
        },
        {
          "output_type": "stream",
          "name": "stdout",
          "text": [
            "Epoch 1/5\n",
            "6/6 [==============================] - 0s 17ms/step - loss: 0.0073 - mean_squared_error: 0.0073\n",
            "Epoch 2/5\n",
            "6/6 [==============================] - 0s 17ms/step - loss: 0.0079 - mean_squared_error: 0.0079\n",
            "Epoch 3/5\n",
            "6/6 [==============================] - 0s 16ms/step - loss: 0.0070 - mean_squared_error: 0.0070\n",
            "Epoch 4/5\n",
            "6/6 [==============================] - 0s 16ms/step - loss: 0.0077 - mean_squared_error: 0.0077\n",
            "Epoch 5/5\n",
            "6/6 [==============================] - 0s 17ms/step - loss: 0.0069 - mean_squared_error: 0.0069\n"
          ]
        },
        {
          "output_type": "display_data",
          "data": {
            "text/plain": [
              "array([[31.10027]], dtype=float32)"
            ]
          },
          "metadata": {}
        },
        {
          "output_type": "stream",
          "name": "stdout",
          "text": [
            "Epoch 1/5\n",
            "6/6 [==============================] - 0s 17ms/step - loss: 0.0080 - mean_squared_error: 0.0080\n",
            "Epoch 2/5\n",
            "6/6 [==============================] - 0s 18ms/step - loss: 0.0075 - mean_squared_error: 0.0075\n",
            "Epoch 3/5\n",
            "6/6 [==============================] - 0s 19ms/step - loss: 0.0069 - mean_squared_error: 0.0069\n",
            "Epoch 4/5\n",
            "6/6 [==============================] - 0s 19ms/step - loss: 0.0082 - mean_squared_error: 0.0082\n",
            "Epoch 5/5\n",
            "6/6 [==============================] - 0s 17ms/step - loss: 0.0076 - mean_squared_error: 0.0076\n"
          ]
        },
        {
          "output_type": "display_data",
          "data": {
            "text/plain": [
              "array([[31.293024]], dtype=float32)"
            ]
          },
          "metadata": {}
        },
        {
          "output_type": "stream",
          "name": "stdout",
          "text": [
            "Epoch 1/5\n",
            "6/6 [==============================] - 0s 20ms/step - loss: 0.0076 - mean_squared_error: 0.0076\n",
            "Epoch 2/5\n",
            "6/6 [==============================] - 0s 17ms/step - loss: 0.0071 - mean_squared_error: 0.0071\n",
            "Epoch 3/5\n",
            "6/6 [==============================] - 0s 17ms/step - loss: 0.0079 - mean_squared_error: 0.0079\n",
            "Epoch 4/5\n",
            "6/6 [==============================] - 0s 18ms/step - loss: 0.0077 - mean_squared_error: 0.0077\n",
            "Epoch 5/5\n",
            "6/6 [==============================] - 0s 17ms/step - loss: 0.0058 - mean_squared_error: 0.0058\n"
          ]
        },
        {
          "output_type": "display_data",
          "data": {
            "text/plain": [
              "array([[30.833015]], dtype=float32)"
            ]
          },
          "metadata": {}
        },
        {
          "output_type": "stream",
          "name": "stdout",
          "text": [
            "Epoch 1/5\n",
            "6/6 [==============================] - 0s 17ms/step - loss: 0.0080 - mean_squared_error: 0.0080\n",
            "Epoch 2/5\n",
            "6/6 [==============================] - 0s 18ms/step - loss: 0.0070 - mean_squared_error: 0.0070\n",
            "Epoch 3/5\n",
            "6/6 [==============================] - 0s 17ms/step - loss: 0.0067 - mean_squared_error: 0.0067\n",
            "Epoch 4/5\n",
            "6/6 [==============================] - 0s 19ms/step - loss: 0.0075 - mean_squared_error: 0.0075\n",
            "Epoch 5/5\n",
            "6/6 [==============================] - 0s 19ms/step - loss: 0.0072 - mean_squared_error: 0.0072\n"
          ]
        },
        {
          "output_type": "display_data",
          "data": {
            "text/plain": [
              "array([[30.881292]], dtype=float32)"
            ]
          },
          "metadata": {}
        },
        {
          "output_type": "stream",
          "name": "stdout",
          "text": [
            "Epoch 1/5\n",
            "6/6 [==============================] - 0s 17ms/step - loss: 0.0065 - mean_squared_error: 0.0065\n",
            "Epoch 2/5\n",
            "6/6 [==============================] - 0s 18ms/step - loss: 0.0074 - mean_squared_error: 0.0074\n",
            "Epoch 3/5\n",
            "6/6 [==============================] - 0s 17ms/step - loss: 0.0074 - mean_squared_error: 0.0074\n",
            "Epoch 4/5\n",
            "6/6 [==============================] - 0s 18ms/step - loss: 0.0058 - mean_squared_error: 0.0058\n",
            "Epoch 5/5\n",
            "6/6 [==============================] - 0s 17ms/step - loss: 0.0063 - mean_squared_error: 0.0063\n"
          ]
        },
        {
          "output_type": "display_data",
          "data": {
            "text/plain": [
              "array([[30.425001]], dtype=float32)"
            ]
          },
          "metadata": {}
        },
        {
          "output_type": "stream",
          "name": "stdout",
          "text": [
            "Epoch 1/5\n",
            "6/6 [==============================] - 0s 19ms/step - loss: 0.0068 - mean_squared_error: 0.0068\n",
            "Epoch 2/5\n",
            "6/6 [==============================] - 0s 17ms/step - loss: 0.0075 - mean_squared_error: 0.0075\n",
            "Epoch 3/5\n",
            "6/6 [==============================] - 0s 18ms/step - loss: 0.0068 - mean_squared_error: 0.0068\n",
            "Epoch 4/5\n",
            "6/6 [==============================] - 0s 20ms/step - loss: 0.0072 - mean_squared_error: 0.0072\n",
            "Epoch 5/5\n",
            "6/6 [==============================] - 0s 17ms/step - loss: 0.0064 - mean_squared_error: 0.0064\n"
          ]
        },
        {
          "output_type": "display_data",
          "data": {
            "text/plain": [
              "array([[31.047207]], dtype=float32)"
            ]
          },
          "metadata": {}
        },
        {
          "output_type": "stream",
          "name": "stdout",
          "text": [
            "Epoch 1/5\n",
            "6/6 [==============================] - 0s 18ms/step - loss: 0.0067 - mean_squared_error: 0.0067\n",
            "Epoch 2/5\n",
            "6/6 [==============================] - 0s 18ms/step - loss: 0.0058 - mean_squared_error: 0.0058\n",
            "Epoch 3/5\n",
            "6/6 [==============================] - 0s 17ms/step - loss: 0.0064 - mean_squared_error: 0.0064\n",
            "Epoch 4/5\n",
            "6/6 [==============================] - 0s 18ms/step - loss: 0.0059 - mean_squared_error: 0.0059\n",
            "Epoch 5/5\n",
            "6/6 [==============================] - 0s 17ms/step - loss: 0.0073 - mean_squared_error: 0.0073\n"
          ]
        },
        {
          "output_type": "display_data",
          "data": {
            "text/plain": [
              "array([[30.912859]], dtype=float32)"
            ]
          },
          "metadata": {}
        },
        {
          "output_type": "stream",
          "name": "stdout",
          "text": [
            "Epoch 1/5\n",
            "6/6 [==============================] - 0s 17ms/step - loss: 0.0064 - mean_squared_error: 0.0064\n",
            "Epoch 2/5\n",
            "6/6 [==============================] - 0s 18ms/step - loss: 0.0066 - mean_squared_error: 0.0066\n",
            "Epoch 3/5\n",
            "6/6 [==============================] - 0s 17ms/step - loss: 0.0061 - mean_squared_error: 0.0061\n",
            "Epoch 4/5\n",
            "6/6 [==============================] - 0s 17ms/step - loss: 0.0066 - mean_squared_error: 0.0066\n",
            "Epoch 5/5\n",
            "6/6 [==============================] - 0s 17ms/step - loss: 0.0064 - mean_squared_error: 0.0064\n"
          ]
        },
        {
          "output_type": "display_data",
          "data": {
            "text/plain": [
              "array([[31.469494]], dtype=float32)"
            ]
          },
          "metadata": {}
        },
        {
          "output_type": "stream",
          "name": "stdout",
          "text": [
            "Epoch 1/5\n",
            "6/6 [==============================] - 0s 18ms/step - loss: 0.0066 - mean_squared_error: 0.0066\n",
            "Epoch 2/5\n",
            "6/6 [==============================] - 0s 19ms/step - loss: 0.0063 - mean_squared_error: 0.0063\n",
            "Epoch 3/5\n",
            "6/6 [==============================] - 0s 18ms/step - loss: 0.0072 - mean_squared_error: 0.0072\n",
            "Epoch 4/5\n",
            "6/6 [==============================] - 0s 17ms/step - loss: 0.0076 - mean_squared_error: 0.0076\n",
            "Epoch 5/5\n",
            "6/6 [==============================] - 0s 17ms/step - loss: 0.0067 - mean_squared_error: 0.0067\n"
          ]
        },
        {
          "output_type": "display_data",
          "data": {
            "text/plain": [
              "array([[31.89129]], dtype=float32)"
            ]
          },
          "metadata": {}
        },
        {
          "output_type": "stream",
          "name": "stdout",
          "text": [
            "Epoch 1/5\n",
            "6/6 [==============================] - 0s 16ms/step - loss: 0.0063 - mean_squared_error: 0.0063\n",
            "Epoch 2/5\n",
            "6/6 [==============================] - 0s 17ms/step - loss: 0.0065 - mean_squared_error: 0.0065\n",
            "Epoch 3/5\n",
            "6/6 [==============================] - 0s 18ms/step - loss: 0.0065 - mean_squared_error: 0.0065\n",
            "Epoch 4/5\n",
            "6/6 [==============================] - 0s 17ms/step - loss: 0.0070 - mean_squared_error: 0.0070\n",
            "Epoch 5/5\n",
            "6/6 [==============================] - 0s 17ms/step - loss: 0.0059 - mean_squared_error: 0.0059\n"
          ]
        },
        {
          "output_type": "display_data",
          "data": {
            "text/plain": [
              "array([[31.661516]], dtype=float32)"
            ]
          },
          "metadata": {}
        },
        {
          "output_type": "stream",
          "name": "stdout",
          "text": [
            "Epoch 1/5\n",
            "6/6 [==============================] - 0s 17ms/step - loss: 0.0056 - mean_squared_error: 0.0056\n",
            "Epoch 2/5\n",
            "6/6 [==============================] - 0s 18ms/step - loss: 0.0075 - mean_squared_error: 0.0075\n",
            "Epoch 3/5\n",
            "6/6 [==============================] - 0s 17ms/step - loss: 0.0063 - mean_squared_error: 0.0063\n",
            "Epoch 4/5\n",
            "6/6 [==============================] - 0s 18ms/step - loss: 0.0054 - mean_squared_error: 0.0054\n",
            "Epoch 5/5\n",
            "6/6 [==============================] - 0s 17ms/step - loss: 0.0070 - mean_squared_error: 0.0070\n"
          ]
        },
        {
          "output_type": "display_data",
          "data": {
            "text/plain": [
              "array([[31.380444]], dtype=float32)"
            ]
          },
          "metadata": {}
        },
        {
          "output_type": "stream",
          "name": "stdout",
          "text": [
            "Epoch 1/5\n",
            "6/6 [==============================] - 0s 18ms/step - loss: 0.0063 - mean_squared_error: 0.0063\n",
            "Epoch 2/5\n",
            "6/6 [==============================] - 0s 17ms/step - loss: 0.0064 - mean_squared_error: 0.0064\n",
            "Epoch 3/5\n",
            "6/6 [==============================] - 0s 17ms/step - loss: 0.0062 - mean_squared_error: 0.0062\n",
            "Epoch 4/5\n",
            "6/6 [==============================] - 0s 18ms/step - loss: 0.0069 - mean_squared_error: 0.0069\n",
            "Epoch 5/5\n",
            "6/6 [==============================] - 0s 17ms/step - loss: 0.0063 - mean_squared_error: 0.0063\n"
          ]
        },
        {
          "output_type": "display_data",
          "data": {
            "text/plain": [
              "array([[30.922508]], dtype=float32)"
            ]
          },
          "metadata": {}
        },
        {
          "output_type": "stream",
          "name": "stdout",
          "text": [
            "Epoch 1/5\n",
            "6/6 [==============================] - 0s 18ms/step - loss: 0.0065 - mean_squared_error: 0.0065\n",
            "Epoch 2/5\n",
            "6/6 [==============================] - 0s 17ms/step - loss: 0.0065 - mean_squared_error: 0.0065\n",
            "Epoch 3/5\n",
            "6/6 [==============================] - 0s 16ms/step - loss: 0.0066 - mean_squared_error: 0.0066\n",
            "Epoch 4/5\n",
            "6/6 [==============================] - 0s 18ms/step - loss: 0.0065 - mean_squared_error: 0.0065\n",
            "Epoch 5/5\n",
            "6/6 [==============================] - 0s 16ms/step - loss: 0.0062 - mean_squared_error: 0.0062\n"
          ]
        },
        {
          "output_type": "display_data",
          "data": {
            "text/plain": [
              "array([[30.534676]], dtype=float32)"
            ]
          },
          "metadata": {}
        },
        {
          "output_type": "stream",
          "name": "stdout",
          "text": [
            "Epoch 1/5\n",
            "6/6 [==============================] - 0s 16ms/step - loss: 0.0053 - mean_squared_error: 0.0053\n",
            "Epoch 2/5\n",
            "6/6 [==============================] - 0s 17ms/step - loss: 0.0056 - mean_squared_error: 0.0056\n",
            "Epoch 3/5\n",
            "6/6 [==============================] - 0s 18ms/step - loss: 0.0062 - mean_squared_error: 0.0062\n",
            "Epoch 4/5\n",
            "6/6 [==============================] - 0s 17ms/step - loss: 0.0072 - mean_squared_error: 0.0072\n",
            "Epoch 5/5\n",
            "6/6 [==============================] - 0s 17ms/step - loss: 0.0056 - mean_squared_error: 0.0056\n"
          ]
        },
        {
          "output_type": "display_data",
          "data": {
            "text/plain": [
              "array([[30.742481]], dtype=float32)"
            ]
          },
          "metadata": {}
        },
        {
          "output_type": "stream",
          "name": "stdout",
          "text": [
            "Epoch 1/5\n",
            "6/6 [==============================] - 0s 17ms/step - loss: 0.0057 - mean_squared_error: 0.0057\n",
            "Epoch 2/5\n",
            "6/6 [==============================] - 0s 19ms/step - loss: 0.0059 - mean_squared_error: 0.0059\n",
            "Epoch 3/5\n",
            "6/6 [==============================] - 0s 16ms/step - loss: 0.0064 - mean_squared_error: 0.0064\n",
            "Epoch 4/5\n",
            "6/6 [==============================] - 0s 16ms/step - loss: 0.0060 - mean_squared_error: 0.0060\n",
            "Epoch 5/5\n",
            "6/6 [==============================] - 0s 16ms/step - loss: 0.0060 - mean_squared_error: 0.0060\n"
          ]
        },
        {
          "output_type": "display_data",
          "data": {
            "text/plain": [
              "array([[30.914528]], dtype=float32)"
            ]
          },
          "metadata": {}
        },
        {
          "output_type": "stream",
          "name": "stdout",
          "text": [
            "Epoch 1/5\n",
            "6/6 [==============================] - 0s 17ms/step - loss: 0.0062 - mean_squared_error: 0.0062\n",
            "Epoch 2/5\n",
            "6/6 [==============================] - 0s 17ms/step - loss: 0.0054 - mean_squared_error: 0.0054\n",
            "Epoch 3/5\n",
            "6/6 [==============================] - 0s 16ms/step - loss: 0.0061 - mean_squared_error: 0.0061\n",
            "Epoch 4/5\n",
            "6/6 [==============================] - 0s 16ms/step - loss: 0.0058 - mean_squared_error: 0.0058\n",
            "Epoch 5/5\n",
            "6/6 [==============================] - 0s 17ms/step - loss: 0.0060 - mean_squared_error: 0.0060\n"
          ]
        }
      ],
      "source": [
        "# Projects future data by using model to predict next close and then uses that value to retrain \n",
        "# the model before making next prediction\n",
        "for i in range(56): \n",
        "    # predicts next close value and reshapes it\n",
        "    prediction_scaled=model.predict(X_train[-1].reshape(1, window_size, 1))\n",
        "    # transforms prediction back to original scale\n",
        "    next_prediction=y_scaler.inverse_transform(prediction_scaled)\n",
        "    # displays predicted close value\n",
        "    display(next_prediction)\n",
        "    # adds predicted close value to list\n",
        "    new_train_sample=np.append(X_train[-1], prediction_scaled)[1:].reshape(1, window_size, 1)\n",
        "    # adds new list entry of predicted close to X train\n",
        "    X_train=np.append(X_train, new_train_sample, axis=0)\n",
        "    # adds new list entry of predicted close to y train\n",
        "    y_train=np.append(y_train, prediction_scaled, axis=0)\n",
        "    # refits model with new close value\n",
        "    model.fit(X_train, y_train, epochs=5)"
      ]
    },
    {
      "cell_type": "code",
      "execution_count": 116,
      "id": "5f56a9c9-96b1-4e17-8514-46d59c132ca2",
      "metadata": {
        "id": "5f56a9c9-96b1-4e17-8514-46d59c132ca2"
      },
      "outputs": [],
      "source": [
        "# predicts next close values\n",
        "prediction = model.predict(X_test)\n",
        "# rescales predicted values to original scale\n",
        "y_predicted=y_scaler.inverse_transform(prediction)"
      ]
    },
    {
      "cell_type": "code",
      "source": [
        "len(df)"
      ],
      "metadata": {
        "colab": {
          "base_uri": "https://localhost:8080/"
        },
        "id": "i3u1WWiwuVPT",
        "outputId": "8d46ad52-4e07-4113-fd7b-7dad84ce0717"
      },
      "id": "i3u1WWiwuVPT",
      "execution_count": 117,
      "outputs": [
        {
          "output_type": "execute_result",
          "data": {
            "text/plain": [
              "202"
            ]
          },
          "metadata": {},
          "execution_count": 117
        }
      ]
    },
    {
      "cell_type": "code",
      "source": [
        "len(prediction)"
      ],
      "metadata": {
        "colab": {
          "base_uri": "https://localhost:8080/"
        },
        "id": "lYh-Z4Anuq_C",
        "outputId": "c8db78bb-5c99-46bd-c2cf-bd2e1e0e71f6"
      },
      "id": "lYh-Z4Anuq_C",
      "execution_count": 118,
      "outputs": [
        {
          "output_type": "execute_result",
          "data": {
            "text/plain": [
              "58"
            ]
          },
          "metadata": {},
          "execution_count": 118
        }
      ]
    },
    {
      "cell_type": "code",
      "source": [
        "len(df) - len(prediction)"
      ],
      "metadata": {
        "colab": {
          "base_uri": "https://localhost:8080/"
        },
        "id": "G3xuuFo0Tb4l",
        "outputId": "7d7e9427-f8dc-4a1c-d5eb-3a5de57f125b"
      },
      "id": "G3xuuFo0Tb4l",
      "execution_count": 119,
      "outputs": [
        {
          "output_type": "execute_result",
          "data": {
            "text/plain": [
              "144"
            ]
          },
          "metadata": {},
          "execution_count": 119
        }
      ]
    },
    {
      "cell_type": "code",
      "execution_count": 120,
      "id": "b63e03e2-d0da-4169-b262-c734ec5a0ef2",
      "metadata": {
        "colab": {
          "base_uri": "https://localhost:8080/",
          "height": 1000
        },
        "id": "b63e03e2-d0da-4169-b262-c734ec5a0ef2",
        "outputId": "4adb15cf-5811-4d6f-d207-12d2ac86eb84"
      },
      "outputs": [
        {
          "output_type": "execute_result",
          "data": {
            "text/plain": [
              "            predictions     actual\n",
              "2021-06-21    32.815453  35.040001\n",
              "2021-06-28    34.146427  34.939999\n",
              "2021-07-05    34.380753  34.639999\n",
              "2021-07-12    34.031372  34.259998\n",
              "2021-07-19    33.696766  36.500000\n",
              "2021-07-26    33.401535  36.470001\n",
              "2021-08-02    35.774689  35.360001\n",
              "2021-08-09    35.310661  31.000000\n",
              "2021-08-16    33.840504  31.500000\n",
              "2021-08-23    29.631077  33.310001\n",
              "2021-08-30    31.055893  34.150002\n",
              "2021-09-06    33.441872  33.380001\n",
              "2021-09-13    33.964020  32.400002\n",
              "2021-09-20    32.808769  32.630001\n",
              "2021-09-27    31.838539  32.090000\n",
              "2021-10-04    32.306072  33.150002\n",
              "2021-10-11    31.962324  32.540001\n",
              "2021-10-18    32.962616  33.900002\n",
              "2021-10-25    32.384914  32.880001\n",
              "2021-11-01    33.537880  34.090000\n",
              "2021-11-08    32.544418  33.029999\n",
              "2021-11-15    33.610409  32.110001\n",
              "2021-11-22    32.622963  30.219999\n",
              "2021-11-29    31.702873  28.170000\n",
              "2021-12-06    30.146265  27.969999\n",
              "2021-12-13    28.519560  28.270000\n",
              "2021-12-20    28.546883  28.879999\n",
              "2021-12-27    29.036980  28.379999\n",
              "2022-01-03    29.587559  27.049999\n",
              "2022-01-10    29.232298  27.030001\n",
              "2022-01-17    28.105726  26.770000\n",
              "2022-01-24    27.877247  25.510000\n",
              "2022-01-31    27.756227  24.969999\n",
              "2022-02-07    26.903053  25.490000\n",
              "2022-02-14    26.278416  25.510000\n",
              "2022-02-21    26.436176  27.870001\n",
              "2022-02-28    26.557726  27.950001\n",
              "2022-03-07    27.879868  26.490000\n",
              "2022-03-14    28.477512  27.420000\n",
              "2022-03-21    27.677374  26.590000\n",
              "2022-03-28    27.865000  26.120001\n",
              "2022-04-04    27.550686  26.250000\n",
              "2022-04-11    27.121933  26.250000\n",
              "2022-04-18    27.098036  25.280001\n",
              "2022-04-25    27.156065  25.309999\n",
              "2022-05-02    26.605244  23.790001\n",
              "2022-05-09    26.388868  22.270000\n",
              "2022-05-16    25.488369  24.270000\n",
              "2022-05-23    24.270170  23.870001\n",
              "2022-05-30    24.749437  24.190001\n",
              "2022-06-06    24.943748  22.270000\n",
              "2022-06-13    25.081034  20.549999\n",
              "2022-06-20    24.232201  20.610001\n",
              "2022-06-27    22.913565  20.620001\n",
              "2022-07-04    22.210331  20.450001\n",
              "2022-07-11    21.916794  20.080000\n",
              "2022-07-18    21.695837  20.000000\n",
              "2022-07-19    21.420383  20.549999"
            ],
            "text/html": [
              "\n",
              "  <div id=\"df-429c73dc-c06f-471b-b35f-e15de054f3e4\">\n",
              "    <div class=\"colab-df-container\">\n",
              "      <div>\n",
              "<style scoped>\n",
              "    .dataframe tbody tr th:only-of-type {\n",
              "        vertical-align: middle;\n",
              "    }\n",
              "\n",
              "    .dataframe tbody tr th {\n",
              "        vertical-align: top;\n",
              "    }\n",
              "\n",
              "    .dataframe thead th {\n",
              "        text-align: right;\n",
              "    }\n",
              "</style>\n",
              "<table border=\"1\" class=\"dataframe\">\n",
              "  <thead>\n",
              "    <tr style=\"text-align: right;\">\n",
              "      <th></th>\n",
              "      <th>predictions</th>\n",
              "      <th>actual</th>\n",
              "    </tr>\n",
              "  </thead>\n",
              "  <tbody>\n",
              "    <tr>\n",
              "      <th>2021-06-21</th>\n",
              "      <td>32.815453</td>\n",
              "      <td>35.040001</td>\n",
              "    </tr>\n",
              "    <tr>\n",
              "      <th>2021-06-28</th>\n",
              "      <td>34.146427</td>\n",
              "      <td>34.939999</td>\n",
              "    </tr>\n",
              "    <tr>\n",
              "      <th>2021-07-05</th>\n",
              "      <td>34.380753</td>\n",
              "      <td>34.639999</td>\n",
              "    </tr>\n",
              "    <tr>\n",
              "      <th>2021-07-12</th>\n",
              "      <td>34.031372</td>\n",
              "      <td>34.259998</td>\n",
              "    </tr>\n",
              "    <tr>\n",
              "      <th>2021-07-19</th>\n",
              "      <td>33.696766</td>\n",
              "      <td>36.500000</td>\n",
              "    </tr>\n",
              "    <tr>\n",
              "      <th>2021-07-26</th>\n",
              "      <td>33.401535</td>\n",
              "      <td>36.470001</td>\n",
              "    </tr>\n",
              "    <tr>\n",
              "      <th>2021-08-02</th>\n",
              "      <td>35.774689</td>\n",
              "      <td>35.360001</td>\n",
              "    </tr>\n",
              "    <tr>\n",
              "      <th>2021-08-09</th>\n",
              "      <td>35.310661</td>\n",
              "      <td>31.000000</td>\n",
              "    </tr>\n",
              "    <tr>\n",
              "      <th>2021-08-16</th>\n",
              "      <td>33.840504</td>\n",
              "      <td>31.500000</td>\n",
              "    </tr>\n",
              "    <tr>\n",
              "      <th>2021-08-23</th>\n",
              "      <td>29.631077</td>\n",
              "      <td>33.310001</td>\n",
              "    </tr>\n",
              "    <tr>\n",
              "      <th>2021-08-30</th>\n",
              "      <td>31.055893</td>\n",
              "      <td>34.150002</td>\n",
              "    </tr>\n",
              "    <tr>\n",
              "      <th>2021-09-06</th>\n",
              "      <td>33.441872</td>\n",
              "      <td>33.380001</td>\n",
              "    </tr>\n",
              "    <tr>\n",
              "      <th>2021-09-13</th>\n",
              "      <td>33.964020</td>\n",
              "      <td>32.400002</td>\n",
              "    </tr>\n",
              "    <tr>\n",
              "      <th>2021-09-20</th>\n",
              "      <td>32.808769</td>\n",
              "      <td>32.630001</td>\n",
              "    </tr>\n",
              "    <tr>\n",
              "      <th>2021-09-27</th>\n",
              "      <td>31.838539</td>\n",
              "      <td>32.090000</td>\n",
              "    </tr>\n",
              "    <tr>\n",
              "      <th>2021-10-04</th>\n",
              "      <td>32.306072</td>\n",
              "      <td>33.150002</td>\n",
              "    </tr>\n",
              "    <tr>\n",
              "      <th>2021-10-11</th>\n",
              "      <td>31.962324</td>\n",
              "      <td>32.540001</td>\n",
              "    </tr>\n",
              "    <tr>\n",
              "      <th>2021-10-18</th>\n",
              "      <td>32.962616</td>\n",
              "      <td>33.900002</td>\n",
              "    </tr>\n",
              "    <tr>\n",
              "      <th>2021-10-25</th>\n",
              "      <td>32.384914</td>\n",
              "      <td>32.880001</td>\n",
              "    </tr>\n",
              "    <tr>\n",
              "      <th>2021-11-01</th>\n",
              "      <td>33.537880</td>\n",
              "      <td>34.090000</td>\n",
              "    </tr>\n",
              "    <tr>\n",
              "      <th>2021-11-08</th>\n",
              "      <td>32.544418</td>\n",
              "      <td>33.029999</td>\n",
              "    </tr>\n",
              "    <tr>\n",
              "      <th>2021-11-15</th>\n",
              "      <td>33.610409</td>\n",
              "      <td>32.110001</td>\n",
              "    </tr>\n",
              "    <tr>\n",
              "      <th>2021-11-22</th>\n",
              "      <td>32.622963</td>\n",
              "      <td>30.219999</td>\n",
              "    </tr>\n",
              "    <tr>\n",
              "      <th>2021-11-29</th>\n",
              "      <td>31.702873</td>\n",
              "      <td>28.170000</td>\n",
              "    </tr>\n",
              "    <tr>\n",
              "      <th>2021-12-06</th>\n",
              "      <td>30.146265</td>\n",
              "      <td>27.969999</td>\n",
              "    </tr>\n",
              "    <tr>\n",
              "      <th>2021-12-13</th>\n",
              "      <td>28.519560</td>\n",
              "      <td>28.270000</td>\n",
              "    </tr>\n",
              "    <tr>\n",
              "      <th>2021-12-20</th>\n",
              "      <td>28.546883</td>\n",
              "      <td>28.879999</td>\n",
              "    </tr>\n",
              "    <tr>\n",
              "      <th>2021-12-27</th>\n",
              "      <td>29.036980</td>\n",
              "      <td>28.379999</td>\n",
              "    </tr>\n",
              "    <tr>\n",
              "      <th>2022-01-03</th>\n",
              "      <td>29.587559</td>\n",
              "      <td>27.049999</td>\n",
              "    </tr>\n",
              "    <tr>\n",
              "      <th>2022-01-10</th>\n",
              "      <td>29.232298</td>\n",
              "      <td>27.030001</td>\n",
              "    </tr>\n",
              "    <tr>\n",
              "      <th>2022-01-17</th>\n",
              "      <td>28.105726</td>\n",
              "      <td>26.770000</td>\n",
              "    </tr>\n",
              "    <tr>\n",
              "      <th>2022-01-24</th>\n",
              "      <td>27.877247</td>\n",
              "      <td>25.510000</td>\n",
              "    </tr>\n",
              "    <tr>\n",
              "      <th>2022-01-31</th>\n",
              "      <td>27.756227</td>\n",
              "      <td>24.969999</td>\n",
              "    </tr>\n",
              "    <tr>\n",
              "      <th>2022-02-07</th>\n",
              "      <td>26.903053</td>\n",
              "      <td>25.490000</td>\n",
              "    </tr>\n",
              "    <tr>\n",
              "      <th>2022-02-14</th>\n",
              "      <td>26.278416</td>\n",
              "      <td>25.510000</td>\n",
              "    </tr>\n",
              "    <tr>\n",
              "      <th>2022-02-21</th>\n",
              "      <td>26.436176</td>\n",
              "      <td>27.870001</td>\n",
              "    </tr>\n",
              "    <tr>\n",
              "      <th>2022-02-28</th>\n",
              "      <td>26.557726</td>\n",
              "      <td>27.950001</td>\n",
              "    </tr>\n",
              "    <tr>\n",
              "      <th>2022-03-07</th>\n",
              "      <td>27.879868</td>\n",
              "      <td>26.490000</td>\n",
              "    </tr>\n",
              "    <tr>\n",
              "      <th>2022-03-14</th>\n",
              "      <td>28.477512</td>\n",
              "      <td>27.420000</td>\n",
              "    </tr>\n",
              "    <tr>\n",
              "      <th>2022-03-21</th>\n",
              "      <td>27.677374</td>\n",
              "      <td>26.590000</td>\n",
              "    </tr>\n",
              "    <tr>\n",
              "      <th>2022-03-28</th>\n",
              "      <td>27.865000</td>\n",
              "      <td>26.120001</td>\n",
              "    </tr>\n",
              "    <tr>\n",
              "      <th>2022-04-04</th>\n",
              "      <td>27.550686</td>\n",
              "      <td>26.250000</td>\n",
              "    </tr>\n",
              "    <tr>\n",
              "      <th>2022-04-11</th>\n",
              "      <td>27.121933</td>\n",
              "      <td>26.250000</td>\n",
              "    </tr>\n",
              "    <tr>\n",
              "      <th>2022-04-18</th>\n",
              "      <td>27.098036</td>\n",
              "      <td>25.280001</td>\n",
              "    </tr>\n",
              "    <tr>\n",
              "      <th>2022-04-25</th>\n",
              "      <td>27.156065</td>\n",
              "      <td>25.309999</td>\n",
              "    </tr>\n",
              "    <tr>\n",
              "      <th>2022-05-02</th>\n",
              "      <td>26.605244</td>\n",
              "      <td>23.790001</td>\n",
              "    </tr>\n",
              "    <tr>\n",
              "      <th>2022-05-09</th>\n",
              "      <td>26.388868</td>\n",
              "      <td>22.270000</td>\n",
              "    </tr>\n",
              "    <tr>\n",
              "      <th>2022-05-16</th>\n",
              "      <td>25.488369</td>\n",
              "      <td>24.270000</td>\n",
              "    </tr>\n",
              "    <tr>\n",
              "      <th>2022-05-23</th>\n",
              "      <td>24.270170</td>\n",
              "      <td>23.870001</td>\n",
              "    </tr>\n",
              "    <tr>\n",
              "      <th>2022-05-30</th>\n",
              "      <td>24.749437</td>\n",
              "      <td>24.190001</td>\n",
              "    </tr>\n",
              "    <tr>\n",
              "      <th>2022-06-06</th>\n",
              "      <td>24.943748</td>\n",
              "      <td>22.270000</td>\n",
              "    </tr>\n",
              "    <tr>\n",
              "      <th>2022-06-13</th>\n",
              "      <td>25.081034</td>\n",
              "      <td>20.549999</td>\n",
              "    </tr>\n",
              "    <tr>\n",
              "      <th>2022-06-20</th>\n",
              "      <td>24.232201</td>\n",
              "      <td>20.610001</td>\n",
              "    </tr>\n",
              "    <tr>\n",
              "      <th>2022-06-27</th>\n",
              "      <td>22.913565</td>\n",
              "      <td>20.620001</td>\n",
              "    </tr>\n",
              "    <tr>\n",
              "      <th>2022-07-04</th>\n",
              "      <td>22.210331</td>\n",
              "      <td>20.450001</td>\n",
              "    </tr>\n",
              "    <tr>\n",
              "      <th>2022-07-11</th>\n",
              "      <td>21.916794</td>\n",
              "      <td>20.080000</td>\n",
              "    </tr>\n",
              "    <tr>\n",
              "      <th>2022-07-18</th>\n",
              "      <td>21.695837</td>\n",
              "      <td>20.000000</td>\n",
              "    </tr>\n",
              "    <tr>\n",
              "      <th>2022-07-19</th>\n",
              "      <td>21.420383</td>\n",
              "      <td>20.549999</td>\n",
              "    </tr>\n",
              "  </tbody>\n",
              "</table>\n",
              "</div>\n",
              "      <button class=\"colab-df-convert\" onclick=\"convertToInteractive('df-429c73dc-c06f-471b-b35f-e15de054f3e4')\"\n",
              "              title=\"Convert this dataframe to an interactive table.\"\n",
              "              style=\"display:none;\">\n",
              "        \n",
              "  <svg xmlns=\"http://www.w3.org/2000/svg\" height=\"24px\"viewBox=\"0 0 24 24\"\n",
              "       width=\"24px\">\n",
              "    <path d=\"M0 0h24v24H0V0z\" fill=\"none\"/>\n",
              "    <path d=\"M18.56 5.44l.94 2.06.94-2.06 2.06-.94-2.06-.94-.94-2.06-.94 2.06-2.06.94zm-11 1L8.5 8.5l.94-2.06 2.06-.94-2.06-.94L8.5 2.5l-.94 2.06-2.06.94zm10 10l.94 2.06.94-2.06 2.06-.94-2.06-.94-.94-2.06-.94 2.06-2.06.94z\"/><path d=\"M17.41 7.96l-1.37-1.37c-.4-.4-.92-.59-1.43-.59-.52 0-1.04.2-1.43.59L10.3 9.45l-7.72 7.72c-.78.78-.78 2.05 0 2.83L4 21.41c.39.39.9.59 1.41.59.51 0 1.02-.2 1.41-.59l7.78-7.78 2.81-2.81c.8-.78.8-2.07 0-2.86zM5.41 20L4 18.59l7.72-7.72 1.47 1.35L5.41 20z\"/>\n",
              "  </svg>\n",
              "      </button>\n",
              "      \n",
              "  <style>\n",
              "    .colab-df-container {\n",
              "      display:flex;\n",
              "      flex-wrap:wrap;\n",
              "      gap: 12px;\n",
              "    }\n",
              "\n",
              "    .colab-df-convert {\n",
              "      background-color: #E8F0FE;\n",
              "      border: none;\n",
              "      border-radius: 50%;\n",
              "      cursor: pointer;\n",
              "      display: none;\n",
              "      fill: #1967D2;\n",
              "      height: 32px;\n",
              "      padding: 0 0 0 0;\n",
              "      width: 32px;\n",
              "    }\n",
              "\n",
              "    .colab-df-convert:hover {\n",
              "      background-color: #E2EBFA;\n",
              "      box-shadow: 0px 1px 2px rgba(60, 64, 67, 0.3), 0px 1px 3px 1px rgba(60, 64, 67, 0.15);\n",
              "      fill: #174EA6;\n",
              "    }\n",
              "\n",
              "    [theme=dark] .colab-df-convert {\n",
              "      background-color: #3B4455;\n",
              "      fill: #D2E3FC;\n",
              "    }\n",
              "\n",
              "    [theme=dark] .colab-df-convert:hover {\n",
              "      background-color: #434B5C;\n",
              "      box-shadow: 0px 1px 3px 1px rgba(0, 0, 0, 0.15);\n",
              "      filter: drop-shadow(0px 1px 2px rgba(0, 0, 0, 0.3));\n",
              "      fill: #FFFFFF;\n",
              "    }\n",
              "  </style>\n",
              "\n",
              "      <script>\n",
              "        const buttonEl =\n",
              "          document.querySelector('#df-429c73dc-c06f-471b-b35f-e15de054f3e4 button.colab-df-convert');\n",
              "        buttonEl.style.display =\n",
              "          google.colab.kernel.accessAllowed ? 'block' : 'none';\n",
              "\n",
              "        async function convertToInteractive(key) {\n",
              "          const element = document.querySelector('#df-429c73dc-c06f-471b-b35f-e15de054f3e4');\n",
              "          const dataTable =\n",
              "            await google.colab.kernel.invokeFunction('convertToInteractive',\n",
              "                                                     [key], {});\n",
              "          if (!dataTable) return;\n",
              "\n",
              "          const docLinkHtml = 'Like what you see? Visit the ' +\n",
              "            '<a target=\"_blank\" href=https://colab.research.google.com/notebooks/data_table.ipynb>data table notebook</a>'\n",
              "            + ' to learn more about interactive tables.';\n",
              "          element.innerHTML = '';\n",
              "          dataTable['output_type'] = 'display_data';\n",
              "          await google.colab.output.renderOutput(dataTable, element);\n",
              "          const docLink = document.createElement('div');\n",
              "          docLink.innerHTML = docLinkHtml;\n",
              "          element.appendChild(docLink);\n",
              "        }\n",
              "      </script>\n",
              "    </div>\n",
              "  </div>\n",
              "  "
            ]
          },
          "metadata": {},
          "execution_count": 120
        }
      ],
      "source": [
        "comparison_df = pd.DataFrame({'predictions':y_predicted.ravel(),'actual':df.iloc[144:]['close']})\n",
        "comparison_df\n",
        "#display(y_predicted)\n",
        "#display(df.iloc[760:]['close'])"
      ]
    },
    {
      "cell_type": "code",
      "source": [
        "len(comparison_df)"
      ],
      "metadata": {
        "colab": {
          "base_uri": "https://localhost:8080/"
        },
        "id": "v9nJkPr5CiOs",
        "outputId": "5987cc96-ea02-476c-fff4-6dea7ae509c3"
      },
      "id": "v9nJkPr5CiOs",
      "execution_count": 121,
      "outputs": [
        {
          "output_type": "execute_result",
          "data": {
            "text/plain": [
              "58"
            ]
          },
          "metadata": {},
          "execution_count": 121
        }
      ]
    },
    {
      "cell_type": "code",
      "execution_count": 122,
      "id": "7f8c4b76-378b-424c-af97-c7b60db7c4e5",
      "metadata": {
        "colab": {
          "base_uri": "https://localhost:8080/",
          "height": 283
        },
        "id": "7f8c4b76-378b-424c-af97-c7b60db7c4e5",
        "outputId": "180969d0-e14f-496c-992c-f51ff251af46"
      },
      "outputs": [
        {
          "output_type": "execute_result",
          "data": {
            "text/plain": [
              "[<matplotlib.lines.Line2D at 0x7fa3702f71d0>]"
            ]
          },
          "metadata": {},
          "execution_count": 122
        },
        {
          "output_type": "display_data",
          "data": {
            "text/plain": [
              "<Figure size 432x288 with 1 Axes>"
            ],
            "image/png": "[encoded data removed]"
          },
          "metadata": {
            "needs_background": "light"
          }
        }
      ],
      "source": [
        "# Plots the predicted test values\n",
        "plt.plot(y_predicted)\n",
        "# Plots the true historic close values"
      ]
    },
    {
      "cell_type": "code",
      "execution_count": 123,
      "id": "d0cb5b07-4c3e-4e34-bfb9-1785d69480b9",
      "metadata": {
        "colab": {
          "base_uri": "https://localhost:8080/",
          "height": 333
        },
        "id": "d0cb5b07-4c3e-4e34-bfb9-1785d69480b9",
        "outputId": "0dba453f-efef-446e-b793-94370f7d2359"
      },
      "outputs": [
        {
          "output_type": "execute_result",
          "data": {
            "text/plain": [
              "(array([737972., 738034., 738095., 738156., 738215., 738276., 738337.]),\n",
              " <a list of 7 Text major ticklabel objects>)"
            ]
          },
          "metadata": {},
          "execution_count": 123
        },
        {
          "output_type": "display_data",
          "data": {
            "text/plain": [
              "<Figure size 432x288 with 1 Axes>"
            ],
            "image/png": "[encoded data removed]"
          },
          "metadata": {
            "needs_background": "light"
          }
        }
      ],
      "source": [
        "# Plots the true historic close values\n",
        "plt.plot(df.iloc[144:]['close'])\n",
        "# Rotates X labels\n",
        "plt.xticks(rotation = 90)"
      ]
    },
    {
      "cell_type": "code",
      "execution_count": 124,
      "id": "9ba38db2-c1c1-4348-84cd-096bcff635e6",
      "metadata": {
        "id": "9ba38db2-c1c1-4348-84cd-096bcff635e6"
      },
      "outputs": [],
      "source": [
        "# Begins Future Projections Section"
      ]
    },
    {
      "cell_type": "code",
      "execution_count": 125,
      "id": "01285ba3-329d-4d3b-b680-c6999f9ca1db",
      "metadata": {
        "id": "01285ba3-329d-4d3b-b680-c6999f9ca1db"
      },
      "outputs": [],
      "source": [
        "# Creates neural network\n",
        "model_prediction=Sequential()\n",
        "# Defines and adds LSTM layer\n",
        "first_lstm_layer=LSTM(units=30, return_sequences=True, input_shape=(window_size, 1))\n",
        "model_prediction.add(first_lstm_layer)\n",
        "# Randomly drops 20% of defined nodes\n",
        "first_dropout_layer=Dropout(0.2)\n",
        "# Defines and adds LSTM layer\n",
        "model_prediction.add(first_dropout_layer)\n",
        "second_lstm_layer=LSTM(units=30, return_sequences=True)\n",
        "model_prediction.add(second_lstm_layer)\n",
        "# Randomly drops 20% of defined nodes\n",
        "second_dropout_layer=Dropout(0.2)\n",
        "# Defines and adds LSTM layer\n",
        "model_prediction.add(second_dropout_layer)\n",
        "third_lstm_layer=LSTM(units=30)\n",
        "model_prediction.add(third_lstm_layer)\n",
        "# Defines and adds output layer with linear activation\n",
        "output_layer=Dense(units=1, activation='linear')\n",
        "model_prediction.add(output_layer)"
      ]
    },
    {
      "cell_type": "code",
      "execution_count": 126,
      "id": "8307f72d-406e-4062-94c1-e340b8c6fe64",
      "metadata": {
        "id": "8307f72d-406e-4062-94c1-e340b8c6fe64"
      },
      "outputs": [],
      "source": [
        "# Compiles model\n",
        "model_prediction.compile(loss='mean_squared_error', optimizer='adam', metrics='mean_squared_error')"
      ]
    },
    {
      "cell_type": "code",
      "execution_count": 127,
      "id": "9cd8c1fd-5243-4e62-b32a-999c6383262f",
      "metadata": {
        "colab": {
          "base_uri": "https://localhost:8080/"
        },
        "id": "9cd8c1fd-5243-4e62-b32a-999c6383262f",
        "outputId": "53e3e60e-6ec0-428e-e357-abb4f4ba414b"
      },
      "outputs": [
        {
          "output_type": "stream",
          "name": "stdout",
          "text": [
            "Model: \"sequential_6\"\n",
            "_________________________________________________________________\n",
            " Layer (type)                Output Shape              Param #   \n",
            "=================================================================\n",
            " lstm_18 (LSTM)              (None, 10, 30)            3840      \n",
            "                                                                 \n",
            " dropout_12 (Dropout)        (None, 10, 30)            0         \n",
            "                                                                 \n",
            " lstm_19 (LSTM)              (None, 10, 30)            7320      \n",
            "                                                                 \n",
            " dropout_13 (Dropout)        (None, 10, 30)            0         \n",
            "                                                                 \n",
            " lstm_20 (LSTM)              (None, 30)                7320      \n",
            "                                                                 \n",
            " dense_6 (Dense)             (None, 1)                 31        \n",
            "                                                                 \n",
            "=================================================================\n",
            "Total params: 18,511\n",
            "Trainable params: 18,511\n",
            "Non-trainable params: 0\n",
            "_________________________________________________________________\n"
          ]
        }
      ],
      "source": [
        "# Provides summary of model\n",
        "model_prediction.summary()"
      ]
    },
    {
      "cell_type": "code",
      "execution_count": 128,
      "id": "64894b6e-7d7c-48a9-82f8-571224e36ad1",
      "metadata": {
        "colab": {
          "base_uri": "https://localhost:8080/",
          "height": 35
        },
        "id": "64894b6e-7d7c-48a9-82f8-571224e36ad1",
        "outputId": "1ba94166-a196-4f65-d94d-bc2447e690bf"
      },
      "outputs": [
        {
          "output_type": "display_data",
          "data": {
            "text/plain": [
              "(191, 10)"
            ]
          },
          "metadata": {}
        }
      ],
      "source": [
        "X_scaled=X_scaled.reshape(X_scaled.shape[0], X_scaled.shape[1], 1)\n",
        "display(X.shape)"
      ]
    },
    {
      "cell_type": "code",
      "execution_count": 129,
      "id": "090c190c-b545-464a-8879-cf3b0486dc7a",
      "metadata": {
        "colab": {
          "base_uri": "https://localhost:8080/"
        },
        "id": "090c190c-b545-464a-8879-cf3b0486dc7a",
        "outputId": "57273bcf-67d1-4cc3-a935-7e7430ac306f"
      },
      "outputs": [
        {
          "output_type": "stream",
          "name": "stdout",
          "text": [
            "Epoch 1/50\n",
            "6/6 [==============================] - 5s 23ms/step - loss: 0.3133 - mean_squared_error: 0.3133\n",
            "Epoch 2/50\n",
            "6/6 [==============================] - 0s 23ms/step - loss: 0.1299 - mean_squared_error: 0.1299\n",
            "Epoch 3/50\n",
            "6/6 [==============================] - 0s 24ms/step - loss: 0.0441 - mean_squared_error: 0.0441\n",
            "Epoch 4/50\n",
            "6/6 [==============================] - 0s 23ms/step - loss: 0.0467 - mean_squared_error: 0.0467\n",
            "Epoch 5/50\n",
            "6/6 [==============================] - 0s 26ms/step - loss: 0.0296 - mean_squared_error: 0.0296\n",
            "Epoch 6/50\n",
            "6/6 [==============================] - 0s 27ms/step - loss: 0.0348 - mean_squared_error: 0.0348\n",
            "Epoch 7/50\n",
            "6/6 [==============================] - 0s 25ms/step - loss: 0.0272 - mean_squared_error: 0.0272\n",
            "Epoch 8/50\n",
            "6/6 [==============================] - 0s 26ms/step - loss: 0.0269 - mean_squared_error: 0.0269\n",
            "Epoch 9/50\n",
            "6/6 [==============================] - 0s 24ms/step - loss: 0.0262 - mean_squared_error: 0.0262\n",
            "Epoch 10/50\n",
            "6/6 [==============================] - 0s 28ms/step - loss: 0.0259 - mean_squared_error: 0.0259\n",
            "Epoch 11/50\n",
            "6/6 [==============================] - 0s 23ms/step - loss: 0.0259 - mean_squared_error: 0.0259\n",
            "Epoch 12/50\n",
            "6/6 [==============================] - 0s 27ms/step - loss: 0.0244 - mean_squared_error: 0.0244\n",
            "Epoch 13/50\n",
            "6/6 [==============================] - 0s 17ms/step - loss: 0.0243 - mean_squared_error: 0.0243\n",
            "Epoch 14/50\n",
            "6/6 [==============================] - 0s 20ms/step - loss: 0.0233 - mean_squared_error: 0.0233\n",
            "Epoch 15/50\n",
            "6/6 [==============================] - 0s 18ms/step - loss: 0.0250 - mean_squared_error: 0.0250\n",
            "Epoch 16/50\n",
            "6/6 [==============================] - 0s 17ms/step - loss: 0.0240 - mean_squared_error: 0.0240\n",
            "Epoch 17/50\n",
            "6/6 [==============================] - 0s 17ms/step - loss: 0.0227 - mean_squared_error: 0.0227\n",
            "Epoch 18/50\n",
            "6/6 [==============================] - 0s 16ms/step - loss: 0.0228 - mean_squared_error: 0.0228\n",
            "Epoch 19/50\n",
            "6/6 [==============================] - 0s 16ms/step - loss: 0.0220 - mean_squared_error: 0.0220\n",
            "Epoch 20/50\n",
            "6/6 [==============================] - 0s 18ms/step - loss: 0.0220 - mean_squared_error: 0.0220\n",
            "Epoch 21/50\n",
            "6/6 [==============================] - 0s 18ms/step - loss: 0.0220 - mean_squared_error: 0.0220\n",
            "Epoch 22/50\n",
            "6/6 [==============================] - 0s 17ms/step - loss: 0.0215 - mean_squared_error: 0.0215\n",
            "Epoch 23/50\n",
            "6/6 [==============================] - 0s 17ms/step - loss: 0.0224 - mean_squared_error: 0.0224\n",
            "Epoch 24/50\n",
            "6/6 [==============================] - 0s 17ms/step - loss: 0.0226 - mean_squared_error: 0.0226\n",
            "Epoch 25/50\n",
            "6/6 [==============================] - 0s 17ms/step - loss: 0.0219 - mean_squared_error: 0.0219\n",
            "Epoch 26/50\n",
            "6/6 [==============================] - 0s 18ms/step - loss: 0.0219 - mean_squared_error: 0.0219\n",
            "Epoch 27/50\n",
            "6/6 [==============================] - 0s 16ms/step - loss: 0.0216 - mean_squared_error: 0.0216\n",
            "Epoch 28/50\n",
            "6/6 [==============================] - 0s 17ms/step - loss: 0.0224 - mean_squared_error: 0.0224\n",
            "Epoch 29/50\n",
            "6/6 [==============================] - 0s 16ms/step - loss: 0.0220 - mean_squared_error: 0.0220\n",
            "Epoch 30/50\n",
            "6/6 [==============================] - 0s 16ms/step - loss: 0.0218 - mean_squared_error: 0.0218\n",
            "Epoch 31/50\n",
            "6/6 [==============================] - 0s 19ms/step - loss: 0.0217 - mean_squared_error: 0.0217\n",
            "Epoch 32/50\n",
            "6/6 [==============================] - 0s 16ms/step - loss: 0.0225 - mean_squared_error: 0.0225\n",
            "Epoch 33/50\n",
            "6/6 [==============================] - 0s 17ms/step - loss: 0.0228 - mean_squared_error: 0.0228\n",
            "Epoch 34/50\n",
            "6/6 [==============================] - 0s 16ms/step - loss: 0.0221 - mean_squared_error: 0.0221\n",
            "Epoch 35/50\n",
            "6/6 [==============================] - 0s 16ms/step - loss: 0.0215 - mean_squared_error: 0.0215\n",
            "Epoch 36/50\n",
            "6/6 [==============================] - 0s 19ms/step - loss: 0.0224 - mean_squared_error: 0.0224\n",
            "Epoch 37/50\n",
            "6/6 [==============================] - 0s 17ms/step - loss: 0.0217 - mean_squared_error: 0.0217\n",
            "Epoch 38/50\n",
            "6/6 [==============================] - 0s 17ms/step - loss: 0.0212 - mean_squared_error: 0.0212\n",
            "Epoch 39/50\n",
            "6/6 [==============================] - 0s 18ms/step - loss: 0.0212 - mean_squared_error: 0.0212\n",
            "Epoch 40/50\n",
            "6/6 [==============================] - 0s 18ms/step - loss: 0.0223 - mean_squared_error: 0.0223\n",
            "Epoch 41/50\n",
            "6/6 [==============================] - 0s 17ms/step - loss: 0.0212 - mean_squared_error: 0.0212\n",
            "Epoch 42/50\n",
            "6/6 [==============================] - 0s 17ms/step - loss: 0.0205 - mean_squared_error: 0.0205\n",
            "Epoch 43/50\n",
            "6/6 [==============================] - 0s 16ms/step - loss: 0.0219 - mean_squared_error: 0.0219\n",
            "Epoch 44/50\n",
            "6/6 [==============================] - 0s 17ms/step - loss: 0.0210 - mean_squared_error: 0.0210\n",
            "Epoch 45/50\n",
            "6/6 [==============================] - 0s 17ms/step - loss: 0.0214 - mean_squared_error: 0.0214\n",
            "Epoch 46/50\n",
            "6/6 [==============================] - 0s 17ms/step - loss: 0.0207 - mean_squared_error: 0.0207\n",
            "Epoch 47/50\n",
            "6/6 [==============================] - 0s 17ms/step - loss: 0.0203 - mean_squared_error: 0.0203\n",
            "Epoch 48/50\n",
            "6/6 [==============================] - 0s 18ms/step - loss: 0.0203 - mean_squared_error: 0.0203\n",
            "Epoch 49/50\n",
            "6/6 [==============================] - 0s 18ms/step - loss: 0.0214 - mean_squared_error: 0.0214\n",
            "Epoch 50/50\n",
            "6/6 [==============================] - 0s 17ms/step - loss: 0.0224 - mean_squared_error: 0.0224\n"
          ]
        },
        {
          "output_type": "execute_result",
          "data": {
            "text/plain": [
              "<keras.callbacks.History at 0x7fa376672850>"
            ]
          },
          "metadata": {},
          "execution_count": 129
        }
      ],
      "source": [
        "# Initially fits model using training data\n",
        "model_prediction.fit(X_scaled, y_scaled, epochs=50)"
      ]
    },
    {
      "cell_type": "code",
      "execution_count": 130,
      "id": "2d185c03-5986-454d-b8f6-4f6a939c4b78",
      "metadata": {
        "colab": {
          "base_uri": "https://localhost:8080/",
          "height": 1000
        },
        "id": "2d185c03-5986-454d-b8f6-4f6a939c4b78",
        "outputId": "72993417-5724-4bb6-e988-abf11382fc58"
      },
      "outputs": [
        {
          "output_type": "display_data",
          "data": {
            "text/plain": [
              "array([[23.055798]], dtype=float32)"
            ]
          },
          "metadata": {}
        },
        {
          "output_type": "stream",
          "name": "stdout",
          "text": [
            "Epoch 1/5\n",
            "6/6 [==============================] - 2s 13ms/step - loss: 0.0204 - mean_squared_error: 0.0204\n",
            "Epoch 2/5\n",
            "6/6 [==============================] - 0s 13ms/step - loss: 0.0202 - mean_squared_error: 0.0202\n",
            "Epoch 3/5\n",
            "6/6 [==============================] - 0s 12ms/step - loss: 0.0205 - mean_squared_error: 0.0205\n",
            "Epoch 4/5\n",
            "6/6 [==============================] - 0s 16ms/step - loss: 0.0199 - mean_squared_error: 0.0199\n",
            "Epoch 5/5\n",
            "6/6 [==============================] - 0s 14ms/step - loss: 0.0194 - mean_squared_error: 0.0194\n"
          ]
        },
        {
          "output_type": "display_data",
          "data": {
            "text/plain": [
              "array([[22.686623]], dtype=float32)"
            ]
          },
          "metadata": {}
        },
        {
          "output_type": "stream",
          "name": "stdout",
          "text": [
            "Epoch 1/5\n",
            "7/7 [==============================] - 0s 16ms/step - loss: 0.0188 - mean_squared_error: 0.0188\n",
            "Epoch 2/5\n",
            "7/7 [==============================] - 0s 16ms/step - loss: 0.0225 - mean_squared_error: 0.0225\n",
            "Epoch 3/5\n",
            "7/7 [==============================] - 0s 16ms/step - loss: 0.0200 - mean_squared_error: 0.0200\n",
            "Epoch 4/5\n",
            "7/7 [==============================] - 0s 17ms/step - loss: 0.0191 - mean_squared_error: 0.0191\n",
            "Epoch 5/5\n",
            "7/7 [==============================] - 0s 17ms/step - loss: 0.0194 - mean_squared_error: 0.0194\n"
          ]
        },
        {
          "output_type": "display_data",
          "data": {
            "text/plain": [
              "array([[22.490131]], dtype=float32)"
            ]
          },
          "metadata": {}
        },
        {
          "output_type": "stream",
          "name": "stdout",
          "text": [
            "Epoch 1/5\n",
            "7/7 [==============================] - 0s 18ms/step - loss: 0.0173 - mean_squared_error: 0.0173\n",
            "Epoch 2/5\n",
            "7/7 [==============================] - 0s 16ms/step - loss: 0.0175 - mean_squared_error: 0.0175\n",
            "Epoch 3/5\n",
            "7/7 [==============================] - 0s 16ms/step - loss: 0.0179 - mean_squared_error: 0.0179\n",
            "Epoch 4/5\n",
            "7/7 [==============================] - 0s 16ms/step - loss: 0.0172 - mean_squared_error: 0.0172\n",
            "Epoch 5/5\n",
            "7/7 [==============================] - 0s 16ms/step - loss: 0.0170 - mean_squared_error: 0.0170\n"
          ]
        },
        {
          "output_type": "display_data",
          "data": {
            "text/plain": [
              "array([[21.818346]], dtype=float32)"
            ]
          },
          "metadata": {}
        },
        {
          "output_type": "stream",
          "name": "stdout",
          "text": [
            "Epoch 1/5\n",
            "7/7 [==============================] - 0s 17ms/step - loss: 0.0222 - mean_squared_error: 0.0222\n",
            "Epoch 2/5\n",
            "7/7 [==============================] - 0s 18ms/step - loss: 0.0182 - mean_squared_error: 0.0182\n",
            "Epoch 3/5\n",
            "7/7 [==============================] - 0s 17ms/step - loss: 0.0175 - mean_squared_error: 0.0175\n",
            "Epoch 4/5\n",
            "7/7 [==============================] - 0s 17ms/step - loss: 0.0179 - mean_squared_error: 0.0179\n",
            "Epoch 5/5\n",
            "7/7 [==============================] - 0s 17ms/step - loss: 0.0170 - mean_squared_error: 0.0170\n"
          ]
        },
        {
          "output_type": "display_data",
          "data": {
            "text/plain": [
              "array([[22.462254]], dtype=float32)"
            ]
          },
          "metadata": {}
        },
        {
          "output_type": "stream",
          "name": "stdout",
          "text": [
            "Epoch 1/5\n",
            "7/7 [==============================] - 0s 16ms/step - loss: 0.0172 - mean_squared_error: 0.0172\n",
            "Epoch 2/5\n",
            "7/7 [==============================] - 0s 16ms/step - loss: 0.0179 - mean_squared_error: 0.0179\n",
            "Epoch 3/5\n",
            "7/7 [==============================] - 0s 16ms/step - loss: 0.0188 - mean_squared_error: 0.0188\n",
            "Epoch 4/5\n",
            "7/7 [==============================] - 0s 16ms/step - loss: 0.0163 - mean_squared_error: 0.0163\n",
            "Epoch 5/5\n",
            "7/7 [==============================] - 0s 18ms/step - loss: 0.0165 - mean_squared_error: 0.0165\n"
          ]
        },
        {
          "output_type": "display_data",
          "data": {
            "text/plain": [
              "array([[22.316767]], dtype=float32)"
            ]
          },
          "metadata": {}
        },
        {
          "output_type": "stream",
          "name": "stdout",
          "text": [
            "Epoch 1/5\n",
            "7/7 [==============================] - 0s 17ms/step - loss: 0.0168 - mean_squared_error: 0.0168\n",
            "Epoch 2/5\n",
            "7/7 [==============================] - 0s 17ms/step - loss: 0.0161 - mean_squared_error: 0.0161\n",
            "Epoch 3/5\n",
            "7/7 [==============================] - 0s 16ms/step - loss: 0.0151 - mean_squared_error: 0.0151\n",
            "Epoch 4/5\n",
            "7/7 [==============================] - 0s 17ms/step - loss: 0.0161 - mean_squared_error: 0.0161\n",
            "Epoch 5/5\n",
            "7/7 [==============================] - 0s 15ms/step - loss: 0.0161 - mean_squared_error: 0.0161\n"
          ]
        },
        {
          "output_type": "display_data",
          "data": {
            "text/plain": [
              "array([[22.840288]], dtype=float32)"
            ]
          },
          "metadata": {}
        },
        {
          "output_type": "stream",
          "name": "stdout",
          "text": [
            "Epoch 1/5\n",
            "7/7 [==============================] - 0s 15ms/step - loss: 0.0181 - mean_squared_error: 0.0181\n",
            "Epoch 2/5\n",
            "7/7 [==============================] - 0s 17ms/step - loss: 0.0177 - mean_squared_error: 0.0177\n",
            "Epoch 3/5\n",
            "7/7 [==============================] - 0s 16ms/step - loss: 0.0159 - mean_squared_error: 0.0159\n",
            "Epoch 4/5\n",
            "7/7 [==============================] - 0s 16ms/step - loss: 0.0150 - mean_squared_error: 0.0150\n",
            "Epoch 5/5\n",
            "7/7 [==============================] - 0s 15ms/step - loss: 0.0156 - mean_squared_error: 0.0156\n"
          ]
        },
        {
          "output_type": "display_data",
          "data": {
            "text/plain": [
              "array([[22.893238]], dtype=float32)"
            ]
          },
          "metadata": {}
        },
        {
          "output_type": "stream",
          "name": "stdout",
          "text": [
            "Epoch 1/5\n",
            "7/7 [==============================] - 0s 16ms/step - loss: 0.0149 - mean_squared_error: 0.0149\n",
            "Epoch 2/5\n",
            "7/7 [==============================] - 0s 16ms/step - loss: 0.0153 - mean_squared_error: 0.0153\n",
            "Epoch 3/5\n",
            "7/7 [==============================] - 0s 16ms/step - loss: 0.0158 - mean_squared_error: 0.0158\n",
            "Epoch 4/5\n",
            "7/7 [==============================] - 0s 17ms/step - loss: 0.0145 - mean_squared_error: 0.0145\n",
            "Epoch 5/5\n",
            "7/7 [==============================] - 0s 17ms/step - loss: 0.0143 - mean_squared_error: 0.0143\n"
          ]
        },
        {
          "output_type": "display_data",
          "data": {
            "text/plain": [
              "array([[22.717663]], dtype=float32)"
            ]
          },
          "metadata": {}
        },
        {
          "output_type": "stream",
          "name": "stdout",
          "text": [
            "Epoch 1/5\n",
            "7/7 [==============================] - 0s 17ms/step - loss: 0.0139 - mean_squared_error: 0.0139\n",
            "Epoch 2/5\n",
            "7/7 [==============================] - 0s 16ms/step - loss: 0.0152 - mean_squared_error: 0.0152\n",
            "Epoch 3/5\n",
            "7/7 [==============================] - 0s 16ms/step - loss: 0.0146 - mean_squared_error: 0.0146\n",
            "Epoch 4/5\n",
            "7/7 [==============================] - 0s 17ms/step - loss: 0.0141 - mean_squared_error: 0.0141\n",
            "Epoch 5/5\n",
            "7/7 [==============================] - 0s 15ms/step - loss: 0.0140 - mean_squared_error: 0.0140\n"
          ]
        },
        {
          "output_type": "display_data",
          "data": {
            "text/plain": [
              "array([[22.875635]], dtype=float32)"
            ]
          },
          "metadata": {}
        },
        {
          "output_type": "stream",
          "name": "stdout",
          "text": [
            "Epoch 1/5\n",
            "7/7 [==============================] - 0s 16ms/step - loss: 0.0131 - mean_squared_error: 0.0131\n",
            "Epoch 2/5\n",
            "7/7 [==============================] - 0s 18ms/step - loss: 0.0131 - mean_squared_error: 0.0131\n",
            "Epoch 3/5\n",
            "7/7 [==============================] - 0s 16ms/step - loss: 0.0143 - mean_squared_error: 0.0143\n",
            "Epoch 4/5\n",
            "7/7 [==============================] - 0s 16ms/step - loss: 0.0195 - mean_squared_error: 0.0195\n",
            "Epoch 5/5\n",
            "7/7 [==============================] - 0s 16ms/step - loss: 0.0152 - mean_squared_error: 0.0152\n"
          ]
        },
        {
          "output_type": "display_data",
          "data": {
            "text/plain": [
              "array([[22.813814]], dtype=float32)"
            ]
          },
          "metadata": {}
        },
        {
          "output_type": "stream",
          "name": "stdout",
          "text": [
            "Epoch 1/5\n",
            "7/7 [==============================] - 0s 16ms/step - loss: 0.0160 - mean_squared_error: 0.0160\n",
            "Epoch 2/5\n",
            "7/7 [==============================] - 0s 18ms/step - loss: 0.0159 - mean_squared_error: 0.0159\n",
            "Epoch 3/5\n",
            "7/7 [==============================] - 0s 19ms/step - loss: 0.0146 - mean_squared_error: 0.0146\n",
            "Epoch 4/5\n",
            "7/7 [==============================] - 0s 18ms/step - loss: 0.0137 - mean_squared_error: 0.0137\n",
            "Epoch 5/5\n",
            "7/7 [==============================] - 0s 16ms/step - loss: 0.0158 - mean_squared_error: 0.0158\n"
          ]
        },
        {
          "output_type": "display_data",
          "data": {
            "text/plain": [
              "array([[22.909975]], dtype=float32)"
            ]
          },
          "metadata": {}
        },
        {
          "output_type": "stream",
          "name": "stdout",
          "text": [
            "Epoch 1/5\n",
            "7/7 [==============================] - 0s 19ms/step - loss: 0.0131 - mean_squared_error: 0.0131\n",
            "Epoch 2/5\n",
            "7/7 [==============================] - 0s 17ms/step - loss: 0.0135 - mean_squared_error: 0.0135\n",
            "Epoch 3/5\n",
            "7/7 [==============================] - 0s 16ms/step - loss: 0.0138 - mean_squared_error: 0.0138\n",
            "Epoch 4/5\n",
            "7/7 [==============================] - 0s 16ms/step - loss: 0.0140 - mean_squared_error: 0.0140\n",
            "Epoch 5/5\n",
            "7/7 [==============================] - 0s 16ms/step - loss: 0.0128 - mean_squared_error: 0.0128\n"
          ]
        },
        {
          "output_type": "display_data",
          "data": {
            "text/plain": [
              "array([[23.368155]], dtype=float32)"
            ]
          },
          "metadata": {}
        },
        {
          "output_type": "stream",
          "name": "stdout",
          "text": [
            "Epoch 1/5\n",
            "7/7 [==============================] - 0s 19ms/step - loss: 0.0140 - mean_squared_error: 0.0140\n",
            "Epoch 2/5\n",
            "7/7 [==============================] - 0s 16ms/step - loss: 0.0139 - mean_squared_error: 0.0139\n",
            "Epoch 3/5\n",
            "7/7 [==============================] - 0s 17ms/step - loss: 0.0137 - mean_squared_error: 0.0137\n",
            "Epoch 4/5\n",
            "7/7 [==============================] - 0s 18ms/step - loss: 0.0132 - mean_squared_error: 0.0132\n",
            "Epoch 5/5\n",
            "7/7 [==============================] - 0s 16ms/step - loss: 0.0138 - mean_squared_error: 0.0138\n"
          ]
        },
        {
          "output_type": "display_data",
          "data": {
            "text/plain": [
              "array([[23.339409]], dtype=float32)"
            ]
          },
          "metadata": {}
        },
        {
          "output_type": "stream",
          "name": "stdout",
          "text": [
            "Epoch 1/5\n",
            "7/7 [==============================] - 0s 17ms/step - loss: 0.0125 - mean_squared_error: 0.0125\n",
            "Epoch 2/5\n",
            "7/7 [==============================] - 0s 16ms/step - loss: 0.0125 - mean_squared_error: 0.0125\n",
            "Epoch 3/5\n",
            "7/7 [==============================] - 0s 19ms/step - loss: 0.0135 - mean_squared_error: 0.0135\n",
            "Epoch 4/5\n",
            "7/7 [==============================] - 0s 16ms/step - loss: 0.0130 - mean_squared_error: 0.0130\n",
            "Epoch 5/5\n",
            "7/7 [==============================] - 0s 16ms/step - loss: 0.0123 - mean_squared_error: 0.0123\n"
          ]
        },
        {
          "output_type": "display_data",
          "data": {
            "text/plain": [
              "array([[23.254261]], dtype=float32)"
            ]
          },
          "metadata": {}
        },
        {
          "output_type": "stream",
          "name": "stdout",
          "text": [
            "Epoch 1/5\n",
            "7/7 [==============================] - 0s 16ms/step - loss: 0.0124 - mean_squared_error: 0.0124\n",
            "Epoch 2/5\n",
            "7/7 [==============================] - 0s 17ms/step - loss: 0.0127 - mean_squared_error: 0.0127\n",
            "Epoch 3/5\n",
            "7/7 [==============================] - 0s 16ms/step - loss: 0.0127 - mean_squared_error: 0.0127\n",
            "Epoch 4/5\n",
            "7/7 [==============================] - 0s 16ms/step - loss: 0.0125 - mean_squared_error: 0.0125\n",
            "Epoch 5/5\n",
            "7/7 [==============================] - 0s 19ms/step - loss: 0.0129 - mean_squared_error: 0.0129\n"
          ]
        },
        {
          "output_type": "display_data",
          "data": {
            "text/plain": [
              "array([[23.769268]], dtype=float32)"
            ]
          },
          "metadata": {}
        },
        {
          "output_type": "stream",
          "name": "stdout",
          "text": [
            "Epoch 1/5\n",
            "7/7 [==============================] - 0s 16ms/step - loss: 0.0124 - mean_squared_error: 0.0124\n",
            "Epoch 2/5\n",
            "7/7 [==============================] - 0s 19ms/step - loss: 0.0119 - mean_squared_error: 0.0119\n",
            "Epoch 3/5\n",
            "7/7 [==============================] - 0s 16ms/step - loss: 0.0122 - mean_squared_error: 0.0122\n",
            "Epoch 4/5\n",
            "7/7 [==============================] - 0s 17ms/step - loss: 0.0121 - mean_squared_error: 0.0121\n",
            "Epoch 5/5\n",
            "7/7 [==============================] - 0s 20ms/step - loss: 0.0116 - mean_squared_error: 0.0116\n"
          ]
        },
        {
          "output_type": "display_data",
          "data": {
            "text/plain": [
              "array([[23.743093]], dtype=float32)"
            ]
          },
          "metadata": {}
        },
        {
          "output_type": "stream",
          "name": "stdout",
          "text": [
            "Epoch 1/5\n",
            "7/7 [==============================] - 0s 16ms/step - loss: 0.0118 - mean_squared_error: 0.0118\n",
            "Epoch 2/5\n",
            "7/7 [==============================] - 0s 16ms/step - loss: 0.0119 - mean_squared_error: 0.0119\n",
            "Epoch 3/5\n",
            "7/7 [==============================] - 0s 17ms/step - loss: 0.0123 - mean_squared_error: 0.0123\n",
            "Epoch 4/5\n",
            "7/7 [==============================] - 0s 19ms/step - loss: 0.0126 - mean_squared_error: 0.0126\n",
            "Epoch 5/5\n",
            "7/7 [==============================] - 0s 15ms/step - loss: 0.0125 - mean_squared_error: 0.0125\n"
          ]
        },
        {
          "output_type": "display_data",
          "data": {
            "text/plain": [
              "array([[23.642849]], dtype=float32)"
            ]
          },
          "metadata": {}
        },
        {
          "output_type": "stream",
          "name": "stdout",
          "text": [
            "Epoch 1/5\n",
            "7/7 [==============================] - 0s 19ms/step - loss: 0.0119 - mean_squared_error: 0.0119\n",
            "Epoch 2/5\n",
            "7/7 [==============================] - 0s 16ms/step - loss: 0.0129 - mean_squared_error: 0.0129\n",
            "Epoch 3/5\n",
            "7/7 [==============================] - 0s 18ms/step - loss: 0.0116 - mean_squared_error: 0.0116\n",
            "Epoch 4/5\n",
            "7/7 [==============================] - 0s 16ms/step - loss: 0.0114 - mean_squared_error: 0.0114\n",
            "Epoch 5/5\n",
            "7/7 [==============================] - 0s 16ms/step - loss: 0.0117 - mean_squared_error: 0.0117\n"
          ]
        },
        {
          "output_type": "display_data",
          "data": {
            "text/plain": [
              "array([[23.848583]], dtype=float32)"
            ]
          },
          "metadata": {}
        },
        {
          "output_type": "stream",
          "name": "stdout",
          "text": [
            "Epoch 1/5\n",
            "7/7 [==============================] - 0s 18ms/step - loss: 0.0115 - mean_squared_error: 0.0115\n",
            "Epoch 2/5\n",
            "7/7 [==============================] - 0s 16ms/step - loss: 0.0120 - mean_squared_error: 0.0120\n",
            "Epoch 3/5\n",
            "7/7 [==============================] - 0s 16ms/step - loss: 0.0113 - mean_squared_error: 0.0113\n",
            "Epoch 4/5\n",
            "7/7 [==============================] - 0s 17ms/step - loss: 0.0108 - mean_squared_error: 0.0108\n",
            "Epoch 5/5\n",
            "7/7 [==============================] - 0s 16ms/step - loss: 0.0108 - mean_squared_error: 0.0108\n"
          ]
        },
        {
          "output_type": "display_data",
          "data": {
            "text/plain": [
              "array([[23.888977]], dtype=float32)"
            ]
          },
          "metadata": {}
        },
        {
          "output_type": "stream",
          "name": "stdout",
          "text": [
            "Epoch 1/5\n",
            "7/7 [==============================] - 0s 16ms/step - loss: 0.0111 - mean_squared_error: 0.0111\n",
            "Epoch 2/5\n",
            "7/7 [==============================] - 0s 17ms/step - loss: 0.0118 - mean_squared_error: 0.0118\n",
            "Epoch 3/5\n",
            "7/7 [==============================] - 0s 17ms/step - loss: 0.0108 - mean_squared_error: 0.0108\n",
            "Epoch 4/5\n",
            "7/7 [==============================] - 0s 16ms/step - loss: 0.0115 - mean_squared_error: 0.0115\n",
            "Epoch 5/5\n",
            "7/7 [==============================] - 0s 16ms/step - loss: 0.0101 - mean_squared_error: 0.0101\n"
          ]
        },
        {
          "output_type": "display_data",
          "data": {
            "text/plain": [
              "array([[23.994278]], dtype=float32)"
            ]
          },
          "metadata": {}
        },
        {
          "output_type": "stream",
          "name": "stdout",
          "text": [
            "Epoch 1/5\n",
            "7/7 [==============================] - 0s 17ms/step - loss: 0.0103 - mean_squared_error: 0.0103\n",
            "Epoch 2/5\n",
            "7/7 [==============================] - 0s 16ms/step - loss: 0.0099 - mean_squared_error: 0.0099\n",
            "Epoch 3/5\n",
            "7/7 [==============================] - 0s 16ms/step - loss: 0.0101 - mean_squared_error: 0.0101\n",
            "Epoch 4/5\n",
            "7/7 [==============================] - 0s 17ms/step - loss: 0.0094 - mean_squared_error: 0.0094\n",
            "Epoch 5/5\n",
            "7/7 [==============================] - 0s 16ms/step - loss: 0.0107 - mean_squared_error: 0.0107\n"
          ]
        },
        {
          "output_type": "display_data",
          "data": {
            "text/plain": [
              "array([[24.07642]], dtype=float32)"
            ]
          },
          "metadata": {}
        },
        {
          "output_type": "stream",
          "name": "stdout",
          "text": [
            "Epoch 1/5\n",
            "7/7 [==============================] - 0s 17ms/step - loss: 0.0113 - mean_squared_error: 0.0113\n",
            "Epoch 2/5\n",
            "7/7 [==============================] - 0s 17ms/step - loss: 0.0095 - mean_squared_error: 0.0095\n",
            "Epoch 3/5\n",
            "7/7 [==============================] - 0s 17ms/step - loss: 0.0104 - mean_squared_error: 0.0104\n",
            "Epoch 4/5\n",
            "7/7 [==============================] - 0s 19ms/step - loss: 0.0106 - mean_squared_error: 0.0106\n",
            "Epoch 5/5\n",
            "7/7 [==============================] - 0s 16ms/step - loss: 0.0099 - mean_squared_error: 0.0099\n"
          ]
        },
        {
          "output_type": "display_data",
          "data": {
            "text/plain": [
              "array([[24.303738]], dtype=float32)"
            ]
          },
          "metadata": {}
        },
        {
          "output_type": "stream",
          "name": "stdout",
          "text": [
            "Epoch 1/5\n",
            "7/7 [==============================] - 0s 18ms/step - loss: 0.0101 - mean_squared_error: 0.0101\n",
            "Epoch 2/5\n",
            "7/7 [==============================] - 0s 18ms/step - loss: 0.0097 - mean_squared_error: 0.0097\n",
            "Epoch 3/5\n",
            "7/7 [==============================] - 0s 17ms/step - loss: 0.0101 - mean_squared_error: 0.0101\n",
            "Epoch 4/5\n",
            "7/7 [==============================] - 0s 17ms/step - loss: 0.0095 - mean_squared_error: 0.0095\n",
            "Epoch 5/5\n",
            "7/7 [==============================] - 0s 17ms/step - loss: 0.0101 - mean_squared_error: 0.0101\n"
          ]
        },
        {
          "output_type": "display_data",
          "data": {
            "text/plain": [
              "array([[24.270767]], dtype=float32)"
            ]
          },
          "metadata": {}
        },
        {
          "output_type": "stream",
          "name": "stdout",
          "text": [
            "Epoch 1/5\n",
            "7/7 [==============================] - 0s 16ms/step - loss: 0.0098 - mean_squared_error: 0.0098\n",
            "Epoch 2/5\n",
            "7/7 [==============================] - 0s 17ms/step - loss: 0.0097 - mean_squared_error: 0.0097\n",
            "Epoch 3/5\n",
            "7/7 [==============================] - 0s 17ms/step - loss: 0.0089 - mean_squared_error: 0.0089\n",
            "Epoch 4/5\n",
            "7/7 [==============================] - 0s 18ms/step - loss: 0.0090 - mean_squared_error: 0.0090\n",
            "Epoch 5/5\n",
            "7/7 [==============================] - 0s 16ms/step - loss: 0.0099 - mean_squared_error: 0.0099\n"
          ]
        },
        {
          "output_type": "display_data",
          "data": {
            "text/plain": [
              "array([[24.32881]], dtype=float32)"
            ]
          },
          "metadata": {}
        },
        {
          "output_type": "stream",
          "name": "stdout",
          "text": [
            "Epoch 1/5\n",
            "7/7 [==============================] - 0s 17ms/step - loss: 0.0097 - mean_squared_error: 0.0097\n",
            "Epoch 2/5\n",
            "7/7 [==============================] - 0s 17ms/step - loss: 0.0092 - mean_squared_error: 0.0092\n",
            "Epoch 3/5\n",
            "7/7 [==============================] - 0s 18ms/step - loss: 0.0088 - mean_squared_error: 0.0088\n",
            "Epoch 4/5\n",
            "7/7 [==============================] - 0s 16ms/step - loss: 0.0090 - mean_squared_error: 0.0090\n",
            "Epoch 5/5\n",
            "7/7 [==============================] - 0s 17ms/step - loss: 0.0086 - mean_squared_error: 0.0086\n"
          ]
        },
        {
          "output_type": "display_data",
          "data": {
            "text/plain": [
              "array([[24.516132]], dtype=float32)"
            ]
          },
          "metadata": {}
        },
        {
          "output_type": "stream",
          "name": "stdout",
          "text": [
            "Epoch 1/5\n",
            "7/7 [==============================] - 0s 18ms/step - loss: 0.0092 - mean_squared_error: 0.0092\n",
            "Epoch 2/5\n",
            "7/7 [==============================] - 0s 20ms/step - loss: 0.0096 - mean_squared_error: 0.0096\n",
            "Epoch 3/5\n",
            "7/7 [==============================] - 0s 18ms/step - loss: 0.0085 - mean_squared_error: 0.0085\n",
            "Epoch 4/5\n",
            "7/7 [==============================] - 0s 18ms/step - loss: 0.0091 - mean_squared_error: 0.0091\n",
            "Epoch 5/5\n",
            "7/7 [==============================] - 0s 17ms/step - loss: 0.0093 - mean_squared_error: 0.0093\n"
          ]
        },
        {
          "output_type": "display_data",
          "data": {
            "text/plain": [
              "array([[24.710676]], dtype=float32)"
            ]
          },
          "metadata": {}
        },
        {
          "output_type": "stream",
          "name": "stdout",
          "text": [
            "Epoch 1/5\n",
            "7/7 [==============================] - 0s 17ms/step - loss: 0.0085 - mean_squared_error: 0.0085\n",
            "Epoch 2/5\n",
            "7/7 [==============================] - 0s 17ms/step - loss: 0.0093 - mean_squared_error: 0.0093\n",
            "Epoch 3/5\n",
            "7/7 [==============================] - 0s 17ms/step - loss: 0.0084 - mean_squared_error: 0.0084\n",
            "Epoch 4/5\n",
            "7/7 [==============================] - 0s 16ms/step - loss: 0.0103 - mean_squared_error: 0.0103\n",
            "Epoch 5/5\n",
            "7/7 [==============================] - 0s 18ms/step - loss: 0.0097 - mean_squared_error: 0.0097\n"
          ]
        },
        {
          "output_type": "display_data",
          "data": {
            "text/plain": [
              "array([[24.888847]], dtype=float32)"
            ]
          },
          "metadata": {}
        },
        {
          "output_type": "stream",
          "name": "stdout",
          "text": [
            "Epoch 1/5\n",
            "7/7 [==============================] - 0s 16ms/step - loss: 0.0089 - mean_squared_error: 0.0089\n",
            "Epoch 2/5\n",
            "7/7 [==============================] - 0s 16ms/step - loss: 0.0085 - mean_squared_error: 0.0085\n",
            "Epoch 3/5\n",
            "7/7 [==============================] - 0s 16ms/step - loss: 0.0091 - mean_squared_error: 0.0091\n",
            "Epoch 4/5\n",
            "7/7 [==============================] - 0s 17ms/step - loss: 0.0090 - mean_squared_error: 0.0090\n",
            "Epoch 5/5\n",
            "7/7 [==============================] - 0s 17ms/step - loss: 0.0084 - mean_squared_error: 0.0084\n"
          ]
        },
        {
          "output_type": "display_data",
          "data": {
            "text/plain": [
              "array([[24.836628]], dtype=float32)"
            ]
          },
          "metadata": {}
        },
        {
          "output_type": "stream",
          "name": "stdout",
          "text": [
            "Epoch 1/5\n",
            "7/7 [==============================] - 0s 16ms/step - loss: 0.0078 - mean_squared_error: 0.0078\n",
            "Epoch 2/5\n",
            "7/7 [==============================] - 0s 17ms/step - loss: 0.0077 - mean_squared_error: 0.0077\n",
            "Epoch 3/5\n",
            "7/7 [==============================] - 0s 16ms/step - loss: 0.0083 - mean_squared_error: 0.0083\n",
            "Epoch 4/5\n",
            "7/7 [==============================] - 0s 16ms/step - loss: 0.0092 - mean_squared_error: 0.0092\n",
            "Epoch 5/5\n",
            "7/7 [==============================] - 0s 20ms/step - loss: 0.0084 - mean_squared_error: 0.0084\n"
          ]
        },
        {
          "output_type": "display_data",
          "data": {
            "text/plain": [
              "array([[25.02108]], dtype=float32)"
            ]
          },
          "metadata": {}
        },
        {
          "output_type": "stream",
          "name": "stdout",
          "text": [
            "Epoch 1/5\n",
            "7/7 [==============================] - 0s 17ms/step - loss: 0.0080 - mean_squared_error: 0.0080\n",
            "Epoch 2/5\n",
            "7/7 [==============================] - 0s 17ms/step - loss: 0.0087 - mean_squared_error: 0.0087\n",
            "Epoch 3/5\n",
            "7/7 [==============================] - 0s 16ms/step - loss: 0.0087 - mean_squared_error: 0.0087\n",
            "Epoch 4/5\n",
            "7/7 [==============================] - 0s 17ms/step - loss: 0.0084 - mean_squared_error: 0.0084\n",
            "Epoch 5/5\n",
            "7/7 [==============================] - 0s 17ms/step - loss: 0.0077 - mean_squared_error: 0.0077\n"
          ]
        },
        {
          "output_type": "display_data",
          "data": {
            "text/plain": [
              "array([[24.92344]], dtype=float32)"
            ]
          },
          "metadata": {}
        },
        {
          "output_type": "stream",
          "name": "stdout",
          "text": [
            "Epoch 1/5\n",
            "7/7 [==============================] - 0s 17ms/step - loss: 0.0072 - mean_squared_error: 0.0072\n",
            "Epoch 2/5\n",
            "7/7 [==============================] - 0s 17ms/step - loss: 0.0077 - mean_squared_error: 0.0077\n",
            "Epoch 3/5\n",
            "7/7 [==============================] - 0s 20ms/step - loss: 0.0075 - mean_squared_error: 0.0075\n",
            "Epoch 4/5\n",
            "7/7 [==============================] - 0s 16ms/step - loss: 0.0074 - mean_squared_error: 0.0074\n",
            "Epoch 5/5\n",
            "7/7 [==============================] - 0s 18ms/step - loss: 0.0079 - mean_squared_error: 0.0079\n"
          ]
        },
        {
          "output_type": "display_data",
          "data": {
            "text/plain": [
              "array([[25.038189]], dtype=float32)"
            ]
          },
          "metadata": {}
        },
        {
          "output_type": "stream",
          "name": "stdout",
          "text": [
            "Epoch 1/5\n",
            "7/7 [==============================] - 0s 15ms/step - loss: 0.0085 - mean_squared_error: 0.0085\n",
            "Epoch 2/5\n",
            "7/7 [==============================] - 0s 17ms/step - loss: 0.0078 - mean_squared_error: 0.0078\n",
            "Epoch 3/5\n",
            "7/7 [==============================] - 0s 18ms/step - loss: 0.0080 - mean_squared_error: 0.0080\n",
            "Epoch 4/5\n",
            "7/7 [==============================] - 0s 16ms/step - loss: 0.0079 - mean_squared_error: 0.0079\n",
            "Epoch 5/5\n",
            "7/7 [==============================] - 0s 18ms/step - loss: 0.0076 - mean_squared_error: 0.0076\n"
          ]
        },
        {
          "output_type": "display_data",
          "data": {
            "text/plain": [
              "array([[24.947262]], dtype=float32)"
            ]
          },
          "metadata": {}
        },
        {
          "output_type": "stream",
          "name": "stdout",
          "text": [
            "Epoch 1/5\n",
            "7/7 [==============================] - 0s 13ms/step - loss: 0.0074 - mean_squared_error: 0.0074\n",
            "Epoch 2/5\n",
            "7/7 [==============================] - 0s 13ms/step - loss: 0.0072 - mean_squared_error: 0.0072\n",
            "Epoch 3/5\n",
            "7/7 [==============================] - 0s 15ms/step - loss: 0.0082 - mean_squared_error: 0.0082\n",
            "Epoch 4/5\n",
            "7/7 [==============================] - 0s 13ms/step - loss: 0.0093 - mean_squared_error: 0.0093\n",
            "Epoch 5/5\n",
            "7/7 [==============================] - 0s 14ms/step - loss: 0.0075 - mean_squared_error: 0.0075\n"
          ]
        },
        {
          "output_type": "display_data",
          "data": {
            "text/plain": [
              "array([[24.767195]], dtype=float32)"
            ]
          },
          "metadata": {}
        },
        {
          "output_type": "stream",
          "name": "stdout",
          "text": [
            "Epoch 1/5\n",
            "8/8 [==============================] - 0s 15ms/step - loss: 0.0075 - mean_squared_error: 0.0075\n",
            "Epoch 2/5\n",
            "8/8 [==============================] - 0s 46ms/step - loss: 0.0072 - mean_squared_error: 0.0072\n",
            "Epoch 3/5\n",
            "8/8 [==============================] - 0s 34ms/step - loss: 0.0085 - mean_squared_error: 0.0085\n",
            "Epoch 4/5\n",
            "8/8 [==============================] - 0s 24ms/step - loss: 0.0075 - mean_squared_error: 0.0075\n",
            "Epoch 5/5\n",
            "8/8 [==============================] - 0s 16ms/step - loss: 0.0085 - mean_squared_error: 0.0085\n"
          ]
        },
        {
          "output_type": "display_data",
          "data": {
            "text/plain": [
              "array([[25.219988]], dtype=float32)"
            ]
          },
          "metadata": {}
        },
        {
          "output_type": "stream",
          "name": "stdout",
          "text": [
            "Epoch 1/5\n",
            "8/8 [==============================] - 0s 17ms/step - loss: 0.0081 - mean_squared_error: 0.0081\n",
            "Epoch 2/5\n",
            "8/8 [==============================] - 0s 33ms/step - loss: 0.0066 - mean_squared_error: 0.0066\n",
            "Epoch 3/5\n",
            "8/8 [==============================] - 0s 35ms/step - loss: 0.0071 - mean_squared_error: 0.0071\n",
            "Epoch 4/5\n",
            "8/8 [==============================] - 0s 35ms/step - loss: 0.0065 - mean_squared_error: 0.0065\n",
            "Epoch 5/5\n",
            "8/8 [==============================] - 0s 18ms/step - loss: 0.0076 - mean_squared_error: 0.0076\n"
          ]
        },
        {
          "output_type": "display_data",
          "data": {
            "text/plain": [
              "array([[25.16198]], dtype=float32)"
            ]
          },
          "metadata": {}
        },
        {
          "output_type": "stream",
          "name": "stdout",
          "text": [
            "Epoch 1/5\n",
            "8/8 [==============================] - 0s 15ms/step - loss: 0.0067 - mean_squared_error: 0.0067\n",
            "Epoch 2/5\n",
            "8/8 [==============================] - 0s 20ms/step - loss: 0.0072 - mean_squared_error: 0.0072\n",
            "Epoch 3/5\n",
            "8/8 [==============================] - 0s 36ms/step - loss: 0.0078 - mean_squared_error: 0.0078\n",
            "Epoch 4/5\n",
            "8/8 [==============================] - 0s 42ms/step - loss: 0.0071 - mean_squared_error: 0.0071\n",
            "Epoch 5/5\n",
            "8/8 [==============================] - 0s 21ms/step - loss: 0.0079 - mean_squared_error: 0.0079\n"
          ]
        },
        {
          "output_type": "display_data",
          "data": {
            "text/plain": [
              "array([[25.183731]], dtype=float32)"
            ]
          },
          "metadata": {}
        },
        {
          "output_type": "stream",
          "name": "stdout",
          "text": [
            "Epoch 1/5\n",
            "8/8 [==============================] - 0s 16ms/step - loss: 0.0071 - mean_squared_error: 0.0071\n",
            "Epoch 2/5\n",
            "8/8 [==============================] - 0s 16ms/step - loss: 0.0065 - mean_squared_error: 0.0065\n",
            "Epoch 3/5\n",
            "8/8 [==============================] - 0s 16ms/step - loss: 0.0070 - mean_squared_error: 0.0070\n",
            "Epoch 4/5\n",
            "8/8 [==============================] - 0s 16ms/step - loss: 0.0068 - mean_squared_error: 0.0068\n",
            "Epoch 5/5\n",
            "8/8 [==============================] - 0s 16ms/step - loss: 0.0065 - mean_squared_error: 0.0065\n"
          ]
        },
        {
          "output_type": "display_data",
          "data": {
            "text/plain": [
              "array([[25.377506]], dtype=float32)"
            ]
          },
          "metadata": {}
        },
        {
          "output_type": "stream",
          "name": "stdout",
          "text": [
            "Epoch 1/5\n",
            "8/8 [==============================] - 0s 17ms/step - loss: 0.0067 - mean_squared_error: 0.0067\n",
            "Epoch 2/5\n",
            "8/8 [==============================] - 0s 16ms/step - loss: 0.0070 - mean_squared_error: 0.0070\n",
            "Epoch 3/5\n",
            "8/8 [==============================] - 0s 17ms/step - loss: 0.0072 - mean_squared_error: 0.0072\n",
            "Epoch 4/5\n",
            "8/8 [==============================] - 0s 19ms/step - loss: 0.0071 - mean_squared_error: 0.0071\n",
            "Epoch 5/5\n",
            "8/8 [==============================] - 0s 16ms/step - loss: 0.0069 - mean_squared_error: 0.0069\n"
          ]
        },
        {
          "output_type": "display_data",
          "data": {
            "text/plain": [
              "array([[24.809828]], dtype=float32)"
            ]
          },
          "metadata": {}
        },
        {
          "output_type": "stream",
          "name": "stdout",
          "text": [
            "Epoch 1/5\n",
            "8/8 [==============================] - 0s 17ms/step - loss: 0.0076 - mean_squared_error: 0.0076\n",
            "Epoch 2/5\n",
            "8/8 [==============================] - 0s 17ms/step - loss: 0.0078 - mean_squared_error: 0.0078\n",
            "Epoch 3/5\n",
            "8/8 [==============================] - 0s 16ms/step - loss: 0.0073 - mean_squared_error: 0.0073\n",
            "Epoch 4/5\n",
            "8/8 [==============================] - 0s 18ms/step - loss: 0.0075 - mean_squared_error: 0.0075\n",
            "Epoch 5/5\n",
            "8/8 [==============================] - 0s 16ms/step - loss: 0.0083 - mean_squared_error: 0.0083\n"
          ]
        },
        {
          "output_type": "display_data",
          "data": {
            "text/plain": [
              "array([[24.821995]], dtype=float32)"
            ]
          },
          "metadata": {}
        },
        {
          "output_type": "stream",
          "name": "stdout",
          "text": [
            "Epoch 1/5\n",
            "8/8 [==============================] - 0s 16ms/step - loss: 0.0073 - mean_squared_error: 0.0073\n",
            "Epoch 2/5\n",
            "8/8 [==============================] - 0s 17ms/step - loss: 0.0081 - mean_squared_error: 0.0081\n",
            "Epoch 3/5\n",
            "8/8 [==============================] - 0s 17ms/step - loss: 0.0073 - mean_squared_error: 0.0073\n",
            "Epoch 4/5\n",
            "8/8 [==============================] - 0s 17ms/step - loss: 0.0083 - mean_squared_error: 0.0083\n",
            "Epoch 5/5\n",
            "8/8 [==============================] - 0s 18ms/step - loss: 0.0081 - mean_squared_error: 0.0081\n"
          ]
        },
        {
          "output_type": "display_data",
          "data": {
            "text/plain": [
              "array([[25.021118]], dtype=float32)"
            ]
          },
          "metadata": {}
        },
        {
          "output_type": "stream",
          "name": "stdout",
          "text": [
            "Epoch 1/5\n",
            "8/8 [==============================] - 0s 17ms/step - loss: 0.0057 - mean_squared_error: 0.0057\n",
            "Epoch 2/5\n",
            "8/8 [==============================] - 0s 18ms/step - loss: 0.0066 - mean_squared_error: 0.0066\n",
            "Epoch 3/5\n",
            "8/8 [==============================] - 0s 19ms/step - loss: 0.0069 - mean_squared_error: 0.0069\n",
            "Epoch 4/5\n",
            "8/8 [==============================] - 0s 16ms/step - loss: 0.0066 - mean_squared_error: 0.0066\n",
            "Epoch 5/5\n",
            "8/8 [==============================] - 0s 18ms/step - loss: 0.0066 - mean_squared_error: 0.0066\n"
          ]
        },
        {
          "output_type": "display_data",
          "data": {
            "text/plain": [
              "array([[25.082664]], dtype=float32)"
            ]
          },
          "metadata": {}
        },
        {
          "output_type": "stream",
          "name": "stdout",
          "text": [
            "Epoch 1/5\n",
            "8/8 [==============================] - 0s 19ms/step - loss: 0.0065 - mean_squared_error: 0.0065\n",
            "Epoch 2/5\n",
            "8/8 [==============================] - 0s 18ms/step - loss: 0.0065 - mean_squared_error: 0.0065\n",
            "Epoch 3/5\n",
            "8/8 [==============================] - 0s 17ms/step - loss: 0.0063 - mean_squared_error: 0.0063\n",
            "Epoch 4/5\n",
            "8/8 [==============================] - 0s 17ms/step - loss: 0.0060 - mean_squared_error: 0.0060\n",
            "Epoch 5/5\n",
            "8/8 [==============================] - 0s 17ms/step - loss: 0.0062 - mean_squared_error: 0.0062\n"
          ]
        },
        {
          "output_type": "display_data",
          "data": {
            "text/plain": [
              "array([[25.04514]], dtype=float32)"
            ]
          },
          "metadata": {}
        },
        {
          "output_type": "stream",
          "name": "stdout",
          "text": [
            "Epoch 1/5\n",
            "8/8 [==============================] - 0s 16ms/step - loss: 0.0064 - mean_squared_error: 0.0064\n",
            "Epoch 2/5\n",
            "8/8 [==============================] - 0s 17ms/step - loss: 0.0063 - mean_squared_error: 0.0063\n",
            "Epoch 3/5\n",
            "8/8 [==============================] - 0s 16ms/step - loss: 0.0066 - mean_squared_error: 0.0066\n",
            "Epoch 4/5\n",
            "8/8 [==============================] - 0s 17ms/step - loss: 0.0067 - mean_squared_error: 0.0067\n",
            "Epoch 5/5\n",
            "8/8 [==============================] - 0s 16ms/step - loss: 0.0063 - mean_squared_error: 0.0063\n"
          ]
        },
        {
          "output_type": "display_data",
          "data": {
            "text/plain": [
              "array([[25.004925]], dtype=float32)"
            ]
          },
          "metadata": {}
        },
        {
          "output_type": "stream",
          "name": "stdout",
          "text": [
            "Epoch 1/5\n",
            "8/8 [==============================] - 0s 18ms/step - loss: 0.0060 - mean_squared_error: 0.0060\n",
            "Epoch 2/5\n",
            "8/8 [==============================] - 0s 18ms/step - loss: 0.0058 - mean_squared_error: 0.0058\n",
            "Epoch 3/5\n",
            "8/8 [==============================] - 0s 17ms/step - loss: 0.0066 - mean_squared_error: 0.0066\n",
            "Epoch 4/5\n",
            "8/8 [==============================] - 0s 16ms/step - loss: 0.0057 - mean_squared_error: 0.0057\n",
            "Epoch 5/5\n",
            "8/8 [==============================] - 0s 17ms/step - loss: 0.0067 - mean_squared_error: 0.0067\n"
          ]
        },
        {
          "output_type": "display_data",
          "data": {
            "text/plain": [
              "array([[25.2723]], dtype=float32)"
            ]
          },
          "metadata": {}
        },
        {
          "output_type": "stream",
          "name": "stdout",
          "text": [
            "Epoch 1/5\n",
            "8/8 [==============================] - 0s 19ms/step - loss: 0.0067 - mean_squared_error: 0.0067\n",
            "Epoch 2/5\n",
            "8/8 [==============================] - 0s 16ms/step - loss: 0.0059 - mean_squared_error: 0.0059\n",
            "Epoch 3/5\n",
            "8/8 [==============================] - 0s 19ms/step - loss: 0.0069 - mean_squared_error: 0.0069\n",
            "Epoch 4/5\n",
            "8/8 [==============================] - 0s 18ms/step - loss: 0.0063 - mean_squared_error: 0.0063\n",
            "Epoch 5/5\n",
            "8/8 [==============================] - 0s 17ms/step - loss: 0.0061 - mean_squared_error: 0.0061\n"
          ]
        },
        {
          "output_type": "display_data",
          "data": {
            "text/plain": [
              "array([[25.224192]], dtype=float32)"
            ]
          },
          "metadata": {}
        },
        {
          "output_type": "stream",
          "name": "stdout",
          "text": [
            "Epoch 1/5\n",
            "8/8 [==============================] - 0s 17ms/step - loss: 0.0064 - mean_squared_error: 0.0064\n",
            "Epoch 2/5\n",
            "8/8 [==============================] - 0s 16ms/step - loss: 0.0059 - mean_squared_error: 0.0059\n",
            "Epoch 3/5\n",
            "8/8 [==============================] - 0s 16ms/step - loss: 0.0059 - mean_squared_error: 0.0059\n",
            "Epoch 4/5\n",
            "8/8 [==============================] - 0s 17ms/step - loss: 0.0056 - mean_squared_error: 0.0056\n",
            "Epoch 5/5\n",
            "8/8 [==============================] - 0s 15ms/step - loss: 0.0059 - mean_squared_error: 0.0059\n"
          ]
        },
        {
          "output_type": "display_data",
          "data": {
            "text/plain": [
              "array([[25.700943]], dtype=float32)"
            ]
          },
          "metadata": {}
        },
        {
          "output_type": "stream",
          "name": "stdout",
          "text": [
            "Epoch 1/5\n",
            "8/8 [==============================] - 0s 16ms/step - loss: 0.0062 - mean_squared_error: 0.0062\n",
            "Epoch 2/5\n",
            "8/8 [==============================] - 0s 16ms/step - loss: 0.0057 - mean_squared_error: 0.0057\n",
            "Epoch 3/5\n",
            "8/8 [==============================] - 0s 17ms/step - loss: 0.0056 - mean_squared_error: 0.0056\n",
            "Epoch 4/5\n",
            "8/8 [==============================] - 0s 16ms/step - loss: 0.0063 - mean_squared_error: 0.0063\n",
            "Epoch 5/5\n",
            "8/8 [==============================] - 0s 17ms/step - loss: 0.0060 - mean_squared_error: 0.0060\n"
          ]
        },
        {
          "output_type": "display_data",
          "data": {
            "text/plain": [
              "array([[25.57471]], dtype=float32)"
            ]
          },
          "metadata": {}
        },
        {
          "output_type": "stream",
          "name": "stdout",
          "text": [
            "Epoch 1/5\n",
            "8/8 [==============================] - 0s 16ms/step - loss: 0.0058 - mean_squared_error: 0.0058\n",
            "Epoch 2/5\n",
            "8/8 [==============================] - 0s 18ms/step - loss: 0.0058 - mean_squared_error: 0.0058\n",
            "Epoch 3/5\n",
            "8/8 [==============================] - 0s 19ms/step - loss: 0.0063 - mean_squared_error: 0.0063\n",
            "Epoch 4/5\n",
            "8/8 [==============================] - 0s 18ms/step - loss: 0.0056 - mean_squared_error: 0.0056\n",
            "Epoch 5/5\n",
            "8/8 [==============================] - 0s 16ms/step - loss: 0.0057 - mean_squared_error: 0.0057\n"
          ]
        },
        {
          "output_type": "display_data",
          "data": {
            "text/plain": [
              "array([[25.234612]], dtype=float32)"
            ]
          },
          "metadata": {}
        },
        {
          "output_type": "stream",
          "name": "stdout",
          "text": [
            "Epoch 1/5\n",
            "8/8 [==============================] - 0s 17ms/step - loss: 0.0062 - mean_squared_error: 0.0062\n",
            "Epoch 2/5\n",
            "8/8 [==============================] - 0s 18ms/step - loss: 0.0062 - mean_squared_error: 0.0062\n",
            "Epoch 3/5\n",
            "8/8 [==============================] - 0s 17ms/step - loss: 0.0054 - mean_squared_error: 0.0054\n",
            "Epoch 4/5\n",
            "8/8 [==============================] - 0s 16ms/step - loss: 0.0060 - mean_squared_error: 0.0060\n",
            "Epoch 5/5\n",
            "8/8 [==============================] - 0s 16ms/step - loss: 0.0058 - mean_squared_error: 0.0058\n"
          ]
        },
        {
          "output_type": "display_data",
          "data": {
            "text/plain": [
              "array([[25.824705]], dtype=float32)"
            ]
          },
          "metadata": {}
        },
        {
          "output_type": "stream",
          "name": "stdout",
          "text": [
            "Epoch 1/5\n",
            "8/8 [==============================] - 0s 16ms/step - loss: 0.0056 - mean_squared_error: 0.0056\n",
            "Epoch 2/5\n",
            "8/8 [==============================] - 0s 16ms/step - loss: 0.0061 - mean_squared_error: 0.0061\n",
            "Epoch 3/5\n",
            "8/8 [==============================] - 0s 16ms/step - loss: 0.0056 - mean_squared_error: 0.0056\n",
            "Epoch 4/5\n",
            "8/8 [==============================] - 0s 17ms/step - loss: 0.0058 - mean_squared_error: 0.0058\n",
            "Epoch 5/5\n",
            "8/8 [==============================] - 0s 16ms/step - loss: 0.0054 - mean_squared_error: 0.0054\n"
          ]
        },
        {
          "output_type": "display_data",
          "data": {
            "text/plain": [
              "array([[25.591751]], dtype=float32)"
            ]
          },
          "metadata": {}
        },
        {
          "output_type": "stream",
          "name": "stdout",
          "text": [
            "Epoch 1/5\n",
            "8/8 [==============================] - 0s 19ms/step - loss: 0.0065 - mean_squared_error: 0.0065\n",
            "Epoch 2/5\n",
            "8/8 [==============================] - 0s 16ms/step - loss: 0.0054 - mean_squared_error: 0.0054\n",
            "Epoch 3/5\n",
            "8/8 [==============================] - 0s 18ms/step - loss: 0.0055 - mean_squared_error: 0.0055\n",
            "Epoch 4/5\n",
            "8/8 [==============================] - 0s 19ms/step - loss: 0.0054 - mean_squared_error: 0.0054\n",
            "Epoch 5/5\n",
            "8/8 [==============================] - 0s 19ms/step - loss: 0.0052 - mean_squared_error: 0.0052\n"
          ]
        },
        {
          "output_type": "display_data",
          "data": {
            "text/plain": [
              "array([[25.56305]], dtype=float32)"
            ]
          },
          "metadata": {}
        },
        {
          "output_type": "stream",
          "name": "stdout",
          "text": [
            "Epoch 1/5\n",
            "8/8 [==============================] - 0s 18ms/step - loss: 0.0057 - mean_squared_error: 0.0057\n",
            "Epoch 2/5\n",
            "8/8 [==============================] - 0s 16ms/step - loss: 0.0055 - mean_squared_error: 0.0055\n",
            "Epoch 3/5\n",
            "8/8 [==============================] - 0s 16ms/step - loss: 0.0053 - mean_squared_error: 0.0053\n",
            "Epoch 4/5\n",
            "8/8 [==============================] - 0s 16ms/step - loss: 0.0056 - mean_squared_error: 0.0056\n",
            "Epoch 5/5\n",
            "8/8 [==============================] - 0s 19ms/step - loss: 0.0057 - mean_squared_error: 0.0057\n"
          ]
        },
        {
          "output_type": "display_data",
          "data": {
            "text/plain": [
              "array([[25.743378]], dtype=float32)"
            ]
          },
          "metadata": {}
        },
        {
          "output_type": "stream",
          "name": "stdout",
          "text": [
            "Epoch 1/5\n",
            "8/8 [==============================] - 0s 19ms/step - loss: 0.0058 - mean_squared_error: 0.0058\n",
            "Epoch 2/5\n",
            "8/8 [==============================] - 0s 16ms/step - loss: 0.0052 - mean_squared_error: 0.0052\n",
            "Epoch 3/5\n",
            "8/8 [==============================] - 0s 17ms/step - loss: 0.0058 - mean_squared_error: 0.0058\n",
            "Epoch 4/5\n",
            "8/8 [==============================] - 0s 18ms/step - loss: 0.0066 - mean_squared_error: 0.0066\n",
            "Epoch 5/5\n",
            "8/8 [==============================] - 0s 18ms/step - loss: 0.0063 - mean_squared_error: 0.0063\n"
          ]
        },
        {
          "output_type": "display_data",
          "data": {
            "text/plain": [
              "array([[25.62024]], dtype=float32)"
            ]
          },
          "metadata": {}
        },
        {
          "output_type": "stream",
          "name": "stdout",
          "text": [
            "Epoch 1/5\n",
            "8/8 [==============================] - 0s 16ms/step - loss: 0.0052 - mean_squared_error: 0.0052\n",
            "Epoch 2/5\n",
            "8/8 [==============================] - 0s 19ms/step - loss: 0.0054 - mean_squared_error: 0.0054\n",
            "Epoch 3/5\n",
            "8/8 [==============================] - 0s 16ms/step - loss: 0.0060 - mean_squared_error: 0.0060\n",
            "Epoch 4/5\n",
            "8/8 [==============================] - 0s 17ms/step - loss: 0.0059 - mean_squared_error: 0.0059\n",
            "Epoch 5/5\n",
            "8/8 [==============================] - 0s 16ms/step - loss: 0.0059 - mean_squared_error: 0.0059\n"
          ]
        },
        {
          "output_type": "display_data",
          "data": {
            "text/plain": [
              "array([[25.904497]], dtype=float32)"
            ]
          },
          "metadata": {}
        },
        {
          "output_type": "stream",
          "name": "stdout",
          "text": [
            "Epoch 1/5\n",
            "8/8 [==============================] - 0s 17ms/step - loss: 0.0055 - mean_squared_error: 0.0055\n",
            "Epoch 2/5\n",
            "8/8 [==============================] - 0s 17ms/step - loss: 0.0054 - mean_squared_error: 0.0054\n",
            "Epoch 3/5\n",
            "8/8 [==============================] - 0s 17ms/step - loss: 0.0052 - mean_squared_error: 0.0052\n",
            "Epoch 4/5\n",
            "8/8 [==============================] - 0s 16ms/step - loss: 0.0051 - mean_squared_error: 0.0051\n",
            "Epoch 5/5\n",
            "8/8 [==============================] - 0s 17ms/step - loss: 0.0050 - mean_squared_error: 0.0050\n"
          ]
        },
        {
          "output_type": "display_data",
          "data": {
            "text/plain": [
              "array([[25.90487]], dtype=float32)"
            ]
          },
          "metadata": {}
        },
        {
          "output_type": "stream",
          "name": "stdout",
          "text": [
            "Epoch 1/5\n",
            "8/8 [==============================] - 0s 16ms/step - loss: 0.0053 - mean_squared_error: 0.0053\n",
            "Epoch 2/5\n",
            "8/8 [==============================] - 0s 18ms/step - loss: 0.0057 - mean_squared_error: 0.0057\n",
            "Epoch 3/5\n",
            "8/8 [==============================] - 0s 18ms/step - loss: 0.0053 - mean_squared_error: 0.0053\n",
            "Epoch 4/5\n",
            "8/8 [==============================] - 0s 17ms/step - loss: 0.0051 - mean_squared_error: 0.0051\n",
            "Epoch 5/5\n",
            "8/8 [==============================] - 0s 20ms/step - loss: 0.0046 - mean_squared_error: 0.0046\n"
          ]
        }
      ],
      "source": [
        "# Projects future data by using model to predict next close and then uses that value to retrain \n",
        "# the model before making next prediction\n",
        "# Creates empty list where future predictions will be added to\n",
        "future_predictions = []\n",
        "for i in range(56): \n",
        "    # predicts next close value and reshapes it\n",
        "    prediction_scaled=model_prediction.predict(X_scaled[-1].reshape(1, window_size, 1))\n",
        "    # transforms prediction back to original scale\n",
        "    next_prediction=y_scaler.inverse_transform(prediction_scaled)\n",
        "    # displays predicted close value\n",
        "    display(next_prediction)\n",
        "    # Adds future predictions to list\n",
        "    future_predictions.append(next_prediction)\n",
        "    # adds predicted close value to list\n",
        "    new_train_sample=np.append(X_scaled[-1], prediction_scaled)[1:].reshape(1, window_size, 1)\n",
        "    # adds new list entry of predicted close to X train\n",
        "    X_scaled=np.append(X_scaled, new_train_sample, axis=0)\n",
        "    # adds new list entry of predicted close to y train\n",
        "    y_scaled=np.append(y_scaled, prediction_scaled, axis=0)\n",
        "    # refits model with new close value\n",
        "    model_prediction.fit(X_scaled, y_scaled, epochs=5)"
      ]
    },
    {
      "cell_type": "code",
      "execution_count": 131,
      "id": "90b67549-c059-4bb1-8655-60e4a4b35c8d",
      "metadata": {
        "colab": {
          "base_uri": "https://localhost:8080/"
        },
        "id": "90b67549-c059-4bb1-8655-60e4a4b35c8d",
        "outputId": "dd527a2c-21bb-4e77-cbe4-0df79c57cce0"
      },
      "outputs": [
        {
          "output_type": "execute_result",
          "data": {
            "text/plain": [
              "[array([[23.055798]], dtype=float32),\n",
              " array([[22.686623]], dtype=float32),\n",
              " array([[22.490131]], dtype=float32),\n",
              " array([[21.818346]], dtype=float32),\n",
              " array([[22.462254]], dtype=float32),\n",
              " array([[22.316767]], dtype=float32),\n",
              " array([[22.840288]], dtype=float32),\n",
              " array([[22.893238]], dtype=float32),\n",
              " array([[22.717663]], dtype=float32),\n",
              " array([[22.875635]], dtype=float32),\n",
              " array([[22.813814]], dtype=float32),\n",
              " array([[22.909975]], dtype=float32),\n",
              " array([[23.368155]], dtype=float32),\n",
              " array([[23.339409]], dtype=float32),\n",
              " array([[23.254261]], dtype=float32),\n",
              " array([[23.769268]], dtype=float32),\n",
              " array([[23.743093]], dtype=float32),\n",
              " array([[23.642849]], dtype=float32),\n",
              " array([[23.848583]], dtype=float32),\n",
              " array([[23.888977]], dtype=float32),\n",
              " array([[23.994278]], dtype=float32),\n",
              " array([[24.07642]], dtype=float32),\n",
              " array([[24.303738]], dtype=float32),\n",
              " array([[24.270767]], dtype=float32),\n",
              " array([[24.32881]], dtype=float32),\n",
              " array([[24.516132]], dtype=float32),\n",
              " array([[24.710676]], dtype=float32),\n",
              " array([[24.888847]], dtype=float32),\n",
              " array([[24.836628]], dtype=float32),\n",
              " array([[25.02108]], dtype=float32),\n",
              " array([[24.92344]], dtype=float32),\n",
              " array([[25.038189]], dtype=float32),\n",
              " array([[24.947262]], dtype=float32),\n",
              " array([[24.767195]], dtype=float32),\n",
              " array([[25.219988]], dtype=float32),\n",
              " array([[25.16198]], dtype=float32),\n",
              " array([[25.183731]], dtype=float32),\n",
              " array([[25.377506]], dtype=float32),\n",
              " array([[24.809828]], dtype=float32),\n",
              " array([[24.821995]], dtype=float32),\n",
              " array([[25.021118]], dtype=float32),\n",
              " array([[25.082664]], dtype=float32),\n",
              " array([[25.04514]], dtype=float32),\n",
              " array([[25.004925]], dtype=float32),\n",
              " array([[25.2723]], dtype=float32),\n",
              " array([[25.224192]], dtype=float32),\n",
              " array([[25.700943]], dtype=float32),\n",
              " array([[25.57471]], dtype=float32),\n",
              " array([[25.234612]], dtype=float32),\n",
              " array([[25.824705]], dtype=float32),\n",
              " array([[25.591751]], dtype=float32),\n",
              " array([[25.56305]], dtype=float32),\n",
              " array([[25.743378]], dtype=float32),\n",
              " array([[25.62024]], dtype=float32),\n",
              " array([[25.904497]], dtype=float32),\n",
              " array([[25.90487]], dtype=float32)]"
            ]
          },
          "metadata": {},
          "execution_count": 131
        }
      ],
      "source": [
        "future_predictions"
      ]
    },
    {
      "cell_type": "code",
      "source": [
        "# Future 56 weeks prediction\n",
        "len(future_predictions) "
      ],
      "metadata": {
        "colab": {
          "base_uri": "https://localhost:8080/"
        },
        "id": "9QOEpq6xeNw3",
        "outputId": "6a2d9d7b-2a12-412e-c1e6-825f66aefac7"
      },
      "id": "9QOEpq6xeNw3",
      "execution_count": 132,
      "outputs": [
        {
          "output_type": "execute_result",
          "data": {
            "text/plain": [
              "56"
            ]
          },
          "metadata": {},
          "execution_count": 132
        }
      ]
    },
    {
      "cell_type": "code",
      "source": [
        "df.index[-1]"
      ],
      "metadata": {
        "colab": {
          "base_uri": "https://localhost:8080/"
        },
        "id": "ohkIddQSfRfw",
        "outputId": "193183bc-0cf3-4c31-bf3b-4b614ec1a80d"
      },
      "id": "ohkIddQSfRfw",
      "execution_count": 133,
      "outputs": [
        {
          "output_type": "execute_result",
          "data": {
            "text/plain": [
              "Timestamp('2022-07-19 00:00:00')"
            ]
          },
          "metadata": {},
          "execution_count": 133
        }
      ]
    },
    {
      "cell_type": "code",
      "source": [
        "future_dates = pd.date_range(start='2022-07-20', periods=56, freq = 'W')\n",
        "datetime_index=df.index.append(future_dates)\n",
        "datetime_index.values"
      ],
      "metadata": {
        "colab": {
          "base_uri": "https://localhost:8080/"
        },
        "id": "QZHensNWfOn4",
        "outputId": "d3bd89f0-db1a-4222-cc27-096dae743b46"
      },
      "id": "QZHensNWfOn4",
      "execution_count": 134,
      "outputs": [
        {
          "output_type": "execute_result",
          "data": {
            "text/plain": [
              "array(['2018-09-17T00:00:00.000000000', '2018-09-24T00:00:00.000000000',\n",
              "       '2018-10-01T00:00:00.000000000', '2018-10-08T00:00:00.000000000',\n",
              "       '2018-10-15T00:00:00.000000000', '2018-10-22T00:00:00.000000000',\n",
              "       '2018-10-29T00:00:00.000000000', '2018-11-05T00:00:00.000000000',\n",
              "       '2018-11-12T00:00:00.000000000', '2018-11-19T00:00:00.000000000',\n",
              "       '2018-11-26T00:00:00.000000000', '2018-12-03T00:00:00.000000000',\n",
              "       '2018-12-10T00:00:00.000000000', '2018-12-17T00:00:00.000000000',\n",
              "       '2018-12-24T00:00:00.000000000', '2018-12-31T00:00:00.000000000',\n",
              "       '2019-01-07T00:00:00.000000000', '2019-01-14T00:00:00.000000000',\n",
              "       '2019-01-21T00:00:00.000000000', '2019-01-28T00:00:00.000000000',\n",
              "       '2019-02-04T00:00:00.000000000', '2019-02-11T00:00:00.000000000',\n",
              "       '2019-02-18T00:00:00.000000000', '2019-02-25T00:00:00.000000000',\n",
              "       '2019-03-04T00:00:00.000000000', '2019-03-11T00:00:00.000000000',\n",
              "       '2019-03-18T00:00:00.000000000', '2019-03-25T00:00:00.000000000',\n",
              "       '2019-04-01T00:00:00.000000000', '2019-04-08T00:00:00.000000000',\n",
              "       '2019-04-15T00:00:00.000000000', '2019-04-22T00:00:00.000000000',\n",
              "       '2019-04-29T00:00:00.000000000', '2019-05-06T00:00:00.000000000',\n",
              "       '2019-05-13T00:00:00.000000000', '2019-05-20T00:00:00.000000000',\n",
              "       '2019-05-27T00:00:00.000000000', '2019-06-03T00:00:00.000000000',\n",
              "       '2019-06-10T00:00:00.000000000', '2019-06-17T00:00:00.000000000',\n",
              "       '2019-06-24T00:00:00.000000000', '2019-07-01T00:00:00.000000000',\n",
              "       '2019-07-08T00:00:00.000000000', '2019-07-15T00:00:00.000000000',\n",
              "       '2019-07-22T00:00:00.000000000', '2019-07-29T00:00:00.000000000',\n",
              "       '2019-08-05T00:00:00.000000000', '2019-08-12T00:00:00.000000000',\n",
              "       '2019-08-19T00:00:00.000000000', '2019-08-26T00:00:00.000000000',\n",
              "       '2019-09-02T00:00:00.000000000', '2019-09-09T00:00:00.000000000',\n",
              "       '2019-09-16T00:00:00.000000000', '2019-09-23T00:00:00.000000000',\n",
              "       '2019-09-30T00:00:00.000000000', '2019-10-07T00:00:00.000000000',\n",
              "       '2019-10-14T00:00:00.000000000', '2019-10-21T00:00:00.000000000',\n",
              "       '2019-10-28T00:00:00.000000000', '2019-11-04T00:00:00.000000000',\n",
              "       '2019-11-11T00:00:00.000000000', '2019-11-18T00:00:00.000000000',\n",
              "       '2019-11-25T00:00:00.000000000', '2019-12-02T00:00:00.000000000',\n",
              "       '2019-12-09T00:00:00.000000000', '2019-12-16T00:00:00.000000000',\n",
              "       '2019-12-23T00:00:00.000000000', '2019-12-30T00:00:00.000000000',\n",
              "       '2020-01-06T00:00:00.000000000', '2020-01-13T00:00:00.000000000',\n",
              "       '2020-01-20T00:00:00.000000000', '2020-01-27T00:00:00.000000000',\n",
              "       '2020-02-03T00:00:00.000000000', '2020-02-10T00:00:00.000000000',\n",
              "       '2020-02-17T00:00:00.000000000', '2020-02-24T00:00:00.000000000',\n",
              "       '2020-03-02T00:00:00.000000000', '2020-03-09T00:00:00.000000000',\n",
              "       '2020-03-16T00:00:00.000000000', '2020-03-23T00:00:00.000000000',\n",
              "       '2020-03-30T00:00:00.000000000', '2020-04-06T00:00:00.000000000',\n",
              "       '2020-04-13T00:00:00.000000000', '2020-04-20T00:00:00.000000000',\n",
              "       '2020-04-27T00:00:00.000000000', '2020-05-04T00:00:00.000000000',\n",
              "       '2020-05-11T00:00:00.000000000', '2020-05-18T00:00:00.000000000',\n",
              "       '2020-05-25T00:00:00.000000000', '2020-06-01T00:00:00.000000000',\n",
              "       '2020-06-08T00:00:00.000000000', '2020-06-15T00:00:00.000000000',\n",
              "       '2020-06-22T00:00:00.000000000', '2020-06-29T00:00:00.000000000',\n",
              "       '2020-07-06T00:00:00.000000000', '2020-07-13T00:00:00.000000000',\n",
              "       '2020-07-20T00:00:00.000000000', '2020-07-27T00:00:00.000000000',\n",
              "       '2020-08-03T00:00:00.000000000', '2020-08-10T00:00:00.000000000',\n",
              "       '2020-08-17T00:00:00.000000000', '2020-08-24T00:00:00.000000000',\n",
              "       '2020-08-31T00:00:00.000000000', '2020-09-07T00:00:00.000000000',\n",
              "       '2020-09-14T00:00:00.000000000', '2020-09-21T00:00:00.000000000',\n",
              "       '2020-09-28T00:00:00.000000000', '2020-10-05T00:00:00.000000000',\n",
              "       '2020-10-12T00:00:00.000000000', '2020-10-19T00:00:00.000000000',\n",
              "       '2020-10-26T00:00:00.000000000', '2020-11-02T00:00:00.000000000',\n",
              "       '2020-11-09T00:00:00.000000000', '2020-11-16T00:00:00.000000000',\n",
              "       '2020-11-23T00:00:00.000000000', '2020-11-30T00:00:00.000000000',\n",
              "       '2020-12-07T00:00:00.000000000', '2020-12-14T00:00:00.000000000',\n",
              "       '2020-12-21T00:00:00.000000000', '2020-12-28T00:00:00.000000000',\n",
              "       '2021-01-04T00:00:00.000000000', '2021-01-11T00:00:00.000000000',\n",
              "       '2021-01-18T00:00:00.000000000', '2021-01-25T00:00:00.000000000',\n",
              "       '2021-02-01T00:00:00.000000000', '2021-02-08T00:00:00.000000000',\n",
              "       '2021-02-15T00:00:00.000000000', '2021-02-22T00:00:00.000000000',\n",
              "       '2021-03-01T00:00:00.000000000', '2021-03-08T00:00:00.000000000',\n",
              "       '2021-03-15T00:00:00.000000000', '2021-03-22T00:00:00.000000000',\n",
              "       '2021-03-29T00:00:00.000000000', '2021-04-05T00:00:00.000000000',\n",
              "       '2021-04-12T00:00:00.000000000', '2021-04-19T00:00:00.000000000',\n",
              "       '2021-04-26T00:00:00.000000000', '2021-05-03T00:00:00.000000000',\n",
              "       '2021-05-10T00:00:00.000000000', '2021-05-17T00:00:00.000000000',\n",
              "       '2021-05-24T00:00:00.000000000', '2021-05-31T00:00:00.000000000',\n",
              "       '2021-06-07T00:00:00.000000000', '2021-06-14T00:00:00.000000000',\n",
              "       '2021-06-21T00:00:00.000000000', '2021-06-28T00:00:00.000000000',\n",
              "       '2021-07-05T00:00:00.000000000', '2021-07-12T00:00:00.000000000',\n",
              "       '2021-07-19T00:00:00.000000000', '2021-07-26T00:00:00.000000000',\n",
              "       '2021-08-02T00:00:00.000000000', '2021-08-09T00:00:00.000000000',\n",
              "       '2021-08-16T00:00:00.000000000', '2021-08-23T00:00:00.000000000',\n",
              "       '2021-08-30T00:00:00.000000000', '2021-09-06T00:00:00.000000000',\n",
              "       '2021-09-13T00:00:00.000000000', '2021-09-20T00:00:00.000000000',\n",
              "       '2021-09-27T00:00:00.000000000', '2021-10-04T00:00:00.000000000',\n",
              "       '2021-10-11T00:00:00.000000000', '2021-10-18T00:00:00.000000000',\n",
              "       '2021-10-25T00:00:00.000000000', '2021-11-01T00:00:00.000000000',\n",
              "       '2021-11-08T00:00:00.000000000', '2021-11-15T00:00:00.000000000',\n",
              "       '2021-11-22T00:00:00.000000000', '2021-11-29T00:00:00.000000000',\n",
              "       '2021-12-06T00:00:00.000000000', '2021-12-13T00:00:00.000000000',\n",
              "       '2021-12-20T00:00:00.000000000', '2021-12-27T00:00:00.000000000',\n",
              "       '2022-01-03T00:00:00.000000000', '2022-01-10T00:00:00.000000000',\n",
              "       '2022-01-17T00:00:00.000000000', '2022-01-24T00:00:00.000000000',\n",
              "       '2022-01-31T00:00:00.000000000', '2022-02-07T00:00:00.000000000',\n",
              "       '2022-02-14T00:00:00.000000000', '2022-02-21T00:00:00.000000000',\n",
              "       '2022-02-28T00:00:00.000000000', '2022-03-07T00:00:00.000000000',\n",
              "       '2022-03-14T00:00:00.000000000', '2022-03-21T00:00:00.000000000',\n",
              "       '2022-03-28T00:00:00.000000000', '2022-04-04T00:00:00.000000000',\n",
              "       '2022-04-11T00:00:00.000000000', '2022-04-18T00:00:00.000000000',\n",
              "       '2022-04-25T00:00:00.000000000', '2022-05-02T00:00:00.000000000',\n",
              "       '2022-05-09T00:00:00.000000000', '2022-05-16T00:00:00.000000000',\n",
              "       '2022-05-23T00:00:00.000000000', '2022-05-30T00:00:00.000000000',\n",
              "       '2022-06-06T00:00:00.000000000', '2022-06-13T00:00:00.000000000',\n",
              "       '2022-06-20T00:00:00.000000000', '2022-06-27T00:00:00.000000000',\n",
              "       '2022-07-04T00:00:00.000000000', '2022-07-11T00:00:00.000000000',\n",
              "       '2022-07-18T00:00:00.000000000', '2022-07-19T00:00:00.000000000',\n",
              "       '2022-07-24T00:00:00.000000000', '2022-07-31T00:00:00.000000000',\n",
              "       '2022-08-07T00:00:00.000000000', '2022-08-14T00:00:00.000000000',\n",
              "       '2022-08-21T00:00:00.000000000', '2022-08-28T00:00:00.000000000',\n",
              "       '2022-09-04T00:00:00.000000000', '2022-09-11T00:00:00.000000000',\n",
              "       '2022-09-18T00:00:00.000000000', '2022-09-25T00:00:00.000000000',\n",
              "       '2022-10-02T00:00:00.000000000', '2022-10-09T00:00:00.000000000',\n",
              "       '2022-10-16T00:00:00.000000000', '2022-10-23T00:00:00.000000000',\n",
              "       '2022-10-30T00:00:00.000000000', '2022-11-06T00:00:00.000000000',\n",
              "       '2022-11-13T00:00:00.000000000', '2022-11-20T00:00:00.000000000',\n",
              "       '2022-11-27T00:00:00.000000000', '2022-12-04T00:00:00.000000000',\n",
              "       '2022-12-11T00:00:00.000000000', '2022-12-18T00:00:00.000000000',\n",
              "       '2022-12-25T00:00:00.000000000', '2023-01-01T00:00:00.000000000',\n",
              "       '2023-01-08T00:00:00.000000000', '2023-01-15T00:00:00.000000000',\n",
              "       '2023-01-22T00:00:00.000000000', '2023-01-29T00:00:00.000000000',\n",
              "       '2023-02-05T00:00:00.000000000', '2023-02-12T00:00:00.000000000',\n",
              "       '2023-02-19T00:00:00.000000000', '2023-02-26T00:00:00.000000000',\n",
              "       '2023-03-05T00:00:00.000000000', '2023-03-12T00:00:00.000000000',\n",
              "       '2023-03-19T00:00:00.000000000', '2023-03-26T00:00:00.000000000',\n",
              "       '2023-04-02T00:00:00.000000000', '2023-04-09T00:00:00.000000000',\n",
              "       '2023-04-16T00:00:00.000000000', '2023-04-23T00:00:00.000000000',\n",
              "       '2023-04-30T00:00:00.000000000', '2023-05-07T00:00:00.000000000',\n",
              "       '2023-05-14T00:00:00.000000000', '2023-05-21T00:00:00.000000000',\n",
              "       '2023-05-28T00:00:00.000000000', '2023-06-04T00:00:00.000000000',\n",
              "       '2023-06-11T00:00:00.000000000', '2023-06-18T00:00:00.000000000',\n",
              "       '2023-06-25T00:00:00.000000000', '2023-07-02T00:00:00.000000000',\n",
              "       '2023-07-09T00:00:00.000000000', '2023-07-16T00:00:00.000000000',\n",
              "       '2023-07-23T00:00:00.000000000', '2023-07-30T00:00:00.000000000',\n",
              "       '2023-08-06T00:00:00.000000000', '2023-08-13T00:00:00.000000000'],\n",
              "      dtype='datetime64[ns]')"
            ]
          },
          "metadata": {},
          "execution_count": 134
        }
      ]
    },
    {
      "cell_type": "code",
      "execution_count": 135,
      "id": "8dff4952-83b3-40af-afff-2252c09d5cb1",
      "metadata": {
        "colab": {
          "base_uri": "https://localhost:8080/",
          "height": 317
        },
        "id": "8dff4952-83b3-40af-afff-2252c09d5cb1",
        "outputId": "bb3f58d2-36ea-4284-989e-d8b8f096746a"
      },
      "outputs": [
        {
          "output_type": "execute_result",
          "data": {
            "text/plain": [
              "(array([736695., 737060., 737425., 737791., 738156., 738521.]),\n",
              " <a list of 6 Text major ticklabel objects>)"
            ]
          },
          "metadata": {},
          "execution_count": 135
        },
        {
          "output_type": "display_data",
          "data": {
            "text/plain": [
              "<Figure size 432x288 with 1 Axes>"
            ],
            "image/png": "[encoded data removed]"
          },
          "metadata": {
            "needs_background": "light"
          }
        }
      ],
      "source": [
        "plt.plot(datetime_index.values, np.concatenate((df['close'].values, np.array(future_predictions).ravel())))\n",
        "plt.xticks(rotation=90)"
      ]
    },
    {
      "cell_type": "code",
      "source": [
        ""
      ],
      "metadata": {
        "id": "F-R1iqSjDQV-"
      },
      "id": "F-R1iqSjDQV-",
      "execution_count": 135,
      "outputs": []
    }
  ],
  "metadata": {
    "kernelspec": {
      "display_name": "Python 3 (ipykernel)",
      "language": "python",
      "name": "python3"
    },
    "language_info": {
      "codemirror_mode": {
        "name": "ipython",
        "version": 3
      },
      "file_extension": ".py",
      "mimetype": "text/x-python",
      "name": "python",
      "nbconvert_exporter": "python",
      "pygments_lexer": "ipython3",
      "version": "3.9.12"
    },
    "colab": {
      "name": "ELAN_future_weeks.ipynb",
      "provenance": [],
      "include_colab_link": true
    }
  },
  "nbformat": 4,
  "nbformat_minor": 5
}